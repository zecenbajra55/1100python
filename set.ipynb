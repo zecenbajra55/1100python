{
 "cells": [
  {
   "cell_type": "markdown",
   "id": "3a42f941",
   "metadata": {},
   "source": [
    "# set\n",
    "* collection fo item under  one variable name\n",
    "* doesnt allow duplicate\n",
    "* unindexed, unordered\n",
    "* mutable\n",
    "* written in curly brackets"
   ]
  },
  {
   "cell_type": "code",
   "execution_count": 1,
   "id": "7302528b",
   "metadata": {},
   "outputs": [],
   "source": [
    "thakali={'bhaat','daal','masu','gheu','gundruk','acchar','dahi'}"
   ]
  },
  {
   "cell_type": "code",
   "execution_count": 5,
   "id": "e970207c",
   "metadata": {},
   "outputs": [
    {
     "name": "stdout",
     "output_type": "stream",
     "text": [
      "{'bhaat', 'dahi', 'masu', 'daal', 'acchar', 'gundruk', 'gheu'}\n"
     ]
    }
   ],
   "source": [
    "print(thakali) # unordered "
   ]
  },
  {
   "cell_type": "code",
   "execution_count": 6,
   "id": "e24f639e",
   "metadata": {},
   "outputs": [
    {
     "data": {
      "text/plain": [
       "set"
      ]
     },
     "execution_count": 6,
     "metadata": {},
     "output_type": "execute_result"
    }
   ],
   "source": [
    "type(thakali)"
   ]
  },
  {
   "cell_type": "code",
   "execution_count": 8,
   "id": "1a45b8e8",
   "metadata": {},
   "outputs": [
    {
     "ename": "TypeError",
     "evalue": "'set' object is not subscriptable",
     "output_type": "error",
     "traceback": [
      "\u001b[1;31m---------------------------------------------------------------------------\u001b[0m",
      "\u001b[1;31mTypeError\u001b[0m                                 Traceback (most recent call last)",
      "Cell \u001b[1;32mIn[8], line 1\u001b[0m\n\u001b[1;32m----> 1\u001b[0m \u001b[43mthakali\u001b[49m\u001b[43m[\u001b[49m\u001b[38;5;241;43m0\u001b[39;49m\u001b[43m]\u001b[49m \u001b[38;5;66;03m# unindexed\u001b[39;00m\n",
      "\u001b[1;31mTypeError\u001b[0m: 'set' object is not subscriptable"
     ]
    }
   ],
   "source": [
    "thakali[0] # unindexed"
   ]
  },
  {
   "cell_type": "markdown",
   "id": "040b946d",
   "metadata": {},
   "source": [
    "# you can add or remove item in set"
   ]
  },
  {
   "cell_type": "code",
   "execution_count": 9,
   "id": "cec63c9c",
   "metadata": {},
   "outputs": [
    {
     "data": {
      "text/plain": [
       "{'acchar', 'bhaat', 'daal', 'dahi', 'gheu', 'gundruk', 'masu'}"
      ]
     },
     "execution_count": 9,
     "metadata": {},
     "output_type": "execute_result"
    }
   ],
   "source": [
    "thakali\n"
   ]
  },
  {
   "cell_type": "code",
   "execution_count": 10,
   "id": "713c3bff",
   "metadata": {},
   "outputs": [],
   "source": [
    "thakali.add('saag')"
   ]
  },
  {
   "cell_type": "code",
   "execution_count": 11,
   "id": "2f1ba168",
   "metadata": {},
   "outputs": [
    {
     "data": {
      "text/plain": [
       "{'acchar', 'bhaat', 'daal', 'dahi', 'gheu', 'gundruk', 'masu', 'saag'}"
      ]
     },
     "execution_count": 11,
     "metadata": {},
     "output_type": "execute_result"
    }
   ],
   "source": [
    "thakali"
   ]
  },
  {
   "cell_type": "code",
   "execution_count": 12,
   "id": "3e112651",
   "metadata": {},
   "outputs": [],
   "source": [
    "thakali.remove('daal')"
   ]
  },
  {
   "cell_type": "code",
   "execution_count": 13,
   "id": "f51e7ff9",
   "metadata": {},
   "outputs": [
    {
     "data": {
      "text/plain": [
       "{'acchar', 'bhaat', 'dahi', 'gheu', 'gundruk', 'masu', 'saag'}"
      ]
     },
     "execution_count": 13,
     "metadata": {},
     "output_type": "execute_result"
    }
   ],
   "source": [
    "thakali"
   ]
  },
  {
   "cell_type": "code",
   "execution_count": 14,
   "id": "6c421ba7",
   "metadata": {},
   "outputs": [
    {
     "ename": "NameError",
     "evalue": "name 'salad' is not defined",
     "output_type": "error",
     "traceback": [
      "\u001b[1;31m---------------------------------------------------------------------------\u001b[0m",
      "\u001b[1;31mNameError\u001b[0m                                 Traceback (most recent call last)",
      "Cell \u001b[1;32mIn[14], line 1\u001b[0m\n\u001b[1;32m----> 1\u001b[0m thakali\u001b[38;5;241m.\u001b[39mremove(\u001b[43msalad\u001b[49m)\n",
      "\u001b[1;31mNameError\u001b[0m: name 'salad' is not defined"
     ]
    }
   ],
   "source": [
    "thakali.remove(salad)"
   ]
  },
  {
   "cell_type": "code",
   "execution_count": 17,
   "id": "0a6d46f4",
   "metadata": {},
   "outputs": [],
   "source": [
    "thakali.discard('salad') # xa vane falxa if not stays quiet no error"
   ]
  },
  {
   "cell_type": "markdown",
   "id": "53040ad3",
   "metadata": {},
   "source": [
    "# set operations"
   ]
  },
  {
   "cell_type": "code",
   "execution_count": 18,
   "id": "7c2a9544",
   "metadata": {},
   "outputs": [],
   "source": [
    "a={'apple','banana','cherry'}\n",
    "b={'google','microsoft','apple'}"
   ]
  },
  {
   "cell_type": "code",
   "execution_count": 19,
   "id": "1f01bce8",
   "metadata": {},
   "outputs": [
    {
     "data": {
      "text/plain": [
       "{'apple'}"
      ]
     },
     "execution_count": 19,
     "metadata": {},
     "output_type": "execute_result"
    }
   ],
   "source": [
    "a.intersection(b)"
   ]
  },
  {
   "cell_type": "code",
   "execution_count": 20,
   "id": "f222f434",
   "metadata": {},
   "outputs": [
    {
     "data": {
      "text/plain": [
       "{'apple'}"
      ]
     },
     "execution_count": 20,
     "metadata": {},
     "output_type": "execute_result"
    }
   ],
   "source": [
    "b.intersection(a)"
   ]
  },
  {
   "cell_type": "code",
   "execution_count": 21,
   "id": "5216d441",
   "metadata": {},
   "outputs": [
    {
     "data": {
      "text/plain": [
       "{'apple', 'banana', 'cherry', 'google', 'microsoft'}"
      ]
     },
     "execution_count": 21,
     "metadata": {},
     "output_type": "execute_result"
    }
   ],
   "source": [
    "a.union(b)"
   ]
  },
  {
   "cell_type": "code",
   "execution_count": 22,
   "id": "350eec6b",
   "metadata": {},
   "outputs": [
    {
     "data": {
      "text/plain": [
       "{'apple', 'banana', 'cherry', 'google', 'microsoft'}"
      ]
     },
     "execution_count": 22,
     "metadata": {},
     "output_type": "execute_result"
    }
   ],
   "source": [
    "b.union(a)"
   ]
  },
  {
   "cell_type": "code",
   "execution_count": 23,
   "id": "d62ec9e6",
   "metadata": {},
   "outputs": [
    {
     "data": {
      "text/plain": [
       "{'banana', 'cherry'}"
      ]
     },
     "execution_count": 23,
     "metadata": {},
     "output_type": "execute_result"
    }
   ],
   "source": [
    "a.difference(b)"
   ]
  },
  {
   "cell_type": "code",
   "execution_count": 24,
   "id": "0a7553ec",
   "metadata": {},
   "outputs": [
    {
     "data": {
      "text/plain": [
       "{'banana', 'cherry'}"
      ]
     },
     "execution_count": 24,
     "metadata": {},
     "output_type": "execute_result"
    }
   ],
   "source": [
    "a-b\n"
   ]
  },
  {
   "cell_type": "code",
   "execution_count": 25,
   "id": "47363aa5",
   "metadata": {},
   "outputs": [
    {
     "data": {
      "text/plain": [
       "{'google', 'microsoft'}"
      ]
     },
     "execution_count": 25,
     "metadata": {},
     "output_type": "execute_result"
    }
   ],
   "source": [
    "b-a"
   ]
  },
  {
   "cell_type": "code",
   "execution_count": 26,
   "id": "79d667b7",
   "metadata": {},
   "outputs": [
    {
     "data": {
      "text/plain": [
       "{'google', 'microsoft'}"
      ]
     },
     "execution_count": 26,
     "metadata": {},
     "output_type": "execute_result"
    }
   ],
   "source": [
    "b.difference(a)"
   ]
  },
  {
   "cell_type": "code",
   "execution_count": 27,
   "id": "05a3fd91",
   "metadata": {},
   "outputs": [],
   "source": [
    "s1={'bhaat','daal','masu','gheu','gundruk','acchar','dahi'}"
   ]
  },
  {
   "cell_type": "code",
   "execution_count": 28,
   "id": "651f153b",
   "metadata": {},
   "outputs": [
    {
     "data": {
      "text/plain": [
       "'bhaat'"
      ]
     },
     "execution_count": 28,
     "metadata": {},
     "output_type": "execute_result"
    }
   ],
   "source": [
    "s1.pop()"
   ]
  },
  {
   "cell_type": "code",
   "execution_count": 29,
   "id": "7cc4e1ef",
   "metadata": {},
   "outputs": [
    {
     "data": {
      "text/plain": [
       "'dahi'"
      ]
     },
     "execution_count": 29,
     "metadata": {},
     "output_type": "execute_result"
    }
   ],
   "source": [
    "s1.pop()"
   ]
  },
  {
   "cell_type": "code",
   "execution_count": 30,
   "id": "2073581b",
   "metadata": {},
   "outputs": [
    {
     "data": {
      "text/plain": [
       "{'acchar', 'daal', 'gheu', 'gundruk', 'masu'}"
      ]
     },
     "execution_count": 30,
     "metadata": {},
     "output_type": "execute_result"
    }
   ],
   "source": [
    "s1"
   ]
  },
  {
   "cell_type": "markdown",
   "id": "077df979",
   "metadata": {},
   "source": [
    "# frozen set\n",
    "* immutable version of python set is frozenset()"
   ]
  },
  {
   "cell_type": "code",
   "execution_count": 31,
   "id": "717ea2bd",
   "metadata": {},
   "outputs": [],
   "source": [
    "s1={'bhaat','daal','masu','gheu','gundruk','acchar','dahi'}\n"
   ]
  },
  {
   "cell_type": "code",
   "execution_count": 35,
   "id": "636c3f91",
   "metadata": {},
   "outputs": [],
   "source": [
    "s1=frozenset(s1) # fixed frozen in time"
   ]
  },
  {
   "cell_type": "code",
   "execution_count": 36,
   "id": "45cf563d",
   "metadata": {},
   "outputs": [
    {
     "data": {
      "text/plain": [
       "frozenset({'acchar', 'bhaat', 'daal', 'dahi', 'gheu', 'gundruk', 'masu'})"
      ]
     },
     "execution_count": 36,
     "metadata": {},
     "output_type": "execute_result"
    }
   ],
   "source": [
    "s1"
   ]
  },
  {
   "cell_type": "code",
   "execution_count": 37,
   "id": "f514ae8a",
   "metadata": {},
   "outputs": [
    {
     "ename": "AttributeError",
     "evalue": "'frozenset' object has no attribute 'add'",
     "output_type": "error",
     "traceback": [
      "\u001b[1;31m---------------------------------------------------------------------------\u001b[0m",
      "\u001b[1;31mAttributeError\u001b[0m                            Traceback (most recent call last)",
      "Cell \u001b[1;32mIn[37], line 1\u001b[0m\n\u001b[1;32m----> 1\u001b[0m \u001b[43ms1\u001b[49m\u001b[38;5;241;43m.\u001b[39;49m\u001b[43madd\u001b[49m(\u001b[38;5;124m'\u001b[39m\u001b[38;5;124mmasu\u001b[39m\u001b[38;5;124m'\u001b[39m)\n",
      "\u001b[1;31mAttributeError\u001b[0m: 'frozenset' object has no attribute 'add'"
     ]
    }
   ],
   "source": [
    "s1.add('masu')"
   ]
  },
  {
   "cell_type": "code",
   "execution_count": 40,
   "id": "0727341b",
   "metadata": {},
   "outputs": [
    {
     "name": "stdout",
     "output_type": "stream",
     "text": [
      "bhaat\n",
      "dahi\n",
      "masu\n",
      "daal\n",
      "acchar\n",
      "gundruk\n",
      "gheu\n"
     ]
    }
   ],
   "source": [
    "for item in s1:\n",
    "    print(item)"
   ]
  },
  {
   "cell_type": "code",
   "execution_count": null,
   "id": "ecec4081",
   "metadata": {},
   "outputs": [],
   "source": []
  }
 ],
 "metadata": {
  "kernelspec": {
   "display_name": "Python 3 (ipykernel)",
   "language": "python",
   "name": "python3"
  },
  "language_info": {
   "codemirror_mode": {
    "name": "ipython",
    "version": 3
   },
   "file_extension": ".py",
   "mimetype": "text/x-python",
   "name": "python",
   "nbconvert_exporter": "python",
   "pygments_lexer": "ipython3",
   "version": "3.10.11"
  }
 },
 "nbformat": 4,
 "nbformat_minor": 5
}
