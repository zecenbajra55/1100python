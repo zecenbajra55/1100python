{
 "cells": [
  {
   "cell_type": "markdown",
   "id": "08b2ff42",
   "metadata": {},
   "source": [
    "#  *args and **kwargs\n",
    "* for variable length argument in function\n"
   ]
  },
  {
   "cell_type": "code",
   "execution_count": null,
   "id": "e709a741",
   "metadata": {},
   "outputs": [],
   "source": [
    "def add(*args):\n",
    "    print(args,type(args))"
   ]
  },
  {
   "cell_type": "code",
   "execution_count": null,
   "id": "0b156436",
   "metadata": {},
   "outputs": [],
   "source": [
    "add (1,2,3,4,5)"
   ]
  },
  {
   "cell_type": "code",
   "execution_count": null,
   "id": "bca32851",
   "metadata": {},
   "outputs": [],
   "source": [
    "add(7,44)"
   ]
  },
  {
   "cell_type": "code",
   "execution_count": null,
   "id": "aa7f92c1",
   "metadata": {},
   "outputs": [],
   "source": [
    "def add(*args):\n",
    "    total=0\n",
    "    for i in args:\n",
    "        total = total + i\n",
    "    return total"
   ]
  },
  {
   "cell_type": "code",
   "execution_count": null,
   "id": "776c6fa4",
   "metadata": {},
   "outputs": [],
   "source": [
    "add(1,2,3,4,5,6,7,8,9,10)"
   ]
  },
  {
   "cell_type": "code",
   "execution_count": null,
   "id": "7dd2236d",
   "metadata": {},
   "outputs": [],
   "source": [
    "def add(**kwargs):\n",
    "    total=0\n",
    "    for i in kwargs:\n",
    "        total = total + i\n",
    "    return total"
   ]
  },
  {
   "cell_type": "code",
   "execution_count": null,
   "id": "033dd908",
   "metadata": {},
   "outputs": [],
   "source": [
    "add(1,2,3)"
   ]
  },
  {
   "cell_type": "markdown",
   "id": "bea49b45",
   "metadata": {},
   "source": [
    "# **kwargs"
   ]
  },
  {
   "cell_type": "code",
   "execution_count": null,
   "id": "0637a5a8",
   "metadata": {},
   "outputs": [],
   "source": [
    "def about(**kwargs):\n",
    "    print(kwargs,type(kwargs))"
   ]
  },
  {
   "cell_type": "code",
   "execution_count": null,
   "id": "9ad8fc9f",
   "metadata": {},
   "outputs": [],
   "source": [
    "about(name=\"hi\",teaches='jjj')"
   ]
  },
  {
   "cell_type": "markdown",
   "id": "86353821",
   "metadata": {},
   "source": [
    "# write a function to check if the given input number is primt or not if prime return true else return false"
   ]
  },
  {
   "cell_type": "code",
   "execution_count": 12,
   "id": "8516cdb7",
   "metadata": {},
   "outputs": [],
   "source": [
    "def prime(a):\n",
    "    if a <=1:\n",
    "        return None\n",
    "    \n",
    "    for i in range(2,a):\n",
    "        if a % i == 0:\n",
    "            return False\n",
    "    return True\n",
    "# b=int(input('enter  a number '))\n"
   ]
  },
  {
   "cell_type": "code",
   "execution_count": 13,
   "id": "1abcfad9",
   "metadata": {},
   "outputs": [
    {
     "data": {
      "text/plain": [
       "True"
      ]
     },
     "execution_count": 13,
     "metadata": {},
     "output_type": "execute_result"
    }
   ],
   "source": [
    "prime(2)"
   ]
  },
  {
   "cell_type": "markdown",
   "id": "047d7649",
   "metadata": {},
   "source": [
    "# factorial\n",
    "    0! =1\n",
    "    1! =1\n",
    "    2! =2*1! =2\n",
    "    3! =3*2! =6\n",
    "    4! =4*3! =24"
   ]
  },
  {
   "cell_type": "code",
   "execution_count": 28,
   "id": "533ca0a2",
   "metadata": {},
   "outputs": [
    {
     "name": "stdout",
     "output_type": "stream",
     "text": [
      "enter  a number 7\n"
     ]
    },
    {
     "data": {
      "text/plain": [
       "5040"
      ]
     },
     "execution_count": 28,
     "metadata": {},
     "output_type": "execute_result"
    }
   ],
   "source": [
    "def factorial(a):\n",
    "    if a < 0:\n",
    "        return None\n",
    "    elif a == 0 or a==1:\n",
    "        return 1\n",
    "    else:\n",
    "        fact=1\n",
    "        for i in range(2,a+1):\n",
    "            fact= fact*i\n",
    "        return fact\n",
    "b=int(input('enter  a number '))\n",
    "factorial(a=b)"
   ]
  },
  {
   "cell_type": "code",
   "execution_count": 26,
   "id": "33ff1078",
   "metadata": {},
   "outputs": [
    {
     "data": {
      "text/plain": [
       "720"
      ]
     },
     "execution_count": 26,
     "metadata": {},
     "output_type": "execute_result"
    }
   ],
   "source": []
  },
  {
   "cell_type": "code",
   "execution_count": null,
   "id": "e3960e6e",
   "metadata": {},
   "outputs": [],
   "source": []
  }
 ],
 "metadata": {
  "kernelspec": {
   "display_name": "Python 3 (ipykernel)",
   "language": "python",
   "name": "python3"
  },
  "language_info": {
   "codemirror_mode": {
    "name": "ipython",
    "version": 3
   },
   "file_extension": ".py",
   "mimetype": "text/x-python",
   "name": "python",
   "nbconvert_exporter": "python",
   "pygments_lexer": "ipython3",
   "version": "3.10.11"
  }
 },
 "nbformat": 4,
 "nbformat_minor": 5
}
