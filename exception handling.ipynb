{
 "cells": [
  {
   "cell_type": "markdown",
   "id": "d205a9f8",
   "metadata": {},
   "source": [
    "##### "
   ]
  },
  {
   "cell_type": "code",
   "execution_count": 4,
   "id": "61077920",
   "metadata": {},
   "outputs": [
    {
     "ename": "ZeroDivisionError",
     "evalue": "division by zero",
     "output_type": "error",
     "traceback": [
      "\u001b[1;31m---------------------------------------------------------------------------\u001b[0m",
      "\u001b[1;31mZeroDivisionError\u001b[0m                         Traceback (most recent call last)",
      "Cell \u001b[1;32mIn[4], line 3\u001b[0m\n\u001b[0;32m      1\u001b[0m a\u001b[38;5;241m=\u001b[39m\u001b[38;5;241m8\u001b[39m\n\u001b[0;32m      2\u001b[0m b\u001b[38;5;241m=\u001b[39m\u001b[38;5;241m0\u001b[39m\n\u001b[1;32m----> 3\u001b[0m c\u001b[38;5;241m=\u001b[39m\u001b[43ma\u001b[49m\u001b[38;5;241;43m/\u001b[39;49m\u001b[43mb\u001b[49m\n\u001b[0;32m      4\u001b[0m c\n\u001b[0;32m      5\u001b[0m \u001b[38;5;28mprint\u001b[39m(\u001b[38;5;124m'\u001b[39m\u001b[38;5;124mcomplete\u001b[39m\u001b[38;5;124m'\u001b[39m) \u001b[38;5;66;03m# doesnt work breaks\u001b[39;00m\n",
      "\u001b[1;31mZeroDivisionError\u001b[0m: division by zero"
     ]
    }
   ],
   "source": [
    "a=8\n",
    "b=0\n",
    "c=a/b\n",
    "c\n",
    "print('complete') # doesnt work breaks"
   ]
  },
  {
   "cell_type": "markdown",
   "id": "d3e2957a",
   "metadata": {},
   "source": [
    "# exception handling:\n",
    "## syntax\n",
    "``` python\n",
    "try:\n",
    "    #code\n",
    "except Exception as e:\n",
    "    #code\n",
    "```"
   ]
  },
  {
   "cell_type": "code",
   "execution_count": 6,
   "id": "313d523a",
   "metadata": {},
   "outputs": [
    {
     "name": "stdout",
     "output_type": "stream",
     "text": [
      "exception occured:division by zero\n",
      "complete\n"
     ]
    }
   ],
   "source": [
    "a=8\n",
    "b=0\n",
    "try:\n",
    "    c=a/b\n",
    "except Exception as e:\n",
    "    print(f\"exception occured:{e}\")\n",
    "print('complete') # doesnt work breaks"
   ]
  },
  {
   "cell_type": "code",
   "execution_count": 9,
   "id": "cd8db1c3",
   "metadata": {},
   "outputs": [
    {
     "name": "stdout",
     "output_type": "stream",
     "text": [
      "exception occured:division by zero\n",
      "complete\n"
     ]
    }
   ],
   "source": [
    "a=8\n",
    "b=0\n",
    "try:\n",
    "    c=a/b\n",
    "except ZeroDivisionError as e:\n",
    "    print(f\"exception occured:{e}\")\n",
    "print('complete') "
   ]
  },
  {
   "cell_type": "code",
   "execution_count": 10,
   "id": "8646d946",
   "metadata": {},
   "outputs": [
    {
     "name": "stdout",
     "output_type": "stream",
     "text": [
      "error occured\n",
      "complete\n"
     ]
    }
   ],
   "source": [
    "a=8\n",
    "b=0\n",
    "try:\n",
    "    c=a/b\n",
    "except:\n",
    "    print(\"error occured\")\n",
    "print('complete')"
   ]
  },
  {
   "cell_type": "code",
   "execution_count": 11,
   "id": "f3b99379",
   "metadata": {},
   "outputs": [
    {
     "name": "stdout",
     "output_type": "stream",
     "text": [
      "b=0,division by zero\n",
      "complete\n"
     ]
    }
   ],
   "source": [
    "a=8\n",
    "b=0\n",
    "try:\n",
    "    c=a/b\n",
    "except Exception as e:\n",
    "    print(f\"b=0,{e}\")\n",
    "print('complete') "
   ]
  },
  {
   "cell_type": "code",
   "execution_count": 14,
   "id": "9a768360",
   "metadata": {},
   "outputs": [
    {
     "name": "stdout",
     "output_type": "stream",
     "text": [
      "enter a number: 0\n",
      "enter another number 5\n",
      "0.0\n"
     ]
    }
   ],
   "source": [
    "a=int(input('enter a number: '))\n",
    "b=int (input('enter another number '))\n",
    "if b==0:\n",
    "    raise ValueError('b must not be 0')\n",
    "c=a/b\n",
    "print(c)"
   ]
  },
  {
   "cell_type": "code",
   "execution_count": 19,
   "id": "4451be81",
   "metadata": {},
   "outputs": [
    {
     "name": "stdout",
     "output_type": "stream",
     "text": [
      "enter a number: 3\n",
      "enter another number 3\n",
      "1.0\n",
      "complete\n"
     ]
    }
   ],
   "source": [
    "try:\n",
    "    a=int(input('enter a number: '))\n",
    "    b=int (input('enter another number '))\n",
    "    c=a/b\n",
    "    print(c)\n",
    "except (ValueError,ZeroDivisionError) as e:\n",
    "    print(e)\n",
    "finally:                           # finally is always executed\n",
    "    print('complete')"
   ]
  },
  {
   "cell_type": "code",
   "execution_count": 20,
   "id": "33d620eb",
   "metadata": {},
   "outputs": [],
   "source": [
    "# finally is used to flush memory and close the files  or to print some messages\n",
    "# finally is always executed"
   ]
  },
  {
   "cell_type": "code",
   "execution_count": null,
   "id": "0c95a427",
   "metadata": {},
   "outputs": [],
   "source": [
    "  "
   ]
  }
 ],
 "metadata": {
  "kernelspec": {
   "display_name": "Python 3 (ipykernel)",
   "language": "python",
   "name": "python3"
  },
  "language_info": {
   "codemirror_mode": {
    "name": "ipython",
    "version": 3
   },
   "file_extension": ".py",
   "mimetype": "text/x-python",
   "name": "python",
   "nbconvert_exporter": "python",
   "pygments_lexer": "ipython3",
   "version": "3.10.11"
  }
 },
 "nbformat": 4,
 "nbformat_minor": 5
}
