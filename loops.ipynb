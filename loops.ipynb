{
 "cells": [
  {
   "cell_type": "code",
   "execution_count": 1,
   "id": "947aa222",
   "metadata": {},
   "outputs": [],
   "source": [
    "s= \"hello world\""
   ]
  },
  {
   "cell_type": "code",
   "execution_count": 3,
   "id": "95e2235d",
   "metadata": {},
   "outputs": [
    {
     "name": "stdout",
     "output_type": "stream",
     "text": [
      " index =0 and letter = h\n",
      " index =1 and letter = e\n",
      " index =2 and letter = l\n",
      " index =3 and letter = l\n",
      " index =4 and letter = o\n",
      " index =5 and letter =  \n",
      " index =6 and letter = w\n",
      " index =7 and letter = o\n",
      " index =8 and letter = r\n",
      " index =9 and letter = l\n",
      " index =10 and letter = d\n"
     ]
    }
   ],
   "source": [
    "for index in range(0, len(s),1):\n",
    "    letter = s[index]\n",
    "    print (f\" index ={index} and letter = {letter}\")"
   ]
  },
  {
   "cell_type": "code",
   "execution_count": 10,
   "id": "f61a9236",
   "metadata": {},
   "outputs": [
    {
     "name": "stdout",
     "output_type": "stream",
     "text": [
      " index =10 and letter = d\n",
      " index =9 and letter = l\n",
      " index =8 and letter = r\n",
      " index =7 and letter = o\n",
      " index =6 and letter = w\n",
      " index =5 and letter =  \n",
      " index =4 and letter = o\n",
      " index =3 and letter = l\n",
      " index =2 and letter = l\n",
      " index =1 and letter = e\n",
      " index =0 and letter = h\n"
     ]
    }
   ],
   "source": [
    "for index in range( len(s)-1 ,-1,-1):\n",
    "    letter = s[index]\n",
    "    print (f\" index ={index} and letter = {letter}\")"
   ]
  },
  {
   "cell_type": "code",
   "execution_count": 11,
   "id": "3a0b6523",
   "metadata": {},
   "outputs": [
    {
     "name": "stdout",
     "output_type": "stream",
     "text": [
      "h\n",
      "e\n",
      "l\n",
      "l\n",
      "o\n",
      " \n",
      "w\n",
      "o\n",
      "r\n",
      "l\n",
      "d\n"
     ]
    }
   ],
   "source": [
    "for letter in s:\n",
    "    print (letter)"
   ]
  },
  {
   "cell_type": "code",
   "execution_count": 14,
   "id": "58a0ed83",
   "metadata": {},
   "outputs": [
    {
     "name": "stdout",
     "output_type": "stream",
     "text": [
      "0 h\n",
      "1 e\n",
      "2 l\n",
      "3 l\n",
      "4 o\n",
      "5  \n",
      "6 w\n",
      "7 o\n",
      "8 r\n",
      "9 l\n",
      "10 d\n"
     ]
    }
   ],
   "source": [
    "for index, letter in enumerate(s):\n",
    "    print (index,letter)"
   ]
  },
  {
   "cell_type": "markdown",
   "id": "d7c33f25",
   "metadata": {},
   "source": [
    "# check whether the given letter is vowel or consonant"
   ]
  },
  {
   "cell_type": "code",
   "execution_count": 36,
   "id": "8778cf6c",
   "metadata": {},
   "outputs": [
    {
     "name": "stdout",
     "output_type": "stream",
     "text": [
      "letter = h  is a consonant\n",
      "letter = e is a vowel\n",
      "letter = l  is a consonant\n",
      "letter = l  is a consonant\n",
      "letter = o is a vowel\n",
      "letter = w  is a consonant\n",
      "letter = o is a vowel\n",
      "letter = r  is a consonant\n",
      "letter = l  is a consonant\n",
      "letter = d  is a consonant\n"
     ]
    }
   ],
   "source": [
    "s= \"hello world\"\n",
    "\n",
    "for index in range(0, len(s),1):\n",
    "    x= s[index]\n",
    "    if x == 'a' or  x =='e' or  x =='i' or  x =='o' or x =='u':\n",
    "        print (f\"letter = {x} is a vowel\")\n",
    "    elif x==' ':\n",
    "        continue # skips\n",
    "    else:\n",
    "        print (f\"letter = {x}  is a consonant\")\n",
    "    "
   ]
  },
  {
   "cell_type": "markdown",
   "id": "392255e4",
   "metadata": {},
   "source": [
    "# skip the number divisible by3 in range(1,10)"
   ]
  },
  {
   "cell_type": "code",
   "execution_count": 42,
   "id": "6cbcd3eb",
   "metadata": {},
   "outputs": [
    {
     "name": "stdout",
     "output_type": "stream",
     "text": [
      "1\n",
      "2\n",
      "4\n",
      "5\n",
      "7\n",
      "8\n"
     ]
    }
   ],
   "source": [
    "for number in range(1,10):\n",
    "    if number % 3 ==0:\n",
    "        continue\n",
    "    else:\n",
    "        print (f\"{number}\")"
   ]
  },
  {
   "cell_type": "code",
   "execution_count": 44,
   "id": "d382a57b",
   "metadata": {},
   "outputs": [
    {
     "name": "stdout",
     "output_type": "stream",
     "text": [
      "0\n",
      "1\n",
      "2\n"
     ]
    }
   ],
   "source": [
    "for index in range (5):\n",
    "    if index ==3:\n",
    "        break #loop lai bhachidiyo code loop bahira aayo\n",
    "    print(index)"
   ]
  },
  {
   "cell_type": "code",
   "execution_count": 48,
   "id": "352eabe8",
   "metadata": {},
   "outputs": [
    {
     "name": "stdout",
     "output_type": "stream",
     "text": [
      "h\n",
      "e\n",
      "l\n",
      "l\n",
      "o\n"
     ]
    }
   ],
   "source": [
    "s=\"hello, world\"\n",
    "for index in range(0, len(s),1):\n",
    "    x= s[index]\n",
    "    if x ==',':\n",
    "        break\n",
    "    else:\n",
    "        print (f\"{x}\")"
   ]
  },
  {
   "cell_type": "code",
   "execution_count": null,
   "id": "4017e692",
   "metadata": {},
   "outputs": [],
   "source": []
  }
 ],
 "metadata": {
  "kernelspec": {
   "display_name": "Python 3 (ipykernel)",
   "language": "python",
   "name": "python3"
  },
  "language_info": {
   "codemirror_mode": {
    "name": "ipython",
    "version": 3
   },
   "file_extension": ".py",
   "mimetype": "text/x-python",
   "name": "python",
   "nbconvert_exporter": "python",
   "pygments_lexer": "ipython3",
   "version": "3.10.11"
  }
 },
 "nbformat": 4,
 "nbformat_minor": 5
}
