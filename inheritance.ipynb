{
 "cells": [
  {
   "cell_type": "markdown",
   "id": "f4f7fab4",
   "metadata": {},
   "source": [
    "# inheritance\n",
    "* single\n",
    "* multiple\n",
    "* multi level\n",
    "* hierarchial\n",
    "\n",
    " note:\n",
    "* baseclass, parent class, superclass are same\n",
    "* subclass , child class, derived class are same\n"
   ]
  },
  {
   "cell_type": "markdown",
   "id": "6f9178b0",
   "metadata": {},
   "source": [
    "# subclass inherits property/attributes and methods from superclass using super()"
   ]
  },
  {
   "cell_type": "code",
   "execution_count": null,
   "id": "3815e84b",
   "metadata": {},
   "outputs": [],
   "source": [
    "# single inheritance"
   ]
  },
  {
   "cell_type": "code",
   "execution_count": null,
   "id": "b43f8d6f",
   "metadata": {},
   "outputs": [],
   "source": [
    "class Computer:\n",
    "    def __init__(self, model_name):\n",
    "        self.model_name =model_name\n",
    "        \n",
    "    def display_model(self):\n",
    "        print(f'your mmodel is {self.model_name}')\n",
    "class Mobile:\n",
    "    def __init__(self, has_flash):\n",
    "        self.has_flash=has_flash"
   ]
  },
  {
   "cell_type": "code",
   "execution_count": null,
   "id": "8f3f6c08",
   "metadata": {},
   "outputs": [],
   "source": [
    "m1 = Mobile(has_flash=True)"
   ]
  },
  {
   "cell_type": "code",
   "execution_count": null,
   "id": "32a2f5f3",
   "metadata": {},
   "outputs": [],
   "source": [
    "m1.has_flash"
   ]
  },
  {
   "cell_type": "code",
   "execution_count": null,
   "id": "67aac359",
   "metadata": {},
   "outputs": [],
   "source": [
    "class Computer:\n",
    "    def __init__(self, model_name):\n",
    "        self.model_name =model_name\n",
    "        \n",
    "    def display_model(self):\n",
    "        print(f'your mmodel is {self.model_name}')\n",
    "class Mobile(Computer):  # step1\n",
    "    def __init__(self, has_flash, model_name):\n",
    "        self.has_flash=has_flash\n",
    "        super().__init__(model_name) #step2"
   ]
  },
  {
   "cell_type": "code",
   "execution_count": null,
   "id": "3ba8adda",
   "metadata": {},
   "outputs": [],
   "source": [
    "m1=Mobile(has_flash=True ,model_name='iphone')\n",
    "m1.display_model()"
   ]
  },
  {
   "cell_type": "code",
   "execution_count": null,
   "id": "7b10c244",
   "metadata": {},
   "outputs": [],
   "source": [
    "class Computer:\n",
    "    def __init__(self, model_name):\n",
    "        self.model_name =model_name\n",
    "        \n",
    "    def display_model(self):\n",
    "        print(f'your mmodel is {self.model_name}')\n",
    "class Mobile(Computer):  # step1\n",
    "    def __init__(self, has_flash, model_name):\n",
    "        self.has_flash=has_flash\n",
    "        super().__init__(model_name) #step2\n",
    "    \n",
    "    # function overriding an example of polymorphism\n",
    "    \n",
    "    def display_model(self):\n",
    "        print(f'your model is {self.model_name}')"
   ]
  },
  {
   "cell_type": "code",
   "execution_count": null,
   "id": "0fb71bec",
   "metadata": {},
   "outputs": [],
   "source": [
    "m1=Mobile(has_flash=True ,model_name='iphone')\n",
    "m1.display_model()"
   ]
  },
  {
   "cell_type": "markdown",
   "id": "4135590a",
   "metadata": {},
   "source": [
    "# multiple inheritance"
   ]
  },
  {
   "cell_type": "code",
   "execution_count": null,
   "id": "246c38ce",
   "metadata": {},
   "outputs": [],
   "source": [
    "class Father:\n",
    "    def __init__(self, fname):\n",
    "        self.fname =fname\n",
    "    \n",
    "class Mother:\n",
    "    def __init__(self, mname):\n",
    "        self.mname = mname\n",
    "class Child:\n",
    "    def __init__(self, cname):\n",
    "        self.cname=cname\n",
    "        \n",
    "    "
   ]
  },
  {
   "cell_type": "code",
   "execution_count": null,
   "id": "8cf92f40",
   "metadata": {},
   "outputs": [],
   "source": [
    "class Father:\n",
    "    def __init__(self, fname):\n",
    "        self.fname =fname\n",
    "    \n",
    "class Mother:\n",
    "    def __init__(self, mname):\n",
    "        self.mname = mname\n",
    "        \n",
    "class Child(Father, Mother):                         #step1\n",
    "    def __init__(self, cname,fname,mname):\n",
    "        self.cname=cname\n",
    "        Father.__init__(self,fname)                #step2\n",
    "        Mother.__init__(self,mname)                  #step2"
   ]
  },
  {
   "cell_type": "code",
   "execution_count": null,
   "id": "4535396d",
   "metadata": {},
   "outputs": [],
   "source": [
    "c1= Child(cname='love',fname='ram', mname='sita')"
   ]
  },
  {
   "cell_type": "code",
   "execution_count": null,
   "id": "36afd241",
   "metadata": {},
   "outputs": [],
   "source": [
    "c1.cname"
   ]
  },
  {
   "cell_type": "code",
   "execution_count": null,
   "id": "e05a5208",
   "metadata": {},
   "outputs": [],
   "source": [
    "c1.mname "
   ]
  },
  {
   "cell_type": "code",
   "execution_count": null,
   "id": "2243e7da",
   "metadata": {},
   "outputs": [],
   "source": [
    "c1.fname"
   ]
  },
  {
   "cell_type": "markdown",
   "id": "cfc3fccd",
   "metadata": {},
   "source": [
    "# multi level inheritance"
   ]
  },
  {
   "cell_type": "code",
   "execution_count": 8,
   "id": "20256bb9",
   "metadata": {},
   "outputs": [],
   "source": [
    "class Grandfather:\n",
    "    def __init__(self,gname):\n",
    "        self.gname=gname\n",
    "class Father(Grandfather):\n",
    "    def __init__(self,fname,gname):\n",
    "        self.fname=fname\n",
    "        Grandfather.__init__(self,gname)\n",
    "class Child(Father):\n",
    "    def __init__(self,cname,fname,gname):\n",
    "        Father.__init__(self,fname,gname)\n",
    "        self.cname=cname\n",
    "        \n",
    "    def display (self):\n",
    "        print(f'you are {self.cname}')\n",
    "        print(f'your father are {self.fname}')\n",
    "        print(f'your grandfather are {self.gname}')"
   ]
  },
  {
   "cell_type": "code",
   "execution_count": 9,
   "id": "1d5d5209",
   "metadata": {},
   "outputs": [],
   "source": [
    "c1=Child(cname='lov',fname='ram',gname='dasrath')"
   ]
  },
  {
   "cell_type": "code",
   "execution_count": 10,
   "id": "527ca14a",
   "metadata": {},
   "outputs": [
    {
     "name": "stdout",
     "output_type": "stream",
     "text": [
      "you are lov\n",
      "your father are ram\n",
      "your grandfather are dasrath\n"
     ]
    }
   ],
   "source": [
    "c1.display()"
   ]
  },
  {
   "cell_type": "code",
   "execution_count": null,
   "id": "4a9c68e4",
   "metadata": {},
   "outputs": [],
   "source": []
  }
 ],
 "metadata": {
  "kernelspec": {
   "display_name": "Python 3 (ipykernel)",
   "language": "python",
   "name": "python3"
  },
  "language_info": {
   "codemirror_mode": {
    "name": "ipython",
    "version": 3
   },
   "file_extension": ".py",
   "mimetype": "text/x-python",
   "name": "python",
   "nbconvert_exporter": "python",
   "pygments_lexer": "ipython3",
   "version": "3.10.11"
  }
 },
 "nbformat": 4,
 "nbformat_minor": 5
}
