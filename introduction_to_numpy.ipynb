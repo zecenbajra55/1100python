{
  "nbformat": 4,
  "nbformat_minor": 0,
  "metadata": {
    "colab": {
      "provenance": [],
      "authorship_tag": "ABX9TyNs7UkZZRczr4p4zC8+jCzk",
      "include_colab_link": true
    },
    "kernelspec": {
      "name": "python3",
      "display_name": "Python 3"
    },
    "language_info": {
      "name": "python"
    }
  },
  "cells": [
    {
      "cell_type": "markdown",
      "metadata": {
        "id": "view-in-github",
        "colab_type": "text"
      },
      "source": [
        "<a href=\"https://colab.research.google.com/github/zecenbajra55/1100python/blob/main/introduction_to_numpy.ipynb\" target=\"_parent\"><img src=\"https://colab.research.google.com/assets/colab-badge.svg\" alt=\"Open In Colab\"/></a>"
      ]
    },
    {
      "cell_type": "code",
      "execution_count": null,
      "metadata": {
        "id": "vhahxflKq81a"
      },
      "outputs": [],
      "source": []
    },
    {
      "cell_type": "markdown",
      "source": [
        "# installation"
      ],
      "metadata": {
        "id": "NXUDD973rc6s"
      }
    },
    {
      "cell_type": "code",
      "source": [
        "! pip install numpy"
      ],
      "metadata": {
        "colab": {
          "base_uri": "https://localhost:8080/"
        },
        "id": "wA6xypJ1rknY",
        "outputId": "d6febb3c-0baa-4982-d2cd-5821651b3adf"
      },
      "execution_count": null,
      "outputs": [
        {
          "output_type": "stream",
          "name": "stdout",
          "text": [
            "Requirement already satisfied: numpy in /usr/local/lib/python3.10/dist-packages (1.22.4)\n"
          ]
        }
      ]
    },
    {
      "cell_type": "code",
      "source": [],
      "metadata": {
        "id": "OAnL8uyssjyZ"
      },
      "execution_count": null,
      "outputs": []
    },
    {
      "cell_type": "markdown",
      "source": [
        "# import numpy"
      ],
      "metadata": {
        "id": "9olQDuf8s2Az"
      }
    },
    {
      "cell_type": "code",
      "source": [
        "import numpy as np"
      ],
      "metadata": {
        "id": "Jh-NAtb2s4Ip"
      },
      "execution_count": null,
      "outputs": []
    },
    {
      "cell_type": "code",
      "source": [],
      "metadata": {
        "id": "K5oJcMubs8rd"
      },
      "execution_count": null,
      "outputs": []
    },
    {
      "cell_type": "markdown",
      "source": [
        "# checking version of numpy\n"
      ],
      "metadata": {
        "id": "exue-8aJtBo-"
      }
    },
    {
      "cell_type": "code",
      "source": [
        "np.__version__"
      ],
      "metadata": {
        "colab": {
          "base_uri": "https://localhost:8080/",
          "height": 38
        },
        "id": "HRI3VTU4tD21",
        "outputId": "257012ee-dd29-4429-866c-1c6a0729562e"
      },
      "execution_count": null,
      "outputs": [
        {
          "output_type": "execute_result",
          "data": {
            "text/plain": [
              "'1.22.4'"
            ],
            "application/vnd.google.colaboratory.intrinsic+json": {
              "type": "string"
            }
          },
          "metadata": {},
          "execution_count": 4
        }
      ]
    },
    {
      "cell_type": "code",
      "source": [],
      "metadata": {
        "id": "yCVR4qAstHE-"
      },
      "execution_count": null,
      "outputs": []
    },
    {
      "cell_type": "markdown",
      "source": [
        "# creating empty array"
      ],
      "metadata": {
        "id": "8PSQUu5MtPJD"
      }
    },
    {
      "cell_type": "code",
      "source": [
        "x = np.array([])"
      ],
      "metadata": {
        "id": "BFcFr1jjtSMr"
      },
      "execution_count": null,
      "outputs": []
    },
    {
      "cell_type": "code",
      "source": [
        "x"
      ],
      "metadata": {
        "colab": {
          "base_uri": "https://localhost:8080/"
        },
        "id": "971yQqAQtdTB",
        "outputId": "c66dac32-5d86-4bf8-cb2d-11d3f3f10665"
      },
      "execution_count": null,
      "outputs": [
        {
          "output_type": "execute_result",
          "data": {
            "text/plain": [
              "array([], dtype=float64)"
            ]
          },
          "metadata": {},
          "execution_count": 6
        }
      ]
    },
    {
      "cell_type": "code",
      "source": [
        "type(x)"
      ],
      "metadata": {
        "colab": {
          "base_uri": "https://localhost:8080/"
        },
        "id": "cEW47jI6tfHX",
        "outputId": "0deb851a-f4e6-4b06-fc12-4a8d15b0a5d9"
      },
      "execution_count": null,
      "outputs": [
        {
          "output_type": "execute_result",
          "data": {
            "text/plain": [
              "numpy.ndarray"
            ]
          },
          "metadata": {},
          "execution_count": 7
        }
      ]
    },
    {
      "cell_type": "code",
      "source": [
        "# nd array means n dimentional array"
      ],
      "metadata": {
        "id": "PQ4pILTxuKSk"
      },
      "execution_count": null,
      "outputs": []
    },
    {
      "cell_type": "code",
      "source": [],
      "metadata": {
        "id": "9h_gaapyuRz_"
      },
      "execution_count": null,
      "outputs": []
    },
    {
      "cell_type": "markdown",
      "source": [
        "# creating 0 dimentional array"
      ],
      "metadata": {
        "id": "t6cKp0rfuWb6"
      }
    },
    {
      "cell_type": "code",
      "source": [
        "x=np.array(5)"
      ],
      "metadata": {
        "id": "K5XkpQr3ub0_"
      },
      "execution_count": null,
      "outputs": []
    },
    {
      "cell_type": "code",
      "source": [
        "x"
      ],
      "metadata": {
        "colab": {
          "base_uri": "https://localhost:8080/"
        },
        "id": "SBS1xE5zug48",
        "outputId": "08ec0719-8947-4c2a-f509-ba4577160e2e"
      },
      "execution_count": null,
      "outputs": [
        {
          "output_type": "execute_result",
          "data": {
            "text/plain": [
              "array(5)"
            ]
          },
          "metadata": {},
          "execution_count": 10
        }
      ]
    },
    {
      "cell_type": "code",
      "source": [
        "type(x)"
      ],
      "metadata": {
        "colab": {
          "base_uri": "https://localhost:8080/"
        },
        "id": "iMlHVVqnuhL4",
        "outputId": "d78d5f43-5c86-4932-c82d-4569095287e0"
      },
      "execution_count": null,
      "outputs": [
        {
          "output_type": "execute_result",
          "data": {
            "text/plain": [
              "numpy.ndarray"
            ]
          },
          "metadata": {},
          "execution_count": 11
        }
      ]
    },
    {
      "cell_type": "code",
      "source": [
        "x.ndim"
      ],
      "metadata": {
        "colab": {
          "base_uri": "https://localhost:8080/"
        },
        "id": "-1CEqWvZuiE6",
        "outputId": "98f2c4ad-2523-4375-8931-13a8c94e6e0a"
      },
      "execution_count": null,
      "outputs": [
        {
          "output_type": "execute_result",
          "data": {
            "text/plain": [
              "0"
            ]
          },
          "metadata": {},
          "execution_count": 12
        }
      ]
    },
    {
      "cell_type": "code",
      "source": [],
      "metadata": {
        "id": "TQ8WPX6TuqKx"
      },
      "execution_count": null,
      "outputs": []
    },
    {
      "cell_type": "markdown",
      "source": [
        "# creating 1 dimetional array"
      ],
      "metadata": {
        "id": "uYauEAV5u06y"
      }
    },
    {
      "cell_type": "code",
      "source": [
        "x=np.array([2,4,6,8])"
      ],
      "metadata": {
        "id": "dhItdodEu3R5"
      },
      "execution_count": null,
      "outputs": []
    },
    {
      "cell_type": "code",
      "source": [
        "x"
      ],
      "metadata": {
        "colab": {
          "base_uri": "https://localhost:8080/"
        },
        "id": "w26ptixNu6sf",
        "outputId": "dde184fe-1b91-43c7-b070-e83853418716"
      },
      "execution_count": null,
      "outputs": [
        {
          "output_type": "execute_result",
          "data": {
            "text/plain": [
              "array([2, 4, 6, 8])"
            ]
          },
          "metadata": {},
          "execution_count": 20
        }
      ]
    },
    {
      "cell_type": "code",
      "source": [
        "type(x)"
      ],
      "metadata": {
        "colab": {
          "base_uri": "https://localhost:8080/"
        },
        "id": "lxagXcmnu6_6",
        "outputId": "5daf9ee4-2dff-4041-cc72-5c01460214dc"
      },
      "execution_count": null,
      "outputs": [
        {
          "output_type": "execute_result",
          "data": {
            "text/plain": [
              "numpy.ndarray"
            ]
          },
          "metadata": {},
          "execution_count": 21
        }
      ]
    },
    {
      "cell_type": "code",
      "source": [
        "x.ndim"
      ],
      "metadata": {
        "colab": {
          "base_uri": "https://localhost:8080/"
        },
        "id": "nhqiN0t1u9Kk",
        "outputId": "6f13ee13-0033-4b52-b452-6f42a2cd2d42"
      },
      "execution_count": null,
      "outputs": [
        {
          "output_type": "execute_result",
          "data": {
            "text/plain": [
              "1"
            ]
          },
          "metadata": {},
          "execution_count": 23
        }
      ]
    },
    {
      "cell_type": "code",
      "source": [
        "x.dtype"
      ],
      "metadata": {
        "colab": {
          "base_uri": "https://localhost:8080/"
        },
        "id": "HCA35cWcv-nV",
        "outputId": "b26a8672-3dd2-4401-903d-22167415971d"
      },
      "execution_count": null,
      "outputs": [
        {
          "output_type": "execute_result",
          "data": {
            "text/plain": [
              "dtype('int64')"
            ]
          },
          "metadata": {},
          "execution_count": 25
        }
      ]
    },
    {
      "cell_type": "code",
      "source": [
        "x=np.array([1,3,5,7,9])"
      ],
      "metadata": {
        "id": "hlMeO1rywTIA"
      },
      "execution_count": null,
      "outputs": []
    },
    {
      "cell_type": "code",
      "source": [
        "x"
      ],
      "metadata": {
        "colab": {
          "base_uri": "https://localhost:8080/"
        },
        "id": "cvuGiKpswyZ1",
        "outputId": "94fe120f-db69-4080-e53f-bef3089783cc"
      },
      "execution_count": null,
      "outputs": [
        {
          "output_type": "execute_result",
          "data": {
            "text/plain": [
              "array([1, 3, 5, 7, 9])"
            ]
          },
          "metadata": {},
          "execution_count": 27
        }
      ]
    },
    {
      "cell_type": "code",
      "source": [
        "type(x)"
      ],
      "metadata": {
        "colab": {
          "base_uri": "https://localhost:8080/"
        },
        "id": "UpYNECX6wyvC",
        "outputId": "6d03e155-e219-4888-ae55-0a91cadfcc25"
      },
      "execution_count": null,
      "outputs": [
        {
          "output_type": "execute_result",
          "data": {
            "text/plain": [
              "numpy.ndarray"
            ]
          },
          "metadata": {},
          "execution_count": 28
        }
      ]
    },
    {
      "cell_type": "code",
      "source": [
        "x.dtype"
      ],
      "metadata": {
        "colab": {
          "base_uri": "https://localhost:8080/"
        },
        "id": "o3W9xzrLwz3_",
        "outputId": "f5b72beb-c8c8-40ee-8cc9-b9646162e3a0"
      },
      "execution_count": null,
      "outputs": [
        {
          "output_type": "execute_result",
          "data": {
            "text/plain": [
              "dtype('int64')"
            ]
          },
          "metadata": {},
          "execution_count": 29
        }
      ]
    },
    {
      "cell_type": "code",
      "source": [],
      "metadata": {
        "id": "VeAVuqz4w2o6"
      },
      "execution_count": null,
      "outputs": []
    },
    {
      "cell_type": "markdown",
      "source": [
        "# create an array of odd  numbers between 1 to 10"
      ],
      "metadata": {
        "id": "QA7RpKxMw-AA"
      }
    },
    {
      "cell_type": "code",
      "source": [
        "odd=np.array([1,3,5,7,9])"
      ],
      "metadata": {
        "id": "9PL868jUxHQ1"
      },
      "execution_count": null,
      "outputs": []
    },
    {
      "cell_type": "code",
      "source": [
        "odd.ndim"
      ],
      "metadata": {
        "colab": {
          "base_uri": "https://localhost:8080/"
        },
        "id": "_DyL7QKkxNXO",
        "outputId": "32870f17-6528-4ce3-d24a-10e6c22d6440"
      },
      "execution_count": null,
      "outputs": [
        {
          "output_type": "execute_result",
          "data": {
            "text/plain": [
              "1"
            ]
          },
          "metadata": {},
          "execution_count": 31
        }
      ]
    },
    {
      "cell_type": "code",
      "source": [
        "odd.shape"
      ],
      "metadata": {
        "colab": {
          "base_uri": "https://localhost:8080/"
        },
        "id": "1M6J6OHLxOrv",
        "outputId": "61211caa-dd3f-4ecd-d1ff-65f4e380d809"
      },
      "execution_count": null,
      "outputs": [
        {
          "output_type": "execute_result",
          "data": {
            "text/plain": [
              "(5,)"
            ]
          },
          "metadata": {},
          "execution_count": 32
        }
      ]
    },
    {
      "cell_type": "code",
      "source": [
        "len(odd)"
      ],
      "metadata": {
        "colab": {
          "base_uri": "https://localhost:8080/"
        },
        "id": "wGR7Jjl3xQnU",
        "outputId": "42a5743d-1bb8-4020-ca21-3c8b020523f5"
      },
      "execution_count": null,
      "outputs": [
        {
          "output_type": "execute_result",
          "data": {
            "text/plain": [
              "5"
            ]
          },
          "metadata": {},
          "execution_count": 33
        }
      ]
    },
    {
      "cell_type": "code",
      "source": [],
      "metadata": {
        "id": "xGn9uhTmxRvD"
      },
      "execution_count": null,
      "outputs": []
    },
    {
      "cell_type": "markdown",
      "source": [
        "# indexing and slicing in numpy array"
      ],
      "metadata": {
        "id": "RM9eB5fjxY7s"
      }
    },
    {
      "cell_type": "code",
      "source": [
        "prime=np.array([2,3,5,7,11,13,17,19])"
      ],
      "metadata": {
        "id": "m-tsW6etxbVG"
      },
      "execution_count": null,
      "outputs": []
    },
    {
      "cell_type": "code",
      "source": [
        "prime\n"
      ],
      "metadata": {
        "colab": {
          "base_uri": "https://localhost:8080/"
        },
        "id": "50i3JMKFxn51",
        "outputId": "7482507b-d126-4a0c-ad9e-2d6680a229f7"
      },
      "execution_count": null,
      "outputs": [
        {
          "output_type": "execute_result",
          "data": {
            "text/plain": [
              "array([ 2,  3,  5,  7, 11, 13, 17, 19])"
            ]
          },
          "metadata": {},
          "execution_count": 35
        }
      ]
    },
    {
      "cell_type": "code",
      "source": [
        "prime[2]"
      ],
      "metadata": {
        "colab": {
          "base_uri": "https://localhost:8080/"
        },
        "id": "_nb81gw_xt7V",
        "outputId": "15c44cc9-faaa-4881-c1d2-1845686dc219"
      },
      "execution_count": null,
      "outputs": [
        {
          "output_type": "execute_result",
          "data": {
            "text/plain": [
              "5"
            ]
          },
          "metadata": {},
          "execution_count": 37
        }
      ]
    },
    {
      "cell_type": "code",
      "source": [
        "prime.shape"
      ],
      "metadata": {
        "colab": {
          "base_uri": "https://localhost:8080/"
        },
        "id": "T6mLOrulx4w-",
        "outputId": "667ce802-623e-4267-9b15-cf4385ca5e43"
      },
      "execution_count": null,
      "outputs": [
        {
          "output_type": "execute_result",
          "data": {
            "text/plain": [
              "(8,)"
            ]
          },
          "metadata": {},
          "execution_count": 38
        }
      ]
    },
    {
      "cell_type": "code",
      "source": [
        "len(prime)"
      ],
      "metadata": {
        "colab": {
          "base_uri": "https://localhost:8080/"
        },
        "id": "7i3ZeVCBx-Qb",
        "outputId": "accd1d06-3f32-45e9-c867-b1f0002cf1fb"
      },
      "execution_count": null,
      "outputs": [
        {
          "output_type": "execute_result",
          "data": {
            "text/plain": [
              "8"
            ]
          },
          "metadata": {},
          "execution_count": 39
        }
      ]
    },
    {
      "cell_type": "code",
      "source": [
        "prime[3:5]"
      ],
      "metadata": {
        "colab": {
          "base_uri": "https://localhost:8080/"
        },
        "id": "baninsKSyBFD",
        "outputId": "b0540a7b-2f61-4c7e-9a4c-0dc6adb2038b"
      },
      "execution_count": null,
      "outputs": [
        {
          "output_type": "execute_result",
          "data": {
            "text/plain": [
              "array([ 7, 11])"
            ]
          },
          "metadata": {},
          "execution_count": 40
        }
      ]
    },
    {
      "cell_type": "code",
      "source": [
        "prime[-3]"
      ],
      "metadata": {
        "colab": {
          "base_uri": "https://localhost:8080/"
        },
        "id": "GWPg8nLcyftn",
        "outputId": "0ba7d27f-ecd8-4d22-b1ea-5803780b303f"
      },
      "execution_count": null,
      "outputs": [
        {
          "output_type": "execute_result",
          "data": {
            "text/plain": [
              "13"
            ]
          },
          "metadata": {},
          "execution_count": 48
        }
      ]
    },
    {
      "cell_type": "code",
      "source": [
        "prime[-3:]"
      ],
      "metadata": {
        "colab": {
          "base_uri": "https://localhost:8080/"
        },
        "id": "O4wc5JYazS3S",
        "outputId": "0cf708ba-c5b7-47d3-e36e-ec10e800346b"
      },
      "execution_count": null,
      "outputs": [
        {
          "output_type": "execute_result",
          "data": {
            "text/plain": [
              "array([13, 17, 19])"
            ]
          },
          "metadata": {},
          "execution_count": 52
        }
      ]
    },
    {
      "cell_type": "code",
      "source": [
        "prime[-4:-1]"
      ],
      "metadata": {
        "colab": {
          "base_uri": "https://localhost:8080/"
        },
        "id": "yaTwGsPK0ugi",
        "outputId": "af6fdf4d-a199-41f4-9708-b3ef66b1b436"
      },
      "execution_count": null,
      "outputs": [
        {
          "output_type": "execute_result",
          "data": {
            "text/plain": [
              "array([11, 13, 17])"
            ]
          },
          "metadata": {},
          "execution_count": 54
        }
      ]
    },
    {
      "cell_type": "code",
      "source": [
        "prime[:3]"
      ],
      "metadata": {
        "colab": {
          "base_uri": "https://localhost:8080/"
        },
        "id": "eqbHplW302ou",
        "outputId": "a76a21ea-edd9-4676-9b32-5e54785c1012"
      },
      "execution_count": null,
      "outputs": [
        {
          "output_type": "execute_result",
          "data": {
            "text/plain": [
              "array([2, 3, 5])"
            ]
          },
          "metadata": {},
          "execution_count": 58
        }
      ]
    },
    {
      "cell_type": "code",
      "source": [],
      "metadata": {
        "id": "r-HRvTQD0-6c"
      },
      "execution_count": null,
      "outputs": []
    },
    {
      "cell_type": "markdown",
      "source": [
        "# difference between list and numpy array\n",
        "* numpy array is faster than list\n",
        "* numpy array supports homogeneous data type but list supports multiple datatype\n",
        "* numpy array are memory efficient than python list"
      ],
      "metadata": {
        "id": "VSnh673k1J5Z"
      }
    },
    {
      "cell_type": "code",
      "source": [
        "l1=[1.5,6,True,'hello']"
      ],
      "metadata": {
        "id": "qr6MSAnO1OuD"
      },
      "execution_count": null,
      "outputs": []
    },
    {
      "cell_type": "code",
      "source": [
        "type(l1)"
      ],
      "metadata": {
        "colab": {
          "base_uri": "https://localhost:8080/"
        },
        "id": "gpGrVVtx2Uzb",
        "outputId": "fa5aa04d-585c-42b4-d446-bf0b8f9d782a"
      },
      "execution_count": null,
      "outputs": [
        {
          "output_type": "execute_result",
          "data": {
            "text/plain": [
              "list"
            ]
          },
          "metadata": {},
          "execution_count": 61
        }
      ]
    },
    {
      "cell_type": "code",
      "source": [
        "l1[2]"
      ],
      "metadata": {
        "colab": {
          "base_uri": "https://localhost:8080/"
        },
        "id": "zMGm0vjQ2crJ",
        "outputId": "51666b2c-66a9-4712-8ef1-c3b37d7f8075"
      },
      "execution_count": null,
      "outputs": [
        {
          "output_type": "execute_result",
          "data": {
            "text/plain": [
              "True"
            ]
          },
          "metadata": {},
          "execution_count": 62
        }
      ]
    },
    {
      "cell_type": "code",
      "source": [
        "l1_array=np.array(l1)"
      ],
      "metadata": {
        "id": "f-i-sJE02fCV"
      },
      "execution_count": null,
      "outputs": []
    },
    {
      "cell_type": "code",
      "source": [
        "l1_array"
      ],
      "metadata": {
        "colab": {
          "base_uri": "https://localhost:8080/"
        },
        "id": "3iulPru32obP",
        "outputId": "48ef4b47-a9cd-4bbf-b2f1-2c367a69d538"
      },
      "execution_count": null,
      "outputs": [
        {
          "output_type": "execute_result",
          "data": {
            "text/plain": [
              "array(['1.5', '6', 'True', 'hello'], dtype='<U32')"
            ]
          },
          "metadata": {},
          "execution_count": 64
        }
      ]
    },
    {
      "cell_type": "code",
      "source": [
        "type(l1_array)"
      ],
      "metadata": {
        "colab": {
          "base_uri": "https://localhost:8080/"
        },
        "id": "GQhHoU4k2qa3",
        "outputId": "f622ab2d-7972-407f-9904-3e8a487fff54"
      },
      "execution_count": null,
      "outputs": [
        {
          "output_type": "execute_result",
          "data": {
            "text/plain": [
              "numpy.ndarray"
            ]
          },
          "metadata": {},
          "execution_count": 65
        }
      ]
    },
    {
      "cell_type": "code",
      "source": [
        "type(l1_array[2])"
      ],
      "metadata": {
        "colab": {
          "base_uri": "https://localhost:8080/"
        },
        "id": "lZ7yY4qv264D",
        "outputId": "12cc9e30-ceae-4ea5-c835-2fc6e80da454"
      },
      "execution_count": null,
      "outputs": [
        {
          "output_type": "execute_result",
          "data": {
            "text/plain": [
              "numpy.str_"
            ]
          },
          "metadata": {},
          "execution_count": 66
        }
      ]
    },
    {
      "cell_type": "code",
      "source": [
        "type(l1_array[0])"
      ],
      "metadata": {
        "colab": {
          "base_uri": "https://localhost:8080/"
        },
        "id": "l1F2YwS92_Wq",
        "outputId": "267a00e3-adf4-4e2c-984b-c95863362f11"
      },
      "execution_count": null,
      "outputs": [
        {
          "output_type": "execute_result",
          "data": {
            "text/plain": [
              "numpy.str_"
            ]
          },
          "metadata": {},
          "execution_count": 67
        }
      ]
    },
    {
      "cell_type": "code",
      "source": [
        "# numpy array are memory efficient"
      ],
      "metadata": {
        "id": "XTAKfPvl3DkF"
      },
      "execution_count": null,
      "outputs": []
    },
    {
      "cell_type": "code",
      "source": [
        "ones=np.array([1,1,1,1,1,1,1,1,1])"
      ],
      "metadata": {
        "id": "ePH67rxp3Lwz"
      },
      "execution_count": null,
      "outputs": []
    },
    {
      "cell_type": "code",
      "source": [
        "ones.dtype"
      ],
      "metadata": {
        "colab": {
          "base_uri": "https://localhost:8080/"
        },
        "id": "D1GSCY2v3XfL",
        "outputId": "7ef83c57-08d4-4241-f3ea-93f87c71fe7c"
      },
      "execution_count": null,
      "outputs": [
        {
          "output_type": "execute_result",
          "data": {
            "text/plain": [
              "dtype('int64')"
            ]
          },
          "metadata": {},
          "execution_count": 70
        }
      ]
    },
    {
      "cell_type": "code",
      "source": [
        "ones=np.array([1,1,1,1,1,1], dtype=np.int8)"
      ],
      "metadata": {
        "id": "W3g4Iih33bQw"
      },
      "execution_count": null,
      "outputs": []
    },
    {
      "cell_type": "code",
      "source": [
        "ones"
      ],
      "metadata": {
        "colab": {
          "base_uri": "https://localhost:8080/"
        },
        "id": "TvwrE1Gc3q-3",
        "outputId": "fb73248d-e272-4c42-f1e7-aadf444c4d9e"
      },
      "execution_count": null,
      "outputs": [
        {
          "output_type": "execute_result",
          "data": {
            "text/plain": [
              "array([1, 1, 1, 1, 1, 1], dtype=int8)"
            ]
          },
          "metadata": {},
          "execution_count": 72
        }
      ]
    },
    {
      "cell_type": "code",
      "source": [
        "ones.dtype"
      ],
      "metadata": {
        "colab": {
          "base_uri": "https://localhost:8080/"
        },
        "id": "bT9zhHSp3rwS",
        "outputId": "a5ba4349-fe4f-4d1f-e7fb-df1e5919fdf9"
      },
      "execution_count": null,
      "outputs": [
        {
          "output_type": "execute_result",
          "data": {
            "text/plain": [
              "dtype('int8')"
            ]
          },
          "metadata": {},
          "execution_count": 73
        }
      ]
    },
    {
      "cell_type": "code",
      "source": [],
      "metadata": {
        "id": "e0TermZa3wWm"
      },
      "execution_count": null,
      "outputs": []
    },
    {
      "cell_type": "markdown",
      "source": [
        "# numpy array are faster then list"
      ],
      "metadata": {
        "id": "0t214Go95NaP"
      }
    },
    {
      "cell_type": "code",
      "source": [
        "import random\n",
        "random.seed(2016)\n",
        "numbers= [random.randint(1,10) for i in range(50000)]\n",
        "print(numbers)\n",
        "numbers_array=np.array(numbers)\n",
        "print(f'array={numbers_array}')"
      ],
      "metadata": {
        "colab": {
          "base_uri": "https://localhost:8080/"
        },
        "id": "PlM7RT3y5RTv",
        "outputId": "c4fd887d-49b3-44fd-90d1-d8cfabb39cb0"
      },
      "execution_count": null,
      "outputs": [
        {
          "output_type": "stream",
          "name": "stdout",
          "text": [
            "[8, 9, 5, 2, 5, 3, 2, 8, 8, 2, 5, 3, 3, 6, 4, 6, 4, 4, 3, 8, 8, 6, 2, 9, 4, 5, 10, 1, 5, 10, 4, 7, 6, 1, 7, 2, 5, 8, 2, 3, 9, 10, 1, 7, 10, 4, 6, 4, 6, 1, 7, 9, 1, 5, 8, 6, 6, 3, 5, 1, 10, 10, 1, 10, 8, 9, 3, 5, 4, 9, 8, 9, 10, 1, 2, 1, 10, 4, 5, 8, 10, 9, 4, 1, 6, 9, 10, 6, 6, 2, 1, 6, 7, 2, 3, 5, 3, 3, 10, 10, 7, 2, 4, 2, 9, 1, 6, 5, 8, 3, 3, 1, 8, 3, 3, 9, 3, 7, 4, 10, 10, 5, 1, 6, 7, 3, 8, 8, 6, 3, 3, 8, 7, 10, 4, 5, 1, 3, 6, 10, 8, 8, 2, 2, 9, 8, 8, 5, 8, 1, 5, 6, 2, 10, 10, 4, 9, 5, 4, 6, 7, 2, 1, 4, 7, 3, 7, 9, 8, 6, 2, 9, 2, 8, 7, 2, 7, 4, 10, 4, 4, 6, 3, 5, 10, 8, 1, 7, 4, 7, 4, 5, 4, 5, 1, 8, 9, 1, 8, 1, 9, 6, 10, 10, 7, 8, 10, 3, 1, 7, 4, 7, 7, 3, 3, 8, 1, 8, 7, 4, 9, 7, 4, 5, 8, 9, 10, 10, 2, 1, 2, 2, 1, 8, 9, 1, 7, 7, 7, 6, 7, 9, 1, 6, 6, 9, 5, 10, 6, 6, 7, 1, 5, 7, 6, 10, 5, 9, 3, 9, 4, 7, 7, 8, 7, 6, 8, 8, 9, 5, 3, 10, 4, 10, 4, 5, 10, 9, 1, 5, 2, 3, 7, 3, 4, 5, 3, 10, 7, 6, 3, 8, 9, 3, 10, 10, 9, 8, 8, 1, 5, 6, 9, 6, 1, 1, 4, 3, 3, 5, 1, 8, 1, 9, 3, 4, 8, 4, 4, 4, 5, 10, 4, 7, 7, 10, 1, 10, 9, 10, 2, 6, 10, 6, 4, 1, 7, 4, 9, 2, 8, 1, 9, 5, 2, 8, 3, 6, 2, 1, 4, 4, 4, 1, 6, 6, 2, 4, 9, 1, 2, 10, 5, 7, 8, 10, 3, 10, 4, 2, 8, 1, 6, 3, 5, 9, 4, 5, 1, 1, 10, 9, 6, 1, 1, 6, 8, 6, 3, 7, 6, 1, 1, 8, 8, 8, 3, 9, 7, 9, 10, 2, 6, 5, 4, 6, 8, 8, 1, 5, 10, 7, 7, 3, 8, 9, 2, 10, 4, 7, 6, 4, 9, 4, 10, 4, 1, 10, 5, 5, 3, 10, 2, 8, 8, 7, 6, 9, 6, 8, 7, 5, 10, 5, 4, 2, 4, 6, 10, 3, 2, 3, 7, 7, 3, 4, 5, 3, 7, 9, 1, 10, 9, 7, 2, 7, 7, 1, 9, 9, 5, 6, 9, 10, 10, 8, 7, 3, 5, 2, 8, 1, 3, 7, 8, 5, 2, 3, 2, 3, 7, 2, 2, 8, 1, 7, 1, 6, 6, 9, 10, 1, 5, 2, 1, 7, 7, 8, 2, 3, 10, 3, 2, 6, 9, 9, 5, 7, 7, 4, 1, 4, 4, 8, 2, 10, 10, 3, 7, 8, 7, 9, 7, 2, 7, 5, 3, 4, 5, 10, 4, 7, 1, 2, 8, 2, 3, 4, 6, 6, 6, 9, 10, 5, 7, 1, 10, 4, 2, 9, 8, 7, 4, 7, 10, 3, 4, 1, 1, 8, 2, 6, 6, 7, 1, 5, 5, 7, 4, 9, 9, 10, 10, 7, 5, 7, 2, 1, 8, 4, 7, 2, 1, 5, 4, 10, 5, 6, 9, 9, 8, 10, 6, 10, 5, 8, 3, 3, 4, 1, 10, 6, 2, 4, 9, 2, 9, 2, 5, 1, 3, 10, 10, 3, 6, 5, 10, 5, 4, 1, 10, 9, 7, 3, 6, 1, 10, 7, 8, 6, 3, 9, 7, 10, 10, 10, 4, 8, 2, 2, 10, 10, 5, 1, 1, 1, 4, 2, 4, 3, 10, 3, 1, 9, 8, 6, 2, 6, 8, 2, 7, 6, 7, 4, 1, 6, 2, 10, 3, 1, 5, 4, 8, 2, 3, 7, 10, 6, 9, 2, 5, 9, 4, 10, 3, 2, 7, 5, 9, 3, 8, 6, 1, 3, 5, 2, 4, 5, 4, 7, 2, 7, 9, 3, 8, 7, 5, 5, 9, 8, 7, 4, 9, 3, 9, 7, 4, 9, 6, 6, 1, 5, 1, 5, 9, 1, 8, 1, 10, 8, 1, 5, 9, 9, 3, 4, 7, 2, 7, 5, 2, 4, 8, 4, 6, 2, 5, 8, 1, 5, 4, 4, 2, 10, 10, 6, 10, 10, 2, 4, 4, 8, 1, 6, 4, 8, 2, 8, 7, 3, 5, 7, 8, 2, 5, 8, 4, 10, 10, 1, 5, 6, 4, 4, 9, 8, 10, 9, 8, 3, 10, 8, 7, 3, 9, 10, 8, 7, 10, 9, 3, 3, 2, 3, 7, 4, 5, 5, 6, 8, 4, 9, 2, 7, 2, 3, 1, 7, 6, 4, 10, 8, 3, 3, 7, 9, 5, 2, 7, 5, 3, 3, 7, 9, 8, 6, 4, 8, 4, 7, 8, 10, 7, 1, 10, 7, 7, 9, 8, 10, 2, 5, 9, 2, 3, 9, 4, 4, 8, 8, 2, 7, 8, 10, 9, 2, 4, 9, 8, 4, 9, 10, 6, 5, 5, 4, 6, 5, 9, 5, 8, 8, 9, 3, 9, 10, 7, 10, 1, 4, 7, 5, 3, 3, 4, 9, 5, 9, 8, 4, 10, 9, 1, 8, 10, 2, 1, 4, 2, 5, 4, 9, 9, 3, 5, 7, 1, 4, 10, 6, 1, 3, 6, 8, 5, 7, 2, 10, 5, 8, 3, 3, 7, 10, 10, 9, 3, 2, 3, 2, 9, 9, 1, 1, 6, 4, 4, 10, 2, 7, 10, 1, 9, 2, 5, 6, 8, 4, 3, 5, 2, 5, 7, 8, 9, 4, 3, 5, 5, 9, 9, 6, 1, 7, 7, 7, 8, 2, 7, 10, 8, 9, 5, 8, 2, 5, 2, 5, 8, 9, 9, 6, 3, 8, 2, 10, 1, 9, 4, 4, 8, 3, 2, 2, 9, 1, 7, 2, 4, 4, 4, 7, 4, 3, 6, 10, 6, 4, 6, 1, 4, 10, 5, 2, 4, 1, 10, 3, 1, 7, 4, 4, 7, 9, 5, 6, 4, 5, 1, 9, 1, 3, 7, 7, 7, 2, 5, 8, 2, 8, 5, 3, 5, 6, 7, 2, 2, 10, 8, 8, 6, 9, 8, 4, 6, 1, 8, 9, 1, 6, 3, 1, 4, 10, 9, 10, 1, 5, 4, 2, 7, 3, 9, 4, 1, 8, 2, 4, 3, 4, 3, 2, 5, 1, 7, 6, 10, 3, 4, 4, 10, 6, 6, 9, 4, 7, 7, 4, 7, 2, 1, 9, 3, 3, 1, 6, 10, 1, 10, 6, 4, 10, 3, 4, 7, 8, 10, 1, 9, 9, 4, 5, 9, 9, 10, 5, 7, 5, 7, 9, 8, 4, 6, 1, 10, 7, 10, 4, 4, 1, 10, 2, 2, 7, 9, 3, 4, 4, 8, 5, 1, 9, 9, 7, 7, 6, 1, 9, 10, 3, 6, 3, 10, 4, 8, 2, 3, 3, 10, 8, 8, 10, 6, 1, 2, 8, 7, 9, 2, 2, 4, 7, 9, 7, 10, 3, 4, 6, 7, 4, 7, 7, 3, 2, 5, 7, 3, 5, 1, 10, 5, 6, 10, 1, 9, 2, 2, 3, 9, 8, 10, 7, 5, 10, 2, 2, 8, 9, 5, 3, 3, 5, 6, 2, 7, 6, 9, 2, 3, 9, 4, 8, 9, 9, 3, 3, 10, 1, 7, 2, 3, 9, 3, 1, 9, 8, 4, 9, 8, 4, 9, 5, 4, 1, 8, 1, 3, 5, 6, 3, 9, 7, 8, 7, 9, 6, 8, 2, 4, 9, 10, 7, 5, 2, 5, 7, 9, 2, 3, 6, 5, 1, 5, 10, 3, 4, 8, 4, 6, 5, 8, 5, 4, 7, 9, 10, 2, 8, 9, 6, 5, 2, 4, 5, 8, 9, 10, 1, 1, 10, 9, 5, 4, 1, 2, 4, 2, 4, 8, 4, 6, 2, 7, 4, 6, 4, 6, 4, 8, 6, 1, 10, 5, 6, 6, 1, 3, 4, 4, 9, 10, 8, 3, 9, 7, 7, 8, 3, 1, 5, 5, 5, 1, 4, 3, 10, 8, 5, 3, 3, 7, 5, 5, 2, 7, 9, 1, 5, 7, 7, 6, 8, 3, 3, 5, 3, 5, 1, 1, 4, 3, 9, 5, 8, 9, 5, 6, 10, 10, 4, 1, 10, 5, 6, 1, 7, 10, 5, 2, 8, 1, 4, 2, 6, 8, 9, 6, 7, 4, 9, 1, 1, 7, 2, 4, 8, 10, 6, 1, 6, 5, 3, 10, 3, 10, 5, 5, 2, 3, 1, 10, 6, 5, 7, 5, 3, 5, 8, 4, 4, 3, 6, 4, 4, 9, 4, 4, 10, 5, 1, 1, 5, 5, 4, 5, 7, 9, 10, 1, 8, 4, 5, 1, 2, 8, 10, 8, 2, 7, 6, 1, 6, 6, 7, 6, 10, 10, 5, 3, 6, 9, 6, 6, 3, 1, 1, 2, 10, 5, 9, 6, 2, 9, 4, 5, 7, 3, 6, 2, 6, 7, 8, 6, 4, 3, 1, 1, 3, 8, 1, 10, 10, 7, 5, 8, 3, 7, 1, 4, 1, 2, 2, 4, 8, 5, 5, 9, 6, 2, 1, 10, 6, 2, 1, 1, 2, 8, 4, 2, 5, 7, 9, 10, 8, 5, 7, 2, 4, 3, 10, 2, 9, 5, 3, 9, 2, 2, 2, 3, 3, 5, 3, 6, 3, 10, 9, 7, 7, 9, 6, 1, 8, 10, 1, 6, 1, 6, 10, 4, 7, 4, 9, 10, 7, 5, 9, 7, 8, 9, 1, 6, 7, 7, 6, 5, 2, 1, 6, 4, 8, 9, 2, 8, 4, 4, 5, 6, 3, 2, 2, 8, 1, 2, 4, 9, 7, 4, 7, 6, 7, 10, 5, 9, 5, 4, 9, 2, 1, 10, 5, 9, 4, 1, 7, 8, 2, 3, 1, 1, 1, 3, 4, 1, 9, 7, 3, 9, 6, 2, 1, 4, 1, 10, 5, 3, 9, 5, 8, 8, 3, 9, 7, 4, 10, 4, 3, 2, 5, 2, 3, 5, 2, 7, 3, 6, 9, 5, 5, 8, 10, 1, 2, 5, 2, 2, 4, 9, 1, 6, 8, 1, 6, 4, 4, 7, 6, 3, 7, 5, 1, 7, 5, 4, 5, 9, 10, 8, 1, 7, 7, 6, 5, 3, 7, 9, 10, 4, 8, 3, 2, 3, 9, 7, 8, 2, 5, 3, 3, 5, 2, 10, 8, 8, 8, 2, 8, 7, 6, 10, 2, 4, 2, 10, 2, 6, 2, 9, 3, 5, 9, 2, 8, 1, 5, 1, 2, 4, 8, 8, 4, 3, 9, 7, 9, 6, 2, 5, 10, 3, 1, 3, 1, 4, 9, 10, 2, 7, 8, 4, 3, 9, 6, 5, 9, 9, 3, 8, 7, 2, 6, 6, 2, 4, 2, 5, 2, 6, 10, 9, 2, 9, 1, 2, 10, 9, 4, 6, 9, 7, 7, 6, 2, 7, 4, 9, 2, 8, 5, 7, 5, 2, 9, 8, 8, 4, 6, 7, 2, 1, 6, 8, 9, 8, 9, 4, 5, 1, 9, 7, 10, 6, 9, 6, 1, 5, 6, 10, 10, 4, 9, 9, 7, 1, 8, 5, 8, 4, 6, 7, 2, 8, 6, 4, 4, 1, 5, 2, 1, 3, 3, 1, 5, 3, 6, 6, 8, 4, 6, 9, 1, 6, 7, 7, 1, 10, 7, 8, 4, 10, 10, 1, 7, 3, 1, 3, 8, 6, 1, 9, 6, 7, 10, 4, 4, 4, 8, 5, 10, 10, 2, 2, 4, 4, 3, 1, 4, 7, 10, 2, 2, 4, 5, 5, 9, 7, 8, 8, 4, 4, 8, 8, 9, 2, 3, 1, 4, 7, 10, 1, 7, 5, 2, 5, 8, 3, 6, 10, 7, 3, 10, 5, 5, 5, 9, 7, 2, 5, 6, 8, 5, 7, 3, 8, 5, 9, 6, 9, 7, 4, 10, 8, 1, 10, 5, 8, 8, 5, 4, 5, 1, 4, 6, 6, 1, 10, 6, 9, 4, 4, 5, 3, 4, 7, 8, 3, 4, 8, 7, 3, 2, 10, 7, 6, 1, 4, 5, 2, 10, 8, 2, 6, 8, 3, 1, 6, 2, 4, 10, 6, 6, 2, 6, 5, 9, 1, 7, 6, 9, 6, 3, 6, 10, 8, 5, 3, 10, 8, 8, 5, 7, 5, 2, 3, 8, 4, 4, 6, 7, 7, 7, 6, 2, 7, 1, 4, 1, 5, 1, 4, 10, 6, 3, 4, 2, 7, 9, 1, 10, 3, 1, 10, 9, 5, 8, 10, 1, 5, 6, 2, 6, 10, 2, 3, 8, 5, 9, 5, 2, 5, 5, 7, 1, 1, 3, 7, 8, 10, 2, 1, 2, 8, 3, 3, 2, 3, 3, 5, 5, 8, 10, 5, 9, 10, 1, 8, 2, 9, 5, 10, 4, 5, 7, 6, 3, 8, 9, 5, 3, 7, 2, 9, 7, 7, 4, 1, 1, 2, 4, 2, 2, 1, 10, 8, 5, 4, 4, 3, 7, 3, 2, 7, 4, 3, 1, 3, 2, 6, 10, 3, 9, 1, 5, 6, 4, 9, 6, 7, 7, 5, 1, 6, 3, 1, 6, 1, 4, 2, 9, 10, 8, 8, 1, 2, 7, 4, 7, 4, 2, 6, 10, 9, 4, 8, 6, 10, 8, 1, 8, 6, 4, 5, 2, 8, 4, 3, 3, 7, 10, 1, 3, 2, 4, 10, 3, 10, 5, 6, 4, 8, 1, 5, 7, 10, 5, 6, 6, 5, 10, 6, 8, 4, 8, 9, 7, 5, 8, 7, 5, 10, 7, 4, 9, 8, 4, 6, 5, 2, 6, 1, 3, 8, 2, 1, 6, 1, 10, 4, 4, 7, 5, 1, 10, 1, 8, 9, 6, 4, 10, 4, 2, 3, 3, 9, 8, 4, 4, 4, 10, 6, 10, 5, 4, 4, 8, 5, 6, 7, 5, 9, 1, 5, 4, 6, 1, 8, 10, 3, 9, 8, 7, 1, 9, 4, 10, 7, 6, 4, 10, 3, 5, 1, 9, 4, 4, 7, 5, 7, 5, 6, 9, 3, 6, 9, 5, 4, 1, 7, 3, 4, 3, 10, 7, 8, 4, 2, 10, 6, 9, 9, 2, 1, 2, 10, 4, 5, 4, 6, 1, 6, 3, 10, 2, 10, 3, 4, 10, 4, 7, 7, 5, 4, 7, 4, 9, 7, 9, 2, 8, 9, 8, 4, 1, 4, 5, 2, 9, 2, 5, 3, 6, 7, 10, 10, 9, 2, 5, 6, 7, 6, 3, 4, 4, 8, 2, 8, 8, 2, 9, 8, 7, 2, 1, 8, 9, 4, 5, 2, 8, 3, 4, 7, 8, 4, 10, 1, 6, 3, 2, 8, 9, 10, 2, 2, 3, 9, 3, 10, 9, 8, 5, 8, 5, 4, 8, 6, 7, 2, 2, 3, 6, 5, 9, 9, 2, 2, 6, 9, 1, 4, 2, 7, 10, 10, 6, 10, 5, 2, 1, 9, 3, 3, 5, 3, 5, 8, 1, 6, 2, 8, 10, 9, 3, 5, 1, 8, 7, 1, 10, 1, 3, 7, 2, 1, 10, 8, 2, 2, 1, 9, 1, 3, 2, 9, 7, 10, 8, 6, 1, 2, 1, 4, 1, 1, 8, 6, 1, 9, 2, 4, 5, 5, 5, 7, 4, 1, 10, 1, 6, 9, 6, 1, 8, 9, 3, 5, 9, 10, 6, 2, 4, 10, 8, 10, 8, 2, 9, 3, 9, 6, 4, 6, 6, 10, 2, 1, 8, 9, 7, 3, 9, 9, 5, 10, 1, 1, 5, 8, 8, 9, 2, 3, 8, 3, 5, 9, 8, 5, 3, 8, 3, 3, 7, 1, 8, 10, 6, 2, 1, 5, 5, 2, 6, 6, 5, 2, 5, 4, 2, 7, 9, 8, 4, 4, 3, 5, 6, 4, 9, 6, 2, 1, 7, 5, 3, 8, 6, 10, 7, 6, 2, 9, 3, 6, 10, 2, 4, 3, 4, 9, 9, 4, 3, 4, 7, 4, 2, 8, 7, 9, 8, 6, 5, 10, 2, 6, 6, 10, 8, 10, 8, 1, 10, 7, 4, 8, 7, 3, 10, 4, 4, 8, 2, 9, 10, 7, 6, 9, 9, 7, 9, 6, 4, 4, 3, 8, 10, 8, 3, 7, 6, 6, 5, 3, 8, 7, 9, 6, 1, 10, 1, 1, 4, 10, 10, 4, 7, 5, 5, 8, 7, 4, 4, 10, 4, 3, 4, 5, 1, 10, 8, 1, 6, 7, 2, 2, 8, 3, 6, 6, 3, 7, 6, 3, 6, 7, 2, 3, 2, 9, 6, 5, 5, 1, 10, 8, 4, 2, 1, 3, 7, 8, 2, 8, 8, 5, 9, 9, 8, 7, 2, 3, 3, 2, 3, 8, 10, 9, 3, 7, 9, 3, 1, 3, 10, 7, 7, 1, 5, 10, 2, 4, 5, 2, 3, 7, 6, 3, 10, 2, 6, 2, 10, 2, 4, 9, 1, 7, 10, 1, 3, 1, 4, 2, 8, 1, 7, 8, 9, 1, 6, 10, 8, 7, 10, 5, 10, 7, 4, 2, 7, 1, 10, 10, 7, 1, 4, 1, 3, 9, 9, 10, 9, 10, 5, 4, 4, 4, 8, 3, 7, 10, 1, 9, 3, 3, 6, 6, 3, 9, 6, 3, 10, 9, 4, 3, 6, 3, 2, 9, 2, 3, 1, 10, 2, 1, 8, 5, 2, 1, 2, 10, 8, 1, 2, 5, 4, 9, 8, 9, 2, 5, 2, 2, 7, 8, 1, 3, 5, 6, 3, 3, 2, 3, 2, 7, 1, 8, 7, 4, 3, 9, 1, 1, 1, 3, 2, 3, 1, 10, 2, 7, 1, 3, 8, 3, 3, 1, 1, 5, 9, 9, 5, 10, 3, 8, 1, 1, 6, 3, 7, 7, 3, 7, 2, 10, 8, 1, 3, 4, 4, 5, 5, 5, 8, 1, 9, 5, 9, 9, 2, 8, 7, 1, 8, 9, 4, 8, 1, 6, 7, 5, 6, 2, 7, 1, 9, 8, 6, 9, 4, 8, 2, 2, 9, 10, 1, 8, 6, 9, 10, 7, 9, 9, 10, 8, 10, 6, 3, 9, 3, 8, 6, 2, 2, 5, 3, 4, 4, 9, 5, 5, 10, 2, 3, 2, 10, 9, 6, 6, 7, 10, 2, 3, 7, 9, 9, 10, 6, 6, 10, 6, 10, 1, 9, 4, 10, 7, 5, 2, 9, 7, 4, 4, 3, 2, 8, 8, 4, 1, 10, 7, 6, 6, 5, 3, 1, 9, 2, 4, 10, 8, 4, 8, 2, 3, 8, 5, 4, 9, 10, 7, 10, 6, 8, 1, 10, 2, 7, 8, 5, 3, 6, 3, 4, 4, 6, 8, 5, 3, 1, 6, 7, 5, 3, 6, 6, 10, 3, 8, 1, 4, 4, 6, 1, 8, 6, 5, 2, 10, 10, 7, 4, 2, 3, 9, 5, 9, 8, 4, 9, 10, 6, 10, 10, 2, 5, 10, 3, 3, 3, 7, 9, 7, 6, 7, 1, 5, 6, 9, 2, 2, 6, 7, 10, 5, 6, 4, 2, 1, 3, 8, 3, 5, 10, 4, 4, 5, 6, 2, 5, 6, 2, 8, 10, 6, 8, 6, 8, 3, 6, 10, 6, 6, 10, 4, 9, 10, 10, 7, 5, 5, 5, 6, 9, 4, 1, 1, 9, 3, 5, 10, 3, 4, 3, 6, 8, 7, 9, 6, 6, 6, 6, 10, 2, 10, 1, 2, 3, 1, 8, 10, 3, 3, 4, 9, 3, 6, 9, 8, 10, 6, 1, 10, 4, 2, 2, 2, 7, 5, 1, 1, 9, 5, 3, 4, 5, 2, 5, 4, 3, 5, 7, 4, 1, 10, 1, 10, 7, 6, 5, 3, 3, 4, 3, 5, 5, 3, 5, 5, 5, 2, 2, 7, 1, 10, 6, 9, 8, 9, 7, 1, 10, 2, 1, 3, 9, 2, 10, 3, 1, 3, 6, 10, 7, 6, 10, 9, 9, 10, 8, 1, 1, 6, 10, 9, 2, 6, 5, 10, 10, 1, 7, 5, 9, 8, 6, 7, 5, 4, 8, 2, 2, 7, 9, 2, 1, 2, 6, 10, 5, 1, 3, 5, 4, 8, 3, 9, 6, 2, 6, 10, 3, 4, 9, 6, 1, 6, 3, 4, 2, 8, 6, 10, 6, 1, 10, 5, 8, 3, 5, 2, 10, 7, 2, 10, 6, 3, 4, 3, 3, 6, 6, 2, 1, 1, 4, 3, 9, 9, 3, 9, 10, 7, 4, 3, 6, 1, 9, 4, 10, 2, 3, 5, 3, 8, 9, 4, 8, 8, 6, 4, 7, 8, 1, 7, 3, 8, 2, 5, 9, 10, 8, 4, 7, 9, 6, 10, 2, 1, 8, 5, 8, 10, 8, 1, 8, 1, 4, 10, 6, 8, 10, 5, 1, 3, 6, 5, 2, 7, 6, 7, 5, 3, 2, 7, 7, 4, 8, 2, 7, 4, 10, 7, 7, 10, 6, 10, 7, 3, 3, 9, 6, 2, 1, 10, 7, 7, 6, 9, 10, 5, 9, 4, 10, 2, 5, 2, 1, 10, 8, 7, 8, 6, 8, 10, 1, 8, 1, 3, 2, 2, 9, 5, 10, 9, 8, 9, 9, 4, 7, 5, 5, 6, 5, 10, 5, 10, 5, 5, 6, 2, 9, 6, 7, 7, 8, 7, 4, 3, 4, 8, 7, 10, 8, 4, 2, 6, 2, 2, 7, 4, 3, 7, 3, 6, 9, 9, 3, 6, 8, 6, 6, 8, 3, 2, 9, 3, 9, 9, 6, 7, 9, 2, 3, 4, 1, 9, 3, 5, 7, 4, 9, 2, 7, 7, 7, 5, 9, 8, 9, 4, 3, 6, 10, 2, 5, 4, 9, 9, 6, 9, 5, 6, 10, 9, 3, 3, 6, 1, 1, 3, 7, 1, 9, 7, 4, 4, 7, 3, 4, 8, 4, 4, 5, 1, 7, 6, 3, 8, 6, 2, 5, 2, 5, 6, 4, 5, 10, 6, 7, 6, 6, 10, 1, 4, 5, 5, 5, 8, 6, 2, 8, 4, 4, 9, 2, 7, 8, 9, 2, 7, 8, 7, 7, 8, 9, 8, 4, 3, 10, 9, 3, 4, 7, 9, 6, 10, 9, 8, 10, 3, 2, 9, 6, 10, 3, 9, 2, 8, 1, 4, 5, 7, 3, 1, 7, 7, 2, 3, 4, 4, 6, 2, 2, 7, 3, 1, 5, 7, 9, 7, 1, 2, 6, 7, 7, 3, 1, 7, 3, 3, 2, 1, 3, 1, 9, 6, 9, 4, 3, 2, 1, 9, 2, 4, 9, 4, 7, 5, 10, 4, 1, 4, 3, 4, 7, 1, 6, 3, 5, 9, 4, 8, 1, 5, 10, 8, 3, 5, 3, 3, 6, 4, 1, 4, 10, 10, 5, 6, 3, 8, 1, 9, 2, 3, 9, 1, 10, 3, 7, 4, 1, 1, 6, 8, 7, 2, 5, 1, 6, 10, 1, 9, 7, 2, 8, 8, 10, 5, 1, 2, 7, 1, 10, 7, 9, 9, 8, 1, 6, 3, 6, 7, 6, 5, 9, 6, 7, 4, 8, 3, 8, 5, 10, 3, 3, 3, 1, 6, 6, 1, 1, 9, 4, 2, 7, 10, 9, 2, 6, 9, 8, 7, 9, 6, 6, 4, 6, 8, 5, 5, 9, 4, 3, 8, 10, 4, 6, 9, 7, 10, 4, 4, 6, 3, 1, 6, 2, 3, 9, 5, 8, 4, 10, 3, 4, 8, 9, 8, 3, 1, 10, 6, 1, 4, 1, 1, 1, 10, 5, 6, 7, 4, 6, 5, 5, 4, 10, 3, 1, 4, 9, 5, 8, 4, 2, 9, 6, 8, 9, 7, 6, 4, 6, 7, 10, 6, 9, 7, 5, 5, 8, 4, 3, 10, 1, 2, 4, 3, 7, 2, 8, 4, 3, 3, 10, 7, 9, 8, 4, 1, 2, 9, 3, 9, 4, 2, 1, 10, 1, 8, 3, 8, 8, 10, 7, 6, 9, 2, 3, 5, 1, 3, 8, 1, 10, 7, 1, 7, 5, 6, 2, 7, 2, 6, 6, 10, 6, 6, 3, 6, 8, 4, 7, 4, 6, 6, 6, 2, 4, 1, 7, 10, 6, 8, 5, 1, 6, 3, 7, 4, 3, 5, 2, 1, 8, 3, 8, 1, 6, 9, 10, 8, 7, 1, 8, 3, 2, 6, 3, 8, 8, 8, 5, 5, 8, 4, 6, 2, 6, 4, 7, 4, 8, 7, 5, 3, 4, 2, 3, 5, 1, 3, 10, 1, 3, 4, 1, 3, 7, 1, 10, 8, 4, 2, 10, 4, 9, 2, 4, 6, 2, 4, 6, 1, 6, 4, 1, 10, 8, 10, 5, 7, 7, 9, 5, 8, 2, 3, 1, 6, 7, 9, 6, 10, 4, 2, 9, 6, 9, 9, 2, 8, 3, 4, 9, 10, 10, 5, 9, 6, 4, 7, 8, 8, 1, 6, 4, 8, 7, 4, 6, 8, 9, 7, 8, 6, 10, 2, 5, 8, 10, 2, 10, 9, 10, 5, 6, 5, 5, 10, 1, 1, 7, 7, 2, 6, 4, 8, 5, 9, 4, 4, 2, 8, 8, 3, 2, 8, 8, 9, 9, 6, 4, 7, 5, 10, 8, 3, 6, 2, 7, 10, 6, 8, 3, 10, 2, 1, 7, 5, 10, 2, 10, 7, 10, 10, 6, 3, 4, 5, 8, 7, 2, 9, 10, 7, 4, 2, 1, 4, 8, 7, 9, 2, 1, 10, 6, 7, 2, 7, 5, 2, 1, 10, 1, 4, 10, 5, 6, 4, 5, 2, 1, 9, 8, 10, 7, 6, 6, 1, 1, 9, 5, 4, 6, 7, 2, 8, 2, 4, 3, 10, 6, 7, 1, 4, 5, 2, 8, 9, 5, 1, 3, 10, 5, 5, 3, 10, 1, 10, 1, 1, 9, 7, 7, 9, 6, 8, 10, 5, 5, 6, 1, 6, 4, 2, 2, 2, 9, 7, 4, 9, 10, 5, 1, 10, 10, 4, 7, 5, 9, 4, 8, 10, 6, 2, 4, 2, 9, 6, 9, 10, 6, 4, 1, 3, 8, 3, 9, 3, 5, 1, 4, 3, 9, 5, 1, 6, 10, 4, 10, 1, 8, 4, 10, 6, 9, 9, 3, 6, 2, 8, 6, 10, 8, 8, 5, 2, 4, 4, 4, 1, 9, 8, 6, 7, 6, 3, 10, 1, 2, 9, 1, 7, 7, 8, 1, 8, 10, 6, 3, 9, 5, 6, 5, 3, 4, 7, 7, 6, 4, 8, 9, 10, 3, 3, 3, 8, 2, 1, 1, 8, 8, 10, 3, 1, 8, 6, 9, 4, 6, 7, 5, 3, 9, 1, 9, 3, 9, 1, 4, 10, 9, 4, 9, 1, 7, 2, 3, 10, 6, 5, 1, 7, 8, 7, 8, 9, 1, 8, 6, 1, 1, 5, 4, 5, 9, 1, 10, 3, 10, 4, 6, 7, 9, 7, 10, 2, 7, 2, 10, 2, 1, 9, 5, 6, 7, 9, 7, 3, 4, 7, 3, 4, 8, 10, 9, 3, 10, 6, 6, 5, 1, 10, 3, 4, 5, 6, 10, 1, 5, 4, 10, 5, 4, 1, 5, 7, 6, 9, 2, 8, 3, 8, 9, 8, 2, 9, 2, 7, 5, 3, 5, 1, 6, 2, 10, 1, 9, 10, 1, 3, 6, 10, 9, 8, 10, 7, 4, 4, 8, 2, 1, 9, 2, 6, 5, 6, 6, 2, 10, 1, 1, 9, 9, 5, 9, 1, 7, 8, 5, 5, 9, 8, 2, 7, 5, 6, 2, 3, 6, 9, 7, 8, 1, 1, 9, 3, 3, 10, 4, 3, 10, 4, 3, 2, 4, 1, 1, 9, 1, 9, 3, 6, 9, 2, 10, 9, 8, 4, 7, 4, 9, 5, 8, 4, 6, 8, 7, 3, 10, 7, 2, 10, 8, 6, 10, 6, 10, 7, 4, 3, 4, 10, 7, 8, 6, 10, 4, 6, 3, 8, 9, 1, 10, 10, 5, 4, 4, 6, 2, 3, 6, 6, 9, 5, 8, 6, 3, 4, 9, 5, 8, 3, 4, 2, 2, 7, 7, 5, 9, 7, 6, 6, 9, 10, 7, 4, 7, 6, 6, 5, 8, 5, 2, 2, 3, 8, 8, 6, 2, 3, 7, 3, 8, 2, 7, 1, 4, 4, 1, 6, 9, 8, 8, 5, 1, 3, 8, 8, 4, 8, 5, 3, 1, 2, 3, 6, 8, 4, 4, 1, 5, 6, 4, 8, 8, 8, 8, 7, 10, 3, 5, 10, 8, 10, 6, 6, 8, 7, 4, 6, 6, 2, 8, 10, 5, 4, 8, 9, 2, 2, 4, 2, 5, 4, 5, 4, 9, 6, 8, 4, 7, 9, 6, 8, 4, 7, 4, 4, 8, 2, 1, 1, 6, 3, 10, 1, 10, 3, 4, 6, 5, 10, 1, 2, 7, 3, 9, 6, 5, 2, 2, 1, 1, 5, 8, 2, 1, 1, 2, 1, 8, 9, 2, 5, 5, 3, 5, 2, 2, 2, 1, 8, 5, 7, 9, 4, 2, 10, 5, 5, 2, 7, 4, 6, 9, 4, 8, 10, 1, 6, 7, 5, 9, 8, 4, 6, 5, 2, 6, 3, 9, 4, 1, 7, 5, 9, 2, 8, 7, 3, 3, 5, 3, 7, 1, 9, 6, 5, 6, 4, 8, 3, 2, 5, 9, 1, 5, 10, 9, 3, 3, 2, 10, 6, 1, 8, 9, 1, 5, 7, 7, 9, 2, 7, 3, 5, 1, 8, 7, 6, 5, 6, 3, 10, 8, 3, 6, 2, 7, 6, 4, 3, 4, 1, 3, 6, 10, 7, 6, 4, 10, 1, 1, 8, 2, 7, 3, 2, 1, 5, 1, 2, 3, 9, 8, 8, 4, 6, 5, 6, 1, 9, 3, 5, 5, 9, 4, 6, 4, 2, 6, 9, 4, 6, 3, 5, 3, 1, 7, 3, 3, 10, 2, 7, 6, 4, 5, 9, 7, 4, 4, 2, 2, 5, 2, 9, 5, 4, 8, 1, 5, 1, 8, 9, 9, 10, 7, 7, 4, 4, 1, 2, 5, 5, 7, 8, 9, 6, 4, 5, 6, 3, 9, 8, 7, 4, 5, 2, 4, 4, 10, 6, 7, 8, 6, 5, 3, 7, 8, 2, 9, 3, 1, 2, 5, 4, 2, 10, 2, 3, 4, 9, 4, 9, 10, 10, 8, 6, 3, 5, 3, 2, 2, 10, 3, 10, 5, 1, 10, 1, 9, 8, 10, 3, 5, 5, 5, 5, 5, 9, 9, 3, 10, 4, 8, 6, 6, 7, 2, 3, 7, 2, 4, 4, 9, 3, 5, 2, 2, 7, 1, 1, 2, 6, 5, 5, 6, 10, 1, 6, 10, 7, 1, 8, 9, 9, 7, 2, 2, 10, 5, 8, 9, 6, 6, 2, 7, 2, 7, 2, 10, 8, 1, 2, 6, 10, 7, 7, 8, 4, 1, 5, 9, 3, 7, 1, 6, 7, 5, 4, 5, 3, 4, 6, 8, 6, 3, 6, 6, 4, 6, 3, 4, 1, 3, 9, 10, 7, 9, 5, 9, 5, 3, 2, 1, 9, 10, 5, 3, 8, 1, 9, 5, 7, 1, 7, 1, 1, 3, 3, 9, 1, 8, 1, 10, 4, 6, 4, 10, 2, 7, 9, 6, 10, 3, 10, 10, 5, 7, 6, 7, 6, 10, 9, 10, 9, 9, 10, 6, 8, 1, 4, 10, 3, 7, 5, 1, 2, 3, 5, 6, 4, 5, 1, 6, 2, 4, 10, 9, 8, 2, 4, 10, 9, 1, 2, 9, 6, 9, 6, 3, 7, 4, 7, 5, 4, 4, 6, 1, 7, 8, 10, 2, 10, 7, 4, 1, 1, 10, 6, 8, 8, 3, 6, 8, 8, 4, 5, 3, 5, 1, 8, 1, 2, 3, 3, 5, 2, 4, 3, 9, 5, 5, 3, 9, 8, 10, 2, 3, 6, 4, 1, 9, 4, 6, 8, 6, 5, 1, 8, 6, 1, 1, 3, 1, 4, 1, 7, 2, 10, 4, 1, 4, 3, 1, 10, 10, 5, 3, 4, 9, 6, 2, 2, 8, 9, 10, 6, 7, 4, 1, 2, 6, 4, 4, 8, 8, 9, 4, 9, 6, 6, 3, 9, 5, 4, 5, 8, 1, 6, 4, 8, 8, 9, 6, 5, 9, 3, 6, 5, 5, 5, 3, 6, 9, 3, 1, 1, 3, 6, 9, 7, 3, 5, 3, 10, 2, 10, 6, 10, 9, 2, 4, 4, 4, 6, 10, 5, 4, 1, 6, 2, 6, 2, 1, 9, 4, 7, 10, 4, 9, 1, 5, 10, 8, 4, 10, 5, 9, 10, 6, 8, 10, 3, 5, 5, 5, 4, 9, 9, 8, 8, 8, 10, 9, 1, 4, 9, 2, 5, 2, 3, 7, 1, 3, 2, 2, 6, 4, 3, 2, 2, 10, 5, 7, 6, 8, 7, 8, 9, 6, 2, 6, 7, 7, 5, 5, 4, 2, 5, 1, 7, 5, 3, 1, 5, 5, 2, 1, 9, 3, 9, 5, 9, 7, 5, 5, 9, 2, 7, 5, 2, 8, 4, 10, 2, 3, 2, 6, 8, 10, 5, 5, 3, 5, 4, 5, 1, 9, 1, 2, 6, 6, 2, 9, 3, 1, 10, 4, 3, 8, 3, 3, 3, 6, 10, 7, 3, 9, 5, 3, 10, 2, 10, 2, 8, 4, 3, 8, 2, 8, 9, 8, 7, 2, 8, 9, 4, 10, 5, 1, 1, 3, 7, 3, 1, 9, 2, 5, 2, 1, 3, 9, 7, 4, 3, 4, 8, 2, 10, 2, 2, 9, 7, 1, 5, 9, 5, 3, 8, 9, 7, 6, 4, 7, 2, 4, 8, 8, 6, 7, 5, 5, 8, 3, 1, 10, 9, 6, 9, 6, 1, 3, 6, 4, 5, 4, 1, 4, 10, 4, 5, 9, 1, 4, 9, 3, 2, 7, 5, 2, 5, 3, 9, 5, 4, 3, 7, 1, 10, 9, 1, 3, 1, 1, 6, 8, 10, 4, 1, 8, 3, 10, 6, 7, 8, 8, 7, 5, 7, 3, 3, 2, 8, 5, 9, 8, 7, 3, 10, 6, 6, 2, 4, 10, 1, 4, 1, 3, 7, 9, 2, 4, 10, 2, 2, 2, 3, 4, 5, 3, 10, 8, 4, 9, 5, 4, 6, 2, 2, 10, 6, 9, 8, 5, 1, 7, 10, 6, 5, 6, 6, 9, 7, 10, 7, 8, 7, 5, 3, 10, 10, 6, 6, 3, 4, 7, 3, 3, 9, 4, 4, 3, 9, 10, 1, 1, 5, 1, 5, 6, 7, 5, 4, 6, 5, 10, 2, 3, 10, 8, 5, 9, 9, 6, 8, 1, 6, 8, 10, 1, 7, 7, 10, 6, 6, 10, 3, 1, 3, 1, 9, 8, 3, 1, 6, 3, 6, 3, 4, 10, 1, 3, 2, 5, 10, 10, 9, 5, 5, 6, 7, 7, 6, 8, 8, 10, 8, 10, 5, 7, 9, 7, 2, 3, 2, 10, 2, 2, 5, 8, 2, 4, 8, 8, 9, 2, 6, 7, 10, 7, 2, 4, 5, 3, 1, 6, 1, 3, 7, 1, 4, 6, 2, 8, 10, 7, 2, 3, 10, 6, 10, 2, 8, 3, 1, 9, 3, 3, 10, 8, 10, 7, 6, 3, 2, 1, 8, 1, 6, 2, 4, 10, 10, 8, 10, 8, 7, 6, 10, 5, 4, 5, 2, 5, 5, 2, 8, 1, 1, 3, 4, 2, 4, 6, 5, 1, 10, 9, 6, 9, 1, 8, 5, 7, 9, 5, 5, 6, 5, 3, 1, 8, 10, 5, 6, 4, 3, 2, 6, 10, 5, 5, 10, 1, 10, 8, 1, 4, 5, 10, 10, 1, 4, 2, 4, 3, 3, 9, 4, 8, 7, 9, 10, 4, 9, 1, 5, 5, 7, 10, 10, 8, 4, 7, 9, 3, 10, 7, 6, 5, 8, 5, 4, 6, 3, 4, 2, 1, 10, 3, 7, 3, 3, 8, 3, 10, 9, 3, 2, 9, 5, 5, 5, 2, 10, 9, 9, 10, 9, 8, 9, 3, 6, 5, 7, 1, 3, 7, 8, 7, 8, 4, 7, 5, 10, 4, 7, 10, 6, 1, 8, 4, 10, 4, 1, 9, 9, 9, 9, 2, 10, 10, 4, 4, 2, 1, 1, 2, 5, 4, 1, 6, 4, 1, 4, 1, 3, 10, 6, 10, 6, 5, 4, 1, 2, 1, 6, 8, 3, 2, 8, 3, 9, 7, 10, 8, 4, 10, 5, 7, 7, 5, 1, 5, 9, 8, 7, 7, 2, 10, 10, 8, 1, 1, 2, 6, 5, 7, 9, 7, 10, 1, 10, 1, 10, 3, 2, 8, 1, 5, 1, 6, 3, 5, 8, 7, 5, 9, 3, 9, 4, 8, 8, 5, 10, 6, 9, 1, 8, 1, 10, 6, 1, 1, 6, 3, 7, 7, 5, 7, 6, 5, 2, 8, 3, 9, 10, 9, 2, 3, 2, 10, 9, 10, 1, 10, 3, 8, 8, 3, 5, 6, 10, 10, 2, 2, 3, 6, 8, 7, 10, 6, 2, 1, 4, 6, 10, 4, 5, 8, 4, 2, 2, 7, 6, 9, 10, 8, 4, 8, 5, 4, 8, 1, 8, 8, 7, 2, 1, 2, 6, 9, 5, 1, 4, 1, 9, 4, 9, 6, 1, 10, 6, 3, 3, 9, 8, 3, 4, 1, 7, 4, 9, 7, 10, 8, 3, 3, 2, 8, 9, 2, 5, 10, 2, 2, 4, 6, 4, 1, 3, 4, 8, 3, 8, 8, 7, 9, 2, 7, 3, 6, 8, 6, 5, 1, 6, 3, 5, 6, 10, 8, 3, 10, 9, 3, 3, 1, 7, 1, 1, 2, 9, 3, 7, 7, 6, 2, 10, 9, 6, 6, 10, 3, 2, 9, 5, 8, 9, 3, 4, 3, 8, 6, 10, 3, 7, 8, 8, 3, 2, 10, 8, 1, 7, 6, 9, 10, 2, 4, 8, 5, 9, 6, 6, 7, 7, 4, 8, 7, 4, 9, 9, 5, 8, 10, 1, 10, 8, 6, 4, 2, 4, 7, 9, 3, 1, 3, 6, 9, 2, 7, 6, 4, 2, 7, 8, 4, 9, 5, 6, 4, 4, 1, 8, 5, 5, 9, 4, 8, 3, 7, 5, 10, 2, 7, 1, 7, 8, 1, 1, 10, 6, 6, 10, 10, 8, 10, 2, 6, 2, 9, 8, 9, 7, 1, 1, 7, 5, 8, 8, 3, 9, 8, 4, 9, 4, 9, 7, 4, 10, 7, 8, 9, 2, 1, 2, 5, 1, 10, 8, 4, 3, 3, 9, 1, 9, 8, 5, 9, 2, 10, 5, 6, 1, 10, 2, 9, 1, 8, 3, 7, 6, 3, 3, 2, 5, 8, 2, 10, 4, 5, 5, 8, 10, 10, 10, 7, 10, 8, 5, 3, 4, 2, 10, 5, 2, 1, 2, 5, 10, 2, 4, 3, 2, 9, 3, 6, 10, 2, 6, 10, 6, 4, 9, 3, 1, 6, 9, 3, 8, 3, 3, 4, 1, 6, 9, 2, 9, 10, 2, 10, 5, 9, 2, 1, 1, 9, 7, 1, 1, 6, 2, 1, 1, 8, 1, 2, 9, 4, 8, 10, 2, 9, 3, 2, 5, 2, 9, 1, 7, 7, 8, 9, 9, 5, 7, 4, 10, 8, 9, 2, 7, 2, 5, 3, 1, 1, 7, 1, 7, 10, 9, 8, 4, 1, 1, 1, 1, 9, 6, 1, 9, 10, 6, 9, 8, 10, 8, 3, 6, 6, 5, 8, 3, 8, 4, 4, 1, 7, 4, 10, 8, 1, 2, 10, 9, 4, 3, 9, 2, 9, 4, 10, 1, 1, 9, 7, 3, 9, 3, 8, 7, 9, 1, 3, 4, 6, 9, 9, 4, 4, 5, 2, 8, 1, 2, 9, 3, 3, 1, 3, 4, 1, 10, 7, 7, 9, 8, 1, 4, 4, 10, 4, 6, 10, 10, 7, 9, 1, 3, 5, 1, 4, 4, 9, 10, 6, 9, 10, 4, 9, 1, 1, 8, 7, 3, 4, 9, 10, 6, 4, 3, 4, 6, 5, 5, 8, 2, 6, 6, 8, 6, 1, 1, 10, 1, 6, 4, 5, 9, 3, 5, 6, 7, 5, 4, 8, 8, 2, 5, 3, 8, 1, 1, 1, 10, 1, 5, 3, 1, 7, 5, 7, 5, 7, 2, 5, 6, 9, 8, 5, 3, 6, 8, 8, 4, 10, 6, 6, 8, 7, 4, 2, 1, 2, 5, 2, 8, 5, 6, 10, 6, 6, 10, 4, 6, 8, 9, 4, 3, 7, 9, 1, 5, 10, 6, 1, 4, 7, 6, 3, 6, 2, 3, 10, 2, 4, 1, 6, 7, 8, 1, 8, 1, 4, 6, 8, 5, 4, 2, 5, 2, 2, 3, 4, 9, 6, 6, 2, 4, 9, 10, 6, 9, 5, 5, 10, 1, 1, 9, 7, 6, 8, 5, 3, 1, 1, 6, 9, 10, 3, 9, 10, 6, 5, 5, 3, 3, 6, 4, 3, 2, 5, 6, 7, 9, 10, 7, 2, 7, 7, 8, 3, 3, 9, 2, 7, 2, 2, 7, 6, 7, 5, 7, 6, 6, 9, 8, 7, 5, 9, 2, 5, 6, 6, 6, 5, 9, 5, 10, 7, 3, 4, 6, 3, 7, 1, 1, 1, 1, 4, 4, 9, 3, 5, 7, 6, 6, 2, 1, 3, 8, 1, 3, 8, 1, 6, 9, 8, 5, 3, 9, 3, 1, 5, 1, 10, 9, 7, 6, 2, 10, 5, 4, 8, 9, 6, 4, 4, 6, 9, 9, 6, 1, 9, 5, 8, 2, 10, 6, 6, 4, 6, 9, 10, 2, 1, 3, 8, 8, 7, 3, 3, 9, 9, 8, 5, 7, 6, 5, 7, 1, 8, 10, 5, 8, 8, 2, 5, 2, 8, 5, 1, 3, 1, 3, 2, 6, 6, 5, 1, 6, 4, 6, 9, 3, 9, 7, 6, 10, 10, 8, 7, 10, 1, 4, 1, 5, 1, 10, 7, 8, 2, 2, 6, 8, 1, 5, 8, 1, 3, 10, 1, 4, 7, 5, 10, 8, 4, 3, 9, 8, 5, 4, 1, 9, 2, 4, 3, 6, 10, 4, 7, 8, 5, 7, 8, 6, 10, 4, 1, 5, 8, 8, 9, 3, 7, 6, 7, 3, 9, 2, 2, 7, 10, 10, 3, 4, 8, 9, 4, 3, 3, 9, 6, 8, 6, 3, 7, 5, 7, 8, 7, 8, 4, 3, 7, 10, 4, 9, 8, 6, 4, 8, 7, 9, 4, 8, 2, 8, 1, 9, 1, 3, 1, 7, 9, 8, 1, 4, 3, 3, 5, 4, 1, 7, 4, 6, 7, 3, 2, 1, 9, 9, 4, 3, 5, 7, 3, 10, 5, 6, 7, 1, 8, 4, 4, 10, 4, 2, 5, 2, 1, 7, 8, 8, 4, 5, 8, 4, 9, 9, 6, 3, 1, 4, 10, 1, 3, 3, 7, 6, 9, 5, 9, 6, 10, 6, 5, 2, 8, 3, 6, 6, 2, 2, 10, 5, 7, 8, 8, 8, 6, 10, 9, 9, 2, 2, 1, 3, 2, 1, 9, 1, 8, 8, 2, 4, 5, 8, 6, 9, 10, 8, 1, 3, 2, 2, 4, 7, 1, 3, 9, 3, 2, 5, 2, 9, 6, 10, 7, 4, 6, 8, 3, 6, 5, 9, 9, 1, 3, 1, 4, 1, 8, 4, 10, 3, 4, 10, 9, 1, 4, 10, 1, 4, 5, 7, 7, 5, 6, 5, 3, 10, 4, 4, 9, 10, 10, 7, 5, 3, 4, 2, 4, 4, 1, 3, 9, 1, 7, 10, 4, 8, 7, 3, 3, 9, 8, 9, 3, 1, 7, 8, 9, 6, 6, 9, 3, 9, 2, 6, 10, 3, 9, 10, 8, 1, 10, 10, 5, 8, 10, 9, 5, 9, 1, 10, 4, 6, 7, 1, 10, 4, 7, 5, 8, 8, 2, 3, 7, 5, 9, 6, 4, 5, 9, 6, 4, 3, 2, 2, 4, 7, 6, 3, 7, 2, 9, 4, 2, 3, 1, 5, 2, 9, 4, 6, 7, 6, 9, 9, 5, 8, 6, 6, 10, 4, 5, 6, 10, 1, 10, 4, 7, 7, 5, 3, 10, 4, 7, 6, 8, 8, 6, 6, 3, 2, 4, 10, 9, 9, 3, 5, 8, 5, 6, 10, 4, 1, 4, 1, 2, 9, 10, 7, 9, 3, 5, 10, 7, 8, 10, 1, 4, 1, 8, 9, 9, 3, 10, 8, 6, 5, 4, 1, 3, 10, 4, 1, 4, 5, 10, 6, 7, 4, 4, 2, 9, 1, 7, 1, 3, 6, 4, 3, 9, 2, 2, 8, 8, 4, 10, 7, 8, 4, 4, 10, 4, 7, 6, 9, 4, 4, 5, 2, 1, 2, 5, 5, 2, 2, 10, 10, 8, 9, 8, 3, 3, 3, 4, 8, 1, 7, 1, 3, 6, 4, 8, 7, 6, 6, 8, 1, 5, 2, 8, 4, 4, 2, 1, 2, 3, 7, 8, 10, 6, 10, 2, 2, 3, 10, 6, 1, 6, 1, 5, 5, 5, 6, 1, 3, 2, 10, 7, 5, 10, 2, 6, 1, 2, 9, 5, 9, 9, 8, 7, 5, 4, 3, 8, 8, 9, 2, 7, 2, 5, 7, 5, 2, 1, 3, 7, 6, 9, 2, 5, 5, 5, 2, 3, 4, 7, 3, 8, 9, 3, 1, 5, 7, 2, 3, 5, 8, 5, 3, 4, 2, 9, 10, 2, 1, 3, 2, 4, 8, 2, 7, 2, 2, 3, 2, 1, 9, 1, 7, 3, 1, 9, 6, 9, 10, 9, 8, 5, 1, 1, 8, 1, 7, 9, 4, 3, 5, 3, 8, 9, 3, 8, 5, 7, 2, 1, 1, 9, 5, 8, 7, 4, 1, 7, 3, 1, 8, 5, 10, 3, 7, 8, 1, 1, 1, 1, 1, 10, 4, 8, 1, 5, 4, 9, 2, 5, 5, 2, 10, 8, 3, 2, 4, 8, 6, 6, 9, 4, 7, 2, 6, 3, 9, 8, 2, 6, 4, 10, 4, 5, 6, 10, 2, 4, 9, 6, 1, 9, 3, 3, 6, 5, 4, 3, 6, 8, 6, 2, 10, 10, 10, 8, 9, 6, 1, 2, 5, 1, 2, 8, 5, 3, 8, 6, 3, 3, 4, 4, 4, 6, 4, 10, 5, 6, 10, 8, 5, 2, 9, 6, 3, 5, 10, 10, 2, 3, 2, 9, 3, 9, 2, 6, 6, 10, 8, 5, 3, 1, 5, 10, 8, 5, 7, 4, 7, 1, 1, 3, 2, 4, 7, 5, 6, 4, 6, 5, 7, 10, 5, 5, 2, 1, 10, 4, 4, 1, 5, 7, 10, 5, 5, 3, 2, 5, 3, 2, 3, 10, 8, 9, 9, 9, 5, 5, 2, 7, 1, 6, 6, 8, 1, 2, 5, 7, 2, 10, 9, 7, 6, 8, 3, 5, 8, 5, 8, 5, 2, 4, 3, 3, 1, 10, 5, 2, 7, 4, 3, 3, 2, 4, 1, 8, 4, 5, 1, 2, 8, 5, 1, 10, 2, 4, 6, 4, 5, 5, 5, 9, 3, 8, 2, 3, 10, 5, 4, 1, 5, 1, 4, 9, 1, 5, 9, 5, 10, 10, 10, 8, 5, 7, 7, 9, 2, 8, 4, 9, 10, 10, 6, 2, 7, 6, 9, 6, 3, 8, 2, 6, 8, 4, 5, 7, 8, 1, 2, 8, 1, 9, 8, 1, 5, 5, 9, 1, 1, 2, 8, 10, 1, 10, 9, 2, 6, 5, 10, 1, 4, 10, 3, 9, 2, 7, 7, 10, 1, 2, 2, 10, 7, 10, 9, 7, 6, 3, 7, 5, 4, 5, 10, 8, 7, 1, 10, 1, 2, 3, 10, 8, 10, 10, 10, 2, 8, 2, 8, 9, 10, 6, 9, 9, 2, 8, 9, 5, 1, 2, 5, 8, 9, 9, 10, 8, 5, 2, 5, 10, 8, 3, 9, 2, 7, 7, 8, 8, 4, 5, 10, 3, 10, 9, 1, 1, 4, 1, 5, 4, 5, 5, 1, 9, 5, 5, 10, 4, 6, 7, 6, 6, 7, 4, 10, 1, 8, 3, 7, 3, 10, 10, 5, 9, 4, 8, 4, 6, 10, 6, 10, 2, 9, 2, 1, 9, 5, 9, 2, 2, 8, 8, 5, 1, 3, 8, 9, 7, 5, 1, 6, 5, 3, 1, 5, 1, 7, 1, 1, 1, 10, 3, 3, 9, 1, 2, 9, 2, 7, 1, 9, 9, 3, 10, 9, 1, 8, 4, 5, 4, 3, 9, 10, 3, 8, 9, 7, 4, 8, 2, 4, 10, 10, 6, 9, 4, 3, 6, 6, 3, 9, 4, 6, 8, 3, 5, 7, 6, 3, 8, 9, 7, 7, 8, 7, 9, 2, 10, 4, 4, 8, 8, 5, 5, 9, 2, 5, 3, 8, 4, 8, 4, 1, 4, 7, 5, 3, 1, 6, 9, 8, 3, 3, 3, 6, 2, 3, 9, 6, 6, 6, 3, 3, 10, 5, 2, 1, 7, 2, 1, 2, 1, 7, 2, 9, 2, 6, 5, 1, 2, 4, 3, 3, 1, 5, 6, 3, 3, 5, 7, 1, 8, 2, 9, 3, 8, 8, 5, 6, 5, 10, 7, 8, 9, 1, 1, 1, 10, 9, 5, 2, 4, 7, 5, 9, 9, 5, 7, 4, 8, 8, 6, 6, 7, 6, 8, 4, 8, 1, 6, 7, 4, 10, 1, 3, 3, 4, 7, 5, 1, 8, 4, 8, 8, 7, 2, 8, 3, 2, 10, 9, 4, 3, 10, 5, 2, 8, 7, 4, 8, 5, 1, 2, 9, 5, 2, 9, 3, 8, 1, 7, 7, 10, 3, 9, 4, 3, 2, 7, 7, 10, 1, 7, 3, 9, 10, 10, 2, 8, 3, 10, 7, 10, 8, 7, 5, 4, 4, 5, 1, 1, 8, 2, 5, 10, 3, 10, 3, 10, 9, 4, 10, 2, 3, 3, 3, 7, 5, 1, 9, 1, 8, 5, 8, 7, 5, 5, 3, 8, 4, 2, 6, 1, 4, 9, 9, 10, 1, 5, 8, 8, 2, 4, 1, 4, 5, 9, 3, 5, 10, 1, 5, 2, 6, 9, 10, 10, 3, 6, 5, 7, 8, 3, 1, 9, 3, 3, 2, 9, 4, 8, 6, 2, 8, 3, 10, 4, 1, 2, 5, 10, 4, 6, 9, 5, 3, 10, 6, 2, 9, 6, 2, 3, 10, 3, 7, 9, 3, 5, 8, 6, 1, 5, 5, 5, 5, 5, 7, 8, 8, 8, 7, 10, 1, 8, 1, 5, 8, 2, 10, 3, 1, 9, 8, 3, 2, 1, 4, 1, 3, 10, 8, 4, 2, 2, 1, 7, 2, 10, 7, 8, 9, 3, 2, 9, 2, 8, 8, 9, 7, 1, 10, 8, 9, 8, 2, 5, 7, 5, 10, 8, 4, 2, 9, 6, 7, 1, 5, 9, 9, 3, 2, 2, 3, 2, 3, 10, 8, 5, 4, 5, 2, 4, 7, 2, 3, 5, 3, 9, 2, 7, 10, 2, 1, 1, 8, 5, 10, 2, 10, 1, 9, 1, 6, 9, 1, 8, 8, 4, 6, 9, 4, 2, 4, 1, 5, 10, 9, 10, 7, 1, 4, 7, 8, 9, 8, 2, 1, 4, 9, 9, 9, 9, 2, 5, 6, 5, 7, 6, 3, 9, 2, 6, 8, 7, 1, 5, 2, 8, 9, 8, 8, 9, 7, 3, 2, 9, 4, 2, 2, 10, 9, 1, 4, 9, 2, 6, 9, 2, 2, 2, 3, 4, 5, 7, 1, 3, 6, 2, 8, 5, 3, 4, 3, 7, 5, 1, 4, 7, 4, 6, 6, 7, 1, 7, 8, 5, 5, 5, 8, 4, 9, 8, 8, 8, 9, 5, 1, 1, 3, 5, 7, 2, 6, 1, 10, 7, 1, 1, 4, 1, 2, 8, 5, 1, 3, 6, 3, 8, 1, 5, 10, 6, 7, 10, 4, 3, 5, 7, 3, 5, 7, 7, 3, 3, 6, 5, 8, 5, 8, 2, 9, 7, 6, 6, 8, 4, 4, 5, 9, 4, 10, 8, 10, 3, 7, 5, 9, 3, 8, 1, 2, 3, 6, 3, 1, 7, 5, 6, 2, 7, 4, 8, 2, 4, 10, 3, 4, 4, 6, 3, 3, 6, 9, 3, 7, 10, 2, 1, 1, 6, 7, 6, 8, 10, 9, 9, 3, 6, 9, 9, 7, 8, 2, 10, 1, 5, 10, 6, 3, 5, 5, 2, 9, 10, 9, 3, 6, 2, 9, 4, 4, 8, 10, 1, 6, 2, 4, 10, 1, 7, 4, 9, 10, 4, 6, 9, 5, 4, 7, 6, 3, 10, 5, 3, 9, 3, 2, 7, 8, 10, 10, 4, 2, 1, 6, 6, 7, 7, 4, 10, 10, 3, 1, 1, 8, 3, 4, 9, 1, 7, 7, 9, 5, 9, 2, 10, 1, 8, 3, 8, 9, 7, 1, 4, 3, 3, 4, 9, 9, 8, 9, 10, 2, 2, 9, 1, 3, 10, 6, 10, 2, 6, 8, 1, 5, 1, 6, 6, 10, 7, 7, 3, 2, 10, 1, 3, 6, 7, 6, 5, 5, 6, 10, 6, 1, 10, 1, 1, 8, 9, 1, 7, 3, 5, 3, 6, 6, 2, 4, 8, 5, 7, 9, 5, 10, 9, 8, 1, 8, 8, 7, 5, 6, 3, 10, 3, 8, 2, 1, 2, 8, 2, 5, 6, 10, 7, 10, 2, 8, 3, 1, 3, 7, 10, 1, 3, 3, 1, 6, 2, 3, 3, 8, 4, 2, 9, 1, 8, 3, 8, 10, 9, 4, 6, 4, 7, 1, 3, 10, 3, 9, 6, 10, 5, 3, 5, 9, 7, 1, 6, 2, 2, 6, 5, 9, 8, 9, 8, 4, 5, 5, 5, 10, 7, 5, 3, 10, 8, 2, 7, 7, 1, 2, 10, 4, 10, 3, 8, 5, 7, 1, 3, 3, 10, 9, 6, 5, 10, 8, 4, 1, 10, 3, 9, 2, 3, 4, 1, 6, 6, 6, 9, 4, 5, 2, 7, 6, 7, 6, 10, 4, 4, 8, 4, 10, 3, 5, 2, 9, 9, 6, 2, 7, 5, 1, 5, 2, 5, 4, 9, 3, 5, 5, 1, 2, 9, 5, 1, 5, 3, 8, 8, 7, 2, 4, 10, 9, 7, 4, 2, 8, 6, 6, 7, 8, 10, 1, 9, 10, 6, 6, 4, 10, 10, 4, 9, 8, 10, 10, 1, 8, 8, 4, 1, 10, 10, 6, 8, 8, 4, 9, 6, 1, 10, 1, 5, 3, 9, 3, 7, 2, 10, 9, 3, 8, 4, 6, 1, 3, 4, 2, 5, 6, 3, 6, 5, 1, 9, 6, 9, 3, 8, 3, 8, 5, 9, 3, 6, 10, 5, 3, 7, 9, 1, 3, 6, 9, 6, 10, 2, 3, 8, 6, 8, 6, 7, 9, 4, 4, 10, 1, 6, 4, 7, 4, 7, 2, 9, 3, 8, 4, 4, 1, 10, 9, 4, 4, 10, 2, 9, 10, 6, 9, 3, 3, 5, 1, 6, 2, 2, 1, 10, 4, 9, 3, 3, 4, 6, 8, 7, 10, 3, 1, 8, 9, 10, 3, 6, 2, 3, 4, 6, 7, 7, 1, 6, 1, 9, 6, 4, 4, 5, 10, 3, 7, 2, 7, 8, 2, 10, 7, 7, 9, 3, 2, 2, 8, 9, 1, 5, 10, 8, 8, 2, 9, 7, 3, 2, 5, 5, 10, 7, 7, 1, 8, 4, 7, 7, 5, 9, 1, 9, 7, 5, 4, 4, 10, 2, 3, 8, 4, 6, 10, 7, 3, 4, 1, 1, 2, 8, 3, 6, 3, 10, 3, 10, 5, 6, 3, 8, 6, 6, 5, 7, 7, 8, 5, 2, 7, 7, 7, 9, 2, 8, 3, 2, 8, 2, 10, 3, 7, 9, 10, 3, 5, 4, 5, 9, 5, 2, 5, 4, 3, 6, 4, 2, 2, 3, 7, 2, 7, 9, 7, 7, 6, 7, 6, 9, 2, 1, 3, 9, 1, 7, 8, 2, 10, 10, 6, 1, 8, 1, 4, 2, 1, 5, 1, 2, 6, 5, 6, 4, 10, 9, 8, 2, 1, 6, 2, 6, 2, 8, 7, 10, 2, 9, 9, 4, 4, 4, 1, 6, 2, 3, 7, 8, 10, 1, 4, 8, 6, 5, 6, 3, 7, 9, 6, 6, 1, 7, 10, 7, 6, 7, 6, 8, 3, 4, 6, 5, 4, 4, 5, 6, 7, 8, 5, 6, 3, 9, 5, 5, 5, 8, 9, 4, 8, 7, 5, 9, 7, 5, 10, 4, 3, 4, 10, 9, 10, 10, 1, 8, 5, 7, 1, 8, 2, 10, 6, 2, 1, 2, 7, 3, 3, 4, 4, 1, 5, 4, 5, 10, 1, 6, 4, 2, 5, 10, 8, 6, 6, 4, 2, 9, 4, 2, 10, 1, 5, 9, 7, 5, 3, 3, 10, 7, 8, 7, 8, 8, 5, 8, 10, 10, 4, 7, 4, 9, 9, 2, 2, 10, 4, 6, 7, 8, 2, 3, 5, 8, 3, 3, 9, 7, 4, 7, 9, 10, 6, 1, 3, 5, 2, 1, 7, 8, 9, 6, 8, 3, 6, 8, 6, 7, 9, 9, 7, 9, 10, 2, 2, 3, 4, 7, 1, 2, 10, 6, 4, 5, 5, 8, 5, 1, 1, 9, 1, 5, 10, 7, 5, 7, 2, 7, 2, 7, 5, 5, 5, 1, 2, 4, 9, 4, 4, 6, 3, 1, 8, 1, 2, 3, 6, 4, 8, 8, 10, 6, 7, 5, 8, 6, 8, 7, 10, 9, 2, 4, 8, 7, 6, 10, 2, 3, 4, 8, 2, 3, 6, 5, 5, 10, 10, 3, 10, 3, 6, 1, 8, 6, 5, 7, 1, 6, 7, 3, 8, 2, 9, 10, 5, 4, 7, 3, 9, 8, 2, 1, 7, 5, 2, 1, 10, 3, 6, 7, 4, 5, 5, 5, 7, 5, 9, 9, 10, 8, 3, 3, 9, 8, 8, 10, 6, 8, 3, 2, 10, 10, 3, 3, 2, 8, 3, 10, 6, 3, 1, 4, 8, 1, 8, 1, 9, 8, 2, 3, 3, 3, 10, 4, 7, 5, 9, 3, 9, 5, 3, 6, 2, 8, 4, 2, 3, 9, 1, 9, 10, 6, 9, 5, 9, 1, 7, 1, 1, 9, 7, 8, 8, 1, 4, 1, 3, 6, 4, 4, 9, 6, 6, 4, 3, 6, 5, 8, 1, 10, 10, 1, 6, 7, 3, 10, 9, 6, 6, 4, 5, 1, 4, 9, 8, 8, 10, 6, 7, 10, 7, 5, 6, 8, 4, 1, 4, 10, 5, 9, 2, 8, 9, 8, 10, 6, 5, 6, 1, 3, 6, 10, 3, 6, 10, 1, 4, 4, 9, 10, 8, 9, 6, 6, 1, 5, 2, 8, 3, 7, 5, 9, 1, 6, 3, 8, 3, 7, 6, 2, 7, 2, 6, 4, 7, 3, 5, 8, 4, 1, 9, 3, 10, 6, 5, 3, 2, 1, 4, 6, 3, 5, 8, 1, 8, 5, 4, 8, 8, 5, 1, 2, 1, 4, 4, 4, 6, 7, 3, 10, 10, 1, 4, 5, 6, 6, 4, 1, 9, 1, 5, 3, 4, 5, 4, 9, 8, 4, 1, 9, 6, 10, 8, 2, 7, 5, 2, 8, 10, 4, 1, 2, 3, 2, 7, 7, 8, 1, 3, 10, 8, 10, 2, 9, 3, 5, 6, 10, 6, 6, 7, 9, 1, 2, 10, 8, 8, 9, 4, 3, 6, 5, 5, 7, 8, 4, 7, 9, 4, 10, 1, 9, 5, 8, 2, 2, 2, 1, 7, 9, 4, 5, 2, 2, 3, 4, 7, 5, 10, 1, 4, 5, 10, 10, 6, 5, 5, 10, 2, 10, 6, 2, 10, 1, 5, 8, 8, 8, 5, 6, 4, 5, 10, 6, 5, 7, 9, 2, 9, 2, 7, 10, 5, 10, 2, 7, 3, 6, 9, 9, 8, 9, 8, 3, 6, 8, 5, 4, 3, 8, 7, 4, 8, 2, 5, 5, 7, 2, 5, 3, 4, 8, 3, 4, 8, 1, 9, 8, 2, 9, 8, 6, 10, 5, 6, 8, 5, 5, 9, 9, 4, 2, 8, 1, 6, 6, 8, 2, 3, 6, 5, 5, 3, 9, 1, 9, 3, 10, 3, 7, 4, 2, 8, 7, 2, 4, 3, 10, 6, 7, 2, 9, 4, 1, 8, 8, 6, 6, 9, 3, 7, 6, 6, 5, 1, 2, 3, 2, 6, 8, 5, 8, 8, 2, 10, 2, 4, 8, 2, 9, 10, 5, 9, 6, 2, 7, 5, 2, 6, 1, 1, 8, 2, 9, 3, 3, 1, 2, 4, 4, 8, 3, 4, 2, 4, 9, 6, 1, 6, 2, 2, 10, 6, 2, 2, 1, 6, 1, 4, 2, 6, 2, 1, 1, 1, 4, 4, 3, 4, 4, 1, 8, 10, 4, 2, 4, 6, 6, 10, 10, 7, 9, 2, 6, 1, 1, 5, 8, 4, 4, 1, 4, 4, 7, 3, 3, 5, 7, 8, 5, 4, 1, 1, 7, 9, 8, 8, 8, 8, 3, 8, 7, 2, 3, 2, 4, 1, 6, 5, 9, 7, 2, 10, 3, 10, 5, 9, 5, 4, 7, 2, 10, 9, 6, 9, 1, 5, 7, 10, 1, 3, 5, 9, 8, 3, 4, 1, 7, 4, 7, 1, 2, 10, 4, 4, 8, 1, 9, 1, 8, 3, 4, 4, 1, 3, 9, 5, 4, 9, 5, 6, 3, 9, 7, 8, 8, 9, 1, 9, 2, 7, 3, 3, 5, 6, 7, 8, 6, 5, 2, 4, 9, 6, 3, 1, 2, 5, 4, 1, 2, 9, 9, 9, 6, 8, 9, 4, 2, 9, 1, 8, 8, 7, 8, 1, 3, 3, 7, 6, 4, 10, 5, 4, 3, 4, 4, 10, 3, 7, 10, 5, 6, 10, 9, 8, 4, 10, 5, 5, 8, 7, 4, 6, 10, 6, 5, 2, 6, 3, 6, 3, 10, 3, 4, 9, 5, 8, 1, 3, 5, 5, 1, 4, 5, 7, 2, 9, 9, 7, 6, 1, 7, 4, 6, 5, 4, 10, 10, 7, 4, 1, 8, 2, 3, 9, 3, 1, 9, 10, 5, 7, 1, 4, 6, 7, 5, 8, 1, 9, 6, 4, 8, 8, 9, 4, 5, 10, 1, 5, 9, 7, 2, 5, 1, 3, 10, 2, 7, 9, 7, 6, 6, 1, 4, 2, 2, 2, 1, 5, 7, 9, 2, 7, 10, 6, 3, 10, 2, 5, 2, 4, 4, 1, 1, 7, 10, 5, 6, 10, 3, 8, 2, 5, 3, 6, 4, 7, 3, 10, 10, 10, 4, 3, 7, 6, 10, 1, 5, 6, 10, 10, 4, 6, 7, 4, 1, 4, 3, 9, 1, 8, 8, 5, 4, 2, 10, 9, 7, 8, 1, 4, 7, 1, 6, 6, 3, 3, 9, 10, 7, 1, 4, 7, 3, 5, 6, 1, 3, 1, 1, 1, 5, 8, 6, 10, 4, 3, 7, 8, 2, 8, 8, 5, 7, 5, 8, 2, 5, 5, 6, 3, 10, 1, 5, 3, 5, 10, 1, 7, 2, 1, 6, 8, 5, 9, 4, 4, 6, 7, 4, 5, 3, 1, 1, 6, 10, 7, 1, 3, 4, 6, 10, 4, 4, 9, 2, 7, 3, 4, 8, 9, 6, 2, 3, 4, 6, 4, 3, 6, 9, 9, 10, 10, 5, 3, 5, 8, 10, 9, 3, 4, 7, 4, 3, 3, 5, 3, 6, 2, 10, 5, 9, 9, 5, 9, 9, 1, 5, 6, 3, 2, 1, 4, 8, 2, 7, 10, 2, 1, 8, 6, 5, 6, 8, 5, 4, 1, 6, 7, 5, 2, 5, 5, 4, 9, 8, 2, 8, 9, 8, 3, 4, 3, 9, 9, 6, 2, 10, 3, 1, 1, 1, 4, 2, 7, 5, 9, 3, 4, 3, 4, 1, 10, 8, 1, 9, 9, 5, 1, 6, 5, 8, 2, 5, 10, 10, 5, 1, 7, 6, 8, 5, 4, 3, 9, 5, 8, 9, 6, 7, 3, 6, 10, 3, 7, 4, 10, 7, 7, 7, 10, 8, 9, 8, 2, 5, 1, 10, 7, 7, 8, 5, 10, 6, 3, 3, 3, 7, 7, 3, 7, 1, 8, 4, 1, 4, 5, 8, 3, 3, 2, 7, 4, 3, 5, 3, 1, 7, 8, 1, 7, 10, 1, 8, 3, 4, 2, 7, 1, 7, 9, 6, 8, 1, 6, 4, 10, 7, 1, 9, 1, 6, 7, 2, 8, 1, 4, 3, 7, 1, 7, 3, 9, 7, 8, 5, 1, 5, 6, 3, 10, 1, 1, 6, 1, 2, 7, 4, 7, 8, 7, 4, 2, 1, 2, 10, 8, 2, 6, 2, 8, 9, 10, 10, 7, 7, 5, 6, 2, 1, 4, 10, 3, 3, 8, 1, 9, 8, 9, 5, 1, 1, 6, 6, 1, 9, 10, 2, 2, 3, 1, 2, 7, 4, 5, 1, 5, 1, 10, 1, 9, 6, 4, 9, 1, 2, 3, 5, 3, 9, 4, 9, 8, 5, 9, 2, 9, 9, 8, 8, 9, 9, 4, 8, 4, 4, 6, 4, 1, 3, 5, 3, 8, 8, 6, 9, 3, 5, 8, 3, 9, 6, 3, 5, 2, 4, 10, 3, 2, 4, 8, 2, 6, 4, 3, 4, 5, 10, 5, 1, 7, 9, 5, 6, 5, 4, 1, 2, 7, 7, 1, 7, 4, 3, 7, 10, 3, 1, 6, 1, 6, 7, 4, 10, 9, 1, 10, 5, 2, 5, 3, 5, 10, 9, 7, 6, 8, 8, 6, 3, 2, 9, 6, 3, 6, 7, 2, 4, 1, 9, 9, 8, 4, 7, 8, 7, 3, 3, 2, 8, 1, 5, 8, 7, 8, 5, 2, 1, 4, 8, 9, 5, 7, 3, 2, 6, 1, 9, 5, 10, 4, 6, 1, 1, 5, 3, 2, 4, 9, 9, 5, 1, 10, 2, 10, 9, 1, 10, 4, 9, 2, 3, 10, 5, 9, 2, 1, 1, 9, 7, 8, 6, 6, 4, 8, 2, 4, 3, 3, 10, 6, 10, 9, 5, 5, 2, 1, 3, 7, 10, 4, 5, 4, 9, 1, 4, 10, 8, 3, 10, 2, 10, 8, 7, 1, 6, 8, 6, 7, 8, 8, 7, 8, 7, 4, 3, 7, 3, 10, 6, 9, 8, 3, 8, 4, 1, 7, 5, 6, 9, 4, 7, 9, 4, 4, 3, 1, 6, 3, 9, 8, 3, 8, 3, 7, 10, 8, 2, 1, 4, 6, 1, 9, 7, 3, 8, 4, 7, 3, 2, 4, 3, 5, 6, 9, 3, 4, 1, 10, 4, 8, 9, 6, 10, 9, 5, 5, 6, 4, 6, 4, 4, 7, 4, 10, 8, 6, 2, 6, 3, 9, 4, 7, 10, 4, 9, 8, 7, 8, 4, 6, 9, 7, 7, 10, 4, 3, 10, 9, 9, 2, 1, 6, 9, 2, 3, 1, 5, 8, 3, 6, 1, 6, 9, 5, 9, 8, 9, 8, 7, 6, 8, 9, 4, 10, 7, 3, 3, 4, 10, 8, 5, 9, 8, 5, 5, 10, 6, 10, 8, 6, 3, 5, 5, 6, 7, 10, 6, 10, 8, 7, 10, 5, 9, 5, 1, 9, 9, 1, 10, 8, 4, 6, 4, 6, 6, 7, 9, 9, 3, 1, 3, 10, 3, 2, 5, 1, 8, 9, 4, 6, 1, 10, 2, 10, 9, 6, 4, 3, 10, 6, 4, 5, 3, 6, 3, 7, 2, 5, 7, 4, 3, 5, 10, 6, 4, 7, 6, 10, 7, 2, 2, 3, 7, 4, 8, 2, 5, 6, 5, 1, 6, 3, 3, 10, 6, 6, 9, 10, 2, 8, 3, 10, 2, 8, 7, 8, 3, 3, 5, 10, 3, 6, 6, 1, 2, 6, 2, 6, 2, 1, 7, 8, 4, 2, 3, 7, 5, 7, 10, 3, 6, 9, 2, 10, 5, 9, 8, 4, 1, 2, 9, 5, 3, 8, 7, 9, 3, 6, 5, 2, 6, 9, 7, 10, 8, 7, 1, 7, 3, 6, 1, 1, 6, 10, 5, 10, 9, 4, 1, 9, 6, 2, 7, 9, 3, 8, 4, 10, 7, 4, 1, 7, 4, 1, 8, 6, 1, 9, 8, 7, 3, 2, 2, 7, 3, 8, 1, 1, 3, 10, 3, 4, 9, 8, 5, 6, 6, 8, 5, 8, 8, 5, 5, 4, 7, 3, 5, 8, 4, 8, 6, 4, 2, 7, 5, 3, 10, 3, 6, 5, 1, 6, 9, 4, 9, 7, 7, 9, 4, 10, 7, 9, 2, 6, 9, 8, 1, 8, 7, 10, 2, 2, 10, 8, 10, 10, 9, 9, 4, 2, 1, 4, 3, 4, 5, 7, 8, 8, 1, 4, 6, 10, 1, 2, 2, 3, 3, 7, 10, 5, 6, 9, 2, 9, 1, 2, 5, 2, 4, 10, 5, 2, 1, 1, 3, 2, 4, 2, 2, 6, 7, 7, 8, 2, 1, 4, 3, 4, 7, 4, 3, 2, 4, 7, 7, 6, 5, 9, 9, 10, 6, 7, 7, 3, 5, 4, 2, 4, 7, 7, 9, 2, 1, 10, 6, 6, 5, 7, 2, 9, 9, 4, 3, 1, 5, 5, 8, 2, 6, 3, 1, 7, 8, 1, 1, 5, 1, 10, 3, 5, 9, 1, 5, 3, 10, 5, 8, 3, 1, 8, 4, 10, 10, 1, 9, 1, 8, 2, 6, 2, 6, 4, 4, 10, 2, 9, 10, 2, 5, 1, 8, 10, 2, 2, 5, 1, 10, 7, 6, 10, 4, 4, 2, 7, 10, 8, 9, 6, 5, 9, 6, 9, 9, 6, 1, 5, 6, 6, 8, 8, 3, 8, 5, 7, 4, 9, 7, 3, 3, 2, 4, 9, 2, 10, 8, 6, 1, 10, 2, 1, 9, 9, 9, 10, 1, 1, 10, 10, 10, 4, 9, 3, 3, 4, 8, 10, 6, 7, 4, 1, 10, 10, 10, 7, 2, 8, 3, 10, 7, 8, 4, 4, 1, 9, 10, 8, 2, 2, 4, 3, 8, 2, 5, 10, 6, 7, 3, 9, 2, 7, 5, 9, 2, 3, 9, 6, 8, 8, 2, 1, 10, 9, 6, 8, 1, 2, 3, 2, 9, 3, 4, 2, 9, 5, 6, 6, 10, 10, 1, 6, 10, 4, 6, 1, 9, 6, 10, 9, 7, 9, 6, 10, 4, 8, 1, 5, 10, 2, 8, 5, 4, 3, 7, 5, 5, 8, 6, 7, 1, 2, 6, 2, 10, 1, 9, 3, 6, 5, 5, 5, 7, 6, 7, 1, 10, 2, 4, 10, 2, 5, 4, 3, 4, 10, 6, 10, 8, 3, 8, 3, 8, 7, 8, 6, 7, 10, 4, 5, 1, 9, 3, 9, 5, 6, 4, 3, 5, 10, 1, 2, 5, 7, 9, 1, 2, 5, 4, 10, 1, 6, 7, 6, 9, 10, 10, 4, 9, 5, 8, 3, 4, 2, 5, 4, 10, 2, 1, 2, 4, 7, 8, 3, 4, 3, 4, 4, 3, 2, 10, 3, 1, 2, 9, 5, 8, 1, 2, 2, 10, 3, 7, 1, 1, 7, 7, 10, 6, 3, 1, 5, 2, 4, 6, 6, 9, 6, 8, 2, 4, 3, 6, 7, 9, 3, 4, 6, 9, 10, 3, 9, 10, 8, 2, 1, 10, 3, 1, 10, 8, 1, 7, 6, 5, 7, 6, 9, 3, 2, 9, 10, 8, 9, 9, 2, 1, 1, 5, 3, 9, 2, 2, 5, 1, 3, 4, 8, 6, 9, 2, 9, 6, 4, 9, 1, 6, 7, 9, 5, 9, 9, 4, 1, 9, 9, 1, 1, 10, 9, 3, 2, 4, 1, 6, 9, 7, 7, 2, 5, 5, 1, 2, 6, 4, 8, 2, 3, 4, 8, 10, 6, 5, 6, 4, 6, 2, 6, 3, 8, 2, 5, 3, 4, 7, 1, 6, 4, 6, 3, 4, 3, 5, 1, 4, 5, 8, 10, 8, 2, 8, 9, 6, 7, 10, 7, 10, 7, 4, 7, 1, 1, 4, 1, 10, 3, 10, 4, 8, 4, 3, 9, 5, 6, 6, 2, 6, 3, 7, 3, 7, 10, 10, 7, 1, 2, 6, 8, 10, 5, 8, 5, 7, 5, 8, 3, 3, 4, 7, 10, 7, 1, 6, 7, 3, 9, 5, 7, 9, 1, 5, 1, 6, 6, 5, 1, 4, 10, 6, 6, 3, 4, 2, 6, 4, 7, 9, 1, 1, 5, 9, 7, 9, 6, 7, 9, 5, 4, 4, 1, 3, 7, 6, 3, 2, 4, 9, 3, 1, 8, 6, 4, 3, 1, 2, 2, 2, 3, 7, 9, 7, 2, 4, 1, 8, 7, 4, 1, 8, 7, 4, 9, 7, 3, 10, 7, 3, 8, 9, 1, 8, 9, 3, 5, 4, 2, 1, 1, 1, 3, 8, 7, 6, 3, 10, 7, 8, 3, 7, 8, 3, 2, 5, 3, 1, 7, 6, 5, 9, 1, 8, 6, 5, 10, 8, 2, 4, 6, 5, 7, 10, 1, 3, 4, 1, 6, 7, 6, 9, 6, 10, 10, 8, 5, 9, 10, 10, 1, 4, 2, 9, 8, 1, 4, 10, 6, 5, 1, 4, 3, 1, 8, 7, 3, 6, 6, 3, 5, 6, 4, 1, 7, 2, 7, 4, 6, 8, 1, 2, 6, 10, 3, 2, 7, 7, 8, 7, 5, 4, 2, 1, 3, 5, 5, 3, 10, 3, 6, 7, 3, 5, 9, 7, 6, 10, 8, 1, 2, 10, 10, 2, 10, 7, 6, 7, 4, 6, 9, 8, 6, 1, 10, 10, 3, 10, 2, 2, 10, 8, 7, 7, 3, 9, 1, 6, 6, 3, 8, 7, 8, 9, 7, 8, 10, 8, 6, 10, 3, 9, 8, 1, 1, 5, 9, 8, 1, 4, 8, 3, 3, 9, 5, 4, 8, 9, 1, 1, 7, 2, 7, 9, 4, 2, 2, 8, 10, 4, 3, 7, 1, 1, 8, 6, 5, 6, 9, 7, 3, 7, 1, 3, 8, 8, 2, 6, 10, 6, 4, 9, 10, 4, 9, 6, 3, 6, 5, 4, 5, 4, 3, 3, 1, 10, 6, 9, 8, 4, 8, 9, 3, 9, 9, 10, 2, 7, 3, 8, 7, 1, 2, 2, 2, 5, 7, 4, 8, 5, 10, 2, 2, 7, 7, 2, 8, 5, 10, 3, 6, 8, 2, 9, 6, 5, 5, 8, 3, 2, 9, 6, 7, 7, 2, 3, 6, 8, 8, 7, 7, 3, 6, 10, 8, 2, 1, 10, 8, 5, 2, 10, 6, 6, 10, 4, 8, 5, 1, 1, 4, 9, 2, 4, 1, 6, 1, 5, 6, 9, 4, 1, 2, 8, 2, 1, 2, 1, 9, 7, 4, 3, 10, 6, 6, 6, 6, 2, 3, 3, 1, 1, 5, 10, 8, 2, 3, 7, 5, 5, 8, 4, 8, 6, 1, 10, 5, 10, 8, 4, 5, 7, 6, 8, 5, 8, 7, 8, 2, 9, 4, 10, 7, 2, 2, 3, 1, 9, 9, 4, 5, 9, 10, 3, 6, 1, 7, 6, 2, 8, 4, 1, 10, 6, 10, 2, 10, 2, 8, 6, 9, 1, 2, 2, 9, 3, 7, 10, 10, 4, 5, 7, 8, 9, 8, 8, 1, 10, 8, 9, 6, 8, 5, 3, 2, 8, 5, 7, 7, 3, 10, 8, 9, 1, 4, 7, 7, 1, 9, 2, 3, 6, 3, 7, 3, 3, 2, 7, 10, 2, 8, 3, 5, 7, 6, 2, 10, 4, 5, 5, 2, 5, 3, 6, 6, 5, 8, 6, 10, 6, 7, 2, 2, 8, 8, 10, 1, 9, 5, 8, 2, 2, 5, 10, 4, 4, 9, 4, 4, 2, 6, 9, 3, 2, 9, 4, 1, 3, 5, 4, 2, 2, 10, 5, 3, 2, 7, 1, 10, 8, 9, 7, 7, 8, 10, 3, 1, 10, 9, 6, 2, 2, 5, 7, 7, 3, 6, 1, 10, 7, 2, 6, 2, 4, 5, 6, 10, 4, 8, 2, 6, 3, 9, 8, 10, 8, 8, 4, 1, 7, 4, 3, 2, 7, 2, 6, 1, 6, 4, 3, 8, 10, 6, 9, 8, 6, 6, 6, 9, 8, 10, 6, 6, 5, 6, 7, 7, 10, 5, 4, 7, 5, 5, 1, 7, 3, 3, 5, 9, 9, 1, 7, 1, 2, 9, 1, 3, 5, 5, 3, 1, 6, 2, 9, 8, 3, 1, 2, 3, 8, 7, 3, 1, 9, 4, 8, 3, 10, 8, 2, 5, 1, 2, 5, 7, 10, 10, 3, 4, 7, 2, 3, 1, 8, 8, 5, 2, 10, 7, 6, 6, 4, 3, 10, 2, 10, 10, 4, 7, 8, 2, 10, 4, 1, 1, 3, 3, 1, 6, 6, 1, 1, 1, 6, 10, 6, 7, 6, 7, 6, 4, 3, 7, 5, 2, 9, 1, 1, 2, 6, 4, 3, 4, 5, 7, 6, 1, 3, 4, 7, 9, 5, 8, 8, 7, 4, 3, 10, 3, 9, 3, 3, 3, 4, 2, 2, 1, 1, 5, 2, 5, 8, 8, 5, 6, 1, 10, 2, 5, 1, 6, 9, 10, 1, 8, 8, 3, 10, 1, 1, 1, 4, 9, 6, 6, 3, 5, 8, 3, 7, 2, 5, 9, 9, 5, 10, 9, 3, 5, 6, 8, 3, 1, 1, 6, 10, 7, 6, 7, 5, 10, 1, 7, 3, 4, 6, 6, 6, 10, 1, 2, 3, 10, 7, 1, 8, 3, 7, 2, 8, 3, 5, 4, 7, 3, 9, 8, 9, 4, 5, 1, 9, 2, 5, 9, 5, 6, 9, 4, 3, 10, 9, 7, 10, 1, 1, 10, 6, 7, 8, 2, 7, 9, 10, 5, 8, 5, 6, 5, 2, 2, 10, 2, 9, 1, 10, 3, 1, 8, 1, 10, 9, 8, 9, 8, 7, 2, 7, 1, 8, 4, 8, 4, 4, 6, 6, 9, 8, 3, 4, 5, 5, 4, 1, 2, 3, 6, 1, 2, 2, 1, 1, 8, 6, 9, 7, 7, 7, 9, 5, 4, 6, 10, 10, 6, 2, 3, 7, 1, 8, 6, 10, 8, 7, 5, 2, 9, 8, 7, 1, 3, 1, 4, 2, 4, 1, 1, 6, 10, 1, 6, 3, 7, 2, 3, 9, 9, 8, 5, 8, 10, 6, 6, 9, 9, 2, 2, 10, 10, 8, 9, 9, 7, 1, 1, 6, 8, 1, 7, 3, 2, 1, 7, 1, 1, 4, 1, 3, 1, 4, 9, 4, 4, 6, 3, 8, 6, 1, 8, 2, 5, 8, 3, 8, 7, 4, 4, 3, 7, 3, 10, 8, 6, 10, 1, 10, 8, 6, 7, 2, 3, 3, 5, 5, 8, 5, 3, 4, 2, 2, 8, 9, 8, 2, 4, 7, 10, 6, 1, 3, 8, 7, 9, 10, 10, 4, 4, 3, 8, 9, 5, 1, 4, 9, 5, 9, 2, 10, 10, 7, 6, 4, 10, 5, 6, 10, 9, 8, 3, 6, 4, 4, 6, 5, 6, 7, 4, 9, 10, 2, 6, 5, 2, 4, 9, 2, 5, 10, 5, 2, 4, 10, 10, 4, 5, 5, 1, 7, 4, 7, 2, 6, 7, 3, 3, 1, 5, 6, 6, 1, 6, 10, 6, 9, 6, 3, 9, 7, 5, 7, 6, 6, 4, 2, 5, 6, 9, 6, 5, 7, 5, 2, 7, 5, 8, 6, 2, 8, 2, 10, 10, 10, 3, 7, 9, 2, 7, 2, 7, 7, 7, 7, 6, 2, 10, 3, 1, 1, 8, 7, 2, 4, 10, 8, 1, 2, 9, 9, 8, 8, 7, 4, 1, 8, 3, 9, 6, 5, 1, 6, 7, 9, 7, 2, 9, 10, 8, 3, 7, 1, 5, 9, 6, 5, 2, 8, 4, 7, 3, 1, 7, 1, 3, 6, 4, 6, 9, 9, 6, 1, 7, 4, 8, 3, 9, 2, 10, 9, 7, 4, 1, 4, 1, 3, 1, 7, 3, 7, 1, 3, 5, 3, 8, 6, 8, 7, 3, 6, 6, 10, 2, 2, 6, 2, 2, 4, 9, 5, 3, 4, 8, 1, 2, 1, 10, 6, 10, 1, 7, 1, 1, 7, 4, 8, 2, 3, 2, 4, 4, 6, 6, 6, 10, 6, 3, 5, 4, 1, 8, 6, 4, 7, 5, 2, 6, 7, 7, 1, 5, 4, 10, 8, 1, 6, 2, 7, 5, 2, 1, 5, 9, 8, 9, 6, 6, 9, 5, 7, 8, 3, 4, 2, 10, 2, 10, 5, 5, 7, 4, 1, 10, 10, 8, 8, 3, 10, 8, 5, 8, 10, 8, 9, 6, 8, 8, 5, 9, 4, 1, 7, 9, 8, 10, 4, 10, 1, 9, 5, 1, 6, 1, 9, 4, 10, 3, 4, 1, 4, 6, 4, 3, 9, 2, 10, 7, 4, 5, 7, 6, 9, 9, 3, 7, 1, 3, 8, 3, 3, 7, 3, 3, 10, 8, 9, 8, 5, 9, 7, 3, 6, 2, 8, 7, 6, 3, 7, 6, 7, 2, 8, 4, 10, 8, 8, 10, 8, 8, 4, 5, 10, 1, 5, 2, 10, 6, 1, 4, 9, 8, 1, 2, 10, 9, 2, 8, 1, 6, 8, 5, 9, 9, 7, 7, 2, 1, 5, 10, 1, 10, 1, 10, 9, 8, 2, 4, 9, 9, 7, 9, 1, 1, 7, 2, 6, 5, 5, 3, 2, 2, 10, 8, 2, 5, 1, 1, 5, 2, 8, 6, 4, 5, 9, 4, 8, 9, 5, 4, 4, 10, 1, 10, 7, 10, 4, 10, 9, 2, 5, 7, 9, 1, 8, 1, 4, 3, 8, 5, 2, 7, 9, 2, 4, 7, 6, 6, 8, 5, 4, 2, 1, 3, 10, 3, 4, 1, 3, 4, 5, 10, 3, 2, 7, 9, 9, 3, 6, 6, 10, 10, 1, 8, 10, 5, 6, 10, 4, 8, 4, 1, 8, 5, 10, 3, 3, 9, 1, 7, 6, 6, 7, 3, 1, 6, 6, 6, 9, 9, 3, 10, 9, 9, 10, 8, 5, 4, 7, 5, 6, 9, 5, 7, 7, 1, 4, 4, 4, 7, 9, 6, 1, 2, 7, 2, 4, 2, 9, 7, 10, 2, 7, 6, 2, 9, 2, 9, 1, 10, 7, 5, 3, 2, 7, 1, 2, 4, 7, 8, 8, 5, 9, 7, 10, 8, 2, 7, 3, 8, 4, 2, 9, 7, 9, 5, 4, 3, 7, 2, 3, 9, 7, 5, 5, 9, 1, 2, 2, 7, 6, 8, 6, 4, 10, 9, 9, 6, 4, 9, 8, 3, 4, 2, 9, 5, 9, 2, 9, 4, 1, 4, 4, 2, 2, 9, 10, 8, 5, 8, 7, 8, 8, 4, 8, 7, 6, 9, 1, 3, 8, 8, 9, 4, 2, 9, 4, 8, 6, 2, 2, 7, 7, 7, 5, 9, 5, 4, 6, 1, 10, 5, 7, 10, 7, 4, 4, 4, 8, 1, 8, 2, 5, 5, 8, 5, 7, 4, 4, 10, 2, 6, 1, 7, 8, 2, 8, 6, 2, 1, 2, 6, 5, 8, 10, 9, 6, 7, 9, 8, 3, 2, 9, 7, 4, 5, 9, 3, 10, 7, 7, 7, 7, 1, 10, 2, 4, 5, 9, 8, 3, 6, 4, 5, 3, 7, 9, 9, 2, 8, 7, 1, 4, 10, 7, 5, 7, 8, 10, 9, 3, 8, 3, 3, 8, 8, 10, 3, 5, 5, 10, 1, 2, 4, 4, 8, 9, 2, 6, 5, 3, 6, 2, 7, 10, 10, 8, 10, 6, 6, 3, 5, 9, 2, 4, 9, 3, 2, 8, 4, 2, 4, 7, 5, 3, 9, 2, 3, 7, 2, 10, 8, 8, 6, 6, 10, 10, 3, 2, 2, 9, 10, 7, 5, 10, 4, 4, 2, 10, 6, 1, 4, 8, 8, 9, 10, 9, 1, 3, 9, 1, 7, 9, 1, 3, 7, 6, 5, 10, 10, 2, 9, 6, 2, 8, 9, 2, 4, 6, 1, 10, 1, 10, 1, 8, 6, 10, 4, 9, 8, 5, 9, 10, 7, 2, 5, 4, 9, 10, 2, 5, 3, 8, 9, 2, 2, 3, 1, 5, 8, 6, 4, 8, 5, 4, 10, 9, 3, 6, 9, 5, 1, 6, 10, 9, 8, 9, 5, 2, 7, 6, 8, 7, 6, 7, 2, 2, 5, 2, 5, 9, 3, 6, 1, 10, 4, 3, 4, 9, 10, 6, 10, 10, 9, 9, 6, 3, 4, 2, 1, 2, 6, 8, 7, 3, 6, 6, 1, 4, 1, 7, 8, 9, 6, 3, 3, 2, 8, 2, 4, 9, 5, 9, 5, 4, 10, 5, 10, 3, 9, 9, 5, 9, 10, 2, 8, 9, 1, 6, 10, 8, 7, 1, 9, 4, 2, 3, 5, 9, 9, 7, 8, 3, 6, 3, 10, 8, 9, 1, 4, 8, 10, 1, 3, 9, 8, 3, 1, 4, 9, 2, 9, 2, 9, 8, 4, 3, 7, 4, 5, 8, 1, 3, 6, 9, 3, 10, 9, 4, 1, 4, 4, 1, 5, 10, 7, 5, 5, 8, 1, 2, 1, 6, 2, 9, 9, 7, 5, 4, 9, 6, 6, 1, 6, 2, 1, 7, 9, 9, 9, 3, 4, 8, 8, 4, 5, 8, 9, 10, 2, 3, 6, 2, 5, 2, 7, 1, 3, 8, 6, 6, 3, 3, 6, 6, 9, 9, 1, 1, 5, 1, 6, 9, 9, 1, 5, 4, 6, 4, 9, 7, 3, 3, 2, 9, 7, 3, 4, 2, 6, 2, 2, 3, 3, 4, 10, 1, 6, 4, 7, 1, 10, 5, 6, 3, 9, 7, 10, 5, 10, 2, 5, 5, 8, 1, 9, 10, 4, 6, 3, 1, 2, 8, 7, 3, 5, 10, 5, 10, 8, 1, 8, 3, 1, 2, 2, 4, 9, 1, 5, 2, 5, 2, 2, 2, 6, 8, 10, 4, 7, 10, 2, 1, 1, 1, 4, 2, 4, 10, 8, 3, 3, 10, 9, 7, 6, 7, 5, 5, 3, 2, 4, 9, 5, 4, 10, 5, 7, 7, 2, 10, 10, 6, 3, 5, 3, 2, 1, 1, 6, 1, 4, 6, 10, 5, 10, 8, 2, 4, 4, 8, 8, 4, 3, 1, 3, 3, 10, 9, 10, 4, 10, 8, 10, 2, 6, 4, 7, 8, 5, 10, 1, 6, 8, 10, 8, 4, 3, 1, 8, 1, 5, 9, 10, 5, 3, 3, 9, 5, 10, 9, 8, 8, 1, 9, 9, 5, 2, 6, 6, 7, 9, 2, 5, 10, 3, 4, 3, 10, 6, 10, 6, 8, 1, 1, 9, 7, 5, 5, 3, 9, 2, 2, 3, 4, 8, 10, 9, 4, 4, 1, 1, 8, 9, 7, 3, 5, 7, 8, 8, 9, 5, 9, 1, 9, 2, 3, 2, 10, 6, 4, 10, 1, 6, 1, 6, 6, 5, 10, 2, 10, 7, 9, 2, 7, 1, 2, 4, 6, 10, 5, 10, 9, 10, 4, 1, 6, 8, 8, 7, 3, 1, 3, 8, 8, 7, 6, 5, 3, 8, 1, 6, 9, 9, 3, 10, 10, 3, 10, 10, 6, 7, 6, 7, 7, 5, 3, 5, 4, 3, 9, 9, 3, 5, 8, 7, 6, 10, 7, 5, 2, 2, 9, 10, 3, 10, 10, 6, 10, 5, 10, 1, 1, 6, 3, 5, 6, 9, 5, 3, 5, 3, 7, 10, 7, 6, 4, 6, 5, 10, 6, 1, 6, 3, 9, 6, 1, 6, 1, 5, 9, 7, 9, 9, 3, 1, 4, 9, 10, 8, 4, 6, 5, 4, 6, 2, 3, 5, 6, 4, 6, 5, 3, 1, 7, 4, 8, 5, 3, 8, 3, 10, 5, 2, 8, 6, 7, 9, 3, 9, 4, 7, 4, 9, 8, 2, 8, 10, 4, 2, 2, 7, 1, 1, 10, 1, 4, 10, 5, 6, 2, 1, 4, 7, 6, 1, 9, 4, 1, 2, 4, 4, 6, 9, 1, 3, 8, 7, 1, 6, 1, 7, 4, 1, 9, 8, 9, 1, 4, 7, 4, 7, 2, 6, 3, 3, 5, 7, 1, 5, 3, 8, 7, 3, 4, 3, 2, 2, 2, 9, 9, 10, 3, 2, 6, 6, 9, 6, 8, 10, 9, 1, 2, 2, 9, 4, 6, 1, 10, 10, 9, 3, 7, 5, 1, 7, 6, 8, 9, 8, 6, 2, 10, 10, 2, 2, 7, 3, 2, 4, 7, 9, 8, 5, 2, 2, 8, 8, 1, 7, 2, 3, 5, 6, 10, 8, 9, 10, 10, 9, 8, 4, 1, 1, 7, 5, 1, 5, 9, 4, 2, 8, 2, 5, 8, 9, 1, 8, 6, 3, 9, 2, 6, 4, 4, 6, 5, 4, 7, 2, 5, 7, 7, 6, 5, 7, 7, 8, 9, 10, 5, 4, 4, 6, 2, 9, 3, 6, 6, 3, 7, 7, 7, 9, 7, 2, 7, 1, 9, 5, 2, 6, 6, 7, 10, 7, 10, 7, 9, 4, 6, 5, 5, 3, 7, 5, 6, 6, 3, 8, 6, 10, 7, 7, 6, 5, 5, 9, 2, 9, 5, 3, 2, 4, 4, 8, 2, 5, 6, 7, 8, 2, 1, 3, 7, 7, 8, 9, 2, 3, 8, 4, 3, 6, 10, 2, 6, 6, 5, 6, 4, 5, 2, 4, 4, 7, 6, 8, 1, 10, 8, 7, 2, 1, 8, 2, 4, 9, 8, 6, 7, 9, 10, 10, 7, 9, 1, 1, 10, 9, 7, 9, 9, 5, 10, 4, 1, 9, 6, 5, 7, 1, 9, 3, 3, 2, 2, 9, 1, 5, 2, 1, 6, 2, 5, 7, 5, 8, 4, 7, 6, 4, 2, 6, 1, 2, 9, 7, 2, 4, 7, 9, 5, 10, 3, 10, 8, 1, 7, 1, 6, 8, 3, 10, 7, 5, 4, 3, 3, 9, 5, 2, 4, 9, 8, 8, 2, 9, 10, 3, 10, 3, 4, 9, 10, 1, 8, 10, 6, 2, 5, 1, 8, 3, 6, 9, 1, 8, 7, 3, 3, 1, 2, 6, 6, 3, 6, 4, 10, 3, 10, 2, 6, 10, 4, 8, 9, 5, 7, 1, 1, 8, 5, 6, 5, 5, 5, 1, 4, 7, 2, 3, 9, 2, 6, 10, 10, 4, 8, 4, 10, 9, 9, 7, 4, 2, 1, 10, 2, 1, 7, 3, 3, 7, 6, 1, 9, 7, 6, 8, 7, 2, 2, 6, 5, 1, 10, 6, 10, 4, 10, 4, 10, 10, 8, 8, 6, 2, 8, 3, 1, 7, 7, 7, 10, 8, 1, 7, 10, 5, 9, 6, 1, 5, 10, 3, 3, 4, 7, 8, 8, 1, 10, 2, 8, 4, 10, 8, 4, 4, 1, 6, 9, 2, 4, 3, 10, 3, 5, 5, 10, 4, 6, 6, 9, 9, 2, 1, 3, 7, 6, 8, 6, 3, 10, 2, 4, 1, 2, 7, 10, 4, 8, 3, 3, 2, 2, 5, 2, 9, 9, 4, 4, 4, 8, 7, 3, 2, 5, 7, 6, 4, 10, 7, 3, 3, 3, 10, 6, 5, 1, 10, 10, 1, 6, 10, 8, 4, 8, 3, 4, 9, 8, 2, 5, 5, 1, 3, 8, 9, 4, 6, 2, 6, 6, 9, 7, 5, 10, 9, 5, 3, 2, 6, 1, 3, 4, 3, 4, 10, 5, 9, 9, 2, 6, 10, 1, 7, 7, 4, 2, 3, 3, 9, 5, 8, 9, 8, 4, 3, 1, 1, 9, 6, 6, 5, 6, 6, 5, 7, 10, 7, 1, 10, 2, 4, 8, 2, 5, 2, 6, 1, 6, 3, 3, 3, 3, 7, 10, 2, 9, 5, 6, 6, 9, 5, 1, 5, 2, 4, 6, 8, 10, 9, 10, 1, 10, 8, 8, 4, 9, 7, 6, 3, 2, 9, 4, 7, 4, 10, 8, 4, 2, 5, 7, 8, 5, 8, 1, 9, 7, 3, 8, 8, 1, 4, 7, 3, 6, 9, 4, 8, 9, 10, 5, 6, 2, 2, 1, 3, 9, 2, 6, 1, 9, 3, 2, 10, 6, 9, 7, 2, 1, 6, 5, 1, 4, 8, 2, 1, 3, 4, 1, 3, 7, 10, 4, 9, 2, 1, 5, 5, 2, 7, 3, 5, 9, 6, 5, 2, 6, 3, 5, 1, 4, 5, 7, 1, 4, 5, 9, 7, 1, 5, 7, 7, 6, 10, 2, 5, 9, 10, 10, 10, 5, 5, 4, 8, 7, 1, 1, 10, 7, 8, 4, 7, 3, 1, 6, 10, 6, 10, 10, 4, 8, 3, 8, 7, 2, 1, 4, 5, 2, 4, 3, 3, 2, 4, 5, 3, 7, 7, 3, 2, 8, 5, 1, 9, 9, 4, 8, 10, 9, 7, 4, 1, 3, 2, 5, 8, 4, 2, 3, 4, 1, 3, 3, 6, 6, 6, 4, 9, 7, 10, 2, 6, 5, 8, 9, 7, 2, 9, 5, 9, 5, 8, 9, 3, 6, 3, 9, 4, 5, 2, 7, 2, 1, 2, 4, 8, 7, 9, 4, 5, 1, 5, 2, 3, 3, 3, 8, 8, 8, 2, 5, 9, 5, 4, 4, 1, 8, 5, 6, 6, 8, 2, 7, 4, 3, 9, 3, 1, 4, 3, 1, 3, 8, 2, 2, 7, 2, 4, 9, 1, 9, 9, 2, 2, 8, 4, 3, 2, 1, 3, 8, 4, 1, 4, 6, 2, 10, 3, 8, 6, 8, 2, 7, 9, 4, 5, 6, 1, 3, 3, 5, 1, 6, 6, 5, 3, 4, 2, 8, 2, 2, 3, 9, 10, 7, 8, 6, 4, 6, 9, 1, 9, 5, 3, 2, 9, 8, 1, 7, 3, 4, 1, 4, 8, 4, 5, 10, 4, 4, 4, 3, 4, 4, 9, 5, 10, 9, 3, 6, 10, 8, 8, 3, 3, 8, 7, 3, 2, 9, 9, 6, 5, 6, 9, 4, 7, 5, 2, 8, 8, 4, 1, 9, 6, 9, 8, 4, 3, 3, 10, 8, 8, 2, 10, 7, 1, 8, 6, 1, 6, 9, 6, 10, 3, 8, 7, 6, 10, 7, 1, 7, 9, 2, 7, 3, 1, 4, 8, 4, 3, 9, 10, 2, 8, 3, 2, 7, 10, 3, 7, 3, 3, 6, 2, 1, 6, 5, 9, 1, 8, 7, 8, 9, 3, 9, 10, 5, 6, 6, 10, 5, 10, 6, 1, 5, 10, 3, 10, 8, 3, 5, 3, 2, 4, 2, 1, 4, 8, 4, 3, 1, 5, 1, 1, 3, 10, 4, 4, 6, 2, 3, 1, 5, 2, 10, 9, 2, 8, 6, 6, 2, 5, 9, 7, 6, 3, 3, 8, 4, 9, 5, 10, 1, 8, 10, 10, 6, 9, 3, 3, 8, 3, 1, 1, 10, 3, 9, 1, 5, 10, 5, 9, 7, 8, 2, 3, 3, 7, 3, 9, 4, 6, 9, 2, 10, 9, 2, 7, 10, 7, 7, 4, 7, 3, 10, 9, 9, 5, 7, 5, 10, 8, 8, 6, 4, 1, 3, 9, 4, 3, 3, 9, 8, 8, 9, 2, 3, 2, 4, 3, 10, 3, 8, 5, 5, 7, 10, 8, 2, 2, 1, 2, 4, 6, 8, 7, 10, 8, 10, 1, 7, 6, 7, 3, 4, 4, 4, 9, 7, 4, 2, 6, 1, 1, 1, 3, 10, 2, 10, 6, 10, 3, 3, 7, 8, 3, 2, 10, 8, 4, 8, 7, 2, 4, 7, 6, 5, 9, 6, 9, 1, 9, 6, 6, 3, 7, 6, 1, 8, 3, 8, 7, 4, 6, 10, 2, 8, 1, 3, 2, 3, 2, 7, 1, 1, 6, 8, 8, 10, 8, 3, 1, 3, 7, 6, 8, 3, 1, 2, 4, 8, 2, 4, 1, 9, 1, 6, 2, 9, 7, 5, 4, 4, 5, 9, 6, 2, 2, 6, 3, 10, 8, 2, 10, 8, 10, 2, 4, 1, 1, 7, 3, 4, 1, 3, 1, 6, 10, 7, 8, 8, 3, 3, 7, 1, 6, 8, 7, 3, 4, 9, 9, 3, 5, 2, 2, 5, 7, 2, 5, 8, 7, 3, 3, 10, 3, 4, 3, 8, 9, 5, 2, 4, 10, 2, 10, 10, 1, 4, 3, 2, 4, 1, 5, 7, 7, 2, 3, 9, 7, 10, 4, 8, 6, 4, 5, 9, 1, 7, 10, 5, 6, 7, 10, 8, 1, 7, 10, 3, 1, 2, 1, 9, 6, 10, 3, 9, 4, 9, 9, 2, 3, 1, 10, 2, 4, 10, 1, 6, 1, 4, 9, 1, 2, 7, 7, 10, 8, 4, 2, 7, 3, 7, 1, 10, 2, 9, 8, 3, 7, 7, 9, 7, 10, 1, 7, 10, 3, 1, 4, 4, 8, 7, 3, 9, 10, 9, 2, 6, 5, 4, 1, 5, 2, 5, 4, 9, 10, 10, 9, 6, 7, 5, 8, 1, 7, 3, 8, 3, 10, 10, 9, 7, 7, 3, 1, 5, 8, 8, 8, 1, 1, 5, 4, 10, 10, 8, 10, 2, 7, 4, 1, 6, 4, 3, 3, 9, 6, 7, 6, 4, 10, 2, 3, 8, 9, 5, 3, 6, 8, 1, 10, 5, 2, 8, 8, 7, 4, 2, 8, 3, 6, 2, 3, 4, 6, 10, 10, 9, 2, 7, 2, 5, 2, 3, 7, 8, 3, 3, 6, 4, 9, 9, 9, 1, 1, 10, 5, 3, 6, 5, 6, 10, 8, 7, 4, 9, 9, 9, 2, 1, 6, 1, 7, 5, 9, 1, 4, 6, 6, 8, 4, 9, 6, 5, 5, 9, 4, 1, 4, 10, 2, 10, 7, 8, 4, 8, 7, 3, 2, 3, 3, 4, 5, 6, 1, 1, 5, 10, 9, 2, 6, 4, 1, 2, 6, 8, 9, 6, 6, 2, 6, 7, 7, 3, 7, 6, 5, 6, 9, 3, 4, 3, 10, 9, 1, 4, 3, 2, 6, 5, 5, 10, 10, 10, 6, 1, 4, 7, 1, 6, 2, 1, 7, 6, 8, 4, 7, 7, 7, 8, 10, 8, 5, 8, 9, 9, 1, 10, 5, 1, 9, 3, 10, 2, 1, 4, 9, 1, 2, 8, 1, 9, 1, 6, 8, 10, 8, 3, 2, 7, 4, 8, 5, 8, 8, 3, 5, 10, 6, 1, 5, 6, 7, 6, 4, 5, 4, 6, 4, 4, 5, 10, 10, 4, 5, 1, 2, 4, 8, 4, 10, 9, 4, 3, 8, 5, 6, 6, 8, 10, 1, 10, 6, 6, 7, 7, 2, 3, 1, 10, 5, 10, 3, 4, 9, 1, 8, 3, 7, 4, 2, 10, 2, 6, 3, 8, 7, 9, 9, 8, 10, 4, 4, 6, 3, 3, 5, 1, 10, 8, 3, 7, 6, 10, 1, 9, 4, 4, 10, 4, 4, 1, 2, 1, 9, 9, 7, 10, 5, 1, 5, 4, 10, 8, 6, 7, 7, 6, 7, 2, 5, 3, 1, 3, 1, 4, 3, 9, 5, 8, 10, 7, 1, 5, 1, 8, 3, 10, 5, 6, 4, 1, 6, 4, 1, 8, 4, 2, 2, 2, 7, 2, 6, 9, 8, 10, 8, 8, 1, 4, 2, 1, 4, 8, 2, 6, 8, 5, 6, 7, 9, 5, 8, 4, 8, 8, 6, 4, 8, 9, 9, 4, 9, 4, 5, 10, 8, 6, 1, 1, 8, 4, 8, 5, 10, 1, 1, 8, 1, 3, 8, 5, 7, 5, 4, 5, 10, 5, 1, 8, 4, 7, 9, 8, 3, 2, 2, 9, 1, 5, 1, 6, 1, 4, 6, 2, 8, 4, 7, 1, 8, 3, 2, 6, 10, 8, 10, 9, 3, 8, 4, 9, 10, 8, 2, 4, 3, 7, 8, 6, 10, 7, 5, 3, 4, 6, 9, 3, 9, 3, 6, 6, 1, 6, 5, 6, 3, 2, 8, 5, 8, 7, 9, 1, 6, 7, 8, 2, 5, 10, 7, 3, 10, 2, 3, 10, 4, 6, 10, 4, 7, 2, 2, 10, 8, 7, 4, 5, 6, 8, 1, 4, 5, 3, 9, 3, 3, 7, 7, 6, 8, 2, 5, 5, 10, 10, 5, 3, 2, 4, 3, 1, 8, 6, 8, 3, 7, 9, 9, 10, 10, 3, 2, 2, 9, 8, 1, 9, 3, 7, 7, 4, 4, 1, 2, 1, 2, 9, 7, 4, 9, 9, 4, 10, 8, 7, 10, 4, 6, 10, 9, 7, 4, 1, 8, 7, 5, 4, 5, 5, 6, 2, 8, 6, 2, 8, 2, 6, 3, 8, 1, 9, 3, 3, 10, 1, 4, 9, 9, 6, 4, 9, 7, 6, 3, 7, 2, 6, 4, 10, 1, 3, 4, 2, 1, 3, 2, 10, 6, 9, 6, 3, 5, 4, 4, 5, 1, 3, 9, 7, 9, 1, 3, 9, 6, 6, 9, 8, 2, 7, 4, 6, 4, 6, 1, 1, 6, 6, 9, 7, 7, 6, 6, 5, 2, 6, 9, 7, 9, 1, 10, 4, 1, 5, 7, 1, 7, 9, 3, 5, 1, 3, 4, 2, 9, 10, 4, 6, 9, 10, 4, 7, 7, 3, 7, 9, 10, 8, 10, 8, 4, 7, 8, 9, 3, 8, 2, 2, 3, 5, 6, 8, 10, 7, 4, 8, 6, 9, 1, 9, 8, 10, 6, 9, 3, 6, 10, 3, 1, 10, 3, 10, 5, 6, 1, 8, 2, 1, 8, 1, 7, 3, 3, 5, 9, 10, 8, 5, 10, 8, 1, 8, 2, 4, 1, 6, 9, 1, 8, 3, 3, 7, 9, 2, 1, 9, 2, 4, 2, 8, 4, 7, 5, 3, 10, 5, 8, 6, 1, 1, 9, 5, 2, 8, 9, 3, 2, 8, 1, 7, 2, 5, 5, 6, 4, 6, 4, 1, 8, 8, 2, 5, 7, 5, 10, 4, 6, 6, 5, 6, 5, 4, 8, 7, 10, 7, 6, 8, 8, 10, 9, 5, 6, 8, 10, 5, 4, 5, 3, 1, 1, 5, 1, 5, 6, 1, 4, 5, 4, 1, 5, 1, 7, 8, 10, 4, 10, 3, 7, 2, 5, 2, 7, 3, 5, 2, 5, 1, 4, 6, 10, 9, 6, 6, 4, 3, 7, 5, 4, 6, 5, 10, 6, 3, 3, 1, 9, 9, 4, 8, 9, 3, 9, 3, 1, 7, 2, 4, 5, 9, 2, 5, 8, 4, 9, 7, 1, 8, 1, 5, 3, 5, 3, 9, 2, 3, 2, 5, 3, 9, 10, 4, 2, 1, 7, 5, 8, 3, 4, 3, 9, 8, 7, 4, 9, 9, 10, 9, 10, 8, 9, 1, 4, 1, 9, 10, 10, 4, 5, 6, 8, 1, 5, 8, 2, 3, 3, 4, 2, 2, 3, 6, 1, 7, 1, 1, 4, 10, 7, 2, 8, 4, 2, 7, 1, 7, 5, 2, 4, 6, 3, 5, 9, 9, 2, 10, 9, 2, 8, 7, 2, 5, 10, 1, 5, 2, 8, 3, 8, 8, 5, 7, 5, 8, 7, 5, 2, 2, 5, 6, 9, 2, 9, 3, 2, 4, 8, 6, 3, 5, 7, 1, 5, 7, 9, 10, 7, 7, 1, 1, 1, 6, 7, 7, 5, 2, 9, 10, 4, 4, 8, 2, 4, 9, 9, 4, 9, 6, 2, 10, 2, 10, 7, 9, 4, 2, 3, 10, 10, 2, 2, 4, 7, 5, 2, 5, 8, 2, 4, 5, 2, 3, 8, 7, 2, 5, 2, 7, 9, 4, 10, 8, 8, 9, 10, 4, 6, 10, 8, 6, 2, 4, 7, 2, 5, 2, 3, 1, 8, 9, 1, 3, 3, 9, 5, 10, 7, 2, 3, 2, 3, 10, 8, 6, 9, 5, 1, 2, 1, 7, 9, 6, 7, 3, 3, 5, 6, 6, 7, 7, 8, 1, 8, 2, 3, 4, 9, 5, 8, 5, 5, 4, 1, 9, 7, 2, 4, 8, 6, 5, 2, 3, 7, 9, 9, 9, 6, 5, 10, 2, 4, 5, 6, 10, 5, 2, 8, 9, 8, 4, 1, 3, 10, 10, 7, 7, 1, 9, 7, 3, 1, 3, 7, 5, 5, 7, 5, 5, 10, 3, 6, 5, 4, 4, 3, 5, 9, 5, 10, 10, 6, 9, 4, 3, 7, 6, 5, 7, 4, 9, 7, 6, 10, 9, 8, 7, 2, 8, 3, 6, 5, 10, 4, 1, 5, 3, 2, 4, 8, 5, 5, 9, 3, 9, 6, 1, 9, 9, 7, 7, 2, 10, 2, 5, 6, 10, 6, 2, 5, 5, 8, 7, 9, 3, 1, 3, 7, 2, 5, 5, 6, 9, 2, 3, 1, 5, 10, 4, 2, 8, 3, 3, 1, 6, 10, 4, 2, 7, 3, 2, 5, 2, 10, 8, 1, 3, 2, 4, 8, 4, 10, 4, 1, 6, 8, 10, 1, 1, 10, 10, 1, 6, 7, 9, 9, 5, 10, 8, 4, 10, 3, 10, 2, 1, 9, 7, 3, 3, 7, 5, 10, 6, 10, 9, 8, 2, 2, 6, 9, 6, 5, 5, 10, 8, 2, 10, 5, 6, 7, 6, 4, 8, 8, 9, 7, 8, 8, 8, 10, 5, 3, 1, 8, 9, 3, 2, 2, 8, 6, 5, 9, 7, 8, 2, 7, 1, 4, 6, 2, 8, 6, 8, 5, 10, 9, 6, 7, 1, 6, 7, 6, 3, 4, 5, 8, 7, 3, 1, 7, 7, 3, 6, 7, 9, 6, 6, 7, 7, 2, 10, 7, 5, 9, 2, 9, 7, 9, 6, 1, 1, 8, 1, 9, 3, 6, 4, 10, 10, 2, 6, 7, 4, 10, 6, 8, 1, 3, 8, 6, 8, 5, 4, 2, 9, 8, 4, 10, 2, 5, 1, 10, 6, 6, 1, 1, 4, 8, 3, 7, 10, 4, 8, 8, 9, 1, 4, 10, 3, 9, 10, 10, 1, 9, 6, 5, 9, 3, 8, 5, 8, 10, 4, 9, 10, 1, 2, 1, 7, 10, 7, 7, 3, 2, 4, 7, 8, 6, 8, 3, 3, 1, 1, 3, 7, 5, 8, 4, 9, 8, 10, 1, 1, 7, 6, 5, 5, 3, 2, 1, 2, 9, 10, 8, 1, 6, 4, 2, 6, 5, 3, 6, 10, 2, 1, 2, 2, 6, 1, 2, 8, 6, 1, 3, 9, 4, 7, 1, 10, 3, 10, 4, 2, 10, 8, 8, 1, 1, 4, 5, 8, 2, 5, 8, 4, 5, 6, 7, 8, 4, 6, 10, 8, 9, 8, 5, 8, 6, 2, 1, 9, 2, 9, 2, 7, 10, 3, 1, 1, 10, 4, 7, 4, 9, 8, 9, 6, 3, 6, 4, 6, 5, 3, 6, 8, 6, 6, 4, 2, 6, 9, 7, 4, 5, 10, 2, 2, 8, 7, 2, 2, 7, 6, 9, 6, 9, 7, 6, 10, 3, 1, 3, 10, 1, 9, 5, 1, 7, 2, 2, 10, 3, 3, 9, 1, 7, 8, 2, 1, 7, 9, 2, 6, 5, 1, 8, 7, 7, 10, 9, 5, 10, 1, 8, 10, 10, 7, 7, 7, 7, 7, 6, 10, 10, 2, 4, 7, 4, 1, 2, 10, 10, 8, 3, 6, 3, 3, 10, 5, 2, 7, 9, 7, 6, 4, 10, 2, 2, 10, 3, 10, 10, 4, 2, 8, 5, 9, 8, 8, 9, 8, 8, 10, 7, 8, 10, 6, 8, 7, 4, 7, 3, 5, 7, 2, 9, 4, 8, 4, 6, 10, 2, 2, 6, 5, 1, 2, 8, 8, 4, 7, 10, 6, 1, 3, 1, 7, 8, 6, 9, 9, 6, 5, 7, 7, 1, 8, 7, 4, 4, 10, 6, 1, 2, 5, 1, 9, 4, 10, 4, 2, 7, 4, 10, 4, 2, 7, 2, 6, 3, 6, 6, 9, 2, 3, 1, 10, 9, 2, 2, 7, 5, 9, 2, 8, 9, 5, 6, 3, 10, 7, 9, 9, 7, 10, 2, 6, 3, 5, 2, 9, 8, 6, 5, 1, 9, 5, 7, 6, 8, 2, 8, 8, 4, 6, 8, 4, 4, 7, 10, 10, 10, 8, 6, 3, 6, 4, 1, 1, 6, 5, 6, 3, 6, 10, 1, 10, 5, 3, 4, 9, 6, 3, 2, 9, 1, 5, 3, 5, 5, 1, 8, 7, 5, 8, 2, 6, 5, 7, 1, 8, 6, 4, 3, 9, 4, 7, 5, 2, 6, 6, 10, 7, 6, 4, 9, 7, 5, 7, 4, 2, 3, 7, 2, 3, 4, 7, 5, 4, 3, 6, 9, 1, 6, 8, 7, 6, 6, 9, 3, 8, 3, 5, 2, 9, 10, 5, 3, 1, 3, 4, 2, 6, 2, 2, 1, 8, 8, 9, 1, 3, 1, 10, 8, 5, 6, 10, 6, 6, 9, 10, 7, 2, 6, 10, 8, 5, 7, 4, 5, 4, 3, 10, 5, 8, 1, 9, 1, 2, 8, 3, 9, 4, 4, 1, 2, 4, 10, 10, 1, 9, 4, 2, 5, 5, 8, 7, 10, 8, 6, 6, 1, 7, 6, 9, 9, 4, 4, 6, 10, 8, 2, 8, 2, 2, 6, 2, 1, 6, 4, 8, 6, 5, 7, 4, 1, 6, 8, 5, 8, 1, 10, 10, 8, 7, 10, 4, 8, 10, 4, 1, 6, 6, 9, 4, 8, 8, 5, 2, 7, 3, 1, 8, 9, 8, 5, 10, 3, 8, 2, 8, 10, 2, 6, 8, 9, 3, 7, 5, 6, 8, 6, 9, 5, 8, 7, 6, 9, 7, 9, 4, 5, 4, 10, 2, 6, 5, 6, 9, 7, 1, 8, 3, 5, 2, 10, 10, 7, 3, 3, 10, 4, 8, 9, 8, 7, 3, 8, 4, 7, 1, 7, 10, 1, 8, 8, 2, 6, 3, 7, 10, 6, 4, 8, 8, 1, 5, 3, 3, 8, 1, 7, 4, 7, 10, 9, 7, 3, 8, 7, 6, 7, 9, 2, 4, 8, 5, 2, 9, 7, 1, 2, 10, 10, 8, 10, 8, 1, 7, 6, 6, 6, 10, 6, 5, 4, 8, 3, 7, 4, 6, 9, 8, 7, 3, 1, 3, 1, 5, 6, 9, 2, 6, 1, 4, 6, 10, 9, 5, 8, 2, 3, 1, 8, 7, 4, 6, 8, 5, 8, 10, 7, 1, 3, 4, 7, 5, 3, 7, 10, 5, 2, 5, 5, 2, 6, 5, 2, 8, 2, 1, 7, 10, 1, 4, 1, 10, 2, 6, 5, 6, 2, 2, 4, 8, 4, 1, 2, 7, 4, 6, 6, 4, 7, 7, 5, 1, 2, 2, 9, 5, 8, 5, 4, 3, 5, 1, 3, 1, 2, 3, 1, 4, 9, 4, 8, 6, 7, 1, 1, 2, 8, 4, 3, 4, 6, 8, 6, 1, 5, 3, 6, 8, 1, 4, 2, 9, 3, 3, 9, 7, 8, 1, 10, 2, 4, 1, 3, 4, 10, 3, 10, 7, 10, 10, 6, 6, 1, 9, 3, 7, 5, 8, 5, 6, 2, 6, 6, 5, 5, 3, 4, 3, 4, 6, 4, 6, 5, 5, 6, 10, 1, 4, 3, 10, 7, 8, 6, 10, 4, 9, 3, 10, 8, 3, 4, 8, 10, 7, 5, 8, 7, 4, 1, 5, 8, 4, 7, 9, 2, 7, 10, 4, 3, 5, 3, 8, 3, 2, 8, 7, 6, 8, 8, 3, 5, 2, 5, 9, 9, 2, 2, 4, 9, 1, 9, 5, 3, 9, 4, 3, 3, 1, 7, 9, 7, 5, 6, 8, 5, 8, 1, 1, 4, 1, 4, 5, 8, 9, 9, 3, 10, 3, 6, 10, 6, 5, 10, 10, 10, 9, 7, 6, 3, 8, 9, 3, 3, 2, 2, 10, 5, 7, 7, 9, 10, 2, 4, 5, 8, 10, 6, 10, 3, 8, 1, 9, 3, 2, 2, 4, 4, 3, 4, 9, 10, 7, 8, 4, 10, 6, 1, 3, 9, 9, 2, 5, 4, 8, 5, 7, 2, 4, 9, 5, 5, 2, 4, 4, 3, 1, 2, 3, 2, 7, 7, 8, 5, 7, 10, 7, 10, 10, 3, 4, 4, 1, 3, 2, 6, 1, 7, 7, 9, 8, 3, 8, 5, 2, 4, 3, 6, 1, 3, 4, 2, 10, 9, 5, 2, 4, 6, 8, 5, 5, 9, 2, 6, 2, 9, 7, 5, 6, 1, 7, 9, 4, 6, 9, 6, 6, 6, 7, 9, 5, 9, 9, 7, 2, 10, 8, 10, 1, 1, 4, 10, 2, 3, 9, 10, 4, 1, 9, 4, 8, 2, 1, 9, 8, 7, 6, 9, 7, 9, 8, 3, 8, 8, 3, 3, 7, 5, 10, 3, 5, 8, 5, 3, 10, 10, 3, 8, 9, 7, 6, 9, 8, 6, 7, 6, 1, 1, 6, 5, 1, 8, 7, 1, 5, 8, 6, 2, 4, 10, 6, 2, 7, 3, 5, 9, 4, 3, 8, 7, 2, 7, 8, 10, 6, 9, 10, 9, 5, 10, 4, 3, 2, 8, 2, 3, 10, 4, 3, 9, 9, 9, 3, 5, 2, 2, 6, 6, 2, 9, 4, 5, 7, 3, 9, 9, 5, 1, 2, 10, 2, 5, 9, 2, 9, 10, 1, 5, 8, 7, 6, 8, 6, 9, 9, 5, 7, 4, 9, 9, 10, 1, 10, 7, 10, 6, 8, 5, 7, 1, 10, 1, 4, 2, 3, 1, 6, 2, 7, 10, 3, 3, 1, 5, 3, 5, 9, 7, 10, 8, 10, 10, 5, 3, 4, 5, 4, 2, 2, 6, 2, 2, 8, 1, 3, 9, 2, 1, 6, 9, 4, 3, 4, 2, 2, 5, 5, 8, 6, 3, 10, 8, 2, 10, 10, 10, 3, 9, 7, 1, 4, 8, 7, 5, 6, 1, 1, 4, 5, 3, 6, 6, 3, 10, 8, 7, 3, 3, 3, 5, 5, 6, 5, 6, 10, 1, 5, 3, 9, 5, 9, 10, 9, 7, 1, 2, 1, 7, 10, 7, 6, 7, 6, 4, 10, 9, 4, 6, 1, 10, 3, 9, 4, 2, 1, 7, 4, 1, 7, 6, 3, 4, 2, 4, 8, 4, 6, 9, 7, 8, 3, 1, 1, 6, 1, 4, 3, 9, 1, 2, 3, 1, 10, 7, 10, 7, 4, 9, 10, 6, 9, 4, 1, 4, 9, 8, 10, 6, 4, 5, 9, 3, 8, 8, 3, 10, 6, 8, 1, 2, 8, 9, 5, 7, 10, 9, 9, 9, 7, 3, 7, 1, 9, 9, 5, 4, 7, 9, 3, 6, 8, 4, 1, 1, 5, 9, 7, 2, 2, 9, 8, 9, 1, 6, 6, 5, 7, 2, 3, 4, 2, 3, 8, 10, 6, 4, 4, 10, 2, 2, 4, 4, 5, 5, 6, 7, 2, 1, 6, 5, 1, 5, 4, 5, 10, 7, 6, 4, 2, 3, 8, 10, 4, 9, 4, 7, 9, 1, 7, 8, 9, 10, 4, 10, 5, 8, 6, 1, 1, 1, 7, 9, 8, 5, 8, 8, 3, 7, 3, 3, 8, 8, 6, 10, 2, 3, 7, 1, 5, 4, 3, 10, 4, 3, 5, 10, 2, 1, 7, 2, 6, 5, 1, 4, 10, 7, 5, 7, 7, 7, 5, 9, 6, 7, 8, 5, 6, 4, 7, 10, 6, 9, 9, 4, 6, 6, 5, 2, 3, 7, 10, 8, 5, 1, 1, 8, 2, 4, 3, 6, 7, 7, 2, 9, 9, 5, 5, 7, 10, 7, 2, 8, 3, 4, 1, 10, 6, 1, 4, 4, 2, 6, 8, 1, 9, 3, 5, 4, 6, 7, 8, 1, 7, 5, 3, 3, 6, 8, 1, 5, 5, 6, 7, 5, 1, 5, 5, 7, 9, 10, 7, 9, 1, 1, 10, 2, 1, 8, 9, 2, 8, 4, 2, 10, 3, 5, 8, 2, 5, 1, 8, 8, 1, 4, 9, 8, 5, 1, 8, 10, 3, 9, 5, 5, 9, 9, 5, 5, 2, 10, 2, 1, 10, 2, 6, 1, 8, 4, 9, 9, 2, 1, 9, 8, 7, 3, 5, 9, 5, 2, 3, 3, 2, 6, 10, 8, 4, 9, 10, 5, 9, 4, 9, 5, 9, 4, 5, 3, 8, 7, 6, 7, 7, 5, 4, 8, 6, 4, 2, 1, 4, 8, 6, 8, 4, 1, 9, 4, 2, 7, 8, 2, 3, 3, 8, 9, 3, 3, 2, 7, 7, 2, 4, 6, 9, 1, 7, 8, 3, 1, 10, 1, 8, 9, 4, 5, 9, 2, 2, 4, 1, 3, 10, 3, 5, 9, 1, 3, 3, 9, 4, 3, 5, 6, 7, 10, 9, 10, 3, 4, 8, 6, 5, 1, 3, 10, 3, 10, 3, 3, 1, 3, 1, 2, 4, 4, 10, 1, 2, 10, 6, 10, 3, 1, 9, 5, 1, 2, 9, 7, 3, 8, 1, 5, 3, 7, 10, 7, 8, 9, 10, 10, 1, 10, 8, 3, 9, 5, 7, 1, 9, 10, 8, 6, 7, 2, 2, 5, 4, 3, 6, 4, 5, 4, 9, 1, 1, 9, 2, 10, 6, 9, 1, 5, 5, 7, 8, 3, 3, 10, 8, 9, 10, 4, 9, 8, 3, 6, 9, 6, 3, 10, 5, 9, 1, 7, 10, 10, 5, 1, 6, 7, 8, 10, 10, 7, 4, 10, 8, 9, 2, 3, 8, 7, 4, 1, 8, 8, 2, 5, 7, 3, 3, 6, 2, 2, 9, 7, 8, 8, 5, 3, 7, 4, 9, 9, 2, 6, 6, 7, 7, 1, 5, 4, 6, 9, 3, 6, 9, 10, 7, 10, 2, 9, 10, 8, 10, 6, 8, 2, 8, 7, 3, 1, 4, 4, 5, 5, 5, 1, 3, 1, 1, 1, 10, 10, 7, 9, 7, 6, 8, 8, 9, 6, 7, 2, 5, 6, 7, 7, 1, 4, 10, 4, 7, 8, 8, 10, 7, 7, 9, 10, 7, 8, 4, 7, 8, 6, 1, 7, 3, 3, 3, 1, 6, 2, 7, 5, 2, 8, 3, 3, 1, 6, 2, 1, 6, 2, 1, 9, 8, 10, 4, 10, 3, 5, 4, 4, 8, 10, 4, 2, 8, 9, 4, 7, 10, 5, 7, 6, 1, 8, 2, 4, 8, 4, 3, 10, 10, 6, 9, 3, 9, 5, 7, 6, 6, 1, 9, 5, 1, 9, 2, 5, 2, 3, 2, 2, 2, 9, 6, 4, 9, 3, 6, 6, 6, 9, 5, 3, 7, 9, 9, 10, 8, 5, 6, 8, 1, 10, 2, 7, 4, 1, 1, 6, 4, 6, 1, 4, 3, 9, 4, 3, 2, 8, 3, 7, 3, 10, 9, 3, 2, 7, 6, 3, 1, 1, 3, 1, 10, 3, 9, 3, 2, 6, 10, 5, 7, 10, 2, 7, 3, 8, 4, 8, 6, 2, 9, 6, 10, 6, 10, 4, 6, 7, 2, 4, 7, 10, 2, 3, 2, 9, 6, 1, 5, 8, 6, 5, 4, 1, 6, 7, 8, 8, 5, 2, 5, 7, 8, 9, 8, 2, 8, 8, 6, 7, 3, 9, 5, 8, 4, 5, 3, 3, 7, 1, 1, 9, 7, 9, 9, 10, 7, 8, 4, 6, 10, 3, 8, 5, 6, 9, 8, 3, 8, 7, 6, 7, 4, 5, 7, 10, 7, 2, 7, 2, 8, 9, 7, 7, 6, 3, 8, 1, 8, 8, 9, 9, 6, 9, 8, 4, 5, 6, 6, 4, 4, 2, 5, 5, 9, 4, 10, 10, 5, 3, 9, 7, 8, 4, 1, 7, 9, 2, 2, 7, 9, 9, 5, 1, 9, 8, 8, 3, 5, 3, 7, 5, 4, 5, 2, 6, 1, 8, 6, 8, 6, 7, 5, 8, 8, 9, 1, 1, 3, 1, 6, 4, 8, 6, 2, 4, 6, 5, 8, 2, 3, 4, 9, 3, 1, 9, 6, 3, 4, 10, 1, 10, 6, 3, 9, 3, 10, 10, 5, 2, 5, 9, 5, 7, 3, 2, 4, 6, 4, 7, 2, 8, 10, 9, 1, 10, 1, 8, 9, 8, 6, 1, 6, 1, 5, 3, 10, 8, 1, 6, 10, 3, 2, 7, 2, 10, 4, 8, 9, 9, 8, 3, 6, 5, 1, 7, 1, 1, 3, 9, 1, 7, 7, 8, 6, 10, 3, 2, 6, 1, 6, 4, 8, 8, 6, 10, 8, 10, 2, 10, 2, 7, 6, 8, 7, 3, 9, 3, 6, 9, 10, 2, 4, 4, 1, 8, 9, 3, 8, 10, 4, 3, 4, 8, 1, 4, 3, 5, 2, 7, 8, 5, 4, 3, 9, 8, 9, 6, 6, 7, 5, 5, 3, 5, 6, 4, 4, 10, 6, 2, 6, 3, 6, 2, 7, 9, 5, 4, 5, 10, 6, 6, 10, 6, 5, 3, 10, 9, 1, 9, 10, 4, 2, 9, 4, 10, 5, 5, 1, 7, 10, 10, 7, 4, 8, 10, 7, 5, 2, 7, 5, 9, 5, 8, 9, 8, 7, 1, 5, 2, 6, 7, 9, 4, 1, 2, 7, 3, 10, 10, 3, 8, 3, 4, 9, 10, 3, 3, 10, 3, 9, 8, 3, 10, 5, 1, 10, 5, 7, 7, 9, 5, 3, 1, 10, 2, 6, 2, 1, 5, 6, 9, 5, 1, 10, 5, 4, 10, 10, 2, 7, 8, 6, 5, 4, 2, 4, 3, 1, 3, 8, 8, 7, 4, 4, 6, 1, 2, 2, 3, 3, 7, 7, 10, 6, 8, 10, 9, 9, 6, 6, 8, 7, 10, 8, 6, 6, 9, 1, 7, 2, 8, 9, 9, 1, 3, 10, 10, 10, 8, 2, 8, 4, 2, 7, 8, 6, 3, 2, 5, 5, 2, 4, 3, 5, 6, 2, 3, 5, 6, 6, 2, 4, 3, 7, 9, 4, 9, 6, 10, 8, 10, 8, 10, 1, 8, 3, 1, 2, 6, 4, 8, 10, 2, 4, 2, 9, 3, 1, 7, 2, 1, 7, 8, 4, 7, 3, 7, 5, 7, 6, 7, 8, 1, 9, 9, 6, 9, 4, 10, 5, 5, 7, 3, 10, 4, 2, 8, 8, 2, 10, 9, 10, 8, 10, 7, 1, 3, 3, 6, 10, 9, 9, 6, 5, 6, 8, 4, 6, 7, 6, 5, 2, 5, 6, 7, 5, 8, 5, 3, 3, 6, 10, 3, 10, 7, 7, 8, 3, 5, 6, 10, 1, 9, 8, 6, 7, 2, 9, 8, 5, 3, 4, 9, 6, 8, 3, 2, 2, 2, 6, 4, 1, 8, 5, 3, 5, 10, 6, 8, 4, 8, 2, 9, 4, 5, 4, 8, 8, 7, 10, 9, 6, 1, 1, 7, 7, 5, 1, 7, 7, 8, 8, 6, 1, 7, 9, 9, 4, 10, 7, 2, 3, 2, 9, 7, 2, 3, 4, 3, 3, 2, 10, 7, 1, 1, 4, 8, 7, 6, 10, 8, 4, 10, 7, 6, 2, 5, 10, 9, 6, 8, 9, 10, 10, 10, 1, 10, 7, 8, 6, 1, 3, 9, 3, 6, 3, 2, 6, 3, 7, 7, 7, 3, 9, 1, 3, 5, 10, 6, 4, 5, 1, 10, 6, 6, 5, 5, 4, 9, 2, 6, 5, 5, 2, 7, 9, 6, 2, 4, 7, 8, 7, 1, 6, 1, 9, 8, 4, 3, 5, 1, 3, 8, 2, 5, 5, 9, 2, 2, 2, 9, 6, 5, 3, 5, 6, 5, 6, 3, 6, 3, 3, 4, 5, 5, 1, 4, 7, 4, 7, 10, 7, 4, 4, 10, 7, 3, 5, 2, 1, 3, 1, 8, 4, 3, 5, 7, 4, 5, 9, 8, 10, 7, 4, 9, 6, 3, 6, 9, 4, 4, 9, 3, 8, 10, 8, 6, 7, 4, 2, 3, 2, 7, 9, 3, 8, 1, 8, 7, 9, 6, 4, 5, 5, 4, 8, 4, 3, 4, 10, 4, 2, 10, 5, 9, 9, 3, 7, 7, 3, 10, 5, 5, 8, 10, 10, 2, 4, 8, 1, 5, 9, 10, 1, 4, 9, 2, 3, 6, 7, 9, 1, 5, 1, 1, 9, 10, 4, 2, 8, 10, 8, 6, 8, 7, 9, 1, 5, 3, 8, 5, 2, 3, 9, 7, 7, 2, 8, 2, 4, 1, 9, 4, 7, 8, 9, 3, 5, 9, 1, 9, 9, 8, 1, 10, 10, 6, 2, 1, 1, 6, 10, 8, 2, 7, 4, 6, 7, 9, 3, 3, 4, 10, 1, 8, 2, 10, 1, 7, 7, 8, 5, 9, 1, 7, 5, 7, 3, 9, 7, 8, 6, 6, 9, 3, 1, 6, 6, 5, 6, 9, 2, 8, 10, 10, 5, 7, 10, 7, 2, 2, 2, 8, 1, 4, 10, 8, 6, 1, 5, 4, 10, 3, 4, 7, 2, 10, 9, 7, 5, 1, 10, 8, 5, 3, 5, 3, 2, 8, 7, 8, 7, 5, 9, 5, 2, 1, 10, 8, 8, 1, 10, 6, 9, 8, 7, 7, 5, 5, 3, 2, 10, 4, 5, 7, 8, 6, 8, 9, 4, 10, 7, 8, 4, 10, 10, 8, 3, 5, 9, 8, 1, 10, 7, 1, 10, 2, 9, 4, 8, 1, 7, 1, 1, 6, 6, 3, 10, 6, 10, 5, 8, 6, 2, 6, 8, 4, 3, 7, 1, 2, 8, 4, 9, 1, 10, 2, 7, 4, 6, 1, 9, 10, 1, 7, 8, 1, 5, 9, 8, 10, 1, 5, 8, 7, 1, 1, 10, 6, 7, 2, 10, 10, 8, 6, 6, 10, 9, 1, 2, 1, 4, 9, 8, 9, 7, 8, 2, 2, 6, 9, 6, 1, 9, 7, 10, 4, 8, 3, 4, 9, 6, 7, 3, 9, 6, 6, 4, 1, 8, 9, 4, 9, 9, 8, 4, 6, 7, 7, 4, 8, 3, 5, 9, 9, 10, 8, 6, 1, 10, 7, 2, 3, 7, 4, 10, 4, 6, 3, 8, 3, 3, 8, 7, 8, 7, 5, 10, 1, 9, 10, 7, 2, 1, 7, 1, 8, 10, 5, 7, 4, 9, 6, 2, 9, 3, 9, 1, 3, 2, 5, 9, 4, 5, 9, 2, 7, 5, 1, 5, 7, 7, 6, 8, 8, 6, 9, 7, 8, 4, 3, 1, 2, 9, 10, 5, 3, 9, 8, 8, 1, 6, 4, 10, 1, 4, 2, 10, 5, 5, 3, 1, 7, 1, 1, 2, 9, 2, 2, 5, 10, 1, 5, 7, 10, 8, 1, 4, 2, 1, 9, 3, 6, 4, 6, 7, 3, 6, 4, 1, 1, 5, 4, 9, 1, 7, 1, 5, 1, 7, 8, 4, 4, 6, 5, 2, 1, 6, 2, 4, 3, 4, 7, 10, 9, 3, 3, 2, 4, 5, 5, 6, 8, 3, 6, 8, 8, 9, 3, 4, 3, 1, 3, 3, 7, 8, 2, 7, 1, 2, 8, 1, 10, 6, 9, 7, 10, 4, 7, 4, 6, 3, 1, 3, 7, 9, 3, 4, 6, 9, 1, 9, 10, 8, 6, 2, 3, 4, 7, 6, 10, 4, 8, 8, 2, 5, 10, 3, 1, 6, 4, 9, 5, 6, 3, 7, 6, 9, 10, 6, 4, 9, 3, 3, 7, 6, 7, 5, 4, 5, 6, 7, 9, 10, 9, 2, 8, 1, 6, 8, 5, 3, 3, 7, 7, 2, 1, 7, 9, 10, 9, 4, 6, 7, 4, 6, 7, 6, 1, 4, 10, 8, 7, 1, 5, 8, 5, 7, 7, 10, 6, 9, 4, 9, 6, 3, 4, 9, 9, 6, 3, 8, 7, 4, 6, 6, 8, 2, 3, 2, 7, 2, 1, 2, 4, 5, 5, 3, 5, 6, 7, 7, 10, 2, 4, 5, 4, 10, 6, 5, 6, 3, 5, 10, 6, 1, 10, 7, 9, 1, 6, 2, 6, 10, 1, 4, 6, 6, 5, 10, 7, 1, 10, 2, 8, 5, 8, 7, 3, 2, 7, 9, 7, 1, 9, 5, 1, 7, 3, 10, 9, 5, 5, 8, 8, 10, 4, 5, 4, 10, 4, 5, 3, 8, 4, 8, 9, 4, 7, 6, 10, 1, 10, 4, 2, 2, 1, 8, 6, 10, 1, 5, 8, 9, 5, 9, 6, 10, 1, 1, 6, 10, 3, 1, 8, 9, 1, 8, 5, 7, 2, 3, 2, 2, 9, 7, 6, 5, 5, 3, 5, 1, 3, 1, 10, 8, 5, 10, 9, 9, 4, 9, 10, 2, 7, 2, 2, 8, 2, 5, 3, 5, 2, 7, 3, 2, 2, 4, 10, 8, 4, 4, 7, 5, 1, 3, 6, 8, 10, 1, 9, 4, 5, 1, 4, 5, 3, 2, 7, 7, 3, 2, 2, 9, 3, 2, 6, 4, 1, 3, 4, 3, 7, 8, 9, 1, 3, 8, 3, 4, 3, 10, 8, 7, 4, 8, 3, 6, 5, 6, 4, 3, 2, 2, 9, 4, 6, 2, 8, 10, 4, 7, 9, 6, 10, 10, 7, 9, 3, 7, 8, 10, 8, 6, 5, 8, 9, 2, 10, 4, 2, 4, 4, 8, 8, 5, 8, 3, 5, 6, 5, 4, 8, 10, 5, 3, 7, 2, 9, 3, 3, 4, 6, 5, 5, 6, 5, 7, 5, 9, 8, 5, 10, 10, 1, 2, 1, 2, 4, 8, 2, 4, 6, 10, 3, 7, 10, 5, 8, 1, 3, 8, 8, 9, 8, 7, 4, 1, 4, 5, 6, 2, 7, 3, 10, 8, 7, 10, 3, 3, 4, 1, 3, 6, 3, 7, 10, 2, 8, 2, 1, 1, 2, 4, 4, 1, 10, 8, 6, 1, 3, 8, 2, 9, 7, 4, 1, 9, 2, 6, 9, 3, 7, 6, 8, 10, 3, 5, 2, 10, 4, 3, 4, 2, 7, 6, 10, 4, 5, 2, 3, 6, 8, 1, 9, 10, 9, 10, 1, 1, 6, 6, 6, 2, 10, 9, 4, 1, 2, 10, 9, 5, 9, 9, 2, 7, 10, 9, 1, 6, 4, 7, 5, 5, 7, 3, 2, 6, 5, 9, 6, 5, 9, 2, 6, 4, 9, 4, 5, 4, 3, 3, 2, 1, 6, 5, 9, 10, 5, 9, 1, 1, 8, 7, 10, 10, 4, 2, 6, 5, 3, 10, 3, 1, 9, 10, 4, 7, 4, 3, 7, 2, 3, 6, 4, 5, 5, 2, 9, 5, 5, 8, 5, 1, 10, 1, 10, 4, 7, 5, 3, 3, 1, 5, 9, 4, 9, 10, 3, 2, 10, 7, 9, 5, 1, 10, 9, 5, 1, 3, 3, 1, 4, 3, 8, 1, 7, 7, 2, 3, 10, 9, 3, 7, 9, 4, 5, 7, 1, 5, 4, 6, 8, 4, 3, 6, 1, 10, 7, 5, 9, 3, 9, 2, 6, 3, 10, 5, 7, 2, 10, 2, 6, 3, 9, 7, 10, 9, 1, 7, 2, 2, 6, 2, 7, 2, 1, 6, 10, 6, 9, 2, 1, 7, 10, 2, 10, 10, 1, 4, 7, 9, 5, 9, 2, 4, 7, 9, 10, 2, 3, 2, 4, 2, 10, 8, 10, 7, 9, 10, 3, 5, 10, 6, 7, 5, 1, 3, 6, 4, 5, 8, 10, 10, 6, 1, 10, 7, 3, 2, 10, 4, 2, 9, 8, 2, 8, 7, 1, 2, 10, 10, 9, 3, 9, 5, 8, 1, 9, 1, 5, 4, 7, 1, 6, 5, 10, 2, 1, 1, 8, 6, 3, 10, 8, 9, 3, 8, 2, 2, 4, 8, 3, 2, 1, 7, 3, 1, 10, 10, 3, 4, 7, 6, 2, 5, 10, 10, 1, 2, 10, 2, 1, 9, 8, 1, 9, 5, 5, 1, 4, 1, 8, 1, 7, 3, 5, 1, 3, 3, 4, 3, 1, 4, 5, 6, 6, 3, 7, 9, 4, 4, 1, 9, 6, 9, 10, 9, 10, 3, 3, 4, 4, 10, 6, 1, 3, 3, 4, 3, 2, 6, 1, 1, 6, 10, 8, 9, 3, 4, 9, 8, 4, 2, 5, 8, 4, 7, 2, 6, 9, 5, 7, 2, 4, 9, 7, 7, 4, 7, 6, 7, 4, 8, 7, 4, 6, 1, 6, 6, 4, 1, 6, 6, 8, 2, 4, 4, 1, 3, 4, 9, 8, 3, 9, 4, 5, 8, 6, 6, 10, 5, 6, 4, 3, 6, 3, 7, 10, 7, 3, 9, 8, 4, 10, 4, 9, 1, 9, 9, 7, 5, 7, 7, 1, 9, 9, 1, 8, 5, 2, 2, 8, 1, 10, 5, 9, 2, 2, 9, 6, 8, 1, 4, 2, 1, 5, 3, 5, 3, 7, 6, 4, 4, 2, 5, 8, 1, 8, 8, 1, 1, 3, 9, 4, 8, 9, 6, 4, 8, 4, 3, 1, 9, 1, 10, 5, 10, 9, 8, 4, 9, 6, 3, 5, 1, 8, 2, 8, 8, 8, 3, 1, 1, 3, 4, 6, 4, 8, 7, 9, 5, 4, 6, 6, 2, 9, 1, 9, 5, 9, 7, 8, 6, 3, 4, 6, 8, 5, 2, 6, 6, 6, 3, 7, 4, 4, 10, 6, 7, 5, 4, 1, 4, 4, 4, 5, 4, 3, 6, 4, 10, 1, 10, 5, 5, 7, 5, 8, 7, 7, 7, 4, 7, 4, 5, 3, 4, 4, 2, 10, 10, 5, 9, 7, 8, 5, 2, 7, 3, 10, 4, 8, 3, 5, 8, 1, 4, 4, 1, 7, 3, 6, 8, 5, 7, 4, 9, 8, 4, 9, 10, 2, 6, 9, 3, 10, 9, 1, 10, 5, 5, 7, 8, 4, 4, 6, 2, 3, 9, 8, 1, 1, 4, 5, 5, 5, 8, 8, 3, 2, 3, 1, 3, 3, 9, 1, 1, 10, 5, 2, 5, 7, 8, 8, 7, 1, 9, 5, 6, 9, 10, 9, 2, 8, 7, 8, 1, 1, 3, 7, 10, 3, 10, 3, 5, 6, 8, 10, 2, 6, 9, 1, 8, 1, 8, 10, 9, 4, 8, 1, 10, 9, 4, 3, 7, 7, 2, 9, 4, 10, 1, 9, 10, 4, 9, 8, 6, 8, 1, 4, 1, 4, 10, 1, 5, 9, 3, 4, 10, 3, 3, 4, 10, 7, 3, 2, 2, 6, 1, 8, 3, 10, 9, 8, 7, 4, 9, 3, 8, 5, 3, 7, 4, 1, 9, 3, 1, 4, 9, 2, 5, 10, 8, 9, 4, 1, 7, 9, 9, 5, 9, 1, 4, 8, 3, 5, 7, 2, 1, 4, 8, 6, 10, 3, 8, 5, 4, 7, 8, 4, 4, 5, 3, 4, 8, 1, 3, 7, 8, 10, 3, 8, 1, 6, 3, 5, 7, 1, 6, 1, 2, 2, 8, 3, 5, 7, 10, 8, 6, 4, 6, 7, 8, 5, 9, 8, 3, 8, 1, 8, 7, 5, 6, 6, 3, 2, 5, 6, 1, 9, 7, 3, 1, 7, 5, 2, 1, 3, 8, 7, 2, 10, 5, 2, 6, 8, 7, 7, 7, 8, 2, 5, 5, 1, 1, 2, 4, 7, 3, 7, 3, 4, 4, 1, 3, 9, 9, 2, 6, 2, 4, 9, 2, 5, 4, 7, 2, 6, 10, 8, 7, 5, 1, 5, 8, 4, 10, 1, 10, 10, 5, 2, 5, 4, 8, 9, 6, 10, 7, 8, 3, 10, 8, 3, 10, 6, 7, 5, 7, 8, 10, 1, 3, 8, 4, 8, 2, 3, 7, 1, 6, 6, 9, 1, 7, 8, 1, 6, 10, 9, 7, 4, 6, 3, 6, 3, 2, 4, 3, 9, 8, 3, 5, 5, 7, 10, 6, 6, 6, 9, 9, 1, 6, 10, 8, 8, 1, 6, 5, 3, 1, 10, 5, 6, 7, 10, 8, 2, 8, 1, 7, 1, 8, 4, 7, 10, 7, 4, 9, 8, 6, 3, 6, 5, 10, 7, 1, 9, 6, 4, 8, 3, 3, 6, 10, 6, 3, 8, 5, 8, 1, 2, 2, 8, 9, 1, 7, 4, 8, 9, 4, 6, 6, 2, 8, 1, 6, 2, 10, 6, 1, 7, 6, 2, 2, 3, 7, 4, 2, 5, 4, 8, 5, 10, 5, 2, 3, 5, 1, 4, 9, 10, 3, 9, 5, 4, 7, 6, 10, 3, 7, 1, 9, 3, 1, 9, 8, 2, 10, 10, 8, 8, 4, 2, 5, 5, 4, 9, 4, 10, 4, 4, 3, 6, 5, 10, 8, 8, 7, 5, 3, 1, 1, 2, 1, 9, 5, 9, 8, 5, 8, 3, 10, 9, 4, 1, 9, 6, 3, 1, 8, 3, 9, 6, 1, 4, 3, 9, 8, 9, 9, 2, 1, 8, 10, 8, 3, 10, 6, 9, 7, 3, 3, 2, 1, 5, 10, 4, 10, 2, 8, 7, 10, 6, 8, 1, 1, 8, 1, 6, 6, 8, 9, 1, 1, 9, 4, 7, 1, 7, 10, 1, 4, 7, 8, 4, 2, 4, 4, 10, 10, 5, 7, 2, 10, 3, 1, 9, 5, 7, 7, 2, 8, 1, 4, 3, 7, 3, 8, 8, 10, 5, 3, 6, 6, 5, 8, 2, 8, 3, 2, 10, 5, 10, 3, 7, 6, 1, 10, 1, 9, 1, 5, 1, 10, 9, 10, 8, 9, 7, 2, 3, 6, 2, 8, 2, 6, 1, 9, 3, 7, 5, 10, 10, 5, 10, 3, 10, 10, 3, 2, 1, 8, 1, 7, 1, 10, 7, 8, 8, 3, 9, 7, 3, 2, 4, 6, 3, 5, 9, 10, 8, 10, 3, 4, 9, 2, 2, 2, 6, 9, 2, 8, 8, 3, 8, 4, 3, 5, 3, 9, 9, 3, 10, 1, 3, 9, 5, 6, 2, 8, 4, 6, 10, 8, 8, 4, 2, 5, 3, 5, 8, 1, 1, 6, 4, 7, 4, 10, 6, 7, 10, 1, 3, 8, 8, 6, 3, 4, 9, 7, 2, 8, 2, 9, 7, 10, 7, 9, 2, 6, 7, 7, 9, 9, 1, 1, 2, 5, 1, 2, 1, 1, 3, 8, 9, 9, 6, 8, 3, 6, 5, 9, 3, 8, 3, 5, 9, 4, 1, 8, 5, 1, 1, 3, 2, 4, 1, 9, 1, 4, 8, 5, 6, 4, 4, 5, 6, 3, 9, 2, 1, 5, 3, 8, 3, 5, 3, 10, 9, 1, 1, 4, 1, 8, 6, 7, 10, 4, 3, 7, 10, 5, 2, 10, 9, 4, 2, 7, 3, 1, 8, 5, 6, 3, 8, 5, 1, 10, 7, 1, 7, 4, 3, 4, 9, 8, 6, 8, 6, 6, 5, 5, 8, 8, 1, 3, 8, 4, 6, 2, 10, 2, 7, 1, 2, 6, 3, 7, 10, 5, 9, 7, 3, 5, 3, 4, 9, 1, 3, 2, 5, 9, 7, 3, 4, 8, 4, 9, 10, 2, 10, 6, 4, 2, 5, 2, 10, 7, 4, 4, 8, 4, 2, 4, 10, 8, 5, 9, 8, 10, 6, 9, 7, 7, 3, 1, 3, 8, 7, 9, 10, 10, 3, 10, 7, 5, 10, 10, 2, 4, 10, 3, 5, 7, 6, 5, 2, 2, 1, 7, 1, 6, 1, 6, 4, 2, 3, 10, 9, 8, 4, 8, 1, 2, 9, 8, 6, 2, 1, 4, 3, 8, 5, 9, 3, 5, 3, 8, 8, 3, 7, 1, 10, 7, 1, 6, 4, 2, 1, 8, 1, 1, 1, 1, 7, 10, 6, 1, 8, 2, 2, 5, 1, 7, 5, 10, 2, 5, 7, 5, 1, 9, 9, 10, 9, 1, 8, 1, 4, 6, 1, 9, 3, 5, 6, 5, 3, 2, 10, 9, 10, 8, 2, 9, 6, 8, 8, 7, 5, 3, 3, 1, 10, 6, 7, 6, 6, 5, 2, 5, 9, 6, 8, 2, 2, 3, 4, 2, 7, 5, 7, 9, 3, 2, 1, 7, 7, 10, 4, 1, 9, 9, 7, 6, 10, 2, 6, 6, 10, 7, 3, 2, 6, 4, 2, 2, 7, 7, 8, 10, 6, 3, 9, 3, 3, 5, 2, 3, 10, 3, 8, 2, 5, 2, 4, 4, 4, 1, 4, 3, 6, 10, 7, 1, 5, 9, 5, 4, 3, 4, 2, 2, 10, 6, 2, 3, 1, 10, 1, 8, 10, 7, 6, 3, 3, 8, 6, 4, 5, 5, 1, 7, 1, 3, 2, 9, 7, 7, 8, 8, 9, 1, 1, 5, 5, 7, 9, 10, 5, 7, 4, 6, 4, 2, 2, 1, 5, 1, 2, 9, 2, 10, 5, 7, 3, 2, 4, 9, 8, 9, 9, 5, 2, 5, 10, 1, 9, 7, 7, 3, 1, 1, 1, 2, 4, 3, 1, 3, 4, 6, 10, 4, 5, 10, 9, 9, 5, 8, 7, 7, 7, 8, 2, 9, 4, 9, 3, 4, 10, 2, 9, 2, 7, 3, 3, 5, 4, 9, 8, 4, 8, 5, 2, 3, 10, 9, 10, 8, 6, 3, 4, 5, 9, 7, 7, 8, 9, 8, 7, 8, 7, 10, 2, 9, 4, 4, 7, 5, 5, 5, 8, 3, 4, 6, 7, 2, 7, 3, 5, 10, 10, 4, 10, 4, 8, 1, 4, 2, 4, 8, 8, 8, 1, 9, 9, 8, 1, 5, 1, 7, 3, 7, 2, 2, 4, 9, 8, 9, 10, 3, 4, 2, 10, 8, 2, 4, 1, 1, 1, 10, 8, 9, 9, 10, 8, 1, 7, 1, 4, 8, 8, 9, 5, 3, 4, 6, 8, 3, 10, 6, 8, 4, 3, 9, 4, 10, 1, 3, 3, 8, 10, 9, 3, 7, 5, 5, 3, 2, 5, 1, 8, 8, 2, 1, 4, 8, 1, 9, 4, 2, 8, 10, 4, 4, 7, 4, 9, 1, 5, 4, 2, 8, 3, 2, 4, 4, 2, 5, 9, 7, 9, 3, 2, 10, 2, 10, 3, 4, 3, 4, 10, 2, 5, 4, 10, 2, 6, 9, 6, 8, 3, 2, 2, 2, 8, 10, 3, 5, 5, 5, 9, 1, 10, 3, 1, 5, 1, 2, 2, 8, 7, 7, 10, 8, 10, 9, 1, 7, 8, 2, 8, 10, 5, 8, 8, 10, 10, 1, 2, 8, 7, 10, 6, 6, 2, 10, 5, 8, 9, 10, 1, 7, 8, 5, 5, 10, 8, 4, 5, 3, 4, 9, 1, 4, 3, 3, 5, 4, 2, 6, 3, 3, 4, 8, 7, 10, 1, 1, 2, 7, 1, 8, 7, 4, 9, 10, 8, 7, 10, 3, 3, 10, 8, 9, 10, 8, 3, 3, 6, 4, 3, 2, 6, 10, 1, 10, 4, 9, 1, 4, 4, 9, 7, 8, 8, 7, 1, 9, 8, 7, 2, 1, 2, 9, 4, 5, 5, 8, 5, 3, 3, 6, 8, 9, 9, 4, 7, 7, 5, 5, 6, 2, 1, 5, 10, 1, 4, 8, 9, 6, 6, 3, 1, 6, 9, 8, 1, 1, 1, 2, 5, 1, 7, 1, 10, 10, 5, 3, 4, 10, 9, 10, 5, 3, 7, 7, 8, 10, 3, 3, 3, 6, 7, 10, 4, 2, 3, 10, 3, 4, 4, 2, 8, 2, 1, 5, 9, 7, 4, 5, 2, 10, 10, 10, 8, 8, 10, 8, 9, 9, 4, 9, 6, 2, 2, 2, 4, 5, 4, 8, 7, 8, 10, 9, 9, 4, 4, 1, 4, 7, 10, 10, 3, 3, 10, 8, 2, 3, 10, 8, 1, 2, 9, 1, 4, 5, 7, 5, 6, 1, 5, 7, 10, 3, 1, 9, 8, 9, 4, 4, 3, 7, 7, 2, 5, 5, 7, 6, 4, 1, 2, 3, 5, 2, 4, 7, 4, 9, 10, 9, 9, 5, 5, 10, 9, 7, 7, 6, 9, 8, 9, 6, 10, 4, 8, 9, 9, 2, 7, 8, 10, 2, 7, 7, 3, 2, 5, 7, 8, 2, 5, 5, 5, 7, 5, 3, 4, 3, 4, 2, 9, 7, 3, 1, 2, 4, 6, 10, 9, 6, 5, 8, 9, 3, 7, 1, 2, 8, 4, 3, 5, 8, 4, 9, 6, 2, 3, 2, 6, 8, 8, 9, 2, 5, 3, 3, 7, 8, 8, 8, 6, 4, 6, 3, 9, 2, 8, 5, 10, 9, 7, 7, 7, 6, 5, 10, 1, 10, 2, 7, 1, 3, 1, 2, 7, 5, 4, 9, 1, 8, 10, 9, 7, 6, 1, 10, 1, 7, 9, 1, 2, 8, 4, 6, 8, 2, 10, 9, 7, 9, 2, 5, 5, 10, 10, 8, 10, 3, 8, 2, 1, 8, 1, 6, 2, 2, 2, 1, 7, 7, 10, 2, 1, 2, 5, 1, 7, 6, 2, 9, 4, 8, 10, 6, 3, 7, 7, 5, 5, 8, 2, 5, 7, 10, 9, 9, 2, 3, 4, 7, 9, 9, 9, 10, 10, 8, 9, 10, 8, 2, 9, 2, 2, 2, 2, 1, 3, 2, 7, 8, 3, 5, 4, 7, 8, 9, 1, 7, 7, 4, 8, 9, 1, 1, 10, 1, 5, 4, 4, 3, 4, 2, 8, 10, 10, 6, 8, 2, 8, 2, 5, 2, 7, 5, 1, 7, 6, 3, 2, 3, 6, 5, 1, 8, 7, 4, 8, 7, 10, 3, 4, 9, 2, 8, 2, 1, 9, 8, 4, 4, 6, 10, 7, 2, 1, 10, 4, 1, 9, 1, 9, 8, 10, 2, 2, 3, 4, 3, 7, 3, 5, 7, 2, 7, 4, 4, 9, 8, 3, 10, 2, 8, 10, 4, 5, 4, 9, 5, 10, 6, 4, 4, 7, 6, 1, 8, 4, 9, 9, 3, 7, 6, 8, 2, 2, 4, 5, 1, 6, 3, 10, 9, 9, 2, 4, 4, 7, 9, 4, 8, 6, 5, 8, 10, 3, 6, 10, 5, 6, 4, 6, 10, 2, 5, 7, 9, 2, 8, 8, 10, 7, 3, 1, 5, 1, 6, 10, 10, 8, 4, 4, 5, 9, 9, 2, 6, 3, 9, 6, 8, 7, 2, 2, 10, 2, 9, 9, 9, 10, 9, 3, 4, 6, 6, 9, 3, 5, 9, 2, 1, 6, 8, 10, 9, 2, 7, 4, 5, 8, 2, 4, 8, 4, 7, 9, 4, 9, 3, 6, 1, 1, 5, 5, 3, 8, 3, 8, 7, 9, 9, 7, 7, 8, 3, 5, 8, 1, 4, 1, 4, 10, 3, 7, 7, 3, 1, 9, 1, 10, 7, 5, 8, 7, 1, 4, 6, 8, 5, 9, 1, 10, 6, 10, 6, 8, 5, 8, 9, 8, 1, 1, 2, 3, 1, 5, 7, 8, 7, 6, 10, 5, 8, 3, 5, 7, 6, 8, 4, 7, 2, 3, 5, 2, 3, 8, 10, 7, 9, 6, 6, 4, 2, 1, 4, 1, 3, 1, 9, 7, 6, 7, 6, 7, 2, 1, 6, 4, 1, 5, 10, 1, 7, 3, 7, 5, 5, 3, 1, 3, 9, 3, 6, 2, 8, 5, 7, 4, 5, 6, 9, 1, 8, 4, 8, 4, 7, 2, 8, 10, 5, 1, 6, 6, 3, 4, 4, 4, 6, 2, 2, 6, 5, 7, 10, 1, 3, 2, 6, 10, 5, 7, 7, 9, 7, 1, 9, 2, 9, 6, 2, 9, 2, 7, 2, 10, 6, 7, 8, 10, 8, 2, 1, 8, 6, 2, 6, 8, 10, 5, 9, 2, 4, 2, 9, 6, 5, 6, 4, 7, 3, 2, 9, 9, 9, 7, 7, 4, 1, 10, 3, 9, 10, 7, 5, 6, 2, 1, 2, 5, 9, 5, 2, 2, 3, 2, 10, 3, 3, 9, 10, 1, 10, 7, 6, 3, 6, 1, 4, 3, 4, 10, 4, 1, 8, 2, 5, 10, 10, 7, 1, 8, 9, 9, 2, 8, 1, 6, 6, 8, 5, 8, 9, 8, 2, 9, 4, 4, 7, 7, 8, 7, 1, 3, 9, 10, 7, 5, 6, 5, 4, 9, 3, 8, 4, 5, 6, 5, 8, 8, 4, 2, 9, 1, 8, 3, 9, 8, 2, 3, 7, 10, 8, 2, 6, 8, 3, 7, 4, 1, 4, 7, 7, 3, 2, 3, 6, 10, 1, 7, 3, 9, 9, 8, 8, 2, 1, 1, 6, 2, 6, 10, 8, 2, 9, 2, 5, 8, 3, 4, 10, 8, 9, 8, 5, 9, 7, 5, 9, 9, 8, 1, 1, 1, 8, 6, 1, 8, 10, 2, 3, 9, 8, 7, 10, 2, 9, 9, 5, 3, 4, 4, 8, 1, 6, 2, 4, 1, 6, 4, 1, 8, 6, 10, 9, 8, 3, 8, 10, 7, 9, 1, 10, 5, 5, 10, 6, 8, 3, 8, 5, 3, 3, 9, 1, 3, 9, 9, 7, 3, 1, 8, 9, 5, 1, 5, 9, 8, 1, 5, 9, 4, 1, 8, 4, 6, 1, 7, 9, 1, 1, 7, 6, 10, 7, 8, 4, 8, 7, 9, 8, 3, 2, 7, 7, 1, 8, 3, 1, 1, 4, 6, 10, 9, 8, 6, 1, 3, 7, 7, 9, 10, 9, 10, 8, 7, 7, 1, 5, 1, 7, 8, 7, 4, 2, 9, 8, 5, 3, 3, 3, 5, 2, 4, 4, 4, 10, 4, 1, 8, 4, 9, 8, 9, 3, 5, 6, 10, 1, 1, 3, 3, 1, 2, 10, 7, 7, 4, 2, 3, 2, 5, 2, 2, 4, 8, 3, 4, 6, 8, 9, 8, 9, 5, 5, 4, 6, 5, 1, 8, 6, 2, 8, 4, 6, 9, 6, 2, 8, 4, 2, 9, 3, 1, 7, 1, 6, 5, 7, 10, 2, 9, 8, 8, 4, 3, 10, 5, 2, 3, 1, 2, 9, 3, 10, 4, 10, 4, 8, 7, 8, 1, 6, 3, 3, 3, 9, 8, 1, 2, 10, 8, 4, 3, 5, 10, 7, 3, 7, 2, 2, 7, 3, 8, 10, 2, 4, 8, 6, 7, 5, 4, 2, 4, 3, 9, 3, 5, 9, 3, 7, 1, 4, 4, 3, 10, 5, 1, 9, 4, 2, 10, 4, 5, 1, 10, 8, 5, 1, 1, 7, 10, 4, 10, 5, 3, 1, 7, 10, 3, 2, 6, 1, 1, 10, 4, 5, 9, 10, 2, 4, 1, 7, 4, 3, 6, 9, 8, 4, 5, 4, 6, 5, 8, 10, 3, 7, 10, 6, 10, 9, 3, 10, 3, 2, 5, 4, 4, 2, 3, 8, 1, 1, 4, 2, 1, 5, 2, 2, 9, 6, 10, 10, 8, 4, 4, 4, 9, 4, 4, 7, 9, 7, 6, 7, 9, 3, 2, 5, 1, 3, 9, 1, 3, 10, 4, 10, 7, 6, 9, 1, 10, 2, 8, 7, 9, 3, 5, 3, 3, 5, 10, 3, 8, 7, 1, 3, 2, 2, 1, 9, 2, 5, 5, 1, 4, 9, 8, 7, 10, 10, 10, 6, 7, 4, 2, 8, 9, 6, 1, 1, 10, 8, 4, 9, 8, 9, 3, 1, 1, 5, 4, 2, 8, 2, 2, 2, 6, 3, 4, 3, 8, 9, 5, 3, 1, 5, 1, 1, 3, 5, 5, 1, 3, 3, 9, 7, 9, 8, 4, 6, 10, 9, 2, 7, 9, 7, 8, 5, 7, 10, 7, 2, 10, 2, 3, 10, 6, 6, 10, 1, 5, 6, 5, 4, 5, 6, 9, 6, 4, 2, 8, 10, 8, 1, 8, 10, 8, 5, 1, 1, 2, 1, 4, 1, 8, 8, 9, 10, 3, 10, 10, 8, 7, 10, 5, 8, 9, 3, 6, 8, 6, 9, 4, 7, 4, 5, 6, 5, 2, 9, 3, 5, 5, 3, 1, 7, 1, 8, 8, 6, 9, 10, 1, 8, 6, 5, 9, 8, 3, 8, 7, 6, 10, 4, 4, 8, 2, 1, 9, 7, 2, 8, 7, 4, 6, 10, 1, 6, 9, 7, 4, 6, 6, 4, 10, 2, 6, 6, 6, 1, 4, 1, 8, 1, 1, 3, 6, 9, 6, 10, 1, 6, 4, 7, 10, 8, 7, 8, 9, 5, 7, 3, 8, 2, 5, 9, 6, 1, 4, 3, 7, 2, 6, 2, 9, 9, 5, 1, 1, 7, 6, 1, 4, 5, 1, 5, 8, 5, 1, 4, 6, 1, 7, 1, 8, 4, 1, 2, 6, 2, 7, 9, 3, 7, 5, 5, 9, 3, 6, 6, 6, 2, 2, 7, 2, 9, 7, 5, 2, 8, 6, 2, 6, 9, 10, 3, 1, 9, 1, 9, 8, 9, 5, 3, 1, 1, 7, 10, 9, 7, 1, 2, 3, 1, 10, 4, 10, 6, 1, 9, 8, 4, 6, 10, 7, 1, 2, 5, 3, 6, 1, 4, 5, 6, 4, 2, 8, 8, 9, 6, 2, 10, 7, 7, 4, 2, 5, 1, 3, 8, 8, 6, 2, 8, 10, 4, 3, 5, 1, 7, 8, 1, 8, 5, 2, 8, 6, 10, 7, 4, 6, 4, 5, 7, 4, 8, 9, 6, 2, 6, 7, 7, 5, 8, 6, 5, 5, 3, 10, 5, 8, 2, 2, 5, 3, 8, 5, 3, 10, 1, 2, 8, 9, 4, 7, 8, 3, 3, 10, 2, 10, 3, 10, 3, 7, 9, 7, 3, 1, 10, 7, 9, 6, 1, 9, 2, 6, 3, 4, 6, 5, 9, 10, 7, 1, 4, 4, 7, 10, 4, 10, 7, 3, 10, 9, 10, 10, 9, 7, 4, 9, 6, 2, 6, 10, 5, 4, 5, 9, 6, 6, 2, 4, 3, 2, 10, 4, 1, 6, 3, 5, 9, 7, 2, 4, 5, 8, 7, 10, 3, 10, 9, 2, 2, 10, 5, 4, 5, 6, 6, 1, 8, 5, 10, 8, 3, 9, 5, 4, 4, 6, 6, 7, 5, 6, 9, 4, 6, 9, 5, 5, 8, 6, 3, 1, 5, 7, 3, 9, 2, 5, 1, 9, 2, 10, 8, 4, 8, 3, 1, 9, 9, 4, 1, 3, 2, 7, 10, 8, 2, 10, 10, 4, 7, 4, 10, 5, 2, 2, 2, 10, 3, 2, 6, 1, 1, 4, 8, 10, 3, 8, 9, 7, 9, 1, 7, 1, 1, 5, 4, 8, 9, 10, 4, 2, 6, 2, 2, 8, 3, 6, 2, 5, 10, 5, 1, 1, 2, 3, 9, 7, 6, 6, 7, 6, 5, 4, 3, 9, 5, 5, 1, 3, 7, 10, 10, 3, 2, 6, 7, 2, 10, 9, 9, 3, 10, 6, 1, 5, 5, 7, 10, 3, 8, 1, 5, 8, 8, 2, 7, 7, 10, 2, 6, 1, 3, 10, 4, 9, 10, 7, 7, 7, 6, 5, 7, 7, 6, 2, 4, 5, 6, 2, 3, 7, 7, 7, 6, 10, 9, 4, 1, 7, 6, 9, 5, 8, 7, 3, 6, 2, 3, 6, 10, 10, 5, 3, 7, 7, 9, 10, 5, 3, 7, 2, 7, 8, 1, 9, 6, 1, 2, 6, 8, 8, 3, 3, 2, 10, 10, 5, 2, 5, 8, 1, 7, 7, 5, 4, 1, 5, 2, 8, 7, 2, 8, 3, 6, 2, 4, 6, 10, 9, 5, 10, 6, 4, 5, 9, 8, 7, 1, 5, 7, 1, 1, 5, 10, 3, 10, 3, 6, 6, 7, 7, 2, 3, 5, 4, 2, 1, 1, 8, 5, 10, 7, 4, 4, 8, 3, 5, 1, 2, 8, 6, 8, 7, 5, 10, 4, 9, 6, 6, 5, 3, 3, 3, 4, 7, 10, 10, 4, 5, 2, 3, 5, 6, 6, 10, 1, 6, 7, 8, 5, 3, 7, 5, 5, 2, 4, 2, 10, 1, 7, 3, 5, 4, 5, 4, 5, 3, 8, 3, 5, 9, 5, 10, 2, 7, 2, 2, 4, 10, 9, 1, 5, 1, 9, 1, 2, 5, 4, 9, 10, 10, 4, 2, 1, 5, 1, 7, 2, 6, 3, 2, 3, 3, 9, 1, 9, 10, 1, 4, 2, 1, 3, 4, 4, 4, 6, 8, 2, 9, 5, 9, 3, 2, 2, 9, 5, 7, 7, 7, 5, 9, 6, 2, 10, 3, 1, 4, 5, 6, 1, 5, 6, 4, 4, 8, 1, 9, 1, 4, 9, 8, 8, 3, 7, 6, 3, 4, 8, 2, 4, 2, 6, 9, 7, 10, 3, 4, 3, 4, 5, 2, 7, 2, 1, 5, 6, 10, 7, 8, 5, 4, 9, 7, 8, 8, 9, 9, 9, 2, 4, 9, 5, 10, 3, 3, 4, 5, 4, 5, 10, 3, 8, 10, 2, 6, 3, 7, 4, 7, 7, 5, 2, 9, 3, 9, 10, 4, 4, 4, 8, 5, 10, 8, 2, 8, 6, 7, 5, 1, 5, 10, 10, 9, 8, 9, 8, 6, 6, 3, 1, 8, 2, 4, 9, 10, 3, 7, 3, 7, 3, 1, 9, 9, 3, 9, 3, 10, 4, 7, 7, 10, 2, 1, 3, 10, 2, 1, 6, 6, 10, 3, 2, 2, 3, 10, 2, 8, 2, 10, 1, 5, 2, 1, 9, 2, 7, 9, 6, 1, 9, 4, 1, 6, 10, 4, 5, 8, 9, 3, 7, 7, 9, 6, 7, 9, 6, 1, 2, 3, 4, 2, 2, 3, 7, 4, 2, 9, 6, 4, 10, 6, 10, 2, 7, 2, 3, 6, 9, 8, 5, 7, 8, 3, 6, 6, 6, 1, 6, 10, 4, 5, 4, 1, 4, 3, 7, 3, 2, 7, 4, 5, 2, 6, 1, 10, 1, 10, 7, 6, 4, 2, 5, 2, 9, 1, 9, 10, 2, 6, 9, 7, 8, 5, 1, 9, 9, 4, 7, 7, 2, 10, 1, 7, 3, 3, 8, 4, 4, 3, 4, 7, 10, 10, 1, 8, 2, 6, 3, 2, 7, 6, 2, 2, 8, 10, 6, 3, 3, 7, 1, 3, 10, 2, 2, 8, 6, 3, 9, 3, 2, 3, 2, 8, 6, 5, 7, 3, 6, 7, 9, 8, 2, 2, 5, 3, 10, 5, 2, 8, 6, 9, 1, 5, 2, 5, 6, 5, 8, 7, 9, 7, 6, 9, 10, 1, 1, 4, 5, 10, 6, 5, 10, 3, 9, 8, 7, 10, 10, 2, 5, 9, 7, 5, 8, 7, 4, 3, 5, 6, 9, 2, 8, 9, 8, 1, 7, 10, 3, 1, 1, 6, 9, 3, 8, 8, 9, 3, 10, 1, 1, 2, 6, 6, 10, 6, 8, 9, 3, 1, 9, 4, 7, 9, 8, 6, 2, 4, 1, 2, 5, 10, 2, 2, 10, 5, 8, 4, 10, 4, 8, 2, 6, 3, 1, 10, 2, 9, 10, 9, 1, 1, 7, 4, 2, 1, 5, 10, 6, 7, 7, 6, 1, 6, 1, 7, 10, 5, 6, 1, 6, 10, 9, 10, 10, 10, 6, 2, 10, 4, 4, 5, 1, 2, 4, 3, 2, 4, 5, 9, 6, 7, 4, 3, 7, 9, 9, 8, 6, 5, 7, 9, 2, 7, 5, 7, 7, 3, 1, 2, 2, 5, 9, 7, 7, 6, 2, 4, 1, 8, 6, 5, 6, 1, 10, 6, 1, 9, 10, 2, 10, 7, 3, 4, 2, 2, 3, 3, 6, 3, 8, 5, 6, 8, 2, 2, 7, 1, 5, 9, 7, 6, 2, 7, 2, 6, 10, 10, 4, 4, 5, 3, 4, 3, 8, 5, 10, 5, 2, 10, 2, 3, 9, 8, 1, 2, 8, 10, 6, 8, 6, 3, 6, 2, 3, 8, 8, 9, 8, 3, 10, 6, 6, 2, 2, 4, 7, 7, 4, 7, 7, 4, 10, 2, 10, 5, 2, 2, 7, 10, 9, 6, 7, 4, 10, 5, 4, 7, 10, 7, 5, 6, 9, 7, 3, 3, 6, 6, 8, 4, 6, 9, 4, 10, 4, 9, 4, 5, 7, 9, 8, 8, 10, 5, 6, 1, 2, 4, 6, 10, 8, 2, 4, 6, 5, 8, 4, 7, 6, 4, 10, 7, 10, 2, 9, 1, 9, 1, 6, 1, 9, 8, 6, 9, 6, 4, 6, 9, 2, 9, 8, 9, 5, 3, 1, 9, 5, 2, 8, 3, 10, 3, 5, 7, 5, 6, 7, 5, 10, 8, 1, 3, 10, 4, 5, 4, 9, 2, 1, 7, 7, 9, 5, 4, 2, 1, 10, 3, 9, 10, 6, 3, 9, 1, 7, 8, 6, 4, 8, 4, 9, 3, 10, 8, 4, 10, 5, 7, 9, 9, 1, 9, 1, 2, 7, 5, 3, 9, 10, 3, 10, 3, 1, 2, 10, 7, 3, 4, 3, 2, 8, 6, 1, 10, 3, 10, 9, 1, 7, 7, 3, 4, 2, 10, 7, 10, 3, 10, 6, 1, 1, 2, 1, 4, 5, 7, 2, 9, 2, 7, 1, 3, 9, 7, 2, 8, 9, 7, 6, 4, 8, 7, 4, 7, 9, 7, 2, 5, 4, 1, 7, 6, 5, 9, 4, 3, 6, 5, 7, 3, 10, 5, 8, 1, 1, 6, 5, 3, 3, 10, 2, 4, 2, 2, 9, 6, 1, 5, 7, 10, 2, 8, 9, 3, 5, 3, 5, 1, 8, 5, 8, 2, 4, 2, 4, 2, 9, 10, 2, 8, 8, 3, 3, 1, 1, 8, 8, 8, 10, 6, 3, 8, 3, 4, 9, 8, 9, 8, 6, 2, 4, 4, 8, 6, 5, 8, 6, 8, 9, 6, 6, 10, 9, 5, 5, 4, 9, 6, 4, 6, 9, 9, 5, 7, 7, 6, 8, 1, 7, 10, 2, 7, 2, 9, 9, 9, 10, 8, 6, 6, 9, 6, 10, 7, 10, 1, 3, 7, 3, 9, 2, 2, 4, 2, 9, 4, 6, 10, 2, 7, 9, 6, 3, 9, 4, 5, 3, 3, 1, 5, 8, 1, 6, 5, 2, 7, 5, 9, 10, 6, 10, 4, 7, 4, 2, 8, 4, 1, 10, 5, 3, 10, 7, 6, 4, 5, 5, 9, 10, 3, 9, 2, 5, 8, 1, 1, 10, 1, 7, 8, 6, 10, 2, 5, 5, 10, 2, 9, 5, 8, 10, 9, 6, 2, 8, 7, 5, 6, 7, 8, 8, 10, 9, 6, 8, 10, 8, 5, 10, 6, 5, 9, 2, 8, 1, 1, 10, 8, 2, 10, 6, 3, 4, 9, 3, 4, 10, 3, 10, 2, 7, 7, 2, 6, 6, 1, 8, 4, 6, 9, 5, 4, 10, 2, 3, 4, 9, 4, 3, 2, 4, 6, 4, 6, 3, 10, 8, 3, 1, 8, 5, 6, 8, 2, 5, 1, 1, 7, 4, 6, 9, 1, 10, 3, 1, 7, 5, 10, 3, 2, 9, 6, 1, 4, 9, 4, 5, 8, 3, 7, 2, 10, 6, 1, 3, 7, 10, 3, 5, 4, 5, 1, 3, 4, 9, 2, 4, 9, 5, 1, 9, 6, 5, 2, 1, 2, 4, 10, 1, 7, 4, 6, 7, 4, 8, 4, 8, 6, 10, 7, 6, 2, 5, 2, 8, 9, 6, 2, 8, 7, 5, 8, 2, 1, 2, 7, 2, 8, 1, 10, 7, 2, 1, 1, 1, 7, 10, 8, 2, 8, 2, 6, 9, 10, 7, 7, 6, 6, 9, 6, 5, 2, 9, 10, 4, 2, 2, 2, 3, 3, 1, 7, 2, 3, 2, 5, 10, 10, 6, 4, 6, 7, 2, 3, 5, 1, 2, 6, 6, 4, 9, 2, 9, 9, 6, 3, 2, 6, 8, 5, 1, 1, 8, 8, 10, 6, 6, 7, 5, 7, 4, 3, 4, 6, 8, 4, 3, 8, 10, 1, 5, 2, 2, 9, 9, 6, 6, 2, 10, 8, 8, 2, 5, 7, 9, 2, 5, 1, 3, 2, 2, 5, 5, 8, 10, 8, 3, 9, 6, 5, 6, 6, 1, 9, 6, 1, 10, 4, 3, 8, 2, 1, 8, 4, 4, 4, 1, 8, 9, 7, 4, 6, 8, 5, 3, 1, 3, 5, 2, 5, 6, 10, 1, 7, 2, 10, 10, 10, 2, 5, 4, 9, 1, 6, 7, 9, 1, 9, 9, 5, 1, 10, 1, 3, 3, 2, 5, 3, 10, 10, 6, 2, 6, 6, 1, 5, 5, 7, 4, 5, 9, 4, 9, 7, 10, 9, 8, 7, 10, 4, 3, 5, 9, 8, 6, 5, 10, 9, 2, 8, 4, 5, 10, 9, 2, 3, 6, 10, 1, 8, 5, 2, 9, 10, 8, 9, 9, 2, 6, 2, 8, 1, 3, 6, 10, 3, 10, 6, 1, 8, 4, 1, 9, 1, 8, 8, 9, 3, 6, 1, 6, 1, 9, 5, 8, 9, 2, 7, 6, 9, 5, 2, 8, 5, 8, 5, 6, 1, 9, 9, 4, 2, 5, 10, 8, 4, 10, 4, 6, 1, 3, 9, 10, 10, 6, 4, 10, 3, 6, 6, 4, 6, 8, 2, 10, 6, 5, 1, 5, 3, 7, 6, 1, 6, 2, 8, 9, 1, 4, 2, 5, 6, 1, 3, 10, 7, 3, 9, 3, 1, 4, 3, 1, 3, 8, 10, 3, 9, 6, 8, 8, 5, 10, 10, 1, 6, 10, 9, 2, 10, 6, 5, 3, 3, 1, 9, 10, 10, 2, 6, 3, 6, 1, 7, 6, 8, 1, 10, 2, 2, 1, 9, 8, 7, 8, 9, 3, 3, 5, 2, 8, 8, 5, 8, 2, 7, 4, 8, 4, 1, 5, 6, 7, 10, 5, 8, 6, 7, 9, 7, 10, 7, 9, 6, 5, 3, 6, 1, 2, 3, 6, 7, 6, 5, 9, 6, 3, 9, 3, 8, 6, 10, 3, 8, 9, 9, 8, 2, 7, 10, 3, 1, 3, 9, 8, 7, 4, 1, 10, 10, 3, 2, 8, 8, 7, 7, 5, 3, 10, 3, 6, 6, 5, 7, 6, 10, 10, 2, 2, 4, 5, 5, 4, 3, 9, 8, 8, 9, 2, 5, 4, 4, 6, 2, 10, 4, 2, 7, 4, 7, 4, 2, 3, 7, 7, 1, 8, 2, 5, 8, 8, 3, 6, 2, 3, 3, 4, 7, 3, 9, 1, 4, 9, 4, 1, 4, 5, 10, 5, 6, 6, 10, 1, 3, 1, 5, 7, 1, 8, 9, 5, 8, 2, 4, 2, 9, 4, 7, 9, 4, 9, 6, 10, 10, 3, 8, 8, 9, 2, 5, 5, 8, 1, 9, 10, 2, 9, 4, 7, 6, 4, 9, 4, 3, 1, 10, 3, 10, 6, 5, 2, 10, 5, 6, 3, 4, 3, 9, 10, 9, 4, 5, 9, 1, 1, 5, 10, 8, 7, 7, 9, 7, 1, 3, 10, 6, 5, 9, 4, 1, 6, 7, 10, 9, 9, 8, 1, 7, 8, 8, 8, 5, 1, 6, 8, 7, 8, 7, 4, 9, 5, 8, 10, 2, 7, 9, 6, 7, 7, 2, 2, 9, 7, 9, 2, 9, 7, 8, 1, 10, 4, 6, 6, 2, 1, 4, 3, 5, 10, 9, 1, 1, 8, 9, 3, 6, 1, 8, 8, 9, 4, 2, 1, 4, 5, 2, 8, 5, 1, 5, 8, 6, 7, 7, 1, 8, 2, 3, 6, 3, 3, 6, 7, 6, 10, 5, 2, 4, 3, 7, 6, 8, 2, 6, 1, 4, 1, 6, 5, 1, 10, 4, 9, 9, 2, 3, 5, 4, 8, 8, 3, 4, 3, 3, 9, 7, 9, 9, 4, 8, 10, 10, 2, 2, 1, 9, 2, 7, 10, 3, 6, 6, 9, 9, 2, 7, 3, 5, 5, 7, 7, 3, 4, 2, 6, 10, 1, 4, 5, 10, 4, 3, 3, 3, 1, 2, 6, 6, 8, 3, 5, 8, 10, 3, 10, 2, 2, 8, 6, 6, 5, 8, 1, 10, 8, 6, 2, 1, 8, 2, 3, 2, 10, 10, 4, 2, 5, 9, 7, 9, 1, 4, 8, 10, 2, 1, 1, 10, 5, 1, 7, 1, 1, 3, 4, 1, 4, 1, 3, 6, 8, 8, 10, 9, 9, 9, 4, 1, 4, 5, 9, 10, 1, 8, 8, 8, 4, 10, 1, 1, 4, 2, 5, 9, 10, 3, 3, 1, 9, 9, 1, 2, 4, 2, 6, 6, 6, 7, 1, 7, 3, 9, 4, 1, 3, 2, 7, 4, 2, 6, 5, 5, 8, 3, 4, 1, 10, 4, 2, 1, 8, 2, 6, 8, 1, 3, 6, 1, 1, 8, 8, 6, 7, 2, 4, 5, 8, 7, 9, 5, 6, 6, 5, 8, 1, 5, 8, 4, 9, 3, 5, 9, 10, 3, 5, 3, 2, 2, 8, 9, 3, 4, 2, 7, 4, 7, 10, 5, 3, 3, 6, 5, 1, 10, 6, 10, 3, 2, 8, 4, 5, 1, 2, 5, 3, 7, 9, 7, 6, 3, 2, 5, 6, 7, 6, 3, 9, 2, 9, 5, 10, 7, 7, 9, 7, 7, 10, 9, 9, 5, 4, 4, 5, 2, 1, 1, 7, 1, 3, 1, 6, 5, 4, 1, 5, 3, 6, 8, 2, 7, 4, 6, 4, 1, 9, 7, 5, 7, 3, 3, 1, 9, 5, 8, 2, 4, 8, 3, 1, 3, 5, 3, 1, 1, 7, 5, 5, 7, 4, 4, 8, 6, 5, 7, 8, 1, 1, 9, 4, 4, 2, 6, 4, 6, 3, 10, 2, 3, 8, 4, 2, 1, 7, 2, 10, 5, 2, 5, 5, 7, 7, 3, 4, 7, 6, 3, 6, 3, 6, 8, 5, 5, 8, 9, 2, 6, 1, 10, 4, 3, 6, 4, 9, 5, 1, 7, 9, 8, 5, 6, 2, 4, 10, 5, 3, 2, 7, 4, 9, 3, 8, 10, 2, 7, 1, 5, 4, 3, 5, 6, 7, 9, 4, 4, 5, 10, 6, 10, 7, 6, 5, 2, 4, 2, 2, 8, 7, 8, 9, 8, 5, 3, 5, 10, 5, 9, 4, 1, 10, 4, 10, 2, 4, 3, 4, 4, 8, 2, 9, 5, 6, 1, 4, 9, 4, 5, 3, 5, 6, 9, 7, 8, 7, 8, 10, 5, 7, 5, 9, 1, 3, 4, 6, 9, 1, 7, 2, 6, 1, 7, 5, 10, 3, 5, 10, 3, 8, 1, 8, 6, 7, 1, 1, 8, 10, 2, 6, 9, 8, 1, 1, 8, 5, 3, 3, 9, 9, 9, 1, 3, 10, 2, 10, 4, 9, 6, 7, 4, 5, 1, 10, 2, 6, 5, 1, 7, 1, 9, 7, 3, 2, 7, 8, 4, 3, 8, 1, 6, 6, 9, 7, 6, 7, 4, 10, 7, 4, 2, 7, 6, 6, 6, 7, 9, 7, 7, 3, 1, 2, 2, 3, 3, 10, 1, 6, 4, 10, 4, 4, 8, 7, 1, 5, 2, 2, 8, 4, 6, 9, 10, 3, 7, 8, 3, 1, 6, 7, 8, 5, 2, 1, 5, 2, 5, 4, 8, 4, 4, 8, 5, 7, 1, 6, 8, 6, 10, 3, 4, 2, 9, 9, 2, 3, 8, 2, 5, 1, 8, 1, 6, 7, 5, 2, 6, 1, 7, 5, 3, 10, 4, 1, 9, 6, 1, 6, 6, 10, 3, 6, 6, 10, 5, 2, 3, 2, 1, 5, 5, 7, 4, 8, 5, 3, 3, 7, 10, 1, 3, 4, 7, 8, 2, 10, 1, 5, 7, 8, 9, 6, 3, 3, 7, 1, 5, 2, 10, 1, 1, 8, 6, 4, 7, 6, 3, 2, 4, 6, 8, 1, 8, 7, 3, 6, 10, 3, 10, 6, 3, 6, 5, 2, 10, 9, 6, 1, 7, 9, 1, 5, 8, 2, 9, 1, 2, 7, 1, 9, 9, 3, 5, 10, 6, 3, 1, 8, 8, 6, 6, 9, 9, 5, 9, 4, 5, 8, 1, 2, 9, 5, 2, 4, 3, 1, 2, 5, 4, 7, 7, 10, 6, 3, 3, 2, 6, 1, 2, 2, 7, 3, 9, 7, 6, 3, 10, 7, 10, 3, 8, 8, 5, 10, 4, 1, 9, 6, 5, 4, 7, 1, 4, 2, 6, 5, 7, 4, 5, 4, 10, 7, 8, 7, 9, 4, 3, 1, 10, 8, 9, 4, 1, 10, 7, 5, 8, 7, 7, 6, 10, 4, 10, 2, 7, 8, 7, 1, 3, 4, 3, 3, 5, 5, 8, 6, 5, 1, 4, 5, 2, 8, 5, 3, 4, 6, 7, 4, 2, 7, 8, 7, 4, 3, 9, 8, 5, 2, 9, 2, 3, 4, 8, 2, 8, 1, 10, 10, 7, 10, 7, 9, 3, 5, 1, 7, 8, 2, 8, 8, 6, 3, 3, 1, 6, 4, 5, 6, 8, 8, 3, 6, 2, 6, 3, 5, 6, 4, 9, 1, 8, 1, 10, 7, 6, 2, 5, 2, 5, 7, 3, 2, 1, 3, 5, 4, 2, 6, 10, 4, 10, 4, 7, 6, 8, 9, 7, 10, 4, 2, 8, 6, 9, 1, 7, 7, 8, 9, 10, 5, 7, 9, 4, 3, 6, 5, 6, 1, 4, 5, 10, 6, 6, 1, 6, 7, 2, 9, 1, 1, 8, 9, 1, 3, 7, 4, 6, 7, 6, 10, 5, 2, 4, 4, 2, 8, 8, 10, 4, 9, 3, 3, 9, 2, 8, 7, 2, 10, 2, 5, 6, 7, 2, 4, 8, 8, 7, 3, 6, 3, 4, 2, 3, 7, 8, 4, 5, 7, 10, 6, 3, 1, 4, 5, 1, 5, 5, 10, 1, 7, 10, 10, 3, 5, 8, 2, 6, 6, 1, 9, 10, 4, 8, 4, 9, 4, 10, 2, 2, 5, 1, 5, 7, 1, 10, 4, 3, 10, 9, 10, 6, 1, 6, 5, 9, 8, 7, 4, 2, 2, 8, 9, 5, 2, 7, 7, 10, 1, 10, 10, 8, 5, 3, 2, 6, 3, 2, 6, 4, 5, 3, 3, 4, 10, 6, 3, 10, 3, 5, 2, 9, 5, 6, 5, 10, 10, 8, 6, 8, 9, 5, 10, 10, 4, 10, 9, 5, 2, 2, 5, 6, 8, 10, 7, 1, 2, 1, 3, 3, 1, 6, 3, 8, 5, 1, 6, 7, 2, 10, 1, 2, 7, 6, 10, 6, 7, 7, 8, 4, 3, 10, 9, 1, 6, 3, 6, 7, 10, 6, 1, 2, 5, 2, 7, 8, 10, 4, 2, 7, 5, 8, 9, 1, 10, 10, 9, 5, 8, 5, 5, 6, 9, 3, 7, 5, 10, 7, 6, 4, 8, 3, 6, 7, 7, 3, 3, 9, 2, 5, 7, 8, 3, 4, 7, 5, 7, 4, 7, 8, 6, 6, 2, 6, 10, 10, 5, 8, 1, 5, 1, 7, 5, 10, 2, 2, 8, 7, 1, 4, 10, 7, 10, 6, 5, 5, 4, 8, 8, 3, 6, 8, 6, 4, 8, 5, 7, 9, 4, 7, 9, 9, 9, 9, 3, 3, 1, 9, 5, 8, 10, 4, 5, 7, 3, 3, 1, 8, 10, 9, 4, 8, 10, 7, 9, 9, 7, 8, 8, 1, 2, 1, 9, 10, 5, 8, 10, 7, 2, 9, 3, 4, 6, 5, 9, 6, 7, 2, 9, 7, 2, 2, 8, 7, 3, 5, 7, 10, 2, 7, 10, 8, 1, 5, 10, 4, 2, 9, 1, 4, 9, 8, 5, 10, 2, 7, 2, 3, 7, 9, 10, 2, 3, 7, 7, 3, 5, 3, 9, 4, 8, 8, 10, 10, 10, 6, 4, 8, 9, 3, 1, 2, 3, 2, 9, 3, 3, 6, 7, 7, 3, 7, 5, 7, 10, 8, 4, 7, 1, 2, 10, 8, 3, 10, 3, 7, 7, 5, 9, 2, 4, 8, 9, 10, 8, 6, 7, 10, 10, 5, 5, 8, 9, 9, 2, 5, 6, 10, 4, 3, 5, 6, 5, 1, 10, 10, 7, 2, 10, 7, 10, 4, 6, 3, 2, 9, 10, 5, 2, 5, 1, 3, 3, 8, 3, 5, 6, 8, 1, 5, 8, 1, 4, 10, 10, 2, 8, 10, 4, 5, 1, 2, 8, 3, 2, 4, 3, 8, 8, 5, 7, 10, 10, 2, 4, 1, 4, 5, 7, 3, 4, 6, 3, 8, 7, 10, 3, 1, 3, 10, 2, 3, 5, 5, 2, 2, 9, 1, 4, 1, 8, 1, 2, 6, 6, 3, 3, 8, 3, 5, 9, 5, 5, 10, 8, 9, 3, 4, 2, 6, 1, 8, 8, 6, 8, 3, 9, 7, 10, 3, 5, 6, 3, 1, 2, 9, 7, 1, 6, 3, 10, 3, 9, 9, 4, 9, 7, 7, 3, 5, 7, 5, 5, 2, 7, 7, 9, 6, 9, 10, 6, 2, 2, 4, 2, 10, 9, 6, 1, 6, 10, 3, 5, 6, 9, 5, 1, 10, 4, 5, 1, 10, 1, 10, 10, 4, 10, 8, 1, 10, 9, 9, 6, 5, 2, 8, 3, 7, 8, 1, 1, 2, 3, 5, 6, 1, 10, 10, 2, 2, 6, 10, 2, 4, 5, 4, 7, 6, 6, 2, 6, 2, 9, 9, 7, 9, 1, 4, 2, 7, 1, 9, 6, 9, 9, 6, 10, 4, 7, 6, 7, 6, 10, 1, 10, 9, 4, 5, 5, 10, 7, 5, 5, 9, 6, 8, 6, 1, 2, 6, 9, 8, 7, 4, 9, 5, 8, 10, 9, 1, 9, 10, 10, 4, 6, 2, 6, 9, 7, 3, 1, 9, 4, 6, 10, 1, 7, 5, 5, 3, 5, 6, 9, 7, 5, 3, 6, 1, 4, 2, 2, 8, 5, 9, 8, 7, 1, 6, 3, 10, 2, 10, 9, 4, 7, 6, 4, 1, 3, 7, 7, 5, 4, 6, 8, 2, 5, 2, 10, 9, 2, 6, 10, 8, 6, 7, 6, 9, 8, 3, 8, 8, 3, 4, 6, 10, 8, 10, 9, 5, 9, 2, 2, 4, 8, 7, 4, 2, 1, 1, 6, 2, 3, 8, 4, 10, 6, 1, 3, 6, 7, 10, 5, 5, 5, 1, 1, 8, 4, 2, 10, 10, 6, 1, 2, 10, 7, 3, 1, 4, 2, 7, 3, 9, 4, 3, 10, 6, 9, 8, 8, 1, 2, 4, 9, 2, 4, 10, 5, 9, 2, 7, 8, 2, 9, 6, 5, 6, 1, 3, 2, 9, 1, 10, 8, 8, 1, 5, 7, 4, 1, 2, 2, 1, 1, 9, 5, 9, 10, 5, 1, 5, 8, 8, 9, 6, 8, 3, 4, 6, 3, 2, 7, 1, 4, 8, 7, 3, 6, 6, 6, 2, 10, 4, 8, 2, 6, 1, 10, 7, 9, 1, 2, 9, 5, 2, 4, 7, 9, 4, 1, 4, 9, 8, 6, 6, 7, 1, 9, 9, 5, 1, 6, 3, 9, 4, 6, 4, 4, 1, 4, 6, 10, 9, 5, 3, 9, 6, 8, 3, 10, 3, 3, 3, 6, 4, 2, 2, 10, 4, 3, 8, 3, 10, 2, 9, 6, 10, 10, 3, 9, 2, 6, 3, 10, 6, 3, 10, 4, 9, 8, 3, 9, 7, 7, 2, 5, 7, 4, 2, 4, 10, 9, 3, 10, 10, 4, 3, 5, 7, 7, 6, 1, 3, 9, 10, 2, 2, 1, 4, 4, 4, 7, 5, 10, 7, 1, 6, 9, 2, 2, 10, 3, 9, 5, 6, 7, 7, 10, 9, 1, 8, 2, 3, 1, 1, 8, 4, 5, 6, 9, 6, 7, 4, 4, 7, 3, 7, 7, 4, 3, 10, 8, 9, 3, 3, 4, 4, 1, 10, 7, 6, 5, 9, 9, 5, 6, 1, 3, 7, 4, 1, 1, 8, 8, 9, 3, 8, 10, 8, 7, 5, 5, 2, 3, 10, 2, 8, 2, 2, 4, 8, 7, 9, 2, 8, 3, 2, 4, 7, 6, 7, 6, 1, 8, 8, 6, 9, 10, 9, 10, 5, 2, 7, 4, 10, 3, 7, 9, 8, 7, 4, 9, 6, 3, 9, 4, 7, 1, 9, 5, 3, 1, 5, 6, 5, 9, 5, 6, 3, 10, 2, 4, 10, 4, 6, 3, 3, 2, 1, 10, 7, 9, 7, 7, 3, 6, 2, 10, 9, 7, 5, 10, 10, 2, 10, 9, 6, 2, 9, 2, 2, 6, 1, 10, 3, 10, 6, 3, 7, 8, 7, 9, 5, 7, 5, 1, 2, 6, 3, 6, 1, 10, 10, 7, 10, 6, 6, 10, 2, 2, 9, 1, 8, 10, 9, 7, 7, 4, 9, 3, 7, 4, 10, 4, 8, 10, 6, 2, 9, 8, 7, 2, 7, 1, 4, 7, 4, 1, 6, 3, 6, 9, 9, 1, 1, 3, 5, 1, 5, 9, 6, 2, 9, 4, 4, 8, 2, 4, 5, 9, 2, 2, 8, 7, 5, 2, 1, 5, 6, 4, 10, 9, 1, 7, 4, 4, 1, 10, 1, 10, 1, 3, 1, 7, 8, 10, 8, 6, 10, 10, 5, 10, 9, 5, 9, 6, 9, 4, 4, 9, 6, 5, 9, 2, 4, 4, 10, 10, 9, 2, 5, 1, 4, 6, 9, 8, 2, 7, 8, 3, 8, 9, 9, 7, 8, 10, 3, 4, 3, 5, 4, 5, 1, 6, 2, 5, 2, 8, 10, 9, 3, 4, 9, 5, 7, 1, 7, 3, 9, 4, 6, 9, 3, 6, 3, 6, 1, 7, 4, 10, 4, 5, 1, 4, 10, 2, 5, 3, 2, 2, 6, 6, 9, 10, 2, 6, 2, 9, 6, 5, 7, 6, 1, 4, 3, 6, 6, 8, 2, 1, 4, 2, 9, 10, 4, 6, 7, 4, 10, 6, 3, 8, 1, 7, 9, 7, 4, 5, 6, 7, 6, 10, 3, 4, 8, 8, 1, 4, 8, 3, 1, 6, 2, 10, 8, 4, 5, 2, 9, 8, 3, 2, 1, 7, 2, 6, 8, 10, 5, 8, 5, 10, 4, 4, 6, 10, 3, 7, 5, 8, 7, 10, 4, 2, 10, 8, 9, 9, 7, 5, 2, 1, 1, 5, 6, 7, 6, 10, 2, 3, 7, 6, 6, 5, 10, 8, 4, 3, 3, 3, 7, 4, 4, 10, 6, 3, 8, 3, 10, 5, 4, 1, 9, 5, 8, 8, 1, 2, 6, 5, 7, 6, 9, 4, 1, 8, 4, 8, 9, 5, 4, 3, 4, 5, 4, 4, 10, 8, 3, 4, 3, 1, 3, 4, 9, 9, 3, 7, 4, 8, 6, 7, 5, 3, 10, 10, 4, 9, 3, 2, 1, 8, 3, 5, 7, 5, 9, 7, 7, 8, 2, 5, 3, 6, 4, 10, 8, 1, 1, 5, 8, 3, 7, 4, 4, 1, 7, 6, 8, 1, 4, 10, 6, 10, 9, 7, 9, 3, 3, 6, 10, 4, 2, 1, 8, 5, 8, 5, 9, 8, 1, 4, 7, 9, 3, 2, 5, 8, 3, 2, 5, 6, 8, 1, 3, 9, 6, 1, 7, 9, 7, 6, 5, 2, 3, 3, 10, 10, 8, 5, 6, 9, 9, 8, 7, 9, 9, 2, 1, 7, 1, 7, 1, 5, 5, 6, 5, 6, 10, 3, 1, 7, 4, 9, 6, 6, 3, 8, 4, 9, 5, 7, 3, 3, 9, 4, 3, 6, 9, 8, 6, 2, 7, 10, 9, 9, 1, 2, 9, 8, 7, 5, 3, 4, 4, 9, 5, 1, 4, 2, 3, 4, 2, 6, 9, 5, 2, 6, 8, 7, 4, 5, 6, 5, 10, 3, 5, 2, 9, 7, 9, 10, 2, 1, 3, 8, 6, 3, 8, 7, 7, 1, 6, 3, 6, 9, 9, 6, 3, 7, 1, 6, 6, 4, 10, 8, 4, 5, 6, 6, 3, 2, 3, 4, 10, 10, 6, 3, 5, 1, 2, 10, 10, 9, 1, 1, 1, 4, 1, 3, 8, 3, 7, 4, 3, 3, 1, 2, 9, 1, 3, 2, 5, 2, 7, 10, 2, 8, 4, 6, 9, 7, 2, 1, 4, 6, 7, 9, 3, 3, 7, 1, 3, 1, 6, 8, 7, 9, 8, 3, 2, 9, 9, 5, 1, 4, 5, 10, 3, 9, 1, 3, 8, 8, 3, 7, 10, 3, 3, 2, 10, 4, 4, 5, 10, 8, 5, 9, 8, 5, 5, 8, 5, 6, 2, 10, 1, 3, 10, 6, 6, 1, 2, 6, 9, 6, 4, 1, 8, 9, 4, 10, 5, 2, 1, 2, 2, 7, 9, 7, 6, 1, 7, 7, 8, 7, 1, 5, 2, 2, 5, 8, 1, 8, 5, 6, 7, 7, 6, 9, 9, 10, 7, 6, 8, 4, 2, 3, 6, 10, 5, 7, 8, 8, 3, 8, 10, 7, 4, 4, 3, 10, 5, 6, 2, 5, 8, 7, 8, 9, 1, 8, 1, 2, 1, 6, 8, 10, 9, 6, 7, 6, 2, 7, 5, 1, 7, 4, 10, 2, 5, 6, 2, 8, 3, 3, 8, 5, 2, 10, 3, 2, 5, 2, 10, 7, 6, 5, 4, 9, 10, 5, 7, 4, 1, 6, 10, 1, 5, 10, 8, 2, 6, 8, 10, 2, 2, 4, 8, 3, 3, 5, 6, 4, 8, 5, 2, 2, 7, 9, 9, 4, 7, 4, 4, 1, 10, 10, 7, 6, 6, 8, 5, 5, 6, 1, 5, 4, 4, 7, 6, 10, 9, 4, 3, 6, 7, 2, 10, 10, 10, 4, 5, 6, 2, 4, 7, 4, 6, 3, 10, 5, 7, 6, 2, 8, 3, 9, 10, 10, 9, 8, 6, 1, 3, 7, 9, 8, 1, 6, 9, 4, 9, 7, 7, 9, 2, 9, 3, 3, 5, 9, 10, 9, 6, 3, 3, 5, 7, 6, 6, 4, 8, 7, 9, 6, 3, 5, 3, 10, 5, 8, 2, 8, 1, 7, 4, 5, 6, 7, 1, 5, 9, 3, 8, 4, 2, 5, 1, 10, 6, 7, 2, 9, 9, 10, 4, 6, 3, 10, 2, 2, 9, 7, 6, 2, 8, 5, 10, 10, 10, 1, 1, 9, 9, 9, 5, 6, 3, 4, 5, 1, 4, 3, 4, 4, 7, 6, 9, 7, 8, 8, 5, 7, 9, 10, 7, 9, 9, 3, 8, 4, 8, 7, 2, 5, 3, 3, 1, 3, 7, 4, 8, 1, 1, 8, 4, 4, 3, 4, 4, 8, 7, 6, 3, 6, 1, 8, 3, 5, 3, 8, 3, 1, 6, 8, 7, 2, 8, 9, 10, 7, 2, 8, 10, 1, 1, 1, 10, 6, 4, 7, 3, 2, 9, 10, 1, 3, 3, 4, 2, 10, 6, 8, 3, 6, 5, 4, 9, 3, 5, 3, 3, 9, 7, 1, 6, 5, 7, 6, 9, 9, 2, 10, 10, 2, 10, 8, 3, 10, 4, 6, 7, 9, 7, 5, 8, 2, 9, 10, 3, 10, 7, 6, 5, 6, 1, 3, 6, 2, 3, 10, 5, 9, 6, 6, 7, 9, 8, 8, 1, 8, 3, 1, 6, 6, 2, 4, 4, 4, 4, 9, 1, 9, 2, 8, 6, 5, 1, 2, 2, 9, 1, 5, 8, 4, 4, 4, 2, 9, 1, 6, 6, 9, 4, 4, 2, 3, 8, 5, 9, 3, 8, 9, 9, 3, 2, 6, 9, 7, 10, 10, 3, 5, 7, 1, 1, 3, 6, 7, 3, 2, 10, 10, 3, 6, 4, 9, 1, 4, 8, 3, 4, 6, 10, 7, 1, 5, 9, 9, 7, 10, 4, 1, 1, 6, 6, 7, 10, 1, 3, 6, 4, 6, 10, 10, 6, 3, 8, 4, 2, 1, 5, 4, 3, 6, 3, 8, 4, 1, 10, 4, 3, 7, 8, 8, 3, 10, 4, 9, 8, 3, 10, 3, 7, 4, 4, 3, 9, 9, 10, 3, 2, 2, 4, 9, 9, 3, 1, 6, 7, 8, 3, 2, 5, 10, 4, 6, 10, 2, 10, 4, 5, 7, 9, 5, 3, 4, 10, 4, 3, 6, 7, 2, 1, 6, 9, 10, 5, 1, 4, 9, 9, 4, 5, 8, 9, 3, 10, 3, 3, 10, 1, 8, 2, 4, 4, 10, 9, 2, 1, 3, 2, 10, 2, 9, 6, 1, 5, 8, 3, 4, 5, 2, 4, 10, 6, 9, 8, 4, 7, 5, 10, 2, 4, 3, 4, 5, 2, 6, 9, 2, 4, 4, 3, 3, 10, 2, 1, 6, 4, 3, 10, 7, 5, 4, 9, 10, 1, 5, 8, 9, 10, 3, 3, 5, 6, 9, 4, 5, 10, 6, 8, 6, 8, 5, 7, 9, 2, 7, 10, 10, 3, 8, 2, 8, 2, 4, 1, 5, 9, 3, 10, 7, 5, 10, 7, 10, 2, 10, 6, 9, 7, 10, 2, 10, 8, 4, 4, 3, 5, 6, 4, 8, 7, 8, 1, 1, 4, 4, 5, 9, 2, 4, 6, 2, 8, 3, 3, 1, 10, 9, 5, 5, 6, 2, 5, 10, 3, 2, 3, 3, 5, 7, 5, 6, 5, 1, 2, 5, 7, 10, 1, 3, 7, 8, 7, 2, 6, 1, 4, 6, 4, 3, 3, 3, 6, 4, 4, 7, 1, 6, 8, 3, 5, 9, 8, 4, 8, 4, 3, 1, 2, 2, 4, 9, 7, 3, 4, 9, 7, 5, 6, 3, 3, 2, 3, 10, 2, 3, 7, 5, 3, 3, 4, 6, 2, 9, 7, 7, 6, 7, 6, 3, 4, 9, 9, 2, 5, 9, 3, 3, 4, 4, 8, 2, 9, 1, 8, 3, 6, 2, 1, 7, 3, 6, 4, 8, 6, 6, 8, 10, 5, 10, 9, 8, 10, 2, 9, 7, 4, 2, 10, 6, 5, 7, 2, 1, 2, 2, 4, 3, 8, 6, 3, 2, 8, 8, 3, 8, 5, 8, 7, 3, 8, 4, 7, 8, 7, 2, 9, 10, 3, 8, 3, 8, 3, 3, 6, 3, 10, 10, 5, 2, 2, 4, 2, 6, 10, 9, 2, 9, 6, 10, 4, 10, 6, 9, 7, 2, 9, 3, 4, 3, 2, 3, 2, 10, 1, 3, 7, 8, 4, 2, 5, 8, 6, 5, 9, 2, 8, 2, 2, 3, 6, 1, 8, 6, 6, 1, 10, 3, 8, 7, 1, 7, 7, 2, 2, 5, 2, 9, 6, 8, 8, 9, 1, 5, 8, 5, 9, 4, 3, 4, 10, 3, 1, 6, 4, 1, 10, 5, 2, 3, 8, 9, 7, 4, 8, 8, 4, 6, 9, 5, 1, 3, 9, 1, 2, 6, 10, 7, 5, 4, 1, 9, 1, 5, 1, 4, 5, 2, 8, 8, 9, 2, 4, 3, 2, 2, 5, 2, 1, 3, 7, 10, 6, 8, 5, 2, 3, 3, 6, 8, 1, 9, 1, 2, 2, 8, 4, 8, 3, 7, 10, 7, 8, 2, 10, 2, 5, 2, 8, 1, 6, 8, 8, 1, 8, 8, 1, 1, 4, 6, 10, 4, 5, 10, 2, 3, 2, 4, 1, 5, 1, 2, 3, 6, 3, 2, 10, 10, 6, 9, 4, 6, 2, 5, 2, 2, 5, 10, 9, 1, 10, 7, 10, 7, 9, 1, 2, 2, 9, 10, 3, 3, 6, 7, 6, 3, 8, 3, 5, 5, 6, 8, 2, 4, 4, 3, 2, 3, 3, 2, 7, 8, 4, 10, 9, 9, 6, 5, 6, 5, 4, 6, 5, 3, 6, 3, 4, 1, 9, 2, 7, 1, 5, 7, 5, 3, 5, 9, 7, 1, 1, 3, 3, 10, 2, 8, 8, 9, 3, 4, 10, 7, 4, 5, 2, 4, 9, 3, 1, 10, 1, 1, 1, 6, 7, 7, 3, 9, 1, 8, 1, 2, 1, 9, 4, 5, 10, 7, 6, 9, 8, 8, 1, 7, 3, 10, 9, 9, 8, 10, 9, 2, 1, 1, 9, 4, 4, 6, 7, 9, 2, 6, 9, 5, 7, 5, 3, 5, 6, 5, 5, 3, 4, 6, 2, 1, 4, 6, 10, 3, 3, 10, 8, 9, 10, 9, 8, 6, 10, 8, 9, 3, 2, 8, 7, 6, 8, 9, 8, 7, 1, 5, 3, 10, 7, 3, 9, 7, 7, 6, 3, 2, 5, 10, 5, 10, 3, 8, 9, 1, 4, 10, 4, 1, 10, 6, 2, 4, 10, 2, 6, 10, 1, 8, 9, 1, 3, 7, 1, 10, 7, 7, 10, 9, 10, 4, 10, 6, 1, 8, 4, 1, 7, 2, 9, 6, 1, 8, 5, 3, 3, 6, 6, 2, 4, 4, 2, 5, 6, 6, 7, 3, 7, 8, 6, 5, 4, 10, 7, 4, 9, 8, 5, 5, 10, 8, 8, 1, 3, 5, 3, 9, 6, 8, 3, 5, 8, 9, 5, 8, 9, 4, 10, 5, 6, 5, 7, 1, 9, 8, 10, 2, 5, 2, 7, 8, 10, 8, 7, 1, 1, 7, 6, 6, 3, 2, 10, 6, 7, 9, 6, 4, 5, 8, 8, 7, 4, 6, 7, 10, 4, 10, 2, 8, 8, 10, 7, 10, 8, 2, 4, 1, 7, 10, 6, 8, 6, 10, 10, 6, 2, 5, 5, 2, 6, 3, 7, 6, 5, 8, 2, 8, 3, 1, 8, 2, 6, 4, 6, 4, 2, 5, 4, 8, 1, 3, 2, 7, 10, 9, 3, 3, 7, 10, 4, 2, 10, 7, 3, 5, 3, 10, 8, 2, 4, 6, 10, 5, 6, 3, 8, 5, 9, 4, 5, 4, 5, 10, 1, 1, 1, 5, 10, 9, 8, 6, 6, 3, 3, 5, 6, 9, 7, 2, 3, 1, 9, 8, 8, 3, 2, 2, 2, 6, 3, 1, 4, 4, 9, 6, 6, 9, 1, 5, 3, 9, 10, 4, 6, 8, 3, 9, 5, 9, 6, 8, 2, 5, 5, 10, 5, 6, 10, 2, 6, 3, 7, 5, 3, 7, 8, 4, 2, 9, 9, 2, 5, 7, 1, 5, 7, 3, 5, 8, 5, 7, 4, 6, 6, 6, 2, 1, 8, 9, 6, 3, 4, 9, 6, 1, 2, 5, 8, 5, 2, 1, 8, 4, 7, 1, 7, 1, 4, 6, 10, 8, 5, 10, 8, 9, 10, 8, 8, 1, 2, 2, 4, 5, 3, 6, 8, 1, 1, 7, 3, 4, 1, 9, 8, 6, 10, 9, 9, 8, 4, 10, 2, 1, 1, 10, 10, 7, 5, 3, 6, 2, 3, 3, 9, 8, 4, 7, 5, 7, 9, 8, 3, 5, 5, 3, 3, 5, 9, 1, 9, 8, 1, 2, 2, 5, 8, 7, 8, 5, 4, 2, 9, 4, 7, 4, 9, 8, 3, 1, 2, 7, 10, 8, 9, 10, 9, 6, 3, 6, 8, 3, 9, 6, 3, 7, 6, 3, 1, 2, 2, 1, 5, 8, 8, 9, 10, 8, 1, 1, 7, 4, 7, 2, 4, 5, 5, 9, 6, 2, 9, 3, 6, 8, 1, 4, 8, 3, 10, 1, 7, 2, 8, 4, 8, 7, 4, 6, 9, 10, 10, 5, 6, 6, 6, 7, 7, 8, 6, 9, 8, 3, 3, 7, 10, 3, 9, 4, 4, 4, 3, 5, 7, 8, 10, 7, 9, 1, 10, 8, 1, 1, 2, 6, 10, 5, 3, 8, 2, 6, 10, 5, 9, 7, 7, 2, 5, 2, 1, 7, 10, 10, 5, 4, 3, 5, 2, 2, 5, 7, 4, 1, 1, 9, 2, 1, 2, 2, 9, 3, 4, 3, 8, 6, 7, 6, 8, 3, 7, 6, 2, 6, 2, 6, 7, 1, 1, 1, 7, 10, 4, 7, 5, 2, 2, 9, 1, 2, 8, 2, 2, 2, 2, 10, 8, 5, 2, 9, 10, 8, 1, 2, 9, 8, 2, 7, 10, 9, 2, 7, 1, 6, 10, 6, 9, 7, 6, 8, 7, 1, 3, 10, 4, 7, 6, 8, 3, 5, 9, 6, 3, 6, 5, 3, 6, 1, 9, 3, 1, 6, 6, 5, 2, 3, 4, 7, 1, 4, 10, 2, 10, 8, 2, 9, 8, 10, 9, 4, 3, 10, 10, 3, 5, 5, 6, 1, 10, 1, 8, 8, 10, 6, 7, 3, 9, 2, 10, 5, 5, 8, 4, 5, 4, 10, 1, 1, 2, 5, 9, 9, 8, 7, 2, 6, 8, 1, 7, 5, 9, 2, 3, 2, 7, 1, 8, 10, 4, 6, 4, 3, 5, 1, 5, 3, 9, 4, 5, 7, 5, 8, 8, 10, 1, 7, 3, 4, 10, 10, 9, 4, 2, 6, 2, 4, 7, 4, 3, 8, 1, 5, 9, 7, 5, 3, 5, 10, 1, 10, 5, 1, 8, 6, 3, 4, 5, 5, 1, 7, 4, 4, 6, 6, 4, 8, 8, 6, 6, 5, 6, 10, 4, 3, 4, 4, 6, 3, 6, 4, 5, 9, 6, 4, 9, 5, 2, 9, 4, 2, 1, 2, 4, 10, 5, 4, 10, 8, 8, 5, 7, 5, 4, 5, 4, 7, 9, 6, 3, 9, 8, 5, 4, 9, 4, 8, 4, 1, 1, 3, 7, 7, 2, 6, 5, 7, 2, 5, 2, 4, 9, 5, 7, 2, 1, 3, 5, 9, 3, 8, 7, 1, 9, 5, 6, 10, 5, 1, 9, 3, 6, 5, 2, 9, 8, 6, 5, 5, 4, 6, 10, 4, 9, 9, 10, 1, 8, 1, 8, 6, 2, 9, 4, 3, 1, 9, 9, 6, 9, 1, 4, 7, 3, 4, 8, 7, 5, 2, 2, 10, 6, 8, 5, 2, 5, 10, 7, 9, 7, 10, 9, 3, 6, 9, 3, 6, 4, 1, 2, 4, 6, 8, 10, 4, 5, 4, 9, 8, 3, 7, 8, 6, 10, 9, 4, 4, 8, 1, 4, 7, 6, 4, 6, 1, 9, 8, 6, 1, 5, 10, 8, 6, 1, 8, 10, 9, 6, 1, 1, 6, 6, 1, 2, 8, 9, 10, 6, 10, 4, 8, 9, 6, 3, 9, 2, 2, 9, 5, 4, 7, 4, 5, 3, 4, 1, 6, 10, 6, 1, 1, 7, 1, 5, 8, 4, 3, 4, 7, 1, 3, 1, 4, 6, 3, 7, 3, 8, 2, 8, 9, 5, 5, 1, 10, 1, 10, 9, 8, 8, 10, 10, 9, 4, 1, 1, 10, 6, 6, 7, 7, 1, 10, 10, 2, 2, 4, 7, 1, 5, 5, 10, 8, 6, 8, 9, 7, 6, 9, 3, 6, 3, 4, 7, 7, 4, 5, 3, 10, 9, 8, 3, 2, 8, 2, 4, 8, 8, 3, 4, 7, 4, 3, 5, 4, 7, 6, 8, 5, 3, 2, 7, 4, 1, 10, 5, 5, 1, 3, 2, 4, 1, 1, 5, 1, 7, 7, 6, 3, 4, 1, 10, 8, 5, 10, 5, 5, 3, 1, 3, 3, 1, 2, 7, 1, 3, 5, 8, 10, 3, 7, 2, 1, 3, 2, 10, 7, 2, 1, 7, 4, 3, 2, 10, 8, 4, 9, 9, 4, 8, 5, 3, 9, 2, 3, 10, 9, 5, 6, 9, 10, 4, 8, 8, 2, 2, 1, 1, 4, 5, 2, 5, 8, 3, 8, 6, 3, 5, 7, 10, 4, 9, 1, 6, 2, 7, 3, 8, 8, 2, 7, 7, 4, 1, 3, 5, 3, 6, 9, 6, 9, 2, 7, 3, 6, 4, 4, 2, 10, 1, 6, 2, 7, 3, 2, 1, 10, 6, 3, 2, 3, 7, 8, 8, 7, 1, 7, 5, 10, 1, 5, 4, 9, 10, 4, 5, 3, 10, 9, 1, 6, 4, 5, 4, 4, 5, 10, 10, 1, 10, 6, 5, 1, 1, 9, 6, 2, 2, 5, 9, 2, 6, 8, 3, 7, 7, 6, 3, 5, 7, 6, 9, 3, 9, 4, 5, 3, 7, 1, 9, 8, 6, 4, 4, 9, 1, 3, 10, 1, 3, 10, 10, 1, 3, 10, 6, 6, 1, 4, 1, 9, 1, 7, 1, 10, 3, 7, 10, 6, 7, 1, 3, 4, 1, 3, 1, 7, 7, 7, 5, 1, 2, 7, 7, 5, 1, 4, 1, 9, 1, 9, 3, 7, 2, 4, 5, 8, 7, 8, 6, 4, 2, 3, 7, 6, 9, 2, 6, 10, 3, 3, 10, 3, 9, 10, 1, 5, 1, 7, 6, 8, 6, 1, 10, 2, 9, 6, 7, 8, 1, 3, 2, 5, 2, 2, 6, 5, 4, 8, 2, 10, 2, 9, 7, 10, 9, 8, 6, 8, 6, 2, 9, 7, 1, 5, 1, 4, 9, 4, 2, 10, 9, 8, 4, 8, 1, 2, 6, 5, 5, 8, 9, 2, 1, 8, 2, 8, 7, 2, 9, 10, 5, 1, 1, 7, 3, 5, 1, 5, 4, 8, 9, 8, 5, 4, 5, 3, 6, 10, 2, 2, 3, 5, 6, 4, 4, 5, 6, 1, 8, 8, 7, 1, 5, 2, 9, 2, 10, 8, 4, 7, 9, 8, 9, 1, 1, 4, 7, 5, 1, 8, 5, 9, 1, 4, 10, 8, 8, 6, 8, 10, 10, 10, 5, 1, 7, 7, 6, 8, 3, 1, 4, 10, 9, 5, 5, 6, 7, 2, 6, 3, 1, 9, 1, 10, 1, 10, 5, 6, 3, 1, 2, 6, 7, 7, 10, 1, 10, 5, 6, 3, 7, 1, 1, 10, 5, 6, 4, 9, 10, 2, 9, 9, 2, 9, 7, 9, 2, 7, 4, 3, 6, 8, 5, 5, 3, 2, 6, 7, 2, 1, 10, 8, 2, 7, 10, 10, 8, 8, 9, 6, 8, 10, 1, 7, 10, 1, 8, 6, 9, 3, 8, 1, 6, 3, 4, 9, 2, 1, 9, 8, 10, 5, 6, 5, 6, 3, 7, 4, 10, 5, 10, 8, 10, 8, 1, 9, 9, 5, 9, 4, 4, 9, 6, 5, 8, 1, 1, 1, 7, 6, 5, 7, 9, 7, 8, 3, 1, 5, 3, 8, 1, 3, 1, 1, 9, 5, 6, 3, 8, 1, 9, 5, 4, 10, 1, 1, 6, 3, 7, 1, 5, 1, 7, 2, 1, 4, 6, 9, 6, 6, 8, 9, 8, 5, 7, 5, 10, 2, 6, 1, 8, 8, 2, 7, 10, 1, 6, 9, 5, 3, 1, 10, 2, 6, 3, 4, 10, 9, 3, 1, 8, 1, 2, 4, 8, 3, 7, 10, 3, 1, 2, 2, 7, 4, 9, 10, 10, 6, 2, 6, 5, 10, 5, 7, 10, 5, 3, 2, 5, 10, 8, 10, 1, 4, 7, 5, 8, 9, 7, 4, 3, 2, 4, 7, 7, 10, 4, 9, 7, 7, 6, 2, 10, 8, 10, 8, 2, 2, 1, 10, 6, 2, 3, 7, 6, 8, 1, 2, 1, 5, 1, 7, 1, 7, 6, 9, 8, 3, 4, 7, 4, 8, 4, 9, 10, 1, 10, 7, 4, 4, 9, 6, 5, 1, 10, 2, 1, 6, 4, 2, 7, 10, 10, 10, 6, 5, 8, 6, 4, 9, 5, 5, 8, 9, 2, 9, 4, 7, 9, 8, 3, 1, 10, 10, 9, 6, 3, 10, 4, 9, 1, 1, 9, 3, 9, 9, 1, 5, 7, 4, 8, 10, 2, 5, 1, 4, 4, 2, 6, 1, 6, 1, 5, 10, 3, 10, 7, 9, 4, 4, 5, 9, 4, 5, 4, 4, 1, 8, 10, 9, 2, 3, 4, 7, 9, 6, 10, 9, 10, 5, 2, 3, 5, 9, 8, 3, 5, 9, 9, 4, 10, 9, 8, 5, 10, 6, 2, 2, 3, 7, 7, 9, 6, 3, 5, 7, 7, 9, 3, 10, 6, 2, 5, 6, 5, 1, 10, 4, 10, 6, 7, 9, 7, 2, 1, 4, 5, 3, 4, 1, 10, 8, 9, 1, 7, 1, 1, 3, 7, 5, 4, 9, 5, 8, 3, 7, 7, 2, 1, 6, 2, 8, 2, 7, 8, 8, 2, 5, 9, 3, 10, 10, 3, 6, 5, 10, 9, 5, 2, 5, 6, 4, 4, 9, 4, 4, 8, 9, 3, 10, 6, 7, 6, 10, 6, 1, 9, 10, 6, 8, 6, 6, 3, 6, 2, 2, 3, 1, 1, 5, 6, 7, 4, 6, 10, 7, 8, 2, 5, 9, 3, 1, 6, 5, 3, 5, 4, 2, 1, 7, 9, 3, 10, 6, 3, 8, 8, 8, 1, 7, 5, 6, 7, 7, 2, 7, 3, 4, 5, 5, 4, 6, 7, 2, 4, 1, 6, 6, 4, 2, 1, 7, 3, 9, 6, 8, 2, 8, 6, 7, 6, 6, 6, 1, 3, 4, 9, 9, 5, 5, 1, 2, 8, 10, 6, 2, 10, 6, 8, 7, 6, 7, 3, 10, 1, 2, 1, 5, 2, 4, 6, 6, 6, 1, 8, 6, 2, 3, 4, 8, 9, 1, 9, 8, 1, 7, 3, 4, 1, 5, 1, 5, 4, 4, 5, 4, 7, 4, 2, 5, 7, 7, 1, 8, 4, 2, 10, 7, 10, 6, 7, 7, 7, 1, 9, 4, 5, 2, 5, 10, 10, 3, 7, 5, 7, 3, 2, 3, 2, 1, 9, 9, 10, 8, 4, 4, 1, 2, 9, 5, 1, 10, 10, 5, 3, 2, 9, 4, 8, 9, 5, 3, 2, 3, 1, 1, 4, 10, 5, 6, 8, 5, 1, 3, 5, 6, 8, 5, 2, 7, 9, 5, 8, 10, 6, 8, 5, 8, 7, 3, 5, 2, 10, 4, 10, 3, 5, 10, 1, 3, 1, 9, 1, 8, 3, 2, 9, 10, 9, 6, 2, 3, 6, 8, 8, 4, 9, 2, 8, 2, 9, 2, 1, 5, 1, 10, 6, 1, 8, 7, 3, 7, 6, 9, 1, 8, 7, 8, 9, 4, 9, 2, 5, 7, 6, 6, 9, 2, 6, 5, 2, 2, 8, 6, 10, 4, 1, 8, 7, 5, 3, 3, 2, 1, 2, 9, 9, 7, 8, 8, 7, 6, 9, 2, 8, 9, 10, 1, 7, 8, 9, 1, 4, 6, 5, 5, 4, 3, 6, 9, 9, 10, 4, 3, 1, 2, 6, 8, 2, 10, 7, 9, 5, 1, 10, 9, 2, 3, 10, 1, 1, 3, 2, 4, 9, 2, 7, 2, 10, 9, 7, 2, 8, 7, 8, 8, 9, 3, 10, 3, 7, 10, 7, 8, 6, 3, 7, 10, 2, 9, 1, 5, 2, 2, 3, 10, 8, 1, 5, 5, 2, 1, 6, 1, 8, 9, 10, 2, 4, 7, 1, 6, 4, 8, 3, 1, 6, 3, 9, 7, 6, 9, 6, 10, 8, 10, 4, 3, 2, 3, 9, 10, 2, 9, 9, 6, 1, 2, 2, 8, 1, 6, 5, 5, 1, 2, 3, 9, 4, 4, 10, 4, 7, 2, 7, 10, 7, 10, 1, 1, 8, 8, 4, 10, 2, 2, 6, 6, 6, 3, 3, 4, 6, 10, 6, 2, 7, 2, 3, 9, 10, 10, 7, 2, 6, 3, 9, 1, 5, 8, 9, 3, 8, 10, 7, 2, 5, 3, 3, 4, 1, 6, 4, 2, 10, 4, 7, 3, 3, 9, 9, 1, 5, 2, 10, 1, 4, 4, 4, 10, 7, 2, 4, 7, 8, 9, 7, 7, 4, 7, 2, 9, 9, 7, 2, 6, 8, 2, 5, 9, 5, 10, 7, 5, 3, 2, 10, 2, 6, 1, 8, 10, 3, 3, 8, 1, 1, 4, 6, 6, 6, 2, 5, 7, 6, 8, 9, 6, 8, 3, 6, 3, 9, 7, 9, 8, 3, 8, 2, 6, 3, 9, 9, 8, 1, 6, 8, 4, 6, 1, 4, 7, 10, 3, 6, 1, 2, 4, 5, 6, 3, 6, 10, 8, 9, 3, 7, 3, 4, 10, 4, 7, 5, 8, 4, 7, 5, 5, 10, 8, 7, 9, 6, 7, 10, 1, 4, 1, 4, 8, 3, 7, 6, 8, 5, 1, 3, 5, 10, 2, 3, 7, 9, 2, 2, 4, 7, 4, 8, 8, 1, 6, 8, 9, 3, 8, 1, 3, 1, 1, 6, 5, 3, 6, 8, 4, 10, 4, 8, 10, 4, 9, 3, 4, 9, 3, 5, 10, 1, 6, 1, 5, 8, 5, 5, 4, 6, 10, 9, 5, 4, 3, 7, 7, 9, 2, 1, 10, 2, 10, 4, 4, 7, 6, 2, 8, 4, 6, 4, 1, 1, 1, 1, 7, 7, 7, 8, 6, 1, 6, 1, 7, 6, 4, 5, 2, 5, 5, 3, 4, 10, 4, 10, 9, 4, 1, 8, 1, 5, 3, 3, 7, 7, 9, 7, 9, 9, 9, 9, 7, 2, 9, 5, 7, 7, 9, 3, 9, 5, 8, 5, 3, 6, 2, 8, 3, 7, 7, 7, 4, 4, 4, 2, 9, 3, 9, 10, 4, 5, 5, 10, 2, 8, 9, 7, 3, 4, 5, 9, 4, 3, 10, 3, 2, 3, 9, 1, 8, 5, 3, 1, 10, 9, 4, 2, 7, 4, 4, 3, 8, 3, 3, 9, 1, 9, 7, 9, 10, 4, 9, 4, 5, 1, 2, 9, 10, 5, 9, 8, 2, 4, 4, 8, 6, 9, 6, 9, 6, 10, 4, 8, 8, 7, 9, 6, 6, 4, 5, 3, 9, 4, 2, 1, 8, 8, 5, 9, 3, 9, 7, 1, 2, 10, 5, 6, 1, 2, 9, 5, 5, 5, 8, 10, 2, 6, 10, 8, 3, 8, 10, 4, 1, 10, 7, 1, 3, 10, 7, 1, 7, 5, 8, 10, 8, 9, 6, 10, 5, 6, 6, 8, 4, 1, 7, 4, 9, 7, 9, 5, 4, 10, 7, 4, 2, 3, 7, 6, 5, 9, 6, 3, 6, 7, 5, 5, 4, 9, 8, 3, 2, 10, 6, 8, 3, 5, 8, 2, 5, 7, 9, 8, 5, 1, 4, 4, 10, 2, 5, 10, 5, 1, 2, 9, 4, 3, 3, 6, 8, 10, 9, 7, 9, 8, 10, 7, 2, 1, 9, 8, 5, 4, 2, 5, 4, 6, 4, 7, 7, 3, 10, 5, 7, 1, 4, 2, 9, 6, 8, 7, 8, 9, 6, 1, 6, 1, 8, 6, 3, 1, 9, 10, 4, 3, 9, 7, 2, 3, 5, 10, 9, 1, 7, 1, 10, 5, 10, 3, 9, 5, 6, 7, 1, 3, 6, 1, 3, 9, 2, 8, 7, 3, 8, 1, 6, 6, 10, 10, 6, 1, 9, 6, 5, 8, 6, 9, 4, 10, 9, 3, 1, 1, 10, 1, 10, 5, 7, 8, 10, 3, 9, 3, 3, 3, 2, 3, 8, 8, 7, 2, 5, 8, 8, 1, 5, 2, 1, 7, 6, 8, 9, 7, 9, 2, 8, 7, 1, 7, 6, 5, 8, 8, 10, 7, 7, 9, 1, 3, 5, 7, 3, 8, 4, 1, 4, 9, 2, 4, 6, 2, 4, 3, 3, 10, 2, 9, 9, 3, 2, 3, 9, 1, 6, 1, 10, 3, 1, 4, 9, 8, 10, 3, 9, 3, 4, 1, 8, 1, 6, 2, 6, 3, 10, 5, 5, 7, 6, 3, 1, 8, 8, 1, 3, 5, 1, 9, 8, 9, 9, 3, 2, 3, 9, 1, 5, 5, 7, 6, 9, 4, 10, 5, 6, 3, 1, 4, 5, 8, 9, 9, 1, 7, 4, 8, 8, 7, 7, 9, 9, 2, 3, 6, 1, 7, 1, 1, 8, 8, 9, 2, 4, 6, 2, 1, 5, 2, 2, 1, 3, 4, 5, 6, 2, 3, 5, 10, 6, 9, 10, 6, 5, 3, 6, 10, 9, 8, 7, 4, 1, 2, 4, 1, 3, 3, 6, 3, 9, 3, 1, 2, 4, 10, 2, 4, 7, 10, 10, 2, 6, 1, 7, 4, 5, 5, 1, 10, 1, 6, 5, 10, 8, 3, 9, 2, 7, 1, 2, 3, 5, 5, 10, 9, 5, 4, 6, 6, 7, 6, 4, 4, 4, 10, 6, 2, 10, 5, 1, 10, 10, 8, 2, 3, 9, 2, 7, 8, 6, 3, 6, 3, 7, 3, 7, 3, 4, 3, 5, 8, 2, 2, 2, 9, 6, 7, 7, 8, 3, 5, 10, 9, 1, 1, 10, 8, 7, 10, 6, 9, 2, 9, 1, 7, 7, 5, 5, 1, 3, 5, 2, 8, 1, 7, 10, 2, 5, 5, 2, 5, 4, 3, 4, 1, 1, 1, 9, 4, 8, 5, 8, 2, 6, 10, 1, 10, 4, 4, 6, 8, 1, 2, 4, 7, 6, 8, 6, 7, 1, 1, 8, 7, 6, 3, 2, 9, 1, 10, 6, 3, 2, 7, 6, 9, 6, 9, 8, 2, 7, 9, 10, 7, 4, 2, 8, 3, 4, 2, 1, 6, 3, 10, 10, 8, 1, 3, 9, 1, 3, 5, 9, 5, 7, 5, 5, 8, 9, 9, 2, 1, 10, 8, 10, 9, 6, 10, 6, 8, 1, 10, 10, 2, 7, 10, 9, 9, 6, 4, 9, 9, 8, 5, 9, 1, 1, 10, 9, 7, 7, 1, 4, 7, 4, 1, 5, 9, 5, 6, 7, 2, 7, 4, 4, 1, 4, 7, 10, 3, 5, 9, 7, 3, 9, 2, 8, 9, 6, 9, 8, 8, 3, 8, 5, 9, 10, 3, 7, 1, 2, 5, 4, 2, 8, 4, 7, 4, 3, 5, 2, 5, 10, 8, 3, 3, 1, 9, 1, 9, 5, 3, 8, 3, 6, 1, 2, 2, 10, 6, 9, 10, 3, 4, 5, 2, 1, 2, 4, 5, 4, 3, 2, 3, 4, 8, 8, 6, 4, 10, 4, 4, 5, 4, 8, 10, 8, 10, 3, 2, 3, 8, 10, 10, 5, 9, 7, 3, 7, 2, 3, 5, 6, 3, 5, 9, 8, 2, 5, 4, 3, 4, 5, 7, 4, 8, 9, 10, 8, 10, 3, 1, 1, 2, 2, 6, 7, 4, 4, 2, 3, 6, 8, 6, 7, 4, 10, 6, 6, 6, 9, 1, 1, 5, 4, 8, 7, 1, 9, 2, 7, 2, 1, 8, 5, 1, 1, 9, 10, 10, 3, 7, 1, 10, 4, 6, 4, 9, 6, 1, 10, 10, 2, 8, 4, 5, 1, 1, 3, 1, 10, 8, 2, 2, 2, 10, 9, 5, 10, 5, 7, 6, 4, 4, 2, 4, 3, 10, 4, 7, 9, 3, 5, 6, 8, 2, 1, 8, 2, 1, 8, 4, 1, 1, 5, 6, 4, 1, 7, 4, 2, 8, 5, 1, 2, 9, 5, 1, 8, 5, 4, 9, 7, 3, 2, 3, 4, 8, 10, 7, 2, 4, 9, 2, 2, 4, 9, 4, 3, 3, 6, 6, 9, 4, 10, 1, 1, 3, 8, 7, 3, 6, 10, 9, 4, 4, 7, 7, 4, 5, 2, 1, 9, 3, 1, 10, 2, 6, 3, 9, 10, 10, 10, 8, 7, 3, 1, 1, 2, 7, 3, 7, 4, 2, 2, 1, 3, 5, 2, 8, 9, 2, 3, 9, 5, 5, 9, 3, 5, 4, 3, 10, 1, 2, 8, 9, 2, 8, 9, 7, 7, 6, 8, 6, 8, 7, 10, 6, 6, 9, 4, 5, 3, 1, 2, 8, 8, 2, 9, 7, 4, 6, 1, 6, 9, 5, 6, 6, 1, 7, 1, 2, 5, 7, 4, 3, 1, 10, 6, 1, 9, 6, 7, 10, 5, 6, 1, 7, 6, 7, 2, 8, 9, 7, 6, 6, 5, 4, 10, 2, 2, 9, 8, 3, 8, 3, 3, 9, 10, 7, 10, 8, 1, 1, 2, 8, 4, 3, 4, 9, 5, 8, 9, 4, 7, 4, 8, 3, 8, 7, 10, 7, 2, 7, 2, 3, 4, 9, 1, 2, 8, 6, 6, 3, 9, 1, 2, 9, 6, 6, 8, 5, 1, 6, 3, 10, 3, 4, 8, 5, 7, 5, 4, 7, 4, 2, 9, 2, 10, 6, 7, 9, 7, 5, 6, 3, 3, 8, 10, 8, 4, 9, 5, 7, 10, 10, 5, 4, 4, 2, 6, 7, 3, 3, 4, 4, 9, 10, 5, 9, 8, 3, 2, 8, 1, 4, 5, 1, 3, 4, 4, 3, 5, 10, 2, 10, 9, 6, 10, 3, 2, 8, 9, 3, 1, 2, 8, 1, 3, 8, 5, 4, 8, 2, 4, 6, 10, 1, 3, 10, 5, 7, 5, 9, 1, 2, 9, 10, 3, 6, 5, 6, 4, 10, 5, 8, 4, 5, 2, 1, 1, 10, 6, 10, 2, 2, 5, 8, 7, 5, 10, 8, 3, 6, 8, 4, 5, 3, 4, 6, 5, 3, 1, 1, 8, 3, 5, 10, 9, 5, 8, 9, 10, 1, 5, 5, 6, 9, 5, 9, 3, 4, 8, 4, 4, 1, 8, 9, 7, 2, 6, 9, 5, 6, 4, 4, 5, 2, 3, 4, 10, 1, 7, 5, 7, 5, 8, 4, 8, 2, 7, 6, 9, 2, 9, 4, 6, 7, 6, 6, 9, 5, 2, 1, 4, 7, 9, 4, 3, 5, 7, 9, 10, 3, 4, 7, 9, 2, 2, 9, 7, 10, 3, 1, 7, 6, 2, 9, 2, 4, 10, 5, 1, 5, 5, 6, 5, 10, 3, 3, 10, 3, 1, 2, 9, 9, 9, 8, 6, 5, 8, 10, 2, 6, 5, 9, 4, 1, 6, 7, 6, 10, 4, 9, 8, 4, 6, 6, 6, 3, 7, 10, 2, 3, 4, 3, 4, 8, 2, 5, 5, 3, 10, 2, 4, 3, 10, 7, 3, 6, 6, 9, 1, 2, 9, 7, 1, 8, 9, 6, 5, 2, 6, 6, 5, 8, 2, 3, 2, 7, 10, 10, 4, 10, 7, 4, 1, 2, 9, 9, 7, 6, 10, 4, 5, 7, 7, 3, 3, 10, 5, 2, 8, 7, 6, 10, 2, 7, 7, 7, 7, 1, 3, 8, 8, 1, 8, 9, 1, 3, 3, 4, 10, 9, 4, 3, 9, 9, 5, 10, 10, 2, 5, 4, 2, 3, 2, 10, 4, 2, 7, 8, 7, 5, 5, 3, 6, 5, 7, 3, 2, 4, 4, 9, 1, 7, 8, 9, 7, 3, 10, 5, 7, 1, 8, 7, 4, 9, 1, 8, 2, 5, 7, 2, 8, 6, 9, 3, 3, 5, 1, 5, 9, 10, 9, 8, 3, 4, 2, 1, 6, 6, 1, 4, 6, 10, 5, 3, 7, 2, 6, 6, 7, 2, 8, 4, 7, 3, 2, 5, 3, 6, 4, 5, 8, 2, 1, 3, 8, 7, 1, 4, 5, 4, 8, 4, 1, 2, 9, 8, 7, 10, 3, 8, 1, 2, 5, 10, 7, 7, 6, 2, 4, 7, 6, 9, 2, 1, 3, 8, 6, 5, 5, 5, 9, 10, 2, 5, 3, 7, 4, 7, 5, 1, 3, 1, 10, 1, 4, 10, 6, 5, 1, 10, 3, 6, 2, 4, 7, 9, 9, 7, 7, 1, 10, 9, 9, 4, 2, 5, 2, 9, 9, 8, 6, 6, 8, 5, 1, 9, 6, 8, 1, 5, 6, 3, 5, 8, 7, 10, 6, 5, 2, 6, 2, 9, 10, 8, 1, 9, 5, 10, 4, 8, 3, 10, 5, 3, 7, 3, 6, 3, 6, 2, 1, 5, 2, 6, 8, 7, 2, 4, 1, 7, 4, 2, 1, 4, 2, 4, 1, 4, 5, 7, 4, 1, 3, 8, 2, 2, 2, 2, 7, 6, 8, 9, 7, 2, 5, 2, 4, 8, 2, 4, 4, 2, 1, 6, 9, 1, 3, 5, 10, 7, 8, 10, 9, 7, 6, 6, 8, 10, 9, 2, 7, 2, 7, 2, 5, 6, 3, 3, 7, 7, 2, 8, 4, 1, 5, 8, 3, 10, 3, 5, 4, 5, 9, 10, 9, 10, 5, 2, 4, 5, 5, 4, 7, 6, 4, 10, 3, 10, 7, 4, 5, 10, 6, 1, 3, 4, 5, 8, 1, 6, 4, 10, 6, 9, 2, 8, 2, 9, 7, 1, 1, 2, 9, 3, 7, 8, 4, 8, 8, 10, 1, 10, 10, 3, 9, 3, 7, 2, 1, 8, 6, 7, 3, 3, 5, 2, 10, 2, 7, 2, 3, 8, 5, 8, 2, 10, 6, 9, 6, 1, 10, 3, 5, 4, 6, 1, 1, 1, 8, 3, 6, 6, 8, 8, 10, 2, 9, 7, 2, 9, 10, 1, 8, 7, 4, 7, 8, 4, 1, 8, 10, 5, 5, 4, 4, 8, 2, 8, 3, 2, 3, 2, 3, 5, 1, 2, 1, 7, 7, 9, 4, 9, 3, 5, 10, 7, 8, 5, 8, 3, 1, 2, 8, 1, 5, 9, 5, 10, 9, 4, 9, 5, 5, 2, 1, 3, 5, 1, 1, 7, 7, 10, 7, 2, 7, 6, 2, 3, 4, 2, 7, 1, 9, 10, 10, 5, 5, 7, 9, 5, 4, 3, 9, 6, 8, 6, 7, 7, 9, 1, 9, 7, 1, 3, 6, 6, 4, 1, 1, 7, 10, 6, 9, 9, 7, 10, 5, 4, 2, 1, 10, 10, 9, 9, 7, 9, 5, 10, 10, 1, 1, 7, 4, 7, 5, 7, 10, 7, 5, 1, 1, 2, 2, 10, 9, 4, 10, 8, 10, 3, 10, 5, 2, 5, 3, 3, 1, 2, 3, 6, 3, 7, 2, 8, 8, 9, 7, 1, 1, 3, 10, 10, 6, 5, 1, 9, 9, 6, 3, 1, 2, 8, 8, 4, 6, 7, 5, 5, 9, 1, 7, 7, 1, 9, 10, 3, 6, 10, 4, 8, 8, 3, 8, 7, 7, 4, 8, 8, 1, 2, 10, 10, 4, 4, 7, 10, 8, 8, 8, 8, 4, 2, 3, 6, 4, 6, 8, 3, 2, 5, 1, 1, 5, 7, 1, 2, 6, 10, 6, 2, 7, 2, 10, 6, 4, 2, 2, 8, 2, 8, 4, 9, 9, 2, 1, 5, 8, 2, 2, 9, 7, 7, 9, 10, 10, 10, 7, 2, 6, 3, 1, 9, 5, 9, 2, 10, 2, 1, 9, 3, 1, 5, 3, 10, 4, 2, 3, 9, 4, 1, 10, 3, 8, 9, 1, 5, 6, 10, 9, 8, 9, 2, 3, 7, 5, 3, 2, 6, 10, 9, 9, 4, 10, 6, 8, 5, 10, 5, 10, 7, 6, 10, 4, 2, 8, 5, 2, 7, 8, 10, 7, 9, 6, 8, 8, 7, 4, 3, 10, 2, 6, 7, 9, 10, 10, 3, 2, 5, 8, 7, 2, 6, 4, 4, 2, 5, 6, 10, 8, 2, 1, 6, 5, 7, 1, 4, 4, 4, 3, 4, 9, 6, 2, 4, 5, 1, 4, 10, 9, 7, 6, 5, 6, 8, 6, 1, 9, 6, 10, 8, 10, 9, 10, 5, 3, 9, 7, 2, 9, 8, 4, 4, 5, 7, 1, 3, 3, 3, 3, 3, 4, 10, 1, 1, 10, 9, 3, 9, 7, 4, 1, 3, 3, 5, 10, 8, 7, 10, 3, 10, 7, 2, 10, 1, 7, 2, 3, 2, 10, 3, 2, 4, 6, 9, 5, 5, 5, 3, 2, 9, 9, 8, 8, 7, 6, 3, 5, 9, 2, 6, 8, 3, 8, 10, 3, 1, 7, 10, 8, 3, 4, 2, 10, 7, 10, 10, 9, 9, 7, 6, 4, 2, 2, 7, 8, 1, 3, 9, 9, 2, 6, 10, 1, 5, 6, 4, 8, 3, 1, 8, 5, 3, 9, 4, 4, 8, 3, 10, 5, 9, 9, 9, 6, 4, 5, 1, 4, 5, 1, 4, 10, 5, 9, 1, 4, 5, 4, 5, 4, 2, 10, 2, 1, 7, 2, 7, 1, 2, 1, 8, 1, 1, 10, 8, 5, 1, 3, 1, 8, 6, 6, 9, 7, 6, 9, 10, 1, 6, 6, 7, 10, 9, 2, 10, 4, 5, 1, 4, 6, 8, 2, 2, 4, 9, 7, 6, 5, 8, 10, 6, 4, 1, 10, 5, 1, 6, 8, 5, 4, 1, 4, 5, 5, 6, 1, 9, 9, 1, 10, 2, 8, 5, 7, 7, 2, 3, 6, 3, 5, 2, 8, 5, 9, 7, 10, 5, 7, 7, 3, 7, 5, 4, 3, 7, 4, 6, 6, 3, 10, 3, 5, 4, 4, 8, 2, 6, 10, 4, 10, 10, 5, 1, 5, 8, 4, 5, 6, 7, 8, 9, 3, 7, 5, 3, 9, 8, 3, 4, 8, 9, 1, 7, 8, 2, 9, 3, 1, 2, 3, 2, 5, 6, 6, 10, 10, 8, 9, 7, 5, 2, 9, 4, 3, 3, 8, 4, 1, 6, 10, 10, 10, 1, 6, 7, 2, 10, 9, 5, 1, 3, 8, 9, 7, 2, 1, 5, 8, 1, 9, 4, 5, 8, 3, 3, 6, 1, 9, 9, 10, 5, 3, 1, 5, 9, 9, 4, 2, 5, 7, 6, 4, 1, 8, 10, 5, 7, 5, 10, 9, 1, 6, 3, 1, 1, 1, 9, 1, 5, 5, 8, 6, 4, 10, 10, 5, 5, 5, 9, 7, 9, 4, 3, 9, 1, 3, 6, 2, 2, 4, 8, 7, 2, 7, 4, 10, 2, 7, 7, 2, 8, 1, 10, 1, 1, 4, 2, 2, 9, 5, 10, 1, 7, 6, 8, 7, 7, 4, 6, 3, 6, 5, 3, 8, 4, 1, 9, 10, 6, 1, 4, 8, 6, 7, 8, 1, 3, 5, 4, 4, 7, 4, 7, 7, 2, 4, 10, 8, 5, 7, 1, 3, 2, 7, 5, 3, 4, 3, 4, 10, 3, 5, 2, 6, 4, 9, 1, 8, 3, 7, 7, 4, 4, 8, 10, 8, 10, 2, 7, 9, 1, 7, 4, 9, 1, 10, 4, 5, 10, 4, 7, 6, 10, 6, 7, 8, 6, 7, 6, 10, 6, 3, 5, 2, 8, 2, 5, 7, 6, 2, 5, 1, 2, 3, 6, 1, 1, 1, 1, 4, 7, 4, 10, 2, 10, 7, 8, 6, 7, 9, 8, 2, 9, 7, 6, 1, 8, 3, 7, 6, 2, 5, 9, 3, 7, 9, 10, 8, 1, 6, 10, 9, 7, 4, 3, 2, 8, 7, 4, 1, 4, 3, 1, 10, 1, 4, 9, 7, 8, 1, 1, 4, 6, 10, 2, 4, 9, 2, 10, 2, 1, 9, 2, 8, 5, 7, 6, 4, 2, 6, 4, 10, 8, 3, 4, 5, 7, 10, 5, 7, 3, 5, 1, 4, 10, 1, 7, 4, 7, 8, 4, 2, 10, 10, 8, 1, 8, 6, 8, 3, 6, 4, 5, 2, 3, 1, 7, 4, 2, 8, 9, 1, 8, 3, 9, 3, 8, 6, 2, 5, 10, 10, 3, 5, 7, 10, 10, 8, 6, 8, 3, 1, 3, 8, 1, 4, 8, 7, 10, 10, 9, 3, 9, 1, 3, 1, 3, 10, 8, 3, 9, 6, 3, 5, 6, 9, 10, 9, 10, 9, 7, 6, 4, 4, 8, 10, 10, 6, 1, 3, 5, 10, 10, 2, 9, 5, 6, 9, 7, 2, 1, 1, 8, 7, 2, 1, 6, 2, 8, 6, 5, 1, 8, 1, 4, 8, 1, 8, 4, 1, 2, 1, 1, 1, 1, 6, 5, 9, 10, 3, 8, 3, 2, 10, 3, 3, 7, 8, 1, 8, 4, 10, 3, 7, 8, 9, 6, 4, 7, 7, 6, 10, 5, 8, 7, 4, 1, 9, 4, 8, 8, 8, 8, 3, 9, 8, 10, 6, 5, 4, 3, 10, 2, 2, 1, 9, 5, 8, 8, 3, 5, 10, 8, 2, 1, 9, 5, 10, 5, 3, 9, 6, 5, 8, 3, 7, 7, 6, 5, 8, 1, 9, 9, 10, 8, 6, 7, 4, 6, 1, 5, 8, 6, 8, 5, 8, 6, 9, 8, 5, 9, 8, 7, 3, 1, 1, 10, 8, 10, 3, 8, 10, 8, 4, 3, 1, 3, 4, 3, 8, 7, 7, 3, 2, 9, 8, 7, 9, 4, 7, 6, 5, 1, 4, 7, 10, 1, 10, 2, 5, 8, 9, 8, 5, 3, 5, 4, 5, 10, 10, 8, 4, 10, 9, 3, 4, 8, 5, 2, 4, 10, 4, 1, 8, 9, 5, 7, 2, 10, 3, 3, 8, 2, 1, 7, 3, 9, 4, 1, 1, 2, 7, 8, 1, 8, 4, 5, 10, 7, 1, 10, 4, 1, 2, 7, 10, 3, 8, 2, 7, 8, 9, 1, 4, 8, 7, 7, 2, 3, 10, 4, 8, 7, 2, 5, 3, 3, 6, 6, 8, 3, 9, 6, 2, 5, 7, 5, 5, 1, 5, 10, 8, 3, 8, 6, 8, 2, 8, 3, 9, 5, 5, 6, 8, 1, 3, 5, 5, 10, 8, 8, 4, 1, 2, 5, 4, 3, 5, 6, 5, 3, 1, 4, 8, 6, 8, 4, 1, 7, 5, 9, 3, 6, 7, 5, 7, 7, 6, 3, 5, 5, 8, 7, 9, 2, 10, 1, 1, 4, 9, 4, 8, 5, 1, 10, 3, 10, 7, 8, 7, 8, 8, 8, 8, 8, 2, 5, 4, 2, 5, 6, 5, 6, 7, 7, 8, 7, 9, 8, 4, 10, 1, 6, 7, 3, 2, 2, 9, 5, 6, 1, 10, 5, 5, 6, 4, 2, 7, 1, 8, 2, 6, 2, 7, 4, 7, 1, 8, 1, 8, 2, 4, 6, 3, 9, 6, 5, 10, 3, 7, 4, 7, 5, 8, 7, 6, 2, 4, 2, 3, 2, 1, 9, 9, 2, 5, 2, 10, 1, 1, 6, 7, 10, 6, 8, 4, 1, 1, 2, 7, 3, 5, 8, 3, 9, 10, 3, 9, 1, 1, 5, 7, 7, 9, 3, 10, 4, 8, 7, 6, 5, 6, 7, 8, 8, 5, 2, 1, 1, 7, 1, 1, 8, 10, 7, 3, 3, 4, 7, 8, 9, 7, 6, 5, 5, 5, 8, 4, 5, 1, 4, 9, 4, 6, 5, 10, 7, 9, 3, 4, 2, 9, 3, 1, 4, 6, 9, 1, 6, 8, 10, 10, 10, 10, 5, 6, 2, 4, 9, 2, 3, 10, 6, 7, 10, 10, 5, 5, 3, 4, 9, 6, 1, 1, 4, 9, 4, 5, 5, 2, 1, 5, 5, 6, 8, 3, 7, 8, 2, 9, 5, 2, 3, 7, 5, 8, 4, 8, 8, 9, 7, 6, 6, 10, 3, 9, 4, 2, 3, 10, 9, 7, 1, 3, 7, 8, 2, 4, 1, 4, 1, 10, 8, 6, 3, 2, 2, 7, 8, 3, 5, 4, 8, 6, 7, 2, 2, 4, 5, 7, 9, 7, 6, 1, 4, 8, 5, 6, 8, 6, 8, 2, 7, 4, 6, 2, 1, 8, 3, 6, 1, 4, 6, 9, 4, 7, 6, 10, 10, 6, 4, 5, 7, 1, 5, 6, 7, 10, 3, 8, 6, 6, 5, 5, 6, 1, 10, 7, 9, 9, 6, 9, 1, 4, 3, 1, 8, 5, 2, 4, 6, 4, 9, 2, 8, 7, 3, 4, 10, 8, 3, 8, 8, 7, 3, 4, 6, 9, 2, 7, 10, 4, 4, 10, 2, 9, 4, 1, 6, 4, 1, 1, 10, 5, 3, 3, 9, 10, 7, 10, 3, 3, 4, 9, 9, 8, 7, 3, 2, 9, 8, 5, 10, 9, 7, 1, 5, 6, 6, 3, 8, 9, 6, 8, 2, 7, 8, 3, 10, 10, 2, 9, 8, 2, 6, 6, 9, 5, 5, 4, 5, 7, 8, 1, 6, 5, 8, 10, 7, 6, 2, 10, 9, 10, 10, 3, 4, 9, 2, 7, 4, 10, 3, 4, 5, 10, 6, 8, 2, 9, 3, 6, 1, 1, 2, 1, 7, 4, 4, 4, 5, 4, 2, 7, 5, 5, 3, 5, 9, 4, 8, 4, 9, 2, 1, 5, 3, 5, 4, 5, 4, 1, 10, 10, 8, 1, 10, 5, 7, 2, 8, 6, 7, 6, 4, 1, 6, 2, 1, 6, 3, 7, 1, 1, 7, 5, 9, 2, 2, 8, 9, 9, 7, 10, 2, 8, 9, 6, 5, 10, 9, 1, 2, 6, 5, 8, 8, 1, 8, 2, 1, 6, 7, 2, 9, 4, 7, 10, 3, 7, 9, 1, 9, 3, 4, 7, 9, 6, 5, 7, 9, 1, 1, 9, 6, 7, 7, 2, 1, 7, 3, 6, 5, 10, 1, 7, 8, 7, 3, 9, 5, 7, 6, 2, 1, 7, 5, 10, 8, 4, 9, 2, 6, 8, 1, 4, 7, 2, 1, 7, 7, 2, 2, 9, 9, 8, 6, 5, 4, 6, 1, 9, 2, 7, 9, 8, 10, 6, 5, 8, 5, 9, 5, 5, 7, 4, 9, 7, 9, 7, 3, 2, 7, 3, 2, 1, 2, 8, 10, 10, 3, 4, 9, 1, 4, 8, 5, 7, 4, 3, 9, 10, 4, 1, 7, 6, 7, 3, 8, 1, 9, 10, 2, 7, 10, 9, 8, 6, 9, 4, 1, 6, 3, 3, 10, 9, 5, 4, 9, 3, 5, 4, 5, 6, 9, 5, 2, 5, 2, 8, 10, 9, 10, 9, 2, 8, 5, 5, 5, 5, 10, 5, 3, 8, 1, 7, 8, 10, 10, 2, 6, 10, 5, 5, 6, 3, 6, 4, 1, 6, 8, 10, 7, 10, 8, 7, 5, 4, 4, 3, 9, 6, 3, 5, 1, 3, 9, 7, 7, 8, 7, 1, 2, 2, 8, 1, 2, 6, 10, 4, 4, 4, 6, 4, 9, 7, 7, 6, 10, 6, 3, 1, 7, 4, 6, 10, 8, 4, 3, 4, 8, 8, 3, 6, 10, 3, 7, 9, 5, 5, 2, 1, 7, 10, 2, 7, 2, 6, 10, 7, 6, 3, 8, 7, 6, 9, 9, 7, 3, 7, 5, 3, 8, 9, 7, 5, 5, 6, 2, 10, 4, 7, 5, 1, 5, 8, 10, 3, 5, 1, 9, 2, 1, 5, 10, 2, 3, 7, 6, 10, 10, 10, 2, 3, 6, 3, 1, 8, 5, 10, 7, 7, 6, 2, 8, 8, 4, 9, 7, 6, 2, 9, 10, 9, 9, 1, 6, 2, 2, 8, 7, 3, 2, 1, 8, 10, 6, 10, 5, 9, 6, 7, 2, 2, 1, 8, 3, 8, 8, 1, 5, 2, 4, 6, 7, 3, 8, 3, 7, 2, 1, 10, 6, 6, 1, 10, 4, 3, 7, 2, 7, 2, 5, 7, 8, 10, 9, 4, 10, 5, 1, 9, 4, 1, 2, 6, 6, 10, 10, 8, 9, 8, 6, 6, 9, 4, 10, 5, 4, 3, 4, 10, 4, 5, 4, 5, 9, 2, 8, 7, 6, 8, 10, 2, 6, 5, 1, 3, 5, 8, 8, 4, 9, 10, 5, 7, 10, 6, 7, 6, 7, 8, 6, 4, 3, 6, 4, 8, 2, 3, 10, 9, 6, 8, 6, 4, 4, 3, 9, 6, 9, 7, 8, 3, 4, 3, 5, 10, 1, 3, 8, 9, 10, 4, 9, 7, 10, 4, 2, 6, 5, 6, 1, 8, 10, 4, 10, 3, 5, 4, 7, 9, 6, 9, 5, 5, 9, 2, 3, 2, 3, 8, 1, 9, 4, 6, 8, 10, 8, 1, 10, 5, 9, 6, 3, 5, 7, 10, 8, 5, 5, 10, 6, 7, 6, 8, 6, 1, 7, 2, 6, 7, 8, 9, 1, 4, 7, 9, 3, 10, 9, 8, 9, 6, 9, 10, 7, 1, 1, 6, 8, 8, 6, 4, 2, 4, 8, 4, 5, 8, 3, 10, 9, 4, 3, 3, 6, 6, 1, 6, 10, 4, 1, 4, 2, 8, 10, 8, 7, 6, 7, 4, 6, 10, 2, 2, 10, 1, 10, 7, 4, 1, 1, 9, 3, 9, 2, 9, 2, 6, 7, 7, 2, 7, 8, 10, 9, 10, 5, 1, 9, 8, 4, 9, 1, 5, 10, 9, 1, 2, 3, 5, 10, 1, 5, 9, 5, 2, 2, 2, 4, 1, 7, 6, 3, 10, 5, 1, 10, 3, 3, 2, 2, 10, 6, 2, 6, 7, 3, 3, 8, 3, 8, 7, 9, 9, 1, 1, 3, 2, 7, 6, 8, 7, 4, 1, 5, 7, 4, 6, 9, 3, 1, 4, 1, 10, 5, 9, 10, 1, 2, 2, 1, 9, 9, 9, 4, 9, 10, 7, 7, 6, 9, 10, 1, 9, 10, 5, 7, 9, 5, 9, 1, 10, 6, 5, 2, 7, 3, 8, 10, 9, 6, 3, 4, 8, 8, 7, 10, 2, 6, 9, 6, 9, 7, 9, 10, 9, 2, 4, 9, 4, 7, 7, 4, 6, 7, 6, 3, 9, 8, 2, 9, 5, 7, 5, 1, 5, 6, 9, 9, 2, 6, 1, 1, 5, 6, 9, 2, 2, 4, 1, 3, 5, 3, 3, 10, 5, 4, 2, 5, 9, 7, 3, 8, 5, 3, 9, 6, 10, 7, 7, 10, 6, 7, 2, 4, 10, 8, 4, 7, 5, 4, 8, 1, 3, 2, 2, 2, 2, 5, 3, 5, 9, 7, 8, 2, 1, 10, 10, 5, 5, 6, 4, 8, 10, 9, 1, 9, 7, 7, 5, 9, 10, 5, 4, 6, 6, 6, 10, 8, 8, 10, 9, 1, 9, 7, 1, 1, 7, 9, 8, 10, 1, 7, 3, 5, 7, 3, 3, 2, 7, 6, 1, 8, 3, 10, 5, 7, 1, 1, 7, 4, 7, 8, 10, 4, 2, 1, 9, 4, 7, 7, 2, 9, 3, 2, 1, 7, 4, 1, 4, 5, 9, 9, 7, 7, 8, 5, 1, 1, 7, 2, 6, 7, 2, 4, 9, 10, 2, 8, 4, 6, 2, 8, 2, 2, 5, 8, 10, 1, 7, 2, 10, 6, 4, 6, 9, 10, 10, 7, 4, 7, 3, 7, 3, 7, 7, 1, 1, 1, 6, 1, 8, 7, 5, 4, 10, 2, 10, 4, 3, 6, 9, 6, 9, 6, 9, 2, 1, 6, 4, 7, 6, 1, 8, 3, 1, 8, 1, 2, 9, 2, 10, 10, 8, 7, 3, 7, 8, 1, 5, 10, 2, 9, 2, 6, 8, 5, 9, 7, 1, 3, 2, 8, 5, 8, 8, 7, 3, 5, 9, 10, 10, 3, 9, 8, 8, 3, 8, 4, 4, 6, 2, 8, 2, 10, 3, 1, 10, 2, 4, 6, 10, 2, 4, 6, 1, 9, 10, 7, 3, 3, 8, 8, 5, 6, 2, 9, 10, 8, 9, 8, 8, 5, 1, 5, 4, 2, 4, 5, 9, 7, 2, 9, 8, 4, 10, 6, 10, 4, 8, 5, 4, 6, 6, 5, 4, 6, 6, 1, 7, 5, 3, 5, 8, 8, 1, 10, 5, 2, 9, 9, 7, 4, 5, 3, 9, 4, 9, 5, 8, 8, 4, 6, 10, 4, 10, 7, 5, 5, 9, 10, 1, 2, 5, 6, 8, 7, 10, 3, 2, 1, 5, 10, 6, 2, 5, 7, 8, 7, 1, 1, 7, 1, 10, 5, 2, 9, 5, 7, 9, 1, 9, 3, 8, 9, 2, 6, 5, 10, 1, 3, 7, 4, 8, 9, 7, 8, 2, 3, 8, 6, 1, 5, 7, 2, 3, 2, 2, 6, 3, 1, 7, 3, 5, 4, 4, 7, 9, 10, 8, 9, 8, 9, 10, 7, 6, 2, 3, 3, 2, 4, 10, 5, 9, 10, 8, 5, 2, 9, 7, 10, 9, 9, 9, 9, 9, 5, 7, 2, 10, 5, 1, 7, 4, 5, 10, 9, 2, 7, 5, 8, 9, 4, 2, 4, 5, 5, 1, 2, 3, 8, 6, 6, 10, 5, 10, 8, 8, 9, 3, 7, 3, 7, 5, 2, 5, 7, 2, 5, 1, 5, 8, 9, 3, 6, 8, 8, 5, 3, 4, 6, 10, 2, 10, 9, 1, 1, 3, 6, 10, 3, 5, 8, 6, 9, 10, 1, 9, 9, 8, 8, 4, 3, 5, 9, 10, 7, 8, 2, 5, 1, 10, 9, 4, 7, 10, 1, 1, 8, 4, 10, 9, 5, 3, 7, 8, 9, 7, 4, 5, 6, 2, 2, 10, 7, 1, 7, 7, 9, 6, 2, 9, 2, 7, 10, 1, 5, 6, 8, 8, 2, 3, 1, 6, 10, 8, 9, 8, 8, 4, 7, 5, 1, 6, 1, 4, 2, 1, 6, 7, 5, 2, 3, 5, 5, 1, 4, 2, 8, 8, 7, 5, 7, 7, 3, 10, 8, 7, 7, 7, 8, 2, 10, 1, 8, 4, 3, 10, 5, 5, 6, 1, 3, 5, 6, 4, 3, 10, 4, 1, 10, 7, 6, 5, 5, 3, 6, 1, 9, 2, 5, 5, 1, 7, 2, 6, 5, 9, 4, 2, 9, 6, 7, 5, 1, 5, 2, 3, 6, 7, 5, 10, 3, 8, 5, 5, 6, 8, 5, 5, 8, 3, 9, 2, 3, 10, 9, 7, 4, 2, 5, 9, 7, 7, 5, 6, 5, 2, 4, 8, 3, 1, 9, 8, 9, 7, 3, 8, 2, 8, 4, 3, 10, 4, 4, 10, 7, 9, 8, 8, 8, 9, 3, 9, 4, 8, 3, 6, 3, 9, 1, 4, 6, 6, 9, 10, 7, 3, 10, 10, 1, 9, 7, 5, 3, 8, 7, 2, 7, 5, 1, 8, 4, 2, 4, 6, 10, 8, 4, 7, 2, 8, 4, 1, 6, 7, 1, 7, 6, 1, 3, 7, 4, 9, 3, 9, 10, 2, 7, 1, 9, 7, 1, 3, 3, 8, 6, 5, 4, 8, 5, 9, 8, 8, 9, 7, 8, 8, 7, 4, 2, 10, 9, 2, 4, 8, 2, 7, 8, 7, 1, 1, 2, 8, 10, 5, 3, 10, 9, 8, 1, 1, 4, 6, 10, 9, 1, 7, 6, 4, 4, 6, 10, 8, 3, 7, 9, 8, 10, 5, 2, 10, 3, 5, 5, 3, 1, 7, 3, 7, 5, 10, 10, 4, 7, 1, 8, 5, 1, 2, 1, 8, 9, 6, 1, 10, 3, 7, 4, 9, 10, 5, 1, 8, 8, 9, 4, 3, 9, 2, 7, 8, 10, 3, 8, 10, 7, 1, 7, 7, 2, 7, 9, 8, 10, 6, 1, 6, 7, 2, 8, 8, 1, 8, 9, 5, 9, 4, 3, 6, 2, 10, 5, 7, 6, 7, 2, 8, 5, 9, 6, 7, 5, 5, 8, 6, 3, 6, 6, 1, 10, 9, 2, 2, 6, 7, 6, 8, 4, 6, 6, 3, 8, 9, 1, 2, 1, 4, 6, 8, 4, 5, 4, 4, 5, 8, 8, 1, 2, 7, 3, 6, 3, 8, 7, 5, 6, 10, 9, 10, 2, 7, 4, 9, 10, 9, 10, 4, 3, 1, 10, 5, 6, 7, 1, 6, 10, 7, 4, 4, 5, 4, 9, 7, 4, 5, 8, 6, 1, 4, 9, 3, 10, 6, 3, 2, 1, 8, 5, 4, 1, 2, 6, 10, 2, 1, 3, 1, 3, 9, 7, 10, 2, 3, 2, 8, 9, 6, 10, 4, 2, 6, 8, 7, 7, 4, 8, 5, 10, 3, 9, 9, 6, 9, 1, 5, 7, 8, 7, 1, 5, 4, 8, 3, 4, 5, 10, 6, 2, 3, 1, 7, 6, 1, 1, 5, 8, 2, 3, 9, 7, 4, 9, 4, 4, 7, 5, 4, 2, 10, 10, 10, 7, 1, 4, 8, 6, 2, 3, 1, 2, 10, 4, 8, 6, 9, 1, 2, 3, 6, 1, 1, 2, 6, 7, 2, 8, 2, 8, 5, 5, 4, 10, 8, 5, 10, 6, 4, 3, 2, 4, 5, 9, 2, 9, 5, 9, 3, 1, 6, 8, 9, 9, 7, 7, 1, 3, 1, 5, 10, 4, 2, 9, 8, 9, 8, 9, 3, 4, 3, 10, 2, 2, 7, 4, 7, 3, 2, 5, 8, 3, 8, 9, 6, 5, 10, 10, 1, 10, 5, 4, 7, 1, 8, 1, 4, 9, 6, 3, 9, 2, 10, 1, 6, 10, 10, 1, 8, 4, 1, 8, 5, 5, 3, 4, 6, 3, 10, 8, 6, 10, 2, 4, 3, 1, 2, 4, 2, 4, 4, 7, 6, 6, 7, 10, 6, 4, 9, 10, 10, 5, 8, 4, 1, 5, 3, 5, 2, 6, 10, 4, 4, 10, 10, 1, 3, 2, 1, 4, 1, 8, 5, 10, 3, 8, 10, 4, 5, 4, 4, 6, 6, 10, 4, 9, 2, 9, 4, 1, 7, 3, 4, 1, 3, 10, 5, 1, 1, 7, 8, 7, 4, 3, 1, 4, 4, 8, 5, 1, 5, 8, 7, 8, 4, 5, 2, 5, 3, 6, 7, 1, 7, 9, 3, 7, 10, 4, 1, 10, 6, 6, 10, 8, 6, 2, 4, 10, 6, 4, 10, 10, 3, 1, 7, 2, 6, 4, 5, 2, 8, 8, 1, 4, 5, 6, 2, 1, 8, 6, 6, 8, 1, 10, 4, 5, 6, 1, 8, 3, 2, 8, 7, 7, 2, 4, 4, 5, 3, 3, 8, 1, 3, 8, 10, 6, 5, 1, 5, 5, 5, 8, 10, 5, 2, 9, 5, 9, 5, 9, 4, 6, 8, 5, 6, 10, 7, 3, 6, 9, 1, 1, 10, 4, 3, 9, 3, 7, 7, 9, 7, 8, 6, 3, 1, 5, 8, 10, 9, 6, 8, 5, 2, 2, 3, 7, 8, 9, 8, 1, 9, 1, 2, 6, 4, 8, 1, 2, 4, 9, 6, 10, 2, 2, 5, 8, 10, 10, 6, 2, 1, 7, 8, 7, 3, 3, 6, 6, 7, 8, 3, 7, 2, 2, 4, 5, 1, 1, 8, 3, 6, 4, 1, 2, 5, 8, 9, 9, 6, 8, 9, 3, 6, 7, 1, 2, 1, 1, 8, 9, 1, 9, 5, 5, 5, 4, 3, 5, 9, 9, 10, 5, 2, 2, 4, 4, 5, 1, 7, 5, 6, 1, 2, 5, 5, 8, 10, 1, 1, 2, 8, 4, 1, 7, 9, 3, 2, 5, 8, 2, 2, 5, 3, 8, 8, 7, 5, 2, 5, 2, 8, 1, 6, 6, 1, 7, 4, 8, 8, 9, 9, 2, 1, 3, 8, 3, 2, 5, 5, 2, 2, 5, 4, 4, 8, 2, 5, 5, 9, 9, 3, 3, 2, 5, 3, 5, 6, 10, 2, 7, 4, 8, 8, 9, 2, 9, 5, 1, 7, 9, 6, 4, 10, 2, 5, 4, 2, 10, 1, 9, 9, 3, 10, 8, 4, 9, 5, 10, 2, 2, 4, 8, 8, 6, 5, 9, 9, 6, 3, 7, 3, 9, 2, 6, 1, 2, 5, 7, 2, 8, 7, 9, 5, 4, 1, 3, 10, 8, 4, 2, 8, 8, 5, 6, 7, 1, 9, 3, 8, 4, 5, 6, 7, 4, 5, 1, 4, 8, 2, 1, 3, 1, 8, 2, 5, 7, 7, 1, 8, 6, 8, 7, 2, 5, 4, 8, 7, 2, 6, 7, 5, 9, 3, 4, 5, 8, 10, 2, 1, 4, 10, 4, 4, 1, 2, 8, 6, 6, 5, 3, 2, 7, 4, 9, 8, 2, 3, 8, 2, 1, 7, 2, 10, 10, 5, 1, 3, 5, 6, 8, 2, 5, 3, 6, 2, 7, 10, 8, 10, 4, 10, 9, 1, 2, 3, 7, 5, 10, 4, 5, 6, 9, 6, 7, 4, 9, 1, 6, 1, 4, 4, 4, 6, 1, 6, 1, 3, 7, 7, 6, 8, 7, 5, 1, 10, 6, 4, 4, 9, 8, 7, 7, 4, 4, 7, 4, 5, 3, 6, 2, 3, 4, 2, 5, 9, 3, 2, 2, 10, 4, 4, 4, 6, 3, 9, 1, 8, 6, 6, 2, 2, 9, 7, 10, 1, 1, 4, 8, 7, 10, 9, 7, 2, 7, 1, 2, 4, 10, 7, 8, 4, 7, 3, 5, 7, 1, 9, 2, 3, 9, 9, 7, 8, 6, 1, 6, 3, 4, 1, 9, 5, 5, 10, 7, 7, 9, 10, 1, 2, 4, 4, 6, 3, 5, 5, 3, 9, 8, 7, 10, 10, 10, 6, 4, 3, 9, 2, 7, 1, 8, 7, 6, 8, 6, 3, 3, 2, 3, 4, 6, 3, 2, 4, 4, 1, 1, 3, 7, 8, 7, 5, 1, 4, 9, 4, 4, 3, 3, 1, 7, 8, 4, 8, 10, 8, 5, 5, 1, 8, 8, 8, 4, 8, 10, 4, 4, 2, 2, 8, 6, 6, 2, 9, 5, 1, 10, 6, 8, 3, 10, 2, 3, 3, 5, 9, 2, 6, 8, 1, 3, 9, 9, 2, 1, 5, 6, 10, 5, 5, 8, 3, 6, 4, 10, 3, 7, 1, 6, 6, 5, 10, 8, 1, 10, 9, 4, 9, 9, 2, 5, 8, 6, 1, 1, 9, 1, 2, 10, 7, 9, 6, 2, 6, 9, 9, 5, 6, 6, 6, 5, 6, 9, 3, 9, 10, 3, 3, 8, 7, 2, 7, 5, 4, 3, 1, 9, 5, 6, 1, 2, 7, 3, 3, 4, 3, 3, 4, 8, 9, 9, 10, 6, 8, 4, 3, 3, 10, 6, 9, 3, 4, 6, 2, 3, 7, 7, 1, 8, 4, 9, 5, 9, 4, 9, 4, 8, 2, 5, 2, 1, 3, 5, 8, 1, 2, 7, 1, 2, 6, 9, 8, 4, 6, 4, 10, 10, 7, 3, 6, 6, 1, 4, 2, 10, 4, 2, 3, 5, 8, 3, 2, 1, 7, 9, 2, 6, 4, 1, 10, 3, 10, 6, 9, 4, 6, 1, 4, 2, 5, 7, 1, 6, 9, 5, 3, 2, 6, 1, 8, 10, 8, 9, 1, 9, 8, 2, 6, 8, 4, 2, 5, 5, 5, 10, 2, 2, 6, 6, 1, 5, 4, 2, 7, 1, 7, 5, 2, 4, 5, 10, 2, 6, 4, 7, 6, 9, 1, 3, 5, 1, 3, 7, 5, 6, 1, 4, 8, 5, 6, 6, 5, 2, 4, 5, 3, 9, 3, 1, 1, 10, 2, 7, 7, 8, 3, 8, 7, 9, 7, 8, 4, 8, 4, 1, 8, 7, 2, 1, 6, 3, 2, 8, 2, 8, 1, 8, 8, 10, 8, 6, 2, 5, 3, 5, 6, 1, 3, 5, 4, 7, 8, 3, 3, 6, 5, 6, 1, 6, 9, 10, 6, 6, 5, 1, 8, 5, 10, 3, 1, 7, 10, 3, 10, 9, 1, 3, 7, 1, 9, 10, 7, 4, 10, 10, 6, 3, 2, 3, 5, 2, 9, 2, 4, 5, 9, 7, 4, 10, 5, 4, 8, 5, 5, 5, 8, 2, 3, 4, 6, 10, 9, 3, 9, 5, 3, 7, 10, 7, 6, 6, 6, 10, 7, 1, 3, 9, 4, 9, 6, 10, 5, 2, 8, 7, 2, 10, 3, 5, 1, 6, 3, 5, 4, 8, 8, 10, 7, 4, 6, 5, 2, 1, 9, 2, 2, 8, 3, 1, 8, 3, 2, 8, 1, 4, 2, 3, 4, 2, 9, 8, 9, 6, 10, 7, 1, 8, 6, 7, 8, 5, 3, 6, 8, 4, 2, 2, 7, 8, 7, 5, 2, 8, 8, 1, 3, 3, 5, 10, 6, 7, 1, 10, 4, 6, 7, 7, 1, 9, 1, 6, 7, 7, 5, 10, 3, 9, 10, 10, 5, 10, 7, 6, 3, 2, 9, 8, 6, 2, 4, 10, 1, 1, 2, 4, 7, 4, 1, 7, 3, 5, 6, 6, 5, 4, 8, 7, 7, 2, 10, 9, 9, 7, 9, 6, 4, 1, 1, 10, 6, 6, 8, 8, 4, 1, 3, 10, 1, 2, 8, 2, 1, 9, 8, 6, 2, 4, 10, 5, 6, 6, 2, 6, 5, 4, 10, 3, 3, 6, 3, 7, 4, 10, 7, 5, 7, 6, 6, 6, 8, 2, 4, 2, 9, 4, 2, 7, 9, 7, 7, 3, 3, 1, 7, 9, 5, 4, 6, 7, 6, 9, 8, 4, 5, 6, 10, 1, 1, 10, 9, 4, 9, 3, 7, 7, 7, 6, 3, 2, 4, 5, 4, 4, 9, 10, 10, 3, 6, 6, 1, 10, 8, 9, 6, 4, 7, 1, 6, 7, 7, 10, 7, 8, 10, 1, 1, 10, 7, 10, 1, 1, 3, 2, 10, 6, 4, 7, 6, 8, 1, 7, 3, 1, 4, 8, 2, 3, 2, 4, 2, 7, 9, 1, 4, 2, 9, 9, 4, 9, 1, 9, 8, 3, 8, 6, 8, 10, 7, 7, 1, 1, 8, 9, 4, 4, 8, 2, 2, 9, 3, 4, 9, 7, 9, 10, 1, 6, 9, 5, 1, 10, 6, 7, 5, 3, 3, 4, 10, 8, 5, 3, 8, 10, 9, 9, 7, 9, 1, 5, 4, 2, 10, 10, 1, 3, 1, 2, 4, 4, 1, 8, 3, 10, 6, 6, 7, 10, 4, 1, 8, 4, 10, 3, 10, 3, 6, 6, 4, 2, 10, 4, 3, 5, 2, 1, 9, 7, 1, 6, 9, 2, 3, 9, 10, 9, 8, 5, 3, 5, 6, 1, 1, 3, 4, 10, 6, 6, 8, 8, 7, 7, 7, 7, 5, 7, 5, 5, 10, 5, 7, 5, 2, 7, 9, 3, 3, 10, 5, 8, 7, 2, 4, 5, 9, 8, 6, 6, 9, 4, 3, 1, 7, 2, 7, 9, 8, 6, 7, 7, 2, 5, 3, 10, 4, 10, 8, 7, 7, 2, 7, 10, 1, 5, 3, 7, 6, 4, 4, 9, 3, 3, 8, 5, 10, 10, 4, 3, 8, 2, 7, 9, 8, 2, 10, 5, 5, 4, 8, 4, 7, 1, 1, 4, 6, 9, 3, 3, 1, 9, 10, 9, 7, 2, 1, 8, 9, 1, 10, 8, 1, 5, 6, 10, 9, 9, 2, 5, 6, 3, 5, 3, 8, 6, 2, 3, 7, 9, 3, 2, 2, 7, 4, 9, 7, 8, 4, 4, 1, 4, 1, 10, 1, 10, 3, 7, 7, 5, 5, 6, 6, 2, 10, 4, 6, 8, 7, 9, 8, 7, 8, 7, 1, 3, 1, 2, 3, 10, 6, 6, 10, 9, 1, 4, 2, 8, 6, 3, 8, 3, 5, 10, 10, 6, 8, 5, 2, 3, 7, 2, 7, 1, 4, 1, 3, 4, 10, 2, 8, 3, 6, 8, 3, 7, 7, 9, 7, 1, 6, 7, 2, 7, 8, 2, 9, 8, 7, 6, 2, 3, 6, 1, 10, 5, 7, 1, 7, 10, 1, 2, 3, 8, 10, 1, 5, 3, 6, 2, 7, 9, 1, 10, 1, 10, 10, 4, 10, 6, 6, 5, 6, 4, 4, 9, 7, 10, 4, 1, 4, 3, 10, 4, 7, 6, 3, 4, 10, 8, 7, 1, 2, 7, 9, 4, 10, 1, 7, 8, 2, 1, 3, 5, 5, 9, 8, 4, 4, 4, 9, 8, 2, 5, 7, 10, 9, 4, 10, 2, 3, 1, 4, 10, 8, 8, 10, 1, 10, 8, 2, 3, 1, 8, 3, 10, 5, 8, 2, 2, 1, 10, 1, 8, 8, 9, 10, 3, 2, 8, 2, 7, 4, 3, 2, 9, 1, 10, 1, 5, 4, 1, 9, 4, 10, 10, 4, 7, 6, 6, 3, 5, 1, 5, 9, 5, 10, 6, 7, 6, 5, 9, 4, 7, 10, 3, 10, 8, 3, 1, 3, 1, 10, 6, 8, 10, 8, 6, 10, 9, 3, 2, 10, 2, 8, 2, 6, 4, 9, 8, 5, 9, 5, 10, 7, 5, 6, 5, 3, 5, 3, 9, 2, 10, 2, 3, 3, 1, 2, 1, 4, 1, 7, 2, 6, 7, 10, 1, 7, 6, 2, 6, 7, 5, 8, 9, 8, 6, 4, 6, 9, 10, 5, 7, 1, 4, 1, 2, 3, 2, 3, 7, 3, 5, 6, 8, 7, 6, 4, 4, 5, 8, 6, 8, 9, 9, 10, 1, 4, 3, 8, 8, 10, 5, 5, 8, 10, 10, 7, 8, 8, 10, 8, 3, 3, 2, 9, 7, 5, 7, 9, 9, 6, 5, 2, 10, 3, 3, 3, 5, 4, 3, 10, 6, 5, 5, 9, 7, 9, 2, 7, 8, 8, 10, 10, 8, 7, 8, 1, 4, 5, 8, 4, 10, 4, 2, 6, 4, 3, 6, 9, 3, 7, 9, 5, 10, 2, 1, 7, 4, 8, 7, 10, 10, 2, 10, 9, 5, 6, 10, 9, 2, 3, 3, 1, 2, 7, 10, 2, 10, 6, 1, 6, 5, 2, 5, 4, 5, 4, 8, 5, 7, 8, 2, 8, 4, 4, 3, 8, 2, 7, 3, 5, 9, 1, 2, 1, 5, 9, 5, 8, 6, 9, 1, 9, 5, 6, 8, 4, 5, 6, 10, 1, 4, 4, 5, 3, 3, 4, 6, 7, 4, 4, 8, 8, 10, 10, 4, 4, 2, 1, 9, 9, 9, 7, 4, 5, 3, 10, 2, 4, 3, 9, 1, 2, 8, 7, 4, 7, 9, 4, 2, 2, 8, 8, 10, 1, 5, 8, 2, 2, 8, 3, 6, 8, 2, 10, 6, 4, 5, 3, 8, 2, 6, 3, 9, 3, 5, 4, 8, 9, 3, 10, 6, 1, 1, 4, 1, 7, 7, 9, 7, 2, 8, 8, 1, 3, 3, 9, 1, 3, 8, 6, 9, 4, 2, 4, 1, 10, 7, 8, 1, 2, 10, 10, 8, 1, 9, 8, 5, 10, 7, 8, 9, 4, 8, 10, 8, 8, 3, 1, 9, 1, 3, 7, 3, 7, 5, 6, 3, 2, 9, 2, 8, 5, 6, 9, 10, 8, 5, 8, 4, 3, 4, 9, 3, 4, 10, 7, 7, 7, 3, 10, 6, 9, 7, 6, 1, 3, 9, 10, 2, 6, 8, 6, 7, 6, 9, 5, 5, 10, 3, 7, 1, 3, 1, 2, 9, 1, 2, 5, 8, 3, 9, 8, 8, 7, 1, 5, 2, 7, 10, 4, 7, 7, 7, 3, 10, 2, 2, 7, 2, 2, 3, 2, 10, 2, 10, 5, 8, 4, 6, 7, 4, 7, 7, 2, 4, 3, 9, 1, 7, 7, 6, 5, 9, 7, 2, 2, 5, 7, 2, 1, 6, 2, 5, 6, 6, 6, 10, 9, 4, 9, 7, 10, 1, 2, 7, 3, 9, 4, 9, 1, 7, 8, 7, 9, 7, 8, 5, 5, 10, 5, 2, 8, 2, 2, 9, 5, 6, 7, 6, 9, 2, 10, 2, 3, 10, 6, 5, 6, 8, 5, 7, 7, 3, 2, 2, 5, 6, 7, 4, 7, 7, 10, 4, 5, 7, 8, 6, 4, 8, 5, 3, 1, 10, 9, 7, 6, 8, 8, 5, 3, 3, 6, 5, 2, 7, 7, 3, 9, 7, 5, 4, 6, 3, 1, 5, 2, 8, 9, 10, 4, 2, 7, 4, 4, 2, 10, 5, 4, 6, 2, 2, 1, 3, 9, 5, 8, 4, 7, 5, 1, 6, 4, 5, 6, 10, 6, 9, 5, 8, 10, 8, 1, 2, 4, 4, 3, 1, 8, 10, 8, 3, 5, 1, 6, 8, 5, 1, 10, 10, 5, 1, 5, 7, 4, 8, 8, 5, 7, 1, 8, 7, 10, 2, 5, 9, 4, 7, 10, 6, 4, 2, 8, 9, 2, 10, 9, 4, 8, 3, 6, 8, 3, 5, 6, 3, 6, 6, 1, 6, 4, 3, 10, 3, 6, 4, 3, 10, 2, 2, 2, 2, 3, 9, 9, 7, 7, 6, 1, 3, 7, 3, 10, 10, 1, 2, 8, 1, 9, 1, 9, 7, 5, 2, 7, 2, 9, 4, 10, 1, 9, 8, 2, 6, 2, 6, 2, 6, 5, 6, 2, 2, 1, 5, 9, 1, 9, 5, 3, 1, 5, 7, 1, 6, 9, 9, 1, 6, 10, 1, 4, 4, 8, 5, 5, 3, 1, 6, 1, 8, 5, 9, 3, 10, 5, 10, 9, 1, 3, 5, 2, 2, 3, 1, 8, 9, 7, 4, 6, 1, 3, 4, 3, 8, 5, 8, 4, 6, 1, 3, 8, 10, 6, 8, 5, 4, 10, 2, 6, 6, 10, 1, 4, 8, 9, 9, 3, 6, 7, 7, 4, 3, 3, 6, 3, 3, 5, 2, 8, 10, 10, 10, 3, 9, 3, 3, 4, 5, 7, 1, 7, 2, 9, 9, 8, 6, 2, 2, 2, 2, 3, 7, 6, 6, 9, 2, 8, 10, 9, 2, 9, 10, 5, 7, 8, 10, 2, 2, 2, 10, 1, 9, 7, 4, 5, 10, 5, 2, 9, 6, 10, 6, 5, 3, 1, 6, 1, 7, 8, 8, 10, 10, 6, 10, 3, 5, 1, 3, 3, 4, 4, 1, 3, 1, 2, 10, 8, 2, 3, 5, 3, 10, 3, 8, 5, 3, 3, 7, 1, 1, 8, 4, 4, 10, 6, 4, 9, 8, 10, 7, 4, 10, 4, 2, 6, 1, 10, 2, 7, 9, 2, 1, 2, 3, 7, 10, 5, 2, 10, 5, 9, 8, 6, 9, 4, 7, 4, 4, 10, 1, 1, 8, 3, 1, 2, 1, 2, 6, 1, 9, 5, 2, 5, 6, 10, 4, 7, 3, 3, 6, 9, 1, 1, 6, 7, 7, 1, 9, 4, 5, 4, 4, 5, 5, 10, 5, 9, 1, 5, 7, 9, 2, 6, 1, 2, 10, 7, 7, 4, 3, 8, 7, 5, 1, 10, 1, 6, 4, 10, 6, 6, 7, 9, 2, 2, 4, 5, 2, 1, 3, 5, 7, 7, 10, 1, 1, 4, 10, 8, 10, 10, 2, 2, 3, 10, 5, 3, 7, 2, 6, 7, 6, 10, 5, 6, 7, 8, 2, 5, 10, 1, 8, 9, 7, 7, 1, 9, 8, 3, 9, 1, 5, 10, 1, 5, 4, 4, 7, 7, 7, 8, 8, 7, 2, 8, 9, 9, 10, 4, 2, 5, 10, 10, 2, 5, 3, 1, 7, 7, 7, 5, 8, 10, 10, 10, 7, 1, 6, 7, 4, 4, 4, 6, 5, 6, 8, 8, 4, 9, 2, 6, 8, 3, 1, 4, 9, 3, 8, 6, 4, 1, 3, 9, 10, 10, 5, 8, 7, 2, 1, 4, 7, 2, 6, 4, 7, 3, 9, 10, 7, 7, 1, 6, 1, 2, 1, 7, 1, 6, 8, 4, 5, 5, 1, 4, 2, 1, 10, 7, 9, 1, 9, 4, 3, 9, 3, 10, 9, 9, 7, 1, 2, 10, 4, 8, 5, 8, 8, 2, 6, 6, 1, 9, 5, 1, 6, 9, 10, 9, 2, 5, 8, 1, 1, 8, 6, 4, 3, 6, 5, 10, 9, 10, 1, 3, 5, 8, 9, 5, 4, 3, 7, 6, 7, 8, 4, 5, 4, 4, 6, 8, 1, 10, 8, 7, 10, 3, 4, 7, 7, 6, 10, 4, 4, 4, 10, 3, 5, 3, 2, 8, 1, 2, 7, 3, 5, 7, 9, 5, 2, 10, 9, 5, 9, 2, 1, 1, 7, 8, 8, 9, 2, 8, 5, 2, 4, 6, 4, 6, 2, 4, 10, 10, 4, 6, 6, 3, 9, 10, 2, 1, 8, 9, 6, 6, 5, 3, 1, 2, 4, 2, 7, 1, 2, 5, 10, 6, 7, 7, 9, 3, 3, 9, 8, 7, 2, 8, 10, 6, 7, 6, 8, 1, 8, 1, 8, 3, 9, 6, 8, 1, 1, 6, 9, 9, 4, 2, 2, 6, 6, 1, 4, 9, 7, 3, 4, 7, 5, 4, 6, 5, 10, 5, 10, 3, 2, 4, 10, 3, 5, 4, 3, 9, 9, 9, 1, 4, 5, 7, 7, 6, 2, 2, 10, 6, 7, 9, 8, 4, 1, 1, 4, 9, 5, 10, 6, 2, 7, 9, 5, 7, 1, 10, 4, 1, 1, 3, 6, 9, 5, 5, 9, 1, 8, 8, 1, 2, 5, 8, 10, 4, 10, 10, 5, 7, 4, 10, 3, 4, 3, 10, 2, 7, 1, 2, 9, 6, 8, 7, 8, 4, 3, 4, 10, 8, 1, 3, 7, 10, 1, 10, 6, 6, 9, 6, 5, 3, 10, 4, 6, 7, 4, 7, 2, 2, 9, 4, 5, 9, 7, 10, 2, 6, 7, 1, 8, 8, 7, 4, 6, 5, 5, 9, 3, 6, 1, 5, 4, 8, 2, 4, 8, 6, 5, 5, 1, 7, 8, 3, 10, 5, 6, 1, 10, 5, 7, 8, 4, 4, 7, 10, 7, 7, 2, 5, 4, 10, 8, 2, 9, 4, 7, 7, 10, 2, 5, 5, 9, 1, 10, 2, 5, 1, 6, 10, 8, 3, 5, 6, 4, 5, 9, 5, 7, 6, 8, 4, 1, 3, 2, 6, 2, 4, 1, 10, 2, 7, 9, 4, 6, 8, 4, 5, 6, 10, 2, 3, 5, 6, 1, 7, 3, 10, 6, 2, 7, 2, 9, 10, 3, 2, 6, 1, 10, 6, 7, 9, 10, 1, 4, 6, 3, 6, 10, 10, 8, 2, 1, 1, 5, 7, 7, 6, 8, 4, 9, 7, 5, 1, 8, 9, 10, 7, 9, 8, 2, 9, 2, 10, 4, 10, 7, 5, 8, 4, 5, 3, 9, 7, 9, 1, 3, 3, 6, 5, 10, 2, 1, 7, 2, 5, 7, 3, 2, 1, 5, 10, 4, 9, 4, 7, 4, 3, 5, 2, 2, 8, 3, 5, 8, 8, 3, 3, 4, 9, 9, 5, 10, 9, 8, 8, 7, 3, 1, 2, 10, 2, 4, 2, 4, 10, 1, 8, 5, 6, 1, 7, 8, 4, 1, 3, 1, 5, 1, 7, 8, 1, 10, 7, 7, 3, 8, 3, 10, 2, 9, 5, 5, 6, 6, 3, 2, 5, 9, 4, 6, 4, 5, 2, 3, 5, 5, 6, 2, 5, 4, 4, 6, 6, 2, 7, 1, 8, 7, 10, 1, 8, 1, 2, 9, 9, 2, 2, 9, 2, 4, 7, 1, 8, 2, 9, 7, 3, 10, 7, 8, 8, 3, 5, 4, 8, 8, 10, 1, 2, 4, 3, 7, 6, 3, 10, 3, 9, 7, 7, 2, 8, 6, 10, 1, 6, 8, 3, 1, 7, 2, 2, 8, 7, 7, 5, 5, 6, 10, 7, 8, 6, 1, 8, 1, 1, 4, 8, 7, 3, 1, 7, 5, 1, 2, 9, 6, 3, 10, 8, 2, 4, 6, 4, 10, 9, 3, 9, 8, 4, 7, 3, 3, 6, 3, 2, 7, 3, 7, 9, 8, 3, 2, 1, 10, 7, 6, 9, 3, 2, 9, 5, 6, 7, 4, 10, 7, 2, 2, 6, 6, 2, 7, 10, 8, 7, 3, 3, 2, 7, 7, 8, 1, 5, 9, 2, 5, 4, 1, 8, 5, 7, 3, 4, 10, 4, 7, 8, 9, 3, 7, 2, 10, 5, 1, 6, 6, 9, 7, 2, 10, 8, 9, 9, 10, 4, 9, 5, 3, 10, 6, 7, 5, 4, 3, 1, 2, 5, 1, 3, 5, 4, 1, 8, 3, 10, 2, 5, 9, 1, 4, 6, 3, 5, 7, 1, 6, 4, 3, 1, 9, 1, 10, 5, 10, 10, 8, 7, 8, 6, 6, 6, 8, 1, 3, 3, 8, 5, 7, 9, 10, 4, 4, 6, 4, 10, 4, 10, 10, 4, 10, 9, 10, 9, 10, 3, 7, 7, 4, 5, 2, 1, 4, 4, 9, 1, 9, 6, 1, 4, 5, 6, 2, 6, 10, 9, 10, 8, 4, 8, 9, 2, 6, 3, 9, 9, 2, 8, 6, 4, 7, 2, 2, 10, 3, 1, 10, 2, 9, 9, 10, 6, 8, 1, 9, 7, 1, 2, 2, 10, 9, 2, 8, 4, 4, 4, 4, 7, 1, 4, 10, 6, 5, 7, 4, 7, 4, 3, 1, 8, 10, 4, 10, 1, 6, 8, 1, 1, 7, 3, 5, 3, 6, 4, 1, 6, 5, 9, 4, 9, 1, 5, 2, 9, 1, 4, 4, 5, 4, 8, 4, 6, 7, 10, 5, 3, 9, 6, 7, 1, 5, 6, 2, 5, 9, 9, 7, 8, 1, 8, 1, 4, 3, 7, 9, 10, 4, 6, 1, 10, 6, 4, 3, 1, 5, 9, 10, 4, 7, 1, 5, 7, 3, 2, 10, 6, 6, 4, 7, 10, 6, 2, 3, 3, 7, 4, 10, 3, 2, 8, 6, 5, 2, 5, 7, 5, 2, 5, 7, 4, 1, 1, 6, 10, 4, 2, 2, 8, 5, 10, 6, 4, 9, 9, 2, 6, 7, 6, 9, 1, 6, 3, 4, 5, 2, 1, 6, 1, 4, 4, 8, 10, 6, 10, 4, 2, 9, 8, 5, 6, 7, 6, 9, 8, 3, 8, 7, 7, 1, 10, 3, 5, 9, 7, 10, 5, 8, 6, 1, 8, 2, 9, 10, 1, 4, 9, 10, 6, 4, 3, 9, 7, 9, 4, 5, 9, 2, 6, 8, 6, 4, 10, 3, 3, 1, 8, 9, 5, 6, 5, 4, 1, 10, 9, 9, 3, 3, 4, 3, 10, 9, 10, 9, 5, 10, 9, 10, 6, 8, 3, 7, 10, 7, 7, 2, 7, 2, 8, 1, 10, 10, 2, 4, 2, 10, 3, 10, 6, 5, 2, 4, 2, 8, 10, 6, 5, 6, 5, 5, 10, 5, 2, 2, 1, 2, 8, 2, 6, 6, 6, 8, 6, 5, 4, 4, 10, 7, 8, 10, 8, 1, 7, 8, 3, 4, 8, 6, 6, 5, 9, 1, 8, 6, 10, 1, 1, 3, 6, 10, 2, 7, 3, 2, 9, 1, 10, 6, 7, 9, 5, 10, 4, 9, 3, 6, 6, 3, 2, 1, 8, 1, 10, 9, 2, 4, 10, 2, 5, 8, 5, 3, 3, 2, 9, 7, 3, 2, 1, 3, 6, 5, 5, 3, 10, 6, 3, 10, 10, 7, 2, 3, 7, 1, 3, 7, 5, 2, 10, 5, 4, 9, 1, 6, 4, 7, 8, 7, 8, 6, 3, 8, 6, 5, 4, 4, 8, 3, 9, 2, 6, 5, 8, 4, 3, 1, 10, 2, 9, 2, 3, 2, 5, 3, 9, 2, 4, 3, 1, 7, 9, 2, 8, 1, 2, 4, 8, 8, 3, 9, 3, 6, 1, 3, 5, 4, 1, 6, 2, 4, 6, 2, 7, 8, 6, 4, 5, 9, 3, 4, 3, 7, 1, 10, 9, 4, 8, 1, 8, 10, 1, 4, 8, 3, 8, 1, 10, 7, 6, 5, 4, 6, 8, 2, 5, 4, 2, 1, 10, 3, 6, 4, 10, 3, 7, 7, 6, 10, 5, 7, 7, 3, 2, 5, 5, 8, 10, 10, 9, 3, 5, 1, 8, 5, 2, 1, 3, 5, 9, 6, 2, 1, 2, 9, 9, 3, 10, 4, 3, 8, 2, 4, 2, 1, 2, 6, 7, 3, 3, 1, 1, 7, 1, 6, 10, 9, 6, 5, 8, 6, 2, 3, 4, 1, 2, 6, 2, 10, 9, 5, 6, 6, 7, 3, 7, 7, 2, 6, 2, 6, 4, 10, 3, 2, 5, 6, 5, 3, 7, 1, 7, 7, 3, 4, 1, 8, 1, 7, 2, 5, 6, 5, 7, 4, 4, 1, 7, 4, 9, 5, 2, 6, 9, 4, 4, 5, 10, 1, 5, 8, 9, 9, 6, 3, 3, 2, 4, 8, 2, 6, 7, 4, 9, 9, 8, 1, 4, 7, 7, 9, 7, 1, 4, 7, 5, 7, 4, 9, 7, 6, 6, 7, 1, 9, 5, 7, 5, 6, 4, 5, 4, 9, 9, 7, 7, 2, 2, 7, 9, 3, 7, 3, 2, 8, 8, 8, 9, 3, 7, 6, 10, 5, 4, 10, 8, 8, 6, 8, 4, 8, 2, 6, 5, 1, 8, 3, 2, 4, 7, 1, 8, 10, 9, 3, 6, 9, 9, 5, 2, 5, 6, 9, 9, 3, 3, 9, 8, 8, 2, 2, 4, 6, 7, 6, 7, 1, 10, 1, 3, 9, 8, 8, 1, 9, 6, 5, 1, 7, 9, 2, 4, 6, 1, 7, 2, 7, 6, 5, 9, 10, 7, 8, 2, 10, 10, 3, 7, 7, 5, 9, 8, 9, 5, 2, 1, 10, 5, 7, 6, 2, 1, 7, 7, 6, 9, 2, 4, 7, 7, 7, 3, 7, 4, 2, 6, 8, 10, 1, 6, 2, 10, 9, 6, 4, 7, 10, 2, 9, 7, 8, 2, 3, 3, 6, 5, 7, 7, 7, 5, 9, 1, 1, 5, 9, 5, 8, 9, 2, 1, 2, 10, 4, 9, 3, 8, 4, 6, 1, 4, 5, 8, 5, 9, 2, 5, 5, 1, 8, 9, 8, 5, 2, 1, 2, 6, 10, 3, 8, 3, 7, 3, 5, 2, 5, 1, 9, 6, 10, 9, 7, 2, 2, 7, 1, 8, 10, 5, 5, 7, 2, 5, 9, 9, 5, 1, 8, 7, 3, 5, 6, 4, 7, 8, 10, 4, 6, 5, 1, 7, 10, 1, 1, 3, 10, 2, 9, 2, 8, 10, 9, 5, 4, 3, 2, 3, 6, 1, 3, 5, 1, 9, 7, 7, 8, 7, 5, 9, 9, 6, 4, 3, 6, 7, 5, 7, 3, 2, 3, 10, 3, 10, 9, 5, 2, 4, 8, 5, 3, 6, 7, 6, 1, 2, 7, 8, 8, 8, 7, 4, 7, 4, 10, 3, 3, 4, 7, 5, 4, 1, 4, 6, 3, 9, 10, 2, 5, 4, 8, 4, 9, 7, 10, 8, 4, 9, 6, 3, 6, 6, 8, 1, 4, 1, 8, 1, 8, 10, 9, 6, 7, 1, 7, 7, 6, 8, 10, 9, 7, 4, 7, 7, 7, 4, 5, 1, 8, 4, 9, 3, 1, 6, 3, 2, 4, 2, 3, 1, 3, 1, 1, 9, 5, 1, 7, 9, 7, 2, 1, 7, 2, 9, 8, 9, 7, 6, 6, 1, 5, 4, 2, 8, 3, 5, 3, 2, 8, 9, 9, 8, 2, 9, 4, 2, 7, 10, 2, 9, 1, 2, 5, 9, 5, 1, 8, 4, 6, 2, 6, 4, 2, 3, 7, 2, 1, 9, 4, 9, 9, 8, 1, 6, 2, 2, 9, 10, 8, 7, 10, 1, 8, 6, 10, 5, 10, 6, 6, 6, 9, 4, 5, 9, 8, 6, 2, 10, 3, 7, 9, 1, 10, 5, 8, 5, 2, 8, 4, 4, 9, 1, 1, 4, 3, 3, 3, 1, 7, 8, 10, 9, 5, 9, 4, 3, 3, 7, 3, 6, 8, 2, 9, 8, 7, 1, 10, 2, 1, 4, 6, 2, 9, 4, 3, 4, 7, 9, 3, 7, 1, 3, 8, 2, 9, 5, 8, 6, 4, 5, 3, 3, 5, 7, 2, 9, 9, 9, 10, 9, 9, 3, 2, 9, 4, 10, 5, 4, 7, 6, 6, 9, 10, 6, 7, 7, 10, 2, 5, 10, 2, 3, 4, 10, 9, 2, 1, 2, 7, 1, 1, 2, 4, 3, 10, 2, 10, 9, 7, 2, 10, 3, 5, 1, 5, 10, 4, 9, 9, 8, 8, 3, 3, 4, 9, 9, 9, 8, 6, 2, 10, 1, 5, 9, 8, 9, 8, 6, 6, 7, 5, 8, 3, 1, 8, 3, 4, 6, 1, 1, 6, 4, 2, 3, 4, 6, 3, 3, 1, 1, 2, 10, 1, 4, 9, 4, 8, 8, 7, 1, 8, 5, 8, 5, 10, 6, 6, 3, 3, 3, 7, 7, 2, 5, 3, 5, 1, 10, 2, 1, 4, 8, 2, 8, 10, 9, 4, 8, 1, 7, 1, 9, 8, 5, 1, 3, 9, 7, 1, 2, 4, 1, 2, 8, 1, 5, 5, 2, 6, 3, 2, 1, 1, 1, 4, 3, 5, 9, 10, 4, 8, 6, 2, 4, 2, 4, 1, 7, 3, 6, 3, 9, 1, 9, 1, 3, 4, 9, 3, 9, 9, 6, 6, 4, 10, 6, 7, 10, 7, 1, 9, 8, 1, 10, 6, 1, 9, 4, 8, 2, 8, 3, 8, 3, 6, 2, 1, 10, 2, 2, 7, 4, 7, 2, 10, 8, 3, 7, 1, 2, 9, 7, 8, 9, 5, 10, 4, 9, 10, 10, 1, 7, 2, 10, 3, 5, 10, 5, 10, 6, 7, 6, 4, 10, 6, 3, 3, 7, 5, 5, 10, 8, 1, 5, 2, 7, 5, 7, 1, 4, 9, 4, 7, 10, 6, 7, 6, 5, 1, 3, 10, 9, 8, 2, 8, 10, 5, 3, 5, 5, 1, 4, 2, 3, 9, 7, 7, 2, 8, 1, 9, 2, 9, 9, 8, 3, 5, 7, 5, 6, 2, 5, 3, 2, 5, 8, 9, 8, 4, 10, 4, 2, 5, 7, 6, 7, 4, 9, 8, 2, 5, 8, 2, 9, 1, 8, 10, 4, 10, 8, 7, 9, 4, 10, 5, 6, 6, 6, 4, 7, 9, 6, 7, 9, 9, 5, 8, 1, 6, 3, 8, 1, 9, 4, 6, 8, 4, 7, 7, 8, 4, 6, 6, 2, 5, 9, 5, 5, 9, 9, 8, 8, 4, 8, 9, 7, 9, 9, 9, 8, 10, 4, 2, 2, 10, 2, 5, 4, 5, 5, 7, 4, 9, 10, 7, 7, 7, 10, 4, 9, 5, 3, 5, 7, 8, 9, 5, 1, 8, 6, 5, 10, 8, 1, 6, 10, 1, 1, 5, 8, 2, 4, 5, 6, 3, 7, 10, 4, 7, 3, 9, 3, 1, 9, 7, 2, 10, 4, 4, 8, 9, 6, 9, 6, 6, 9, 7, 10, 2, 7, 5, 9, 3, 4, 10, 6, 8, 9, 10, 3, 8, 7, 6, 3, 6, 3, 5, 6, 2, 2, 9, 5, 9, 9, 3, 3, 2, 1, 3, 2, 10, 8, 2, 6, 4, 9, 3, 3, 6, 5, 3, 5, 9, 7, 2, 10, 6, 8, 1, 5, 10, 4, 9, 1, 5, 5, 1, 2, 7, 6, 4, 1, 3, 1, 4, 10, 1, 7, 6, 10, 7, 3, 7, 2, 5, 9, 3, 10, 7, 9, 2, 2, 2, 5, 10, 10, 1, 6, 3, 10, 8, 7, 6, 10, 5, 4, 7, 10, 6, 9, 4, 9, 4, 3, 2, 4, 3, 9, 4, 9, 7, 9, 3, 8, 3, 10, 8, 6, 9, 10, 6, 2, 6, 1, 9, 2, 5, 4, 2, 3, 10, 5, 5, 2, 3, 3, 7, 3, 4, 1, 8, 9, 10, 5, 9, 1, 1, 10, 2, 4, 8, 10, 8, 2, 9, 6, 3, 9, 6, 9, 6, 4, 10, 5, 5, 2, 7, 4, 2, 8, 4, 7, 10, 10, 2, 2, 8, 1, 3, 10, 6, 5, 2, 5, 10, 3, 3, 10, 7, 4, 5, 3, 9, 9, 5, 10, 5, 3, 3, 10, 9, 3, 5, 3, 1, 10, 7, 10, 1, 6, 5, 1, 7, 6, 8, 8, 4, 10, 2, 5, 5, 2, 2, 1, 8, 8, 10, 4, 5, 1, 3, 7, 3, 4, 3, 6, 9, 1, 5, 2, 1, 10, 1, 8, 10, 7, 10, 5, 6, 10, 5, 4, 3, 4, 7, 6, 10, 3, 5, 5, 1, 5, 9, 1, 5, 3, 4, 8, 10, 8, 10, 7, 8, 8, 2, 7, 7, 7, 5, 10, 9, 10, 1, 5, 9, 5, 8, 7, 8, 2, 1, 8, 10, 8, 6, 6, 2, 8, 10, 8, 7, 1, 5, 2, 10, 1, 7, 2, 6, 3, 7, 8, 7, 9, 5, 10, 10, 3, 2, 6, 8, 1, 10, 4, 3, 2, 1, 2, 9, 2, 1, 6, 5, 6, 3, 8, 3, 2, 8, 3, 3, 8, 3, 3, 4, 9, 8, 6, 5, 8, 9, 7, 2, 8, 8, 4, 6, 10, 8, 4, 3, 3, 4, 5, 9, 8, 9, 5, 10, 6, 4, 9, 7, 8, 10, 6, 6, 1, 9, 3, 3, 9, 10, 10, 4, 3, 9, 7, 7, 10, 5, 4, 2, 7, 4, 3, 4, 2, 8, 10, 6, 5, 5, 5, 1, 5, 2, 1, 2, 4, 9, 3, 1, 5, 10, 2, 9, 3, 8, 2, 5, 9, 7, 3, 10, 1, 10, 9, 5, 1, 9, 4, 3, 5, 6, 10, 1, 8, 9, 5, 5, 3, 9, 5, 1, 4, 4, 10, 1, 4, 7, 3, 2, 4, 6, 5, 10, 5, 9, 10, 9, 9, 8, 5, 8, 10, 7, 7, 1, 6, 4, 5, 2, 10, 8, 6, 9, 8, 2, 4, 10, 9, 2, 5, 7, 6, 4, 7, 5, 10, 5, 7, 10, 4, 10, 9, 1, 1, 5, 9, 5, 2, 5, 8, 10, 10, 7, 8, 10, 6, 7, 8, 8, 2, 9, 2, 9, 6, 5, 4, 9, 7, 6, 9, 7, 9, 4, 3, 9, 1, 4, 3, 5, 6, 2, 5, 8, 8, 1, 8, 10, 3, 1, 7, 7, 1, 8, 6, 9, 2, 5, 1, 5, 5, 10, 1, 4, 10, 1, 10, 6, 9, 4, 10, 4, 7, 5, 4, 9, 7, 8, 8, 8, 10, 6, 1, 6, 10, 10, 10, 3, 7, 5, 4, 2, 10, 7, 2, 9, 6, 8, 7, 6, 5, 6, 1, 1, 7, 7, 10, 9, 10, 2, 1, 4, 4, 1, 3, 10, 5, 6, 3, 3, 9, 4, 8, 3, 4, 2, 10, 9, 6, 4, 10, 10, 8, 1, 4, 1, 1, 2, 10, 4, 2, 3, 6, 5, 3, 1, 8, 4, 6, 2, 6, 10, 3, 1, 2, 1, 2, 1, 2, 3, 7, 5, 5, 1, 8, 4, 6, 1, 6, 2, 6, 10, 7, 5, 10, 8, 6, 1, 6, 1, 6, 7, 10, 7, 8, 1, 4, 4, 4, 10, 1, 9, 1, 10, 7, 2, 8, 3, 6, 7, 2, 3, 2, 8, 8, 10, 7, 2, 8, 3, 8, 5, 2, 7, 9, 5, 10, 5, 4, 7, 5, 3, 7, 4, 7, 6, 10, 7, 2, 2, 5, 10, 4, 2, 8, 10, 6, 4, 4, 8, 10, 8, 6, 9, 6, 7, 8, 4, 8, 8, 3, 6, 7, 2, 2, 1, 3, 7, 1, 7, 5, 6, 3, 5, 4, 4, 5, 9, 2, 3, 5, 7, 1, 6, 10, 8, 5, 6, 10, 5, 8, 2, 6, 4, 3, 7, 5, 10, 3, 3, 10, 8, 6, 10, 8, 9, 8, 7, 3, 5, 2, 9, 2, 6, 5, 3, 3, 1, 5, 2, 10, 10, 6, 6, 6, 4, 6, 4, 8, 1, 8, 2, 5, 9, 7, 5, 7, 4, 7, 5, 10, 3, 4, 6, 10, 5, 1, 2, 4, 9, 4, 10, 4, 6, 7, 6, 9, 1, 4, 8, 4, 6, 4, 6, 5, 8, 8, 4, 8, 4, 7, 9, 3, 9, 7, 5, 2, 4, 1, 4, 1, 7, 3, 7, 3, 8, 8, 3, 10, 5, 1, 2, 10, 10, 3, 5, 7, 3, 8, 5, 2, 2, 10, 2, 6, 7, 8, 3, 5, 10, 9, 1, 10, 4, 10, 10, 3, 2, 3, 6, 7, 1, 2, 6, 5, 7, 8, 3, 6, 8, 8, 6, 9, 1, 2, 10, 6, 5, 2, 2, 7, 7, 1, 4, 8, 7, 10, 2, 3, 4, 1, 4, 5, 4, 3, 1, 1, 1, 4, 6, 8, 7, 7, 9, 2, 3, 10, 6, 2, 2, 9, 6, 2, 1, 10, 3, 7, 10, 5, 2, 4, 3, 7, 9, 7, 2, 1, 2, 2, 5, 7, 4, 4, 5, 7, 1, 6, 10, 9, 9, 10, 2, 8, 2, 1, 2, 5, 6, 9, 4, 4, 5, 7, 4, 3, 8, 2, 1, 10, 1, 1, 7, 6, 6, 9, 8, 4, 8, 3, 9, 5, 1, 3, 2, 7, 5, 2, 10, 6, 2, 5, 2, 6, 6, 4, 2, 9, 8, 7, 1, 8, 4, 6, 7, 6, 4, 4, 5, 6, 10, 1, 7, 9, 7, 6, 9, 8, 4, 9, 1, 2, 10, 10, 7, 6, 3, 7, 7, 1, 3, 4, 10, 2, 3, 8, 5, 5, 4, 3, 3, 7, 9, 10, 4, 2, 9, 2, 7, 1, 1, 10, 7, 4, 7, 3, 7, 6, 8, 10, 3, 1, 6, 7, 6, 3, 4, 8, 7, 4, 5, 3, 10, 10, 5, 8, 4, 6, 4, 1, 9, 8, 2, 4, 7, 8, 9, 8, 9, 6, 6, 2, 3, 9, 2, 7, 8, 1, 2, 10, 4, 1, 7, 2, 2, 4, 1, 8, 8, 4, 9, 10, 3, 6, 8, 1, 4, 1, 1, 5, 1, 3, 8, 1, 3, 8, 6, 10, 1, 10, 2, 8, 3, 10, 2, 8, 5, 6, 1, 10, 9, 1, 1, 6, 8, 7, 6, 8, 10, 6, 6, 10, 3, 2, 10, 1, 1, 8, 3, 10, 9, 10, 2, 8, 10, 1, 5, 1, 1, 6, 6, 8, 3, 4, 6, 4, 1, 1, 3, 6, 4, 4, 3, 9, 6, 10, 9, 9, 6, 9, 7, 9, 8, 6, 2, 2, 8, 10, 7, 6, 2, 5, 8, 1, 4, 6, 10, 10, 5, 2, 6, 9, 6, 5, 9, 5, 8, 1, 9, 6, 9, 7, 2, 8, 6, 2, 9, 4, 5, 9, 10, 10, 9, 7, 6, 6, 7, 1, 1, 10, 3, 10, 10, 9, 5, 9, 8, 3, 6, 7, 5, 10, 10, 1, 2, 4, 2, 10, 6, 4, 5, 6, 3, 3, 4, 7, 6, 4, 8, 3, 2, 1, 1, 2, 2, 8, 4, 1, 4, 1, 6, 8, 10, 8, 2, 5, 5, 1, 9, 2, 5, 10, 9, 9, 10, 6, 5, 10, 7, 9, 6, 3, 7, 4, 9, 4, 4, 9, 5, 10, 3, 3, 4, 6, 5, 1, 3, 2, 2, 5, 6, 10, 10, 4, 2, 1, 3, 9, 9, 2, 3, 9, 5, 10, 6, 9, 10, 2, 2, 5, 8, 7, 5, 2, 9, 3, 10, 8, 2, 3, 6, 7, 2, 9, 3, 2, 7, 1, 6, 3, 9, 5, 2, 4, 2, 8, 1, 2, 6, 1, 1, 9, 5, 4, 9, 9, 9, 6, 9, 1, 1, 8, 3, 3, 1, 2, 8, 8, 1, 3, 1, 7, 10, 3, 3, 9, 2, 3, 6, 4, 8, 10, 5, 10, 7, 7, 3, 6, 7, 8, 4, 1, 1, 3, 8, 9, 5, 2, 7, 8, 5, 8, 8, 9, 8, 2, 1, 5, 1, 7, 10, 4, 3, 10, 1, 2, 6, 2, 3, 6, 5, 5, 6, 6, 5, 3, 4, 5, 8, 1, 3, 5, 3, 1, 5, 3, 1, 3, 8, 2, 7, 7, 10, 5, 1, 2, 5, 10, 1, 3, 2, 7, 2, 1, 8, 2, 4, 10, 2, 4, 6, 8, 10, 7, 3, 4, 6, 1, 5, 3, 7, 6, 9, 1, 5, 7, 1, 9, 7, 1, 2, 1, 6, 10, 1, 2, 7, 8, 8, 7, 5, 9, 1, 3, 4, 7, 9, 8, 5, 8, 3, 8, 7, 8, 7, 10, 8, 6, 1, 8, 2, 2, 9, 4, 1, 6, 3, 3, 1, 9, 9, 1, 1, 5, 1, 1, 5, 8, 9, 4, 6, 8, 5, 9, 7, 8, 10, 9, 10, 7, 5, 3, 10, 1, 7, 9, 1, 2, 3, 1, 7, 2, 8, 4, 1, 1, 4, 10, 10, 2, 5, 9, 9, 2, 8, 7, 4, 9, 9, 7, 8, 8, 5, 7, 8, 3, 5, 5, 1, 7, 9, 2, 1, 1, 4, 1, 2, 10, 9, 3, 2, 2, 3, 7, 7, 5, 8, 10, 4, 3, 8, 6, 9, 8, 10, 10, 2, 4, 5, 10, 10, 2, 5, 3, 4, 7, 8, 5, 9, 8, 5, 10, 1, 10, 8, 3, 3, 8, 6, 8, 3, 3, 4, 10, 10, 9, 10, 8, 1, 2, 10, 7, 9, 7, 1, 3, 5, 8, 3, 2, 5, 4, 2, 1, 9, 9, 10, 6, 6, 3, 3, 1, 9, 10, 7, 4, 3, 9, 3, 5, 3, 4, 8, 7, 8, 8, 10, 7, 2, 6, 2, 2, 8, 8, 8, 1, 9, 9, 4, 9, 6, 7, 10, 6, 3, 4, 6, 9, 10, 8, 9, 4, 2, 4, 5, 10, 6, 6, 5, 10, 3, 8, 7, 4, 9, 5, 5, 7, 8, 9, 6, 4, 6, 10, 8, 2, 7, 3, 4, 4, 2, 1, 7, 9, 5, 7, 1, 10, 4, 1, 3, 4, 8, 7, 4, 9, 9, 3, 1, 2, 7, 3, 1, 6, 1, 1, 6, 2, 9, 4, 5, 7, 2, 10, 4, 10, 6, 3, 2, 7, 8, 9, 9, 7, 10, 5, 10, 6, 5, 5, 7, 7, 5, 3, 2, 8, 3, 5, 8, 1, 7, 7, 5, 2, 6, 4, 2, 7, 6, 1, 8, 5, 1, 1, 4, 2, 5, 5, 5, 8, 9, 4, 2, 9, 1, 1, 8, 10, 5, 7, 8, 8, 5, 2, 9, 6, 2, 7, 5, 5, 1, 6, 9, 7, 4, 1, 10, 1, 5, 10, 3, 4, 8, 8, 10, 1, 3, 9, 5, 3, 10, 4, 5, 5, 9, 10, 4, 10, 9, 9, 7, 2, 10, 9, 8, 9, 6, 4, 5, 5, 4, 1, 5, 1, 8, 3, 3, 6, 3, 5, 1, 7, 3, 3, 6, 3, 9, 2, 10, 2, 2, 8, 10, 7, 2, 5, 8, 9, 2, 5, 10, 1, 8, 3, 7, 7, 8, 2, 5, 4, 9, 9, 2, 6, 3, 6, 10, 8, 5, 10, 10, 8, 3, 3, 1, 1, 10, 2, 4, 10, 6, 9, 9, 3, 10, 3, 4, 5, 1, 2, 1, 10, 3, 1, 1, 1, 1, 1, 1, 10, 4, 4, 2, 4, 1, 6, 1, 8, 5, 4, 5, 1, 9, 10, 8, 1, 4, 1, 6, 1, 8, 8, 1, 6, 5, 5, 7, 7, 8, 9, 9, 6, 5, 7, 10, 7, 9, 7, 6, 7, 3, 9, 8, 4, 2, 4, 5, 4, 1, 6, 7, 6, 2, 5, 8, 10, 5, 7, 7, 10, 6, 3, 2, 5, 5, 9, 5, 5, 2, 10, 2, 6, 2, 5, 5, 6, 9, 10, 4, 2, 1, 4, 5, 1, 6, 5, 4, 1, 6, 10, 5, 3, 7, 2, 2, 7, 8, 4, 4, 6, 9, 6, 6, 10, 9, 2, 7, 9, 4, 3, 4, 5, 6, 6, 1, 3, 5, 2, 3, 10, 1, 7, 7, 5, 7, 10, 3, 2, 7, 7, 6, 3, 9, 2, 8, 9, 4, 2, 2, 7, 7, 6, 5, 5, 2, 8, 4, 8, 9, 6, 5, 6, 3, 7, 7, 3, 5, 1, 6, 10, 4, 4, 9, 2, 6, 9, 8, 10, 8, 5, 5, 6, 8, 6, 6, 10, 7, 9, 6, 3, 5, 10, 5, 3, 10, 3, 4, 4, 7, 5, 5, 6, 2, 7, 9, 8, 8, 9, 2, 3, 3, 6, 6, 7, 5, 1, 6, 5, 8, 10, 9, 9, 6, 3, 3, 10, 1, 5, 2, 3, 9, 9, 3, 3, 1, 5, 3, 3, 4, 2, 6, 10, 3, 4, 9, 9, 10, 5, 1, 10, 8, 7, 10, 10, 3, 8, 10, 8, 8, 7, 1, 1, 2, 7, 6, 5, 8, 4, 2, 3, 8, 4, 9, 5, 4, 8, 1, 7, 6, 1, 10, 5, 6, 7, 7, 9, 2, 9, 3, 3, 1, 4, 8, 6, 8, 5, 7, 10, 8, 7, 4, 8, 9, 3, 9, 9, 9, 2, 3, 9, 9, 6, 6, 9, 3, 1, 3, 5, 9, 7, 9, 10, 9, 3, 8, 5, 8, 3, 2, 1, 8, 9, 7, 1, 9, 3, 6, 4, 7, 7, 8, 1, 9, 4, 3, 8, 8, 2, 10, 4, 7, 6, 3, 2, 5, 2, 1, 6, 10, 3, 4, 8, 7, 4, 2, 1, 4, 10, 6, 9, 8, 9, 2, 7, 10, 2, 9, 2, 3, 5, 4, 5, 3, 1, 7, 9, 9, 6, 2, 4, 5, 2, 4, 10, 4, 1, 2, 5, 7, 10, 4, 8, 5, 7, 2, 7, 3, 9, 7, 5, 5, 4, 1, 6, 8, 5, 2, 3, 5, 3, 9, 7, 1, 9, 9, 1, 3, 9, 10, 2, 10, 9, 9, 1, 10, 10, 10, 7, 2, 5, 3, 7, 1, 6, 10, 1, 3, 4, 6, 9, 3, 6, 9, 2, 10, 6, 6, 9, 8, 6, 5, 10, 6, 7, 6, 5, 7, 4, 6, 7, 9, 6, 6, 4, 4, 1, 5, 2, 8, 9, 5, 10, 2, 4, 10, 5, 2, 7, 1, 3, 7, 10, 1, 7, 6, 2, 7, 2, 10, 1, 5, 8, 1, 1, 9, 5, 10, 1, 4, 9, 4, 4, 5, 3, 1, 1, 7, 3, 8, 5, 4, 9, 6, 7, 9, 4, 5, 2, 10, 6, 5, 5, 10, 10, 3, 3, 7, 10, 3, 2, 8, 9, 2, 10, 3, 5, 1, 9, 9, 4, 1, 9, 4, 7, 9, 1, 8, 10, 9, 1, 1, 2, 3, 7, 7, 1, 5, 2, 3, 8, 9, 3, 7, 1, 4, 4, 2, 7, 10, 4, 2, 10, 9, 4, 8, 8, 3, 5, 7, 5, 1, 6, 10, 3, 2, 10, 3, 8, 1, 4, 10, 9, 2, 10, 8, 9, 1, 3, 5, 3, 1, 2, 10, 6, 2, 4, 1, 2, 10, 10, 8, 8, 8, 7, 7, 5, 10, 9, 6, 7, 9, 1, 4, 8, 8, 1, 5, 3, 9, 4, 10, 2, 1, 6, 5, 10, 2, 1, 3, 3, 8, 10, 4, 1, 6, 3, 8, 6, 3, 7, 1, 2, 4, 5, 1, 4, 4, 4, 6, 5, 5, 4, 10, 6, 10, 10, 5, 3, 9, 4, 7, 2, 7, 9, 10, 7, 2, 1, 5, 5, 5, 2, 10, 6, 7, 7, 3, 6, 6, 2, 10, 1, 6, 9, 5, 3, 10, 2, 1, 10, 7, 3, 6, 9, 9, 10, 7, 7, 4, 10, 5, 3, 8, 10, 6, 10, 4, 3, 8, 9, 10, 1, 10, 6, 6, 6, 2, 8, 6, 5, 4, 3, 4, 2, 4, 2, 8, 8, 7, 3, 4, 3, 5, 6, 1, 4, 2, 3, 3, 9, 1, 4, 2, 3, 10, 1, 8, 7, 4, 2, 10, 6, 1, 10, 2, 8, 2, 3, 9, 3, 3, 1, 3, 2, 6, 10, 6, 5, 5, 4, 8, 9, 8, 5, 3, 9, 3, 8, 5, 10, 5, 3, 8, 7, 10, 1, 8, 5, 2, 2, 1, 9, 1, 4, 3, 8, 10, 5, 10, 3, 5, 3, 4, 3, 8, 7, 4, 6, 10, 9, 3, 3, 9, 6, 1, 7, 4, 1, 3, 9, 3, 7, 4, 4, 2, 3, 6, 10, 4, 2, 7, 8, 5, 2, 4, 7, 10, 1, 3, 7, 6, 5, 4, 4, 4, 5, 4, 3, 8, 4, 10, 3, 1, 5, 3, 2, 8, 3, 4, 7, 3, 8, 1, 8, 4, 5, 5, 4, 8, 3, 5, 6, 8, 4, 6, 1, 2, 3, 6, 3, 9, 9, 10, 4, 8, 6, 6, 7, 8, 7, 10, 4, 6, 5, 1, 3, 1, 1, 6, 5, 5, 5, 5, 3, 6, 7, 4, 6, 1, 10, 4, 2, 7, 6, 10, 3, 5, 7, 9, 9, 9, 1, 10, 5, 2, 1, 6, 8, 1, 4, 3, 7, 1, 2, 9, 10, 6, 5, 1, 2, 10, 4, 10, 9, 2, 4, 9, 5, 4, 7, 1, 6, 3, 9, 2, 5, 8, 6, 9, 7, 10, 1, 1, 2, 9, 8, 6, 4, 5, 10, 6, 8, 10, 9, 4, 10, 4, 1, 3, 1, 6, 4, 4, 7, 5, 3, 1, 6, 1, 6, 7, 1, 5, 6, 7, 7, 2, 10, 9, 5, 5, 5, 5, 6, 5, 3, 7, 4, 4, 5, 10, 1, 8, 3, 8, 5, 3, 1, 9, 5, 8, 8, 2, 5, 6, 10, 7, 10, 6, 2, 5, 5, 5, 2, 2, 8, 7, 1, 4, 8, 5, 2, 4, 2, 1, 4, 7, 8, 7, 8, 6, 1, 3, 2, 9, 8, 1, 10, 1, 8, 7, 9, 3, 10, 3, 9, 6, 3, 10, 5, 6, 5, 9, 9, 10, 5, 8, 8, 3, 4, 4, 9, 7, 3, 5, 2, 9, 4, 8, 10, 4, 8, 8, 10, 1, 9, 1, 1, 5, 4, 8, 10, 6, 5, 4, 5, 5, 9, 3, 7, 4, 9, 1, 4, 7, 10, 7, 10, 5, 10, 4, 10, 1, 4, 8, 1, 1, 7, 7, 8, 3, 3, 1, 9, 6, 2, 8, 2, 3, 10, 7, 1, 7, 4, 5, 4, 7, 1, 4, 10, 2, 2, 3, 1, 5, 5, 6, 10, 8, 5, 7, 9, 7, 6, 2, 8, 8, 6, 4, 3, 10, 9, 7, 10, 9, 5, 3, 1, 8, 3, 6, 5, 2, 2, 8, 5, 4, 5, 8, 8, 5, 8, 6, 5, 3, 6, 1, 10, 2, 3, 1, 10, 3, 8, 5, 1, 8, 2, 1, 1, 1, 3, 7, 3, 5, 9, 6, 4, 6, 8, 3, 10, 2, 4, 7, 9, 7, 5, 6, 6, 2, 10, 9, 8, 3, 6, 2, 10, 1, 8, 6, 6, 6, 10, 3, 6, 6, 7, 6, 6, 7, 4, 7, 1, 1, 8, 7, 5, 4, 6, 8, 9, 7, 7, 9, 6, 4, 4, 4, 10, 9, 8, 5, 1, 1, 5, 8, 10, 2, 7, 1, 6, 1, 9, 1, 4, 10, 1, 8, 1, 3, 4, 1, 3, 1, 1, 5, 2, 8, 1, 1, 4, 2, 5, 1, 2, 4, 8, 4, 9, 6, 6, 1, 4, 6, 5, 7, 4, 2, 3, 10, 2, 2, 2, 2, 7, 1, 8, 8, 4, 6, 3, 1, 6, 3, 5, 9, 4, 10, 2, 3, 2, 8, 10, 7, 10, 4, 10, 2, 5, 4, 4, 1, 10, 3, 7, 4, 10, 7, 5, 6, 9, 9, 7, 5, 2, 1, 7, 3, 3, 4, 9, 6, 3, 10, 4, 4, 8, 2, 4, 3, 7, 4, 5, 10, 7, 9, 6, 10, 4, 6, 2, 5, 2, 9, 8, 5, 6, 1, 10, 2, 8, 4, 6, 3, 9, 9, 10, 6, 10, 7, 3, 10, 10, 6, 4, 2, 8, 1, 10, 6, 7, 6, 8, 4, 8, 1, 5, 4, 5, 7, 9, 4, 7, 1, 9, 7, 4, 10, 6, 6, 7, 2, 2, 4, 7, 2, 2, 5, 5, 10, 4, 3, 8, 7, 9, 8, 8, 5, 10, 4, 5, 9, 3, 5, 7, 6, 7, 9, 6, 8, 6, 4, 9, 2, 5, 5, 7, 1, 10, 8, 6, 9, 5, 4, 8, 7, 5, 5, 10, 7, 6, 3, 7, 7, 5, 3, 8, 7, 4, 8, 2, 2, 3, 8, 3, 6, 9, 7, 6, 10, 5, 1, 3, 9, 5, 7, 5, 7, 5, 8, 10, 2, 8, 5, 2, 5, 4, 6, 10, 7, 4, 6, 5, 8, 8, 5, 7, 7, 6, 7, 1, 2, 1, 7, 3, 4, 6, 9, 1, 1, 4, 8, 7, 6, 4, 10, 2, 8, 1, 2, 6, 9, 9, 7, 6, 5, 6, 1, 6, 10, 1, 2, 8, 2, 4, 7, 4, 8, 1, 8, 6, 1, 3, 3, 1, 10, 1, 5, 3, 6, 8, 7, 9, 7, 6, 5, 6, 2, 10, 1, 5, 1, 2, 1, 1, 6, 2, 7, 1, 2, 1, 9, 7, 7, 3, 7, 4, 3, 1, 9, 2, 10, 2, 7, 2, 4, 5, 4, 3, 8, 4, 4, 9, 8, 3, 5, 6, 5, 7, 1, 10, 2, 5, 4, 9, 4, 2, 8, 6, 7, 2, 6, 10, 8, 1, 2, 7, 7, 7, 10, 3, 4, 1, 2, 7, 3, 3, 2, 6, 10, 8, 4, 3, 1, 3, 9, 9, 6, 8, 1, 5, 10, 10, 5, 9, 10, 9, 9, 9, 10, 6, 10, 1, 3, 2, 6, 3, 8, 4, 5, 7, 7, 8, 8, 7, 8, 8, 7, 1, 8, 5, 8, 6, 1, 5, 10, 9, 10, 2, 9, 3, 1, 3, 7, 7, 2, 10, 4, 10, 10, 4, 3, 3, 9, 2, 7, 3, 5, 7, 5, 2, 7, 5, 2, 10, 10, 8, 9, 2, 5, 4, 8, 9, 8, 4, 6, 8, 10, 7, 5, 6, 4, 8, 6, 9, 7, 4, 8, 5, 4, 3, 1, 8, 5, 5, 7, 3, 1, 4, 6, 6, 3, 8, 2, 8, 5, 5, 2, 9, 5, 3, 1, 9, 2, 4, 10, 4, 6, 9, 3, 4, 7, 1, 1, 4, 3, 3, 7, 8, 5, 7, 5, 7, 5, 3, 7, 2, 9, 8, 7, 7, 9, 9, 7, 2, 2, 8, 6, 8, 6, 4, 7, 2, 2, 7, 4, 6, 5, 9, 7, 2, 4, 5, 1, 7, 10, 10, 6, 10, 8, 4, 7, 2, 10, 5, 2, 7, 7, 1, 3, 4, 8, 5, 6, 7, 3, 8, 2, 6, 6, 5, 9, 2, 2, 3, 8, 8, 6, 5, 2, 1, 9, 9, 7, 8, 6, 2, 4, 5, 8, 7, 3, 9, 6, 9, 10, 8, 10, 9, 3, 1, 3, 9, 6, 1, 3, 2, 2, 4, 3, 5, 7, 7, 2, 8, 4, 5, 2, 4, 2, 5, 8, 8, 9, 1, 2, 6, 6, 9, 10, 3, 10, 5, 6, 9, 1, 5, 5, 2, 9, 2, 10, 6, 2, 1, 6, 7, 2, 3, 5, 9, 5, 3, 2, 10, 10, 6, 10, 9, 6, 5, 1, 2, 1, 10, 2, 3, 9, 5, 4, 3, 6, 7, 10, 9, 7, 5, 2, 1, 2, 8, 6, 4, 2, 2, 8, 5, 7, 9, 10, 10, 9, 7, 5, 1, 2, 8, 7, 4, 8, 1, 7, 4, 6, 2, 4, 9, 7, 6, 1, 4, 1, 6, 3, 4, 5, 9, 10, 5, 5, 9, 9, 10, 7, 5, 9, 4, 3, 4, 5, 1, 7, 6, 7, 8, 9, 10, 1, 4, 6, 8, 4, 5, 8, 6, 3, 8, 2, 6, 3, 1, 7, 6, 9, 1, 9, 9, 5, 9, 5, 6, 4, 1, 6, 2, 10, 10, 10, 10, 6, 10, 7, 2, 1, 10, 10, 5, 7, 10, 2, 4, 5, 8, 1, 10, 3, 1, 5, 1, 2, 5, 9, 5, 3, 9, 8, 4, 9, 9, 5, 2, 5, 9, 7, 8, 6, 5, 10, 4, 5, 5, 4, 6, 10, 1, 2, 9, 7, 7, 4, 8, 1, 3, 4, 5, 1, 10, 4, 4, 8, 5, 2, 9, 8, 10, 6, 9, 5, 5, 3, 1, 2, 8, 6, 1, 8, 7, 2, 5, 7, 1, 2, 5, 7, 2, 6, 2, 10, 8, 8, 3, 3, 1, 1, 2, 10, 10, 2, 8, 4, 10, 7, 8, 8, 4, 6, 8, 8, 6, 2, 3, 3, 10, 9, 10, 9, 2, 9, 1, 1, 9, 7, 7, 9, 5, 5, 8, 10, 7, 8, 10, 8, 2, 9, 10, 2, 6, 3, 10, 9, 7, 4, 9, 8, 9, 10, 5, 9, 1, 10, 8, 2, 5, 2, 9, 6, 7, 10, 2, 8, 8, 3, 6, 7, 8, 1, 1, 6, 7, 2, 2, 2, 5, 5, 9, 7, 1, 2, 8, 6, 5, 9, 9, 2, 5, 9, 5, 8, 2, 9, 9, 3, 3, 10, 1, 10, 3, 3, 10, 3, 9, 6, 4, 4, 9, 4, 7, 3, 5, 10, 7, 5, 5, 1, 8, 10, 7, 9, 8, 2, 2, 3, 2, 10, 6, 2, 9, 6, 2, 10, 9, 2, 10, 8, 3, 3, 1, 7, 4, 2, 10, 10, 8, 6, 9, 1, 5, 3, 6, 4, 9, 4, 8, 8, 10, 4, 2, 1, 2, 5, 9, 2, 3, 10, 2, 10, 8, 3, 1, 8, 8, 5, 5, 6, 5, 3, 4, 2, 5, 1, 7, 1, 3, 1, 8, 9, 3, 2, 6, 2, 9, 3, 6, 5, 9, 5, 5, 4, 9, 5, 4, 9, 9, 3, 4, 4, 6, 1, 7, 8, 2, 1, 1, 3, 10, 10, 2, 2, 4, 8, 6, 10, 10, 10, 9, 2, 3, 5, 6, 6, 8, 1, 4, 7, 3, 9, 4, 8, 8, 10, 10, 8, 1, 6, 1, 4, 10, 6, 8, 7, 6, 4, 3, 4, 9, 8, 9, 5, 3, 8, 4, 5, 1, 4, 6, 2, 9, 10, 3, 1, 9, 1, 7, 5, 1, 5, 5, 10, 5, 4, 2, 7, 10, 3, 4, 1, 10, 9, 8, 5, 1, 1, 6, 2, 5, 6, 1, 2, 3, 3, 5, 3, 6, 1, 10, 8, 2, 7, 3, 9, 4, 6, 9, 9, 8, 10, 8, 1, 4, 1, 6, 4, 8, 3, 5, 8, 5, 4, 3, 9, 5, 1, 7, 8, 5, 2, 3, 7, 2, 3, 5, 6, 2, 2, 9, 2, 3, 8, 1, 8, 8, 7, 10, 9, 6, 4, 5, 4, 5, 10, 1, 9, 1, 2, 6, 5, 8, 5, 8, 8, 4, 8, 8, 4, 6, 8, 10, 9, 6, 2, 2, 3, 9, 10, 6, 3, 2, 8, 7, 10, 3, 3, 1, 5, 4, 2, 2, 8, 7, 3, 7, 2, 5, 1, 2, 5, 1, 7, 1, 6, 6, 5, 10, 1, 1, 1, 3, 2, 6, 4, 10, 2, 10, 9, 4, 2, 1, 4, 6, 6, 9, 3, 1, 10, 1, 8, 10, 9, 10, 8, 3, 8, 4, 6, 5, 1, 6, 6, 8, 3, 3, 3, 4, 4, 8, 6, 6, 5, 9, 9, 3, 1, 8, 5, 9, 8, 5, 2, 7, 3, 8, 7, 4, 4, 2, 7, 7, 1, 5, 4, 8, 5, 2, 8, 10, 2, 3, 4, 10, 9, 7, 2, 2, 7, 2, 10, 4, 7, 4, 7, 4, 3, 4, 8, 9, 2, 5, 1, 10, 8, 3, 1, 2, 4, 4, 7, 7, 3, 1, 7, 4, 9, 1, 1, 10, 8, 4, 3, 2, 6, 2, 2, 9, 7, 4, 7, 8, 4, 2, 8, 3, 7, 2, 1, 1, 8, 6, 8, 10, 4, 8, 8, 3, 9, 1, 1, 3, 2, 4, 1, 4, 3, 3, 6, 9, 5, 4, 2, 7, 3, 6, 5, 9, 10, 4, 3, 7, 3, 6, 4, 6, 8, 1, 6, 7, 4, 5, 7, 10, 1, 7, 7, 3, 10, 7, 5, 1, 6, 9, 10, 8, 3, 5, 8, 3, 7, 9, 6, 1, 1, 3, 7, 1, 10, 4, 4, 5, 4, 7, 7, 5, 4, 3, 4, 3, 7, 3, 3, 5, 4, 1, 10, 1, 4, 7, 6, 3, 1, 7, 10, 1, 5, 4, 2, 7, 1, 9, 1, 6, 8, 1, 1, 6, 8, 10, 7, 9, 9, 6, 9, 1, 9, 8, 1, 6, 2, 10, 8, 10, 1, 2, 8, 6, 8, 3, 2, 3, 1, 9, 7, 7, 5, 1, 6, 4, 6, 10, 3, 9, 3, 2, 5, 5, 5, 3, 4, 9, 10, 7, 2, 3, 6, 10, 4, 4, 1, 1, 10, 9, 10, 7, 2, 8, 9, 3, 5, 9, 9, 6, 1, 3, 6, 6, 10, 2, 6, 1, 4, 2, 2, 4, 4, 3, 3, 2, 1, 7, 8, 5, 4, 1, 8, 5, 9, 1, 7, 3, 7, 8, 2, 8, 5, 1, 4, 5, 7, 8, 10, 3, 7, 7, 2, 1, 3, 7, 7, 8, 10, 1, 9, 2, 6, 1, 9, 5, 2, 5, 10, 9, 5, 5, 8, 8, 9, 7, 5, 10, 6, 7, 10, 2, 1, 3, 1, 7, 7, 7, 9, 1, 6, 4, 7, 8, 1, 2, 1, 7, 3, 8, 3, 3, 5, 6, 9, 3, 8, 7, 8, 7, 8, 6, 6, 7, 1, 8, 1, 8, 6, 3, 3, 9, 9, 7, 4, 3, 3, 1, 7, 1, 5, 7, 5, 7, 2, 9, 3, 10, 10, 4, 8, 9, 8, 8, 10, 5, 1, 4, 10, 3, 5, 6, 3, 9, 9, 9, 2, 1, 4, 7, 9, 4, 7, 4, 5, 6, 3, 8, 9, 9, 9, 5, 6, 2, 1, 6, 5, 6, 8, 7, 1, 6, 10, 1, 3, 1, 4, 8, 2, 10, 9, 6, 5, 5, 5, 6, 4, 10, 9, 4, 5, 3, 6, 2, 9, 8, 10, 5, 1, 8, 3, 1, 4, 9, 3, 5, 5, 1, 5, 5, 7, 10, 6, 4, 9, 6, 5, 8, 3, 7, 5, 1, 7, 9, 8, 9, 4, 6, 1, 8, 5, 1, 10, 5, 7, 2, 7, 6, 7, 3, 10, 8, 9, 5, 7, 4, 1, 2, 1, 1, 10, 10, 1, 9, 4, 5, 1, 10, 9, 1, 2, 5, 9, 1, 2, 6, 3, 2, 2, 5, 8, 1, 1, 9, 2, 3, 10, 5, 6, 2, 2, 9, 4, 1, 3, 8, 9, 2, 8, 10, 7, 8, 8, 6, 7, 9, 8, 9, 7, 3, 9, 1, 2, 10, 6, 2, 2, 2, 8, 5, 5, 4, 8, 1, 3, 8, 6, 9, 2, 1, 2, 5, 2, 9, 7, 10, 3, 6, 6, 3, 9, 10, 2, 8, 1, 5, 8, 3, 6, 2, 1, 1, 8, 3, 7, 7, 7, 3, 4, 7, 9, 4, 9, 7, 3, 8, 3, 5, 3, 3, 4, 7, 7, 8, 7, 5, 1, 6, 2, 7, 8, 8, 6, 1, 8, 4, 3, 4, 6, 10, 10, 7, 2, 1, 4, 7, 6, 1, 7, 9, 7, 8, 5, 6, 1, 6, 1, 7, 3, 5, 6, 8, 5, 4, 8, 6, 9, 2, 3, 1, 9, 7, 5, 1, 7, 9, 2, 5, 8, 3, 6, 5, 3, 1, 6, 1, 6, 6, 7, 10, 8, 9, 1, 7, 9, 10, 8, 9, 10, 2, 7, 10, 10, 3, 3, 7, 8, 3, 3, 10, 1, 10, 10, 2, 7, 9, 2, 1, 6, 8, 7, 1, 5, 9, 7, 4, 3, 3, 10, 4, 1, 4, 2, 5, 2, 10, 6, 3, 6, 8, 6, 7, 6, 8, 1, 6, 2, 1, 6, 5, 7, 2, 10, 3, 7, 5, 9, 9, 3, 10, 5, 8, 6, 8, 1, 8, 8, 10, 4, 9, 4, 7, 3, 2, 2, 1, 7]\n",
            "array=[8 9 5 ... 2 1 7]\n"
          ]
        }
      ]
    },
    {
      "cell_type": "code",
      "source": [
        "%%time\n",
        "sq=[item**2 for item in numbers]"
      ],
      "metadata": {
        "colab": {
          "base_uri": "https://localhost:8080/"
        },
        "id": "YJ5OM1EY5S88",
        "outputId": "966a42bc-3136-481f-8fca-49188f7ad49a"
      },
      "execution_count": null,
      "outputs": [
        {
          "output_type": "stream",
          "name": "stdout",
          "text": [
            "CPU times: user 15.2 ms, sys: 1.64 ms, total: 16.9 ms\n",
            "Wall time: 17.2 ms\n"
          ]
        }
      ]
    },
    {
      "cell_type": "code",
      "source": [
        "%%time\n",
        "sq=numbers_array**2"
      ],
      "metadata": {
        "colab": {
          "base_uri": "https://localhost:8080/"
        },
        "id": "rXO0JE2O6N8-",
        "outputId": "142def0a-377e-41bc-9ee5-faf7994d24ec"
      },
      "execution_count": null,
      "outputs": [
        {
          "output_type": "stream",
          "name": "stdout",
          "text": [
            "CPU times: user 914 µs, sys: 0 ns, total: 914 µs\n",
            "Wall time: 3.12 ms\n"
          ]
        }
      ]
    },
    {
      "cell_type": "code",
      "source": [],
      "metadata": {
        "id": "Bt7z-ig_6bIB"
      },
      "execution_count": null,
      "outputs": []
    },
    {
      "cell_type": "markdown",
      "source": [
        "# besides creating an array from a sequence of elements you can create an array filled with 0's, 1's, empty - depends on state of memory"
      ],
      "metadata": {
        "id": "oXypOtey7WyC"
      }
    },
    {
      "cell_type": "code",
      "source": [
        "ones=np.ones(5)"
      ],
      "metadata": {
        "id": "glYa58FS7lXb"
      },
      "execution_count": null,
      "outputs": []
    },
    {
      "cell_type": "code",
      "source": [
        "ones"
      ],
      "metadata": {
        "colab": {
          "base_uri": "https://localhost:8080/"
        },
        "id": "XzcwxUxQ738j",
        "outputId": "a4910eaf-8a3d-475f-9ac1-f2824348a392"
      },
      "execution_count": null,
      "outputs": [
        {
          "output_type": "execute_result",
          "data": {
            "text/plain": [
              "array([1., 1., 1., 1., 1.])"
            ]
          },
          "metadata": {},
          "execution_count": 81
        }
      ]
    },
    {
      "cell_type": "code",
      "source": [
        "zeros=np.zeros(5)"
      ],
      "metadata": {
        "id": "lMR91kvC74h0"
      },
      "execution_count": null,
      "outputs": []
    },
    {
      "cell_type": "code",
      "source": [
        "zeros"
      ],
      "metadata": {
        "colab": {
          "base_uri": "https://localhost:8080/"
        },
        "id": "5nIIWWKC8A2y",
        "outputId": "e28df37d-e282-45ac-95d5-5cab95cf1e27"
      },
      "execution_count": null,
      "outputs": [
        {
          "output_type": "execute_result",
          "data": {
            "text/plain": [
              "array([0., 0., 0., 0., 0.])"
            ]
          },
          "metadata": {},
          "execution_count": 83
        }
      ]
    },
    {
      "cell_type": "code",
      "source": [
        "ones.dtype"
      ],
      "metadata": {
        "colab": {
          "base_uri": "https://localhost:8080/"
        },
        "id": "Noon4vIS8Cyt",
        "outputId": "b34d2675-72cc-4075-e2a2-8bb6019868ac"
      },
      "execution_count": null,
      "outputs": [
        {
          "output_type": "execute_result",
          "data": {
            "text/plain": [
              "dtype('float64')"
            ]
          },
          "metadata": {},
          "execution_count": 84
        }
      ]
    },
    {
      "cell_type": "code",
      "source": [
        "ones=np.ones(5,dtype=np.int8)"
      ],
      "metadata": {
        "id": "hD9USD_S8F0D"
      },
      "execution_count": null,
      "outputs": []
    },
    {
      "cell_type": "code",
      "source": [
        "ones"
      ],
      "metadata": {
        "colab": {
          "base_uri": "https://localhost:8080/"
        },
        "id": "BCr_BqPY8OQ1",
        "outputId": "08306cf6-837d-44eb-fdf7-1ff49cf5357c"
      },
      "execution_count": null,
      "outputs": [
        {
          "output_type": "execute_result",
          "data": {
            "text/plain": [
              "array([1, 1, 1, 1, 1], dtype=int8)"
            ]
          },
          "metadata": {},
          "execution_count": 86
        }
      ]
    },
    {
      "cell_type": "code",
      "source": [
        "zeros.dtype"
      ],
      "metadata": {
        "colab": {
          "base_uri": "https://localhost:8080/"
        },
        "id": "gSZzuYK08PKb",
        "outputId": "813a3a1b-65b5-4da1-a7c0-f69a66ba7ea3"
      },
      "execution_count": null,
      "outputs": [
        {
          "output_type": "execute_result",
          "data": {
            "text/plain": [
              "dtype('float64')"
            ]
          },
          "metadata": {},
          "execution_count": 87
        }
      ]
    },
    {
      "cell_type": "code",
      "source": [
        "zeros=np.zeros(5,dtype=np.int8)"
      ],
      "metadata": {
        "id": "0mCVLSty8VlU"
      },
      "execution_count": null,
      "outputs": []
    },
    {
      "cell_type": "code",
      "source": [
        "empty=np.empty(10)"
      ],
      "metadata": {
        "id": "W8WN5gbw8fKF"
      },
      "execution_count": null,
      "outputs": []
    },
    {
      "cell_type": "code",
      "source": [
        "empty # depends on state of memory"
      ],
      "metadata": {
        "colab": {
          "base_uri": "https://localhost:8080/"
        },
        "id": "CSoK5Rwt8nst",
        "outputId": "b43197a8-a479-439d-b9f5-be521b0f6b5a"
      },
      "execution_count": null,
      "outputs": [
        {
          "output_type": "execute_result",
          "data": {
            "text/plain": [
              "array([2.28157934e-316, 0.00000000e+000, 0.00000000e+000, 0.00000000e+000,\n",
              "       6.37257758e-067, 3.69721342e-057, 1.74248589e-076, 6.56326652e-091,\n",
              "       1.83053699e-076, 6.62024921e-310])"
            ]
          },
          "metadata": {},
          "execution_count": 92
        }
      ]
    },
    {
      "cell_type": "code",
      "source": [
        "# ones and zeroes are used in image masking in computer vission"
      ],
      "metadata": {
        "id": "MlDpNsqo8oXV"
      },
      "execution_count": null,
      "outputs": []
    },
    {
      "cell_type": "markdown",
      "source": [
        "# .arange()"
      ],
      "metadata": {
        "id": "jUfElbFE1U7w"
      }
    },
    {
      "cell_type": "code",
      "source": [
        "import numpy as np\n",
        "numbers =np.arange(1,10,1) # (start, end ,step)\n",
        "numbers"
      ],
      "metadata": {
        "id": "ruYluYmz9lE_",
        "colab": {
          "base_uri": "https://localhost:8080/"
        },
        "outputId": "f03163f7-1dc6-43fc-e920-b2e7f0121c5b"
      },
      "execution_count": null,
      "outputs": [
        {
          "output_type": "execute_result",
          "data": {
            "text/plain": [
              "array([1, 2, 3, 4, 5, 6, 7, 8, 9])"
            ]
          },
          "metadata": {},
          "execution_count": 1
        }
      ]
    },
    {
      "cell_type": "code",
      "source": [
        "np.arange(2,10,2)"
      ],
      "metadata": {
        "colab": {
          "base_uri": "https://localhost:8080/"
        },
        "id": "Tc84aVUY1xgC",
        "outputId": "e8097f09-3f9d-4b55-e64e-c66e5361be0e"
      },
      "execution_count": null,
      "outputs": [
        {
          "output_type": "execute_result",
          "data": {
            "text/plain": [
              "array([2, 4, 6, 8])"
            ]
          },
          "metadata": {},
          "execution_count": 2
        }
      ]
    },
    {
      "cell_type": "code",
      "source": [],
      "metadata": {
        "id": "U3DvwHDb1_oa"
      },
      "execution_count": null,
      "outputs": []
    },
    {
      "cell_type": "markdown",
      "source": [
        "# linspace"
      ],
      "metadata": {
        "id": "58xa2JtW2ERg"
      }
    },
    {
      "cell_type": "code",
      "source": [
        "np.linspace(0,1,5) # 0 dekhi 1 samma 5 ota number"
      ],
      "metadata": {
        "colab": {
          "base_uri": "https://localhost:8080/"
        },
        "id": "PWFmg5w_2H-F",
        "outputId": "e72bbe54-fa82-41c1-cae7-bf97875004db"
      },
      "execution_count": null,
      "outputs": [
        {
          "output_type": "execute_result",
          "data": {
            "text/plain": [
              "array([0.  , 0.25, 0.5 , 0.75, 1.  ])"
            ]
          },
          "metadata": {},
          "execution_count": 4
        }
      ]
    },
    {
      "cell_type": "code",
      "source": [
        "np.linspace(10,100,20)"
      ],
      "metadata": {
        "colab": {
          "base_uri": "https://localhost:8080/"
        },
        "id": "tL6qc50F2M4w",
        "outputId": "42e8472f-c6f9-4cb3-e79e-1116eb0d152e"
      },
      "execution_count": null,
      "outputs": [
        {
          "output_type": "execute_result",
          "data": {
            "text/plain": [
              "array([ 10.        ,  14.73684211,  19.47368421,  24.21052632,\n",
              "        28.94736842,  33.68421053,  38.42105263,  43.15789474,\n",
              "        47.89473684,  52.63157895,  57.36842105,  62.10526316,\n",
              "        66.84210526,  71.57894737,  76.31578947,  81.05263158,\n",
              "        85.78947368,  90.52631579,  95.26315789, 100.        ])"
            ]
          },
          "metadata": {},
          "execution_count": 5
        }
      ]
    },
    {
      "cell_type": "code",
      "source": [
        "x=np.linspace(0,10,50)\n",
        "sinx=np.sin(x)\n",
        "import matplotlib.pyplot as plt\n",
        "plt.plot(x,sinx,'o--',color='green')\n"
      ],
      "metadata": {
        "colab": {
          "base_uri": "https://localhost:8080/",
          "height": 447
        },
        "id": "ryCTXx0W2gTL",
        "outputId": "7281f961-d30d-4827-9578-a13b3020bc4d"
      },
      "execution_count": null,
      "outputs": [
        {
          "output_type": "execute_result",
          "data": {
            "text/plain": [
              "[<matplotlib.lines.Line2D at 0x79b16d9c5ba0>]"
            ]
          },
          "metadata": {},
          "execution_count": 15
        },
        {
          "output_type": "display_data",
          "data": {
            "text/plain": [
              "<Figure size 640x480 with 1 Axes>"
            ],
            "image/png": "[encoded data removed]"
          },
          "metadata": {}
        }
      ]
    },
    {
      "cell_type": "code",
      "source": [
        "x= np.linspace(0,20,200)\n",
        "cosx=np.cos(x)\n",
        "import matplotlib.pyplot as plt\n",
        "plt.plot(x,cosx,'o--',color='green')"
      ],
      "metadata": {
        "colab": {
          "base_uri": "https://localhost:8080/",
          "height": 447
        },
        "id": "hh-JhSnr3uun",
        "outputId": "a77eba6b-cc25-476c-dc29-1fe4fd361ffb"
      },
      "execution_count": null,
      "outputs": [
        {
          "output_type": "execute_result",
          "data": {
            "text/plain": [
              "[<matplotlib.lines.Line2D at 0x79b16d9f70d0>]"
            ]
          },
          "metadata": {},
          "execution_count": 18
        },
        {
          "output_type": "display_data",
          "data": {
            "text/plain": [
              "<Figure size 640x480 with 1 Axes>"
            ],
            "image/png": "[encoded data removed]"
          },
          "metadata": {}
        }
      ]
    },
    {
      "cell_type": "code",
      "source": [
        "x= np.linspace(0,20,200)\n",
        "cosx=np.cos(x)\n",
        "sinx=np.sin(x)\n",
        "tanx=np.tan(x)\n",
        "import matplotlib.pyplot as plt\n",
        "plt.plot(x,cosx,'o--',color='magenta')\n",
        "plt.plot(x,sinx,'o--',color='cyan')\n",
        "plt.plot(x,tanx,'o--',color='yellow')\n",
        "plt.legend()\n",
        "plt.show()\n"
      ],
      "metadata": {
        "colab": {
          "base_uri": "https://localhost:8080/",
          "height": 448
        },
        "id": "uaqL27qE5moR",
        "outputId": "3fcfe852-9263-40fe-e290-7a07925e5bb2"
      },
      "execution_count": null,
      "outputs": [
        {
          "output_type": "stream",
          "name": "stderr",
          "text": [
            "WARNING:matplotlib.legend:No artists with labels found to put in legend.  Note that artists whose label start with an underscore are ignored when legend() is called with no argument.\n"
          ]
        },
        {
          "output_type": "display_data",
          "data": {
            "text/plain": [
              "<Figure size 640x480 with 1 Axes>"
            ],
            "image/png": "[encoded data removed]"
          },
          "metadata": {}
        }
      ]
    },
    {
      "cell_type": "markdown",
      "source": [
        "# np.any() vs np.all()"
      ],
      "metadata": {
        "id": "HuXU7c_A6c1-"
      }
    },
    {
      "cell_type": "code",
      "source": [
        "x=np.array([1,2,3,4,5,6,6,5,4,3,2,1])\n"
      ],
      "metadata": {
        "id": "7x8u38BR6D2-"
      },
      "execution_count": null,
      "outputs": []
    },
    {
      "cell_type": "code",
      "source": [
        "x>=5"
      ],
      "metadata": {
        "colab": {
          "base_uri": "https://localhost:8080/"
        },
        "id": "-j2b5Hy67BZ_",
        "outputId": "262dcdaf-8d79-4361-80e6-ede8bbf96185"
      },
      "execution_count": null,
      "outputs": [
        {
          "output_type": "execute_result",
          "data": {
            "text/plain": [
              "array([False, False, False, False,  True,  True,  True,  True, False,\n",
              "       False, False, False])"
            ]
          },
          "metadata": {},
          "execution_count": 23
        }
      ]
    },
    {
      "cell_type": "code",
      "source": [
        "x[x>=5] # true vako indec haru retrieve garxa"
      ],
      "metadata": {
        "colab": {
          "base_uri": "https://localhost:8080/"
        },
        "id": "bWKh7e_D7Fd9",
        "outputId": "1a6b28a2-5c1b-4a34-fff7-be65bdb3c7cc"
      },
      "execution_count": null,
      "outputs": [
        {
          "output_type": "execute_result",
          "data": {
            "text/plain": [
              "array([5, 6, 6, 5])"
            ]
          },
          "metadata": {},
          "execution_count": 25
        }
      ]
    },
    {
      "cell_type": "code",
      "source": [
        "np.any(x>=5)"
      ],
      "metadata": {
        "colab": {
          "base_uri": "https://localhost:8080/"
        },
        "id": "8aEGpApX7Uwq",
        "outputId": "e5ddadf5-0a18-4e33-f601-4c5d450780bb"
      },
      "execution_count": null,
      "outputs": [
        {
          "output_type": "execute_result",
          "data": {
            "text/plain": [
              "True"
            ]
          },
          "metadata": {},
          "execution_count": 26
        }
      ]
    },
    {
      "cell_type": "code",
      "source": [
        "np.all(x>=5)"
      ],
      "metadata": {
        "colab": {
          "base_uri": "https://localhost:8080/"
        },
        "id": "Bo8aVDHv77o7",
        "outputId": "432b4050-34eb-407a-8a4c-00d6e31e1a93"
      },
      "execution_count": null,
      "outputs": [
        {
          "output_type": "execute_result",
          "data": {
            "text/plain": [
              "False"
            ]
          },
          "metadata": {},
          "execution_count": 27
        }
      ]
    },
    {
      "cell_type": "code",
      "source": [
        "np.all(x>=1)"
      ],
      "metadata": {
        "colab": {
          "base_uri": "https://localhost:8080/"
        },
        "id": "5OJbjSBv7_2e",
        "outputId": "dd10d242-cb5b-463e-b2f2-bf5bee7e4ff9"
      },
      "execution_count": null,
      "outputs": [
        {
          "output_type": "execute_result",
          "data": {
            "text/plain": [
              "True"
            ]
          },
          "metadata": {},
          "execution_count": 29
        }
      ]
    },
    {
      "cell_type": "markdown",
      "source": [
        "# bitwise operator"
      ],
      "metadata": {
        "id": "sG-Ps3s08OM3"
      }
    },
    {
      "cell_type": "code",
      "source": [
        "x=np.array([1,2,3,4,5,6,6,5,4,3,2,1])"
      ],
      "metadata": {
        "id": "nnVEXdYN8Jco"
      },
      "execution_count": null,
      "outputs": []
    },
    {
      "cell_type": "code",
      "source": [
        "x[x>=3 and x<5]"
      ],
      "metadata": {
        "colab": {
          "base_uri": "https://localhost:8080/",
          "height": 165
        },
        "id": "qXG7zEOQ8c4o",
        "outputId": "86955ac0-87ee-4af2-814f-563f2489a5e1"
      },
      "execution_count": null,
      "outputs": [
        {
          "output_type": "error",
          "ename": "ValueError",
          "evalue": "ignored",
          "traceback": [
            "\u001b[0;31m---------------------------------------------------------------------------\u001b[0m",
            "\u001b[0;31mValueError\u001b[0m                                Traceback (most recent call last)",
            "\u001b[0;32m<ipython-input-31-05639362ee36>\u001b[0m in \u001b[0;36m<cell line: 1>\u001b[0;34m()\u001b[0m\n\u001b[0;32m----> 1\u001b[0;31m \u001b[0mx\u001b[0m\u001b[0;34m[\u001b[0m\u001b[0mx\u001b[0m\u001b[0;34m>=\u001b[0m\u001b[0;36m3\u001b[0m \u001b[0;32mand\u001b[0m \u001b[0mx\u001b[0m\u001b[0;34m<\u001b[0m\u001b[0;36m5\u001b[0m\u001b[0;34m]\u001b[0m\u001b[0;34m\u001b[0m\u001b[0;34m\u001b[0m\u001b[0m\n\u001b[0m",
            "\u001b[0;31mValueError\u001b[0m: The truth value of an array with more than one element is ambiguous. Use a.any() or a.all()"
          ]
        }
      ]
    },
    {
      "cell_type": "code",
      "source": [
        "# numpy le logical operator lai support gardaina use bitwise operator"
      ],
      "metadata": {
        "id": "71wPPLsw8meO"
      },
      "execution_count": null,
      "outputs": []
    },
    {
      "cell_type": "code",
      "source": [
        "x[(x>=3) & (x<5)]  # bitwise and"
      ],
      "metadata": {
        "colab": {
          "base_uri": "https://localhost:8080/"
        },
        "id": "Jp48sYrG8vjW",
        "outputId": "b3e74d6e-5dbe-4fd6-c39d-4dab39e400d5"
      },
      "execution_count": null,
      "outputs": [
        {
          "output_type": "execute_result",
          "data": {
            "text/plain": [
              "array([3, 4, 4, 3])"
            ]
          },
          "metadata": {},
          "execution_count": 33
        }
      ]
    },
    {
      "cell_type": "code",
      "source": [
        "x[(x>=3) | (x==1)]  # bitwise or"
      ],
      "metadata": {
        "colab": {
          "base_uri": "https://localhost:8080/"
        },
        "id": "auVnSQIu83i0",
        "outputId": "1f6c5368-d2eb-49c9-c731-e6ea6b345ec8"
      },
      "execution_count": null,
      "outputs": [
        {
          "output_type": "execute_result",
          "data": {
            "text/plain": [
              "array([1, 3, 4, 5, 6, 6, 5, 4, 3, 1])"
            ]
          },
          "metadata": {},
          "execution_count": 35
        }
      ]
    },
    {
      "cell_type": "markdown",
      "source": [
        "# vector operation"
      ],
      "metadata": {
        "id": "vgyHbTY59TwV"
      }
    },
    {
      "cell_type": "code",
      "source": [
        "x=np.array([8,9])\n",
        "y=np.array([2,3])"
      ],
      "metadata": {
        "id": "8xbMOGuK9ANm"
      },
      "execution_count": null,
      "outputs": []
    },
    {
      "cell_type": "code",
      "source": [
        "x+y # element wise calcultion\n"
      ],
      "metadata": {
        "colab": {
          "base_uri": "https://localhost:8080/"
        },
        "id": "AGGYgEp59kEt",
        "outputId": "ed8d2334-3023-47cf-adcf-f52a69017640"
      },
      "execution_count": null,
      "outputs": [
        {
          "output_type": "execute_result",
          "data": {
            "text/plain": [
              "array([10, 12])"
            ]
          },
          "metadata": {},
          "execution_count": 45
        }
      ]
    },
    {
      "cell_type": "code",
      "source": [
        "x-y"
      ],
      "metadata": {
        "colab": {
          "base_uri": "https://localhost:8080/"
        },
        "id": "speoK1779r3T",
        "outputId": "2ccedbaa-d322-41b6-a7c1-db6fccb46016"
      },
      "execution_count": null,
      "outputs": [
        {
          "output_type": "execute_result",
          "data": {
            "text/plain": [
              "array([6, 6])"
            ]
          },
          "metadata": {},
          "execution_count": 46
        }
      ]
    },
    {
      "cell_type": "code",
      "source": [
        "x/y"
      ],
      "metadata": {
        "colab": {
          "base_uri": "https://localhost:8080/"
        },
        "id": "M5XnySTv-Jed",
        "outputId": "1d713a99-a1b4-4d8f-e3fa-51cd6924a154"
      },
      "execution_count": null,
      "outputs": [
        {
          "output_type": "execute_result",
          "data": {
            "text/plain": [
              "array([4., 3.])"
            ]
          },
          "metadata": {},
          "execution_count": 47
        }
      ]
    },
    {
      "cell_type": "code",
      "source": [
        "x*y"
      ],
      "metadata": {
        "colab": {
          "base_uri": "https://localhost:8080/"
        },
        "id": "wccBgKuh-NnF",
        "outputId": "16487895-bfd8-459f-9753-ceb785d61b08"
      },
      "execution_count": null,
      "outputs": [
        {
          "output_type": "execute_result",
          "data": {
            "text/plain": [
              "array([16, 27])"
            ]
          },
          "metadata": {},
          "execution_count": 48
        }
      ]
    },
    {
      "cell_type": "code",
      "source": [
        "x**y"
      ],
      "metadata": {
        "colab": {
          "base_uri": "https://localhost:8080/"
        },
        "id": "ZxswMbw6-Ojf",
        "outputId": "3e5dd1c6-a9ea-4af0-cf9c-a9d34d60d800"
      },
      "execution_count": null,
      "outputs": [
        {
          "output_type": "execute_result",
          "data": {
            "text/plain": [
              "array([ 64, 729])"
            ]
          },
          "metadata": {},
          "execution_count": 49
        }
      ]
    },
    {
      "cell_type": "code",
      "source": [
        "x%y"
      ],
      "metadata": {
        "colab": {
          "base_uri": "https://localhost:8080/"
        },
        "id": "mdMjzHoK-Pcg",
        "outputId": "0c92f99e-b7a8-4ec0-b7ce-daa4ea1007f3"
      },
      "execution_count": null,
      "outputs": [
        {
          "output_type": "execute_result",
          "data": {
            "text/plain": [
              "array([0, 0])"
            ]
          },
          "metadata": {},
          "execution_count": 50
        }
      ]
    },
    {
      "cell_type": "markdown",
      "source": [
        "# generating random array and data distribution"
      ],
      "metadata": {
        "id": "ZoFu1EMA-i1C"
      }
    },
    {
      "cell_type": "code",
      "source": [
        "# generating random integer\n",
        "import numpy as np\n",
        "random_number =np.random.randint(low=1,high=50)"
      ],
      "metadata": {
        "id": "RdRjdiUO-T8u"
      },
      "execution_count": null,
      "outputs": []
    },
    {
      "cell_type": "code",
      "source": [
        "print(random_number)"
      ],
      "metadata": {
        "colab": {
          "base_uri": "https://localhost:8080/"
        },
        "id": "gSrj9S3--9f_",
        "outputId": "4c60e7f9-e41d-45c6-d839-2ef6c0b714ce"
      },
      "execution_count": null,
      "outputs": [
        {
          "output_type": "stream",
          "name": "stdout",
          "text": [
            "39\n"
          ]
        }
      ]
    },
    {
      "cell_type": "code",
      "source": [
        "# adding seed\n",
        "np.random.seed(2023)\n",
        "random_number =np.random.randint(low=1,high=50)\n",
        "print(random_number)"
      ],
      "metadata": {
        "colab": {
          "base_uri": "https://localhost:8080/"
        },
        "id": "v8SwtrZD_AK7",
        "outputId": "891157e2-0d7d-4c96-d823-af5e7df2eced"
      },
      "execution_count": null,
      "outputs": [
        {
          "output_type": "stream",
          "name": "stdout",
          "text": [
            "24\n"
          ]
        }
      ]
    },
    {
      "cell_type": "code",
      "source": [
        "# generating n random numbers between 1 to 10"
      ],
      "metadata": {
        "id": "7Rh9Y9wD_Q78"
      },
      "execution_count": null,
      "outputs": []
    },
    {
      "cell_type": "code",
      "source": [
        "np.random.seed(0)\n",
        "random_numbers= np.random.randint(low=1,high=10,size=20)\n",
        "random_numbers"
      ],
      "metadata": {
        "colab": {
          "base_uri": "https://localhost:8080/"
        },
        "id": "JRYm0YVj_qa3",
        "outputId": "008901d3-b647-4511-e53b-4873dabd736d"
      },
      "execution_count": null,
      "outputs": [
        {
          "output_type": "execute_result",
          "data": {
            "text/plain": [
              "array([6, 1, 4, 4, 8, 4, 6, 3, 5, 8, 7, 9, 9, 2, 7, 8, 8, 9, 2, 6])"
            ]
          },
          "metadata": {},
          "execution_count": 58
        }
      ]
    },
    {
      "cell_type": "markdown",
      "source": [
        "# generating uniform distribution"
      ],
      "metadata": {
        "id": "1Jwt87Q4AMjG"
      }
    },
    {
      "cell_type": "code",
      "source": [
        "np.random.seed(0)\n",
        "ud=np.random.uniform(low=2,high=5,size=1500)# 2 dekhi 5 samma 1500 ota data"
      ],
      "metadata": {
        "id": "qEL_Dva__7Fg"
      },
      "execution_count": null,
      "outputs": []
    },
    {
      "cell_type": "code",
      "source": [
        "ud"
      ],
      "metadata": {
        "colab": {
          "base_uri": "https://localhost:8080/"
        },
        "id": "LRHDdz0BAso5",
        "outputId": "f7fab670-a689-48ce-f6ed-8247a941fe16"
      },
      "execution_count": null,
      "outputs": [
        {
          "output_type": "execute_result",
          "data": {
            "text/plain": [
              "array([3.64644051, 4.1455681 , 3.80829013, ..., 2.33674998, 2.12709214,\n",
              "       2.68322298])"
            ]
          },
          "metadata": {},
          "execution_count": 60
        }
      ]
    },
    {
      "cell_type": "code",
      "source": [
        "ud.shape"
      ],
      "metadata": {
        "colab": {
          "base_uri": "https://localhost:8080/"
        },
        "id": "qQifDITsAvUF",
        "outputId": "36a8fda2-0f8b-460d-a3c5-2ecf22456f86"
      },
      "execution_count": null,
      "outputs": [
        {
          "output_type": "execute_result",
          "data": {
            "text/plain": [
              "(1500,)"
            ]
          },
          "metadata": {},
          "execution_count": 61
        }
      ]
    },
    {
      "cell_type": "code",
      "source": [
        "normal_dist=np.random.normal(loc=5,scale=1,size=5000)"
      ],
      "metadata": {
        "id": "cZ2nxbjMAz_o"
      },
      "execution_count": null,
      "outputs": []
    },
    {
      "cell_type": "code",
      "source": [
        "normal_dist"
      ],
      "metadata": {
        "colab": {
          "base_uri": "https://localhost:8080/"
        },
        "id": "usm54W3cA_hQ",
        "outputId": "8d226acc-98dc-40ce-a2f9-2274eb961975"
      },
      "execution_count": null,
      "outputs": [
        {
          "output_type": "execute_result",
          "data": {
            "text/plain": [
              "array([5.20508663, 6.1615338 , 5.99090917, ..., 5.16995088, 3.85023785,\n",
              "       4.44223526])"
            ]
          },
          "metadata": {},
          "execution_count": 65
        }
      ]
    },
    {
      "cell_type": "markdown",
      "source": [
        "# 2d array"
      ],
      "metadata": {
        "id": "AZ_J1MwtBXHO"
      }
    },
    {
      "cell_type": "code",
      "source": [
        "marks= [[2,3,4],[7,8,9],[11,12,13]]"
      ],
      "metadata": {
        "id": "2I_8bm2cBCVB"
      },
      "execution_count": null,
      "outputs": []
    },
    {
      "cell_type": "code",
      "source": [
        "marks_array=np.array(marks)"
      ],
      "metadata": {
        "id": "_uICqyRGBtiS"
      },
      "execution_count": null,
      "outputs": []
    },
    {
      "cell_type": "code",
      "source": [
        "marks_array"
      ],
      "metadata": {
        "colab": {
          "base_uri": "https://localhost:8080/"
        },
        "id": "j43w0zk8B4bW",
        "outputId": "0c03c684-a032-4263-8e1d-16c13a528025"
      },
      "execution_count": null,
      "outputs": [
        {
          "output_type": "execute_result",
          "data": {
            "text/plain": [
              "array([[ 2,  3,  4],\n",
              "       [ 7,  8,  9],\n",
              "       [11, 12, 13]])"
            ]
          },
          "metadata": {},
          "execution_count": 69
        }
      ]
    },
    {
      "cell_type": "code",
      "source": [
        "marks_array.shape"
      ],
      "metadata": {
        "colab": {
          "base_uri": "https://localhost:8080/"
        },
        "id": "GySb5HYTB6pi",
        "outputId": "7dcd16ae-f4ff-4968-86fc-3f07236c6951"
      },
      "execution_count": null,
      "outputs": [
        {
          "output_type": "execute_result",
          "data": {
            "text/plain": [
              "(3, 3)"
            ]
          },
          "metadata": {},
          "execution_count": 70
        }
      ]
    },
    {
      "cell_type": "code",
      "source": [
        "marks_array.ndim"
      ],
      "metadata": {
        "colab": {
          "base_uri": "https://localhost:8080/"
        },
        "id": "PEgqqMGWB-Vx",
        "outputId": "80c4dc82-31c1-4648-9f99-a42cf5890885"
      },
      "execution_count": null,
      "outputs": [
        {
          "output_type": "execute_result",
          "data": {
            "text/plain": [
              "2"
            ]
          },
          "metadata": {},
          "execution_count": 71
        }
      ]
    },
    {
      "cell_type": "markdown",
      "source": [
        "# indexing"
      ],
      "metadata": {
        "id": "LvrtV6N5DJ97"
      }
    },
    {
      "cell_type": "code",
      "source": [
        "marks_array[0,1] # all rows and columns start with 0"
      ],
      "metadata": {
        "colab": {
          "base_uri": "https://localhost:8080/"
        },
        "id": "DpIHXnKDCCyS",
        "outputId": "e19e02b4-3ec2-4388-bc6b-3e021a682cc1"
      },
      "execution_count": null,
      "outputs": [
        {
          "output_type": "execute_result",
          "data": {
            "text/plain": [
              "3"
            ]
          },
          "metadata": {},
          "execution_count": 73
        }
      ]
    },
    {
      "cell_type": "code",
      "source": [
        "marks_array[1,0]"
      ],
      "metadata": {
        "colab": {
          "base_uri": "https://localhost:8080/"
        },
        "id": "ArJCi2_CDOiH",
        "outputId": "0ae582a0-0c2f-4690-f98b-c28e06959498"
      },
      "execution_count": null,
      "outputs": [
        {
          "output_type": "execute_result",
          "data": {
            "text/plain": [
              "7"
            ]
          },
          "metadata": {},
          "execution_count": 74
        }
      ]
    },
    {
      "cell_type": "code",
      "source": [
        "marks_array[2,1]"
      ],
      "metadata": {
        "colab": {
          "base_uri": "https://localhost:8080/"
        },
        "id": "aGMRvGIiDZ0d",
        "outputId": "c1f1b4b4-b281-49a8-933d-f682e4b984d6"
      },
      "execution_count": null,
      "outputs": [
        {
          "output_type": "execute_result",
          "data": {
            "text/plain": [
              "12"
            ]
          },
          "metadata": {},
          "execution_count": 76
        }
      ]
    },
    {
      "cell_type": "code",
      "source": [
        "marks_array[2,2]"
      ],
      "metadata": {
        "colab": {
          "base_uri": "https://localhost:8080/"
        },
        "id": "GKEPCDnXDkLq",
        "outputId": "7e5c0933-e99f-4e43-d3e2-303a15139eba"
      },
      "execution_count": null,
      "outputs": [
        {
          "output_type": "execute_result",
          "data": {
            "text/plain": [
              "13"
            ]
          },
          "metadata": {},
          "execution_count": 77
        }
      ]
    },
    {
      "cell_type": "markdown",
      "source": [
        "# slicing"
      ],
      "metadata": {
        "id": "FSaw3dDyDw-g"
      }
    },
    {
      "cell_type": "code",
      "source": [
        "marks_array[:,0]"
      ],
      "metadata": {
        "colab": {
          "base_uri": "https://localhost:8080/"
        },
        "id": "fGmvI1Y6Do5T",
        "outputId": "cf37953c-3e1d-4414-9470-77192b77ace8"
      },
      "execution_count": null,
      "outputs": [
        {
          "output_type": "execute_result",
          "data": {
            "text/plain": [
              "array([ 2,  7, 11])"
            ]
          },
          "metadata": {},
          "execution_count": 78
        }
      ]
    },
    {
      "cell_type": "code",
      "source": [
        "marks_array[1,:]"
      ],
      "metadata": {
        "colab": {
          "base_uri": "https://localhost:8080/"
        },
        "id": "DVU8tp0GEQKg",
        "outputId": "0dca8194-8769-4b79-ec62-1dbcc5e8a87e"
      },
      "execution_count": null,
      "outputs": [
        {
          "output_type": "execute_result",
          "data": {
            "text/plain": [
              "array([7, 8, 9])"
            ]
          },
          "metadata": {},
          "execution_count": 79
        }
      ]
    },
    {
      "cell_type": "code",
      "source": [
        "marks_array[2,:]"
      ],
      "metadata": {
        "colab": {
          "base_uri": "https://localhost:8080/"
        },
        "id": "U1lWWJWNEV1P",
        "outputId": "1f76018f-f122-4ec6-f9a2-d6d2fe12c752"
      },
      "execution_count": null,
      "outputs": [
        {
          "output_type": "execute_result",
          "data": {
            "text/plain": [
              "array([11, 12, 13])"
            ]
          },
          "metadata": {},
          "execution_count": 80
        }
      ]
    },
    {
      "cell_type": "code",
      "source": [
        "marks_array[:2,:2]"
      ],
      "metadata": {
        "colab": {
          "base_uri": "https://localhost:8080/"
        },
        "id": "HcqPFDjzEpKD",
        "outputId": "33c8ebb9-46df-435a-daf3-d71944218ac6"
      },
      "execution_count": null,
      "outputs": [
        {
          "output_type": "execute_result",
          "data": {
            "text/plain": [
              "array([[2, 3],\n",
              "       [7, 8]])"
            ]
          },
          "metadata": {},
          "execution_count": 88
        }
      ]
    },
    {
      "cell_type": "code",
      "source": [
        "marks_array[1:3,1:3]"
      ],
      "metadata": {
        "colab": {
          "base_uri": "https://localhost:8080/"
        },
        "id": "lFsTJFHLEt7y",
        "outputId": "4372ac3d-e286-4396-cbdc-e7781d9d8b65"
      },
      "execution_count": null,
      "outputs": [
        {
          "output_type": "execute_result",
          "data": {
            "text/plain": [
              "array([[ 8,  9],\n",
              "       [12, 13]])"
            ]
          },
          "metadata": {},
          "execution_count": 93
        }
      ]
    },
    {
      "cell_type": "code",
      "source": [
        "marks_array[0:2,1:\n",
        "            ]"
      ],
      "metadata": {
        "colab": {
          "base_uri": "https://localhost:8080/"
        },
        "id": "nFFylldAFZPk",
        "outputId": "957e0f3e-4694-4253-a550-d3d9c8d64a0e"
      },
      "execution_count": null,
      "outputs": [
        {
          "output_type": "execute_result",
          "data": {
            "text/plain": [
              "array([[3, 4],\n",
              "       [8, 9]])"
            ]
          },
          "metadata": {},
          "execution_count": 95
        }
      ]
    },
    {
      "cell_type": "markdown",
      "source": [
        "# .reshape()"
      ],
      "metadata": {
        "id": "eGs0BqMXGGDY"
      }
    },
    {
      "cell_type": "code",
      "source": [
        "x=np.linspace(1,10,9)\n",
        "x"
      ],
      "metadata": {
        "colab": {
          "base_uri": "https://localhost:8080/"
        },
        "id": "MRKI-mDmFttP",
        "outputId": "3f388945-f5c6-40c1-c2e3-86fc1d5d4b15"
      },
      "execution_count": null,
      "outputs": [
        {
          "output_type": "execute_result",
          "data": {
            "text/plain": [
              "array([ 1.   ,  2.125,  3.25 ,  4.375,  5.5  ,  6.625,  7.75 ,  8.875,\n",
              "       10.   ])"
            ]
          },
          "metadata": {},
          "execution_count": 99
        }
      ]
    },
    {
      "cell_type": "code",
      "source": [
        "x.shape"
      ],
      "metadata": {
        "colab": {
          "base_uri": "https://localhost:8080/"
        },
        "id": "g9ZJ4wOWGLZa",
        "outputId": "98171f23-4f8c-4f18-ca9e-7799a0c0590b"
      },
      "execution_count": null,
      "outputs": [
        {
          "output_type": "execute_result",
          "data": {
            "text/plain": [
              "(9,)"
            ]
          },
          "metadata": {},
          "execution_count": 100
        }
      ]
    },
    {
      "cell_type": "code",
      "source": [
        "x.ndim"
      ],
      "metadata": {
        "colab": {
          "base_uri": "https://localhost:8080/"
        },
        "id": "H9BBbh48GM11",
        "outputId": "a588c7ae-7947-4235-b9f4-2d9ecb11ff33"
      },
      "execution_count": null,
      "outputs": [
        {
          "output_type": "execute_result",
          "data": {
            "text/plain": [
              "1"
            ]
          },
          "metadata": {},
          "execution_count": 101
        }
      ]
    },
    {
      "cell_type": "code",
      "source": [
        "matrixx=x.reshape(3,3)"
      ],
      "metadata": {
        "id": "oH5_LdHFGUdP"
      },
      "execution_count": null,
      "outputs": []
    },
    {
      "cell_type": "code",
      "source": [
        "matrixx.shape"
      ],
      "metadata": {
        "colab": {
          "base_uri": "https://localhost:8080/"
        },
        "id": "HGLXOVMSGXmq",
        "outputId": "46360a1c-7afb-4e4f-eaed-a80e7993f92a"
      },
      "execution_count": null,
      "outputs": [
        {
          "output_type": "execute_result",
          "data": {
            "text/plain": [
              "(3, 3)"
            ]
          },
          "metadata": {},
          "execution_count": 104
        }
      ]
    },
    {
      "cell_type": "code",
      "source": [
        "matrixx"
      ],
      "metadata": {
        "colab": {
          "base_uri": "https://localhost:8080/"
        },
        "id": "LEBX2x8WGZqx",
        "outputId": "59359848-d1e8-4536-d4ec-114ed2ff1601"
      },
      "execution_count": null,
      "outputs": [
        {
          "output_type": "execute_result",
          "data": {
            "text/plain": [
              "array([[ 1.   ,  2.125,  3.25 ],\n",
              "       [ 4.375,  5.5  ,  6.625],\n",
              "       [ 7.75 ,  8.875, 10.   ]])"
            ]
          },
          "metadata": {},
          "execution_count": 105
        }
      ]
    },
    {
      "cell_type": "code",
      "source": [],
      "metadata": {
        "id": "YrTfbapSGeKI"
      },
      "execution_count": null,
      "outputs": []
    }
  ]
}