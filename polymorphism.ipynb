{
 "cells": [
  {
   "cell_type": "markdown",
   "id": "225d1a49",
   "metadata": {},
   "source": [
    "# polymorphism = having many forms"
   ]
  },
  {
   "cell_type": "code",
   "execution_count": 1,
   "id": "c0d8f976",
   "metadata": {},
   "outputs": [
    {
     "data": {
      "text/plain": [
       "5"
      ]
     },
     "execution_count": 1,
     "metadata": {},
     "output_type": "execute_result"
    }
   ],
   "source": [
    "2+3 # add"
   ]
  },
  {
   "cell_type": "code",
   "execution_count": 2,
   "id": "63283a3b",
   "metadata": {},
   "outputs": [
    {
     "data": {
      "text/plain": [
       "'radheradhe'"
      ]
     },
     "execution_count": 2,
     "metadata": {},
     "output_type": "execute_result"
    }
   ],
   "source": [
    "\"radhe\"+\"radhe\" # concatenation"
   ]
  },
  {
   "cell_type": "code",
   "execution_count": 3,
   "id": "3a32bec8",
   "metadata": {},
   "outputs": [
    {
     "data": {
      "text/plain": [
       "[2, 3, 2, 2, 2, -1]"
      ]
     },
     "execution_count": 3,
     "metadata": {},
     "output_type": "execute_result"
    }
   ],
   "source": [
    "[2,3]+[2,2,2,-1] # concatenation"
   ]
  },
  {
   "cell_type": "code",
   "execution_count": 4,
   "id": "7ad5ab48",
   "metadata": {},
   "outputs": [
    {
     "data": {
      "text/plain": [
       "5"
      ]
     },
     "execution_count": 4,
     "metadata": {},
     "output_type": "execute_result"
    }
   ],
   "source": [
    "len('hello')"
   ]
  },
  {
   "cell_type": "code",
   "execution_count": 5,
   "id": "f72a6361",
   "metadata": {},
   "outputs": [
    {
     "data": {
      "text/plain": [
       "2"
      ]
     },
     "execution_count": 5,
     "metadata": {},
     "output_type": "execute_result"
    }
   ],
   "source": [
    "len([5,3])"
   ]
  },
  {
   "cell_type": "code",
   "execution_count": 6,
   "id": "e4827704",
   "metadata": {},
   "outputs": [
    {
     "data": {
      "text/plain": [
       "3"
      ]
     },
     "execution_count": 6,
     "metadata": {},
     "output_type": "execute_result"
    }
   ],
   "source": [
    "len((3,4,5))"
   ]
  },
  {
   "cell_type": "markdown",
   "id": "9ebdcc4f",
   "metadata": {},
   "source": [
    "# operator overloading"
   ]
  },
  {
   "cell_type": "code",
   "execution_count": 21,
   "id": "b6d697fc",
   "metadata": {},
   "outputs": [],
   "source": [
    "class Point:\n",
    "    def __init__(self,point):\n",
    "        self.point=point"
   ]
  },
  {
   "cell_type": "code",
   "execution_count": 22,
   "id": "23222e06",
   "metadata": {},
   "outputs": [],
   "source": [
    "\n",
    "p1=Point(5)\n",
    "p2=Point(5)"
   ]
  },
  {
   "cell_type": "code",
   "execution_count": 23,
   "id": "c5893af1",
   "metadata": {},
   "outputs": [
    {
     "ename": "TypeError",
     "evalue": "unsupported operand type(s) for +: 'Point' and 'Point'",
     "output_type": "error",
     "traceback": [
      "\u001b[1;31m---------------------------------------------------------------------------\u001b[0m",
      "\u001b[1;31mTypeError\u001b[0m                                 Traceback (most recent call last)",
      "Cell \u001b[1;32mIn[23], line 1\u001b[0m\n\u001b[1;32m----> 1\u001b[0m \u001b[43mp1\u001b[49m\u001b[38;5;241;43m+\u001b[39;49m\u001b[43mp2\u001b[49m\n",
      "\u001b[1;31mTypeError\u001b[0m: unsupported operand type(s) for +: 'Point' and 'Point'"
     ]
    }
   ],
   "source": [
    "p1+p2"
   ]
  },
  {
   "cell_type": "code",
   "execution_count": 24,
   "id": "c55754c1",
   "metadata": {},
   "outputs": [],
   "source": [
    "# operator overloading is done using dunders\n",
    "# + operator is overloaded by __add__\n",
    "# > operator is overloaded by __gt__\n",
    "# < operator is overloaded by __lt__"
   ]
  },
  {
   "cell_type": "code",
   "execution_count": 25,
   "id": "5257f81b",
   "metadata": {},
   "outputs": [
    {
     "data": {
      "text/plain": [
       "10"
      ]
     },
     "execution_count": 25,
     "metadata": {},
     "output_type": "execute_result"
    }
   ],
   "source": [
    "class Point:\n",
    "    def __init__(self,point):\n",
    "        self.point=point\n",
    "    def __add__ (self , other_obj):\n",
    "        return self.point+ other_obj.point\n",
    "p1=Point(5)\n",
    "p2=Point(5)\n",
    "p1+p2"
   ]
  },
  {
   "cell_type": "code",
   "execution_count": 33,
   "id": "313347dd",
   "metadata": {},
   "outputs": [
    {
     "data": {
      "text/plain": [
       "7"
      ]
     },
     "execution_count": 33,
     "metadata": {},
     "output_type": "execute_result"
    }
   ],
   "source": [
    "class Point:\n",
    "    def __init__(self,point):\n",
    "        self.point=point\n",
    "    def __add__ (self , other_obj):\n",
    "        return self.point+ other_obj.point\n",
    "    def __gt__ (self,other_obj):\n",
    "        if self.point > other_obj.point:\n",
    "            print(f'{self.point}>{other_obj.point}')\n",
    "        else:\n",
    "            print(f'{other_obj.point}>{self.point}')\n",
    "p1=Point(2)\n",
    "p2=Point(5)\n",
    "p1+p2"
   ]
  },
  {
   "cell_type": "code",
   "execution_count": 34,
   "id": "467f1677",
   "metadata": {},
   "outputs": [
    {
     "name": "stdout",
     "output_type": "stream",
     "text": [
      "5>2\n"
     ]
    }
   ],
   "source": [
    "p1>p2"
   ]
  },
  {
   "cell_type": "code",
   "execution_count": 35,
   "id": "a122cccf",
   "metadata": {},
   "outputs": [
    {
     "name": "stdout",
     "output_type": "stream",
     "text": [
      "5>2\n"
     ]
    }
   ],
   "source": [
    "p1<p2"
   ]
  },
  {
   "cell_type": "code",
   "execution_count": null,
   "id": "24cc918c",
   "metadata": {},
   "outputs": [],
   "source": []
  }
 ],
 "metadata": {
  "kernelspec": {
   "display_name": "Python 3 (ipykernel)",
   "language": "python",
   "name": "python3"
  },
  "language_info": {
   "codemirror_mode": {
    "name": "ipython",
    "version": 3
   },
   "file_extension": ".py",
   "mimetype": "text/x-python",
   "name": "python",
   "nbconvert_exporter": "python",
   "pygments_lexer": "ipython3",
   "version": "3.10.11"
  }
 },
 "nbformat": 4,
 "nbformat_minor": 5
}
