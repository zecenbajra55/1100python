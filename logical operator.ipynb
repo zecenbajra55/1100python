{
 "cells": [
  {
   "cell_type": "code",
   "execution_count": 1,
   "id": "401a61fd",
   "metadata": {},
   "outputs": [
    {
     "data": {
      "text/plain": [
       "0"
      ]
     },
     "execution_count": 1,
     "metadata": {},
     "output_type": "execute_result"
    }
   ],
   "source": [
    "0 and 1\n"
   ]
  },
  {
   "cell_type": "markdown",
   "id": "1d63f3fa",
   "metadata": {},
   "source": [
    "# logical operators\n",
    "* applied on boolean\n",
    " * and\n",
    " * or \n",
    " * not"
   ]
  },
  {
   "cell_type": "code",
   "execution_count": 4,
   "id": "da974a0e",
   "metadata": {},
   "outputs": [
    {
     "data": {
      "text/plain": [
       "False"
      ]
     },
     "execution_count": 4,
     "metadata": {},
     "output_type": "execute_result"
    }
   ],
   "source": [
    "True and False"
   ]
  },
  {
   "cell_type": "code",
   "execution_count": 5,
   "id": "6d2810a9",
   "metadata": {},
   "outputs": [
    {
     "data": {
      "text/plain": [
       "True"
      ]
     },
     "execution_count": 5,
     "metadata": {},
     "output_type": "execute_result"
    }
   ],
   "source": [
    "True and True"
   ]
  },
  {
   "cell_type": "code",
   "execution_count": 6,
   "id": "85a45fda",
   "metadata": {},
   "outputs": [
    {
     "data": {
      "text/plain": [
       "False"
      ]
     },
     "execution_count": 6,
     "metadata": {},
     "output_type": "execute_result"
    }
   ],
   "source": [
    "False and True"
   ]
  },
  {
   "cell_type": "code",
   "execution_count": 7,
   "id": "f499bba0",
   "metadata": {},
   "outputs": [
    {
     "data": {
      "text/plain": [
       "False"
      ]
     },
     "execution_count": 7,
     "metadata": {},
     "output_type": "execute_result"
    }
   ],
   "source": [
    "False and False"
   ]
  },
  {
   "cell_type": "markdown",
   "id": "66d0d267",
   "metadata": {},
   "source": [
    "# or operator"
   ]
  },
  {
   "cell_type": "code",
   "execution_count": 9,
   "id": "f8270d94",
   "metadata": {},
   "outputs": [
    {
     "data": {
      "text/plain": [
       "True"
      ]
     },
     "execution_count": 9,
     "metadata": {},
     "output_type": "execute_result"
    }
   ],
   "source": [
    "True or True"
   ]
  },
  {
   "cell_type": "code",
   "execution_count": 10,
   "id": "682891f8",
   "metadata": {},
   "outputs": [
    {
     "data": {
      "text/plain": [
       "True"
      ]
     },
     "execution_count": 10,
     "metadata": {},
     "output_type": "execute_result"
    }
   ],
   "source": [
    "True or False"
   ]
  },
  {
   "cell_type": "code",
   "execution_count": 11,
   "id": "5171fd9d",
   "metadata": {},
   "outputs": [
    {
     "data": {
      "text/plain": [
       "True"
      ]
     },
     "execution_count": 11,
     "metadata": {},
     "output_type": "execute_result"
    }
   ],
   "source": [
    "False or True"
   ]
  },
  {
   "cell_type": "code",
   "execution_count": 12,
   "id": "a1125bac",
   "metadata": {},
   "outputs": [
    {
     "data": {
      "text/plain": [
       "False"
      ]
     },
     "execution_count": 12,
     "metadata": {},
     "output_type": "execute_result"
    }
   ],
   "source": [
    "False or False"
   ]
  },
  {
   "cell_type": "markdown",
   "id": "ff58b2f7",
   "metadata": {},
   "source": [
    "# not operator"
   ]
  },
  {
   "cell_type": "code",
   "execution_count": 13,
   "id": "94598050",
   "metadata": {},
   "outputs": [
    {
     "data": {
      "text/plain": [
       "False"
      ]
     },
     "execution_count": 13,
     "metadata": {},
     "output_type": "execute_result"
    }
   ],
   "source": [
    "not True"
   ]
  },
  {
   "cell_type": "code",
   "execution_count": 14,
   "id": "576433d0",
   "metadata": {},
   "outputs": [
    {
     "data": {
      "text/plain": [
       "True"
      ]
     },
     "execution_count": 14,
     "metadata": {},
     "output_type": "execute_result"
    }
   ],
   "source": [
    "not False"
   ]
  },
  {
   "cell_type": "code",
   "execution_count": 15,
   "id": "50a1fbbe",
   "metadata": {},
   "outputs": [
    {
     "name": "stdout",
     "output_type": "stream",
     "text": [
      " a might be 3,4,5\n"
     ]
    }
   ],
   "source": [
    "a=5\n",
    "if a> 2 and a<=5:\n",
    "    print (\" a might be 3,4,5\")"
   ]
  },
  {
   "cell_type": "code",
   "execution_count": 18,
   "id": "36e4ab31",
   "metadata": {},
   "outputs": [
    {
     "name": "stdout",
     "output_type": "stream",
     "text": [
      " a=1 or a>2\n"
     ]
    }
   ],
   "source": [
    "a=3\n",
    "if a> 2 or a==1:\n",
    "    print (\" a=1 or a>2\")"
   ]
  },
  {
   "cell_type": "markdown",
   "id": "fcfd7f5c",
   "metadata": {},
   "source": [
    "<img src =\"https://images.everydayhealth.com/images/diet-nutrition/weight/bmi-in-adults-722x406.jpg\">"
   ]
  },
  {
   "cell_type": "code",
   "execution_count": 19,
   "id": "96193bd4",
   "metadata": {},
   "outputs": [],
   "source": [
    "#<img src=\"img source link\">   to upload image"
   ]
  },
  {
   "cell_type": "code",
   "execution_count": 22,
   "id": "5d34ba54",
   "metadata": {},
   "outputs": [
    {
     "name": "stdout",
     "output_type": "stream",
     "text": [
      "enter your weight in kg 71\n",
      "enter your height in cm 180\n",
      "normal\n"
     ]
    }
   ],
   "source": [
    "weight = float (input(\"enter your weight in kg \"))\n",
    "height = float ( input (\"enter your height in cm \"))\n",
    "height_m = height /100\n",
    "bmi = weight /height_m**2\n",
    "if bmi < 18.5:\n",
    "    print(\"under weight\")\n",
    "elif bmi >= 18.5 and bmi<= 24.9:\n",
    "    print(\"normal\")\n",
    "elif bmi>=25 and bmi <=29.9:\n",
    "    print (\"overweight\")\n",
    "elif bmi >=30 and bmi <=34.9:\n",
    "    print (\"obese\")\n",
    "elif bmi==35 or bmi >35:\n",
    "    print (\"extremely obese\")\n"
   ]
  },
  {
   "cell_type": "markdown",
   "id": "47ea6342",
   "metadata": {},
   "source": [
    "# take 3 numbers and print the greatest among the 3"
   ]
  },
  {
   "cell_type": "code",
   "execution_count": 24,
   "id": "3ab2e35b",
   "metadata": {},
   "outputs": [
    {
     "name": "stdout",
     "output_type": "stream",
     "text": [
      "enter a number 2\n",
      "enter next number 1\n",
      "enter next number 3\n",
      "3 is greatest\n"
     ]
    }
   ],
   "source": [
    "num1 = int (input(\"enter a number \"))\n",
    "num2 = int (input(\"enter next number \"))\n",
    "num3 = int (input(\"enter next number \"))\n",
    "if num1> num2 and num1>num3:\n",
    "    print (f\"{num1} is greatest\")\n",
    "elif num2> num1 and num2>num3:\n",
    "    print (f\"{num2} is greatest\")\n",
    "else:\n",
    "    print (f\"{num3} is greatest\")\n"
   ]
  },
  {
   "cell_type": "code",
   "execution_count": null,
   "id": "26c156fa",
   "metadata": {},
   "outputs": [],
   "source": []
  }
 ],
 "metadata": {
  "kernelspec": {
   "display_name": "Python 3 (ipykernel)",
   "language": "python",
   "name": "python3"
  },
  "language_info": {
   "codemirror_mode": {
    "name": "ipython",
    "version": 3
   },
   "file_extension": ".py",
   "mimetype": "text/x-python",
   "name": "python",
   "nbconvert_exporter": "python",
   "pygments_lexer": "ipython3",
   "version": "3.10.11"
  }
 },
 "nbformat": 4,
 "nbformat_minor": 5
}
