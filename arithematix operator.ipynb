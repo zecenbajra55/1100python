{
 "cells": [
  {
   "cell_type": "markdown",
   "id": "762815d8",
   "metadata": {},
   "source": [
    "# arithemaic operators are used with numeric values to perfoerm common mathematical oprerations\n",
    "\n",
    "* addition +\n",
    "* substraction -\n",
    "* multiplication *\n",
    "* division /\n",
    "* modulus %\n",
    "* exponential **\n",
    "* floor division //\n"
   ]
  },
  {
   "cell_type": "code",
   "execution_count": 1,
   "id": "84bc3615",
   "metadata": {},
   "outputs": [
    {
     "name": "stdout",
     "output_type": "stream",
     "text": [
      "0\n"
     ]
    }
   ],
   "source": [
    "a=2\n",
    "b=8\n",
    "c=a//b\n",
    "print(c)"
   ]
  },
  {
   "cell_type": "code",
   "execution_count": 2,
   "id": "714f566a",
   "metadata": {},
   "outputs": [
    {
     "name": "stdout",
     "output_type": "stream",
     "text": [
      "256\n"
     ]
    }
   ],
   "source": [
    "a=2\n",
    "b=8\n",
    "c=a**b\n",
    "print(c)"
   ]
  },
  {
   "cell_type": "code",
   "execution_count": 1,
   "id": "033cab2e",
   "metadata": {},
   "outputs": [
    {
     "data": {
      "text/plain": [
       "3"
      ]
     },
     "execution_count": 1,
     "metadata": {},
     "output_type": "execute_result"
    }
   ],
   "source": [
    "# floor division\n",
    "7//2\n"
   ]
  },
  {
   "cell_type": "code",
   "execution_count": null,
   "id": "915ea3d1",
   "metadata": {},
   "outputs": [],
   "source": []
  }
 ],
 "metadata": {
  "kernelspec": {
   "display_name": "Python 3 (ipykernel)",
   "language": "python",
   "name": "python3"
  },
  "language_info": {
   "codemirror_mode": {
    "name": "ipython",
    "version": 3
   },
   "file_extension": ".py",
   "mimetype": "text/x-python",
   "name": "python",
   "nbconvert_exporter": "python",
   "pygments_lexer": "ipython3",
   "version": "3.10.11"
  }
 },
 "nbformat": 4,
 "nbformat_minor": 5
}
