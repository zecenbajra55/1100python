{
 "cells": [
  {
   "cell_type": "markdown",
   "id": "84cc976f",
   "metadata": {},
   "source": [
    "# are access specifiers used in python ? --no but has concept of limiting behaviour of variables : private attribute are not inherited"
   ]
  },
  {
   "cell_type": "code",
   "execution_count": 1,
   "id": "99a88edf",
   "metadata": {},
   "outputs": [],
   "source": [
    "class Tutor:\n",
    "    # public\n",
    "    name=\"aaa\"\n",
    "    # protected ma _\n",
    "    _teaches='pthon'\n",
    "    # private ma __\n",
    "    __at='brodway'"
   ]
  },
  {
   "cell_type": "code",
   "execution_count": 2,
   "id": "0bafa762",
   "metadata": {},
   "outputs": [],
   "source": [
    "t1 =Tutor()"
   ]
  },
  {
   "cell_type": "code",
   "execution_count": 3,
   "id": "a9fd3946",
   "metadata": {},
   "outputs": [
    {
     "data": {
      "text/plain": [
       "'aaa'"
      ]
     },
     "execution_count": 3,
     "metadata": {},
     "output_type": "execute_result"
    }
   ],
   "source": [
    "t1.name"
   ]
  },
  {
   "cell_type": "code",
   "execution_count": 5,
   "id": "c8e6c8ff",
   "metadata": {},
   "outputs": [
    {
     "data": {
      "text/plain": [
       "'pthon'"
      ]
     },
     "execution_count": 5,
     "metadata": {},
     "output_type": "execute_result"
    }
   ],
   "source": [
    "t1._teaches"
   ]
  },
  {
   "cell_type": "code",
   "execution_count": 6,
   "id": "3aab8d13",
   "metadata": {},
   "outputs": [
    {
     "ename": "AttributeError",
     "evalue": "'Tutor' object has no attribute '__at'",
     "output_type": "error",
     "traceback": [
      "\u001b[1;31m---------------------------------------------------------------------------\u001b[0m",
      "\u001b[1;31mAttributeError\u001b[0m                            Traceback (most recent call last)",
      "Cell \u001b[1;32mIn[6], line 1\u001b[0m\n\u001b[1;32m----> 1\u001b[0m \u001b[43mt1\u001b[49m\u001b[38;5;241;43m.\u001b[39;49m\u001b[43m__at\u001b[49m\n",
      "\u001b[1;31mAttributeError\u001b[0m: 'Tutor' object has no attribute '__at'"
     ]
    }
   ],
   "source": [
    "t1.__at"
   ]
  },
  {
   "cell_type": "code",
   "execution_count": null,
   "id": "2bc1ba41",
   "metadata": {},
   "outputs": [],
   "source": []
  }
 ],
 "metadata": {
  "kernelspec": {
   "display_name": "Python 3 (ipykernel)",
   "language": "python",
   "name": "python3"
  },
  "language_info": {
   "codemirror_mode": {
    "name": "ipython",
    "version": 3
   },
   "file_extension": ".py",
   "mimetype": "text/x-python",
   "name": "python",
   "nbconvert_exporter": "python",
   "pygments_lexer": "ipython3",
   "version": "3.10.11"
  }
 },
 "nbformat": 4,
 "nbformat_minor": 5
}
