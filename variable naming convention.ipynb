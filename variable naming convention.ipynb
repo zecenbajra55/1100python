{
 "cells": [
  {
   "cell_type": "code",
   "execution_count": 1,
   "id": "3e06567f",
   "metadata": {},
   "outputs": [
    {
     "ename": "SyntaxError",
     "evalue": "invalid syntax (4265613684.py, line 1)",
     "output_type": "error",
     "traceback": [
      "\u001b[1;36m  Cell \u001b[1;32mIn[1], line 1\u001b[1;36m\u001b[0m\n\u001b[1;33m    first name = \"Ram\"\u001b[0m\n\u001b[1;37m          ^\u001b[0m\n\u001b[1;31mSyntaxError\u001b[0m\u001b[1;31m:\u001b[0m invalid syntax\n"
     ]
    }
   ],
   "source": [
    "first name = \"Ram\""
   ]
  },
  {
   "cell_type": "code",
   "execution_count": 3,
   "id": "221a98a3",
   "metadata": {},
   "outputs": [],
   "source": [
    "# keywords cant be variables"
   ]
  },
  {
   "cell_type": "code",
   "execution_count": 4,
   "id": "30e7c278",
   "metadata": {},
   "outputs": [
    {
     "name": "stdout",
     "output_type": "stream",
     "text": [
      "\n",
      "Here is a list of the Python keywords.  Enter any keyword to get more help.\n",
      "\n",
      "False               class               from                or\n",
      "None                continue            global              pass\n",
      "True                def                 if                  raise\n",
      "and                 del                 import              return\n",
      "as                  elif                in                  try\n",
      "assert              else                is                  while\n",
      "async               except              lambda              with\n",
      "await               finally             nonlocal            yield\n",
      "break               for                 not                 \n",
      "\n"
     ]
    }
   ],
   "source": [
    "help('keywords')"
   ]
  },
  {
   "cell_type": "code",
   "execution_count": 6,
   "id": "b8b77b3f",
   "metadata": {},
   "outputs": [],
   "source": [
    "#keywords=reserved words in pythhon\n",
    "# if words appear in green it is keywords\n",
    "#python keywords are case sensitive\n"
   ]
  },
  {
   "cell_type": "code",
   "execution_count": 7,
   "id": "be6da7ca",
   "metadata": {},
   "outputs": [
    {
     "ename": "SyntaxError",
     "evalue": "cannot assign to False (1160946929.py, line 1)",
     "output_type": "error",
     "traceback": [
      "\u001b[1;36m  Cell \u001b[1;32mIn[7], line 1\u001b[1;36m\u001b[0m\n\u001b[1;33m    False = 0\u001b[0m\n\u001b[1;37m    ^\u001b[0m\n\u001b[1;31mSyntaxError\u001b[0m\u001b[1;31m:\u001b[0m cannot assign to False\n"
     ]
    }
   ],
   "source": [
    "False = 0"
   ]
  },
  {
   "cell_type": "markdown",
   "id": "ba7f464b",
   "metadata": {},
   "source": [
    "# special characters cannot be variable name `!@#$%^&*()_+`"
   ]
  },
  {
   "cell_type": "code",
   "execution_count": 8,
   "id": "0b9b1b56",
   "metadata": {},
   "outputs": [
    {
     "ename": "SyntaxError",
     "evalue": "invalid syntax (2835252536.py, line 1)",
     "output_type": "error",
     "traceback": [
      "\u001b[1;36m  Cell \u001b[1;32mIn[8], line 1\u001b[1;36m\u001b[0m\n\u001b[1;33m    $name = 'suman'\u001b[0m\n\u001b[1;37m    ^\u001b[0m\n\u001b[1;31mSyntaxError\u001b[0m\u001b[1;31m:\u001b[0m invalid syntax\n"
     ]
    }
   ],
   "source": [
    "$name = 'suman'"
   ]
  },
  {
   "cell_type": "code",
   "execution_count": 10,
   "id": "6c104881",
   "metadata": {},
   "outputs": [],
   "source": [
    "#spaces cannot be used i variable name\n",
    "# we cannot use - in variable\n",
    "#use underscore to join two names in variable name"
   ]
  },
  {
   "cell_type": "code",
   "execution_count": 11,
   "id": "884774ab",
   "metadata": {},
   "outputs": [
    {
     "ename": "SyntaxError",
     "evalue": "cannot assign to expression here. Maybe you meant '==' instead of '='? (1399663514.py, line 1)",
     "output_type": "error",
     "traceback": [
      "\u001b[1;36m  Cell \u001b[1;32mIn[11], line 1\u001b[1;36m\u001b[0m\n\u001b[1;33m    first-name =\" krishna\"\u001b[0m\n\u001b[1;37m    ^\u001b[0m\n\u001b[1;31mSyntaxError\u001b[0m\u001b[1;31m:\u001b[0m cannot assign to expression here. Maybe you meant '==' instead of '='?\n"
     ]
    }
   ],
   "source": [
    "first-name =\" krishna\""
   ]
  },
  {
   "cell_type": "code",
   "execution_count": 14,
   "id": "a30ba24a",
   "metadata": {},
   "outputs": [],
   "source": [
    "first_name = \"govind\""
   ]
  },
  {
   "cell_type": "code",
   "execution_count": 15,
   "id": "06db1309",
   "metadata": {},
   "outputs": [
    {
     "data": {
      "text/plain": [
       "'govind'"
      ]
     },
     "execution_count": 15,
     "metadata": {},
     "output_type": "execute_result"
    }
   ],
   "source": [
    "first_name"
   ]
  },
  {
   "cell_type": "code",
   "execution_count": 16,
   "id": "03b4f223",
   "metadata": {},
   "outputs": [],
   "source": [
    "#digits cannot occur at first on variable nem but can occut agter characters"
   ]
  },
  {
   "cell_type": "code",
   "execution_count": 17,
   "id": "5be72df6",
   "metadata": {},
   "outputs": [
    {
     "ename": "SyntaxError",
     "evalue": "invalid decimal literal (1629627973.py, line 1)",
     "output_type": "error",
     "traceback": [
      "\u001b[1;36m  Cell \u001b[1;32mIn[17], line 1\u001b[1;36m\u001b[0m\n\u001b[1;33m    1name =\"gopal\"\u001b[0m\n\u001b[1;37m    ^\u001b[0m\n\u001b[1;31mSyntaxError\u001b[0m\u001b[1;31m:\u001b[0m invalid decimal literal\n"
     ]
    }
   ],
   "source": [
    "1name =\"gopal\""
   ]
  },
  {
   "cell_type": "code",
   "execution_count": 18,
   "id": "9f490544",
   "metadata": {},
   "outputs": [],
   "source": [
    "name1 =\"gopal\""
   ]
  },
  {
   "cell_type": "code",
   "execution_count": 19,
   "id": "f5eae990",
   "metadata": {},
   "outputs": [
    {
     "data": {
      "text/plain": [
       "'gopal'"
      ]
     },
     "execution_count": 19,
     "metadata": {},
     "output_type": "execute_result"
    }
   ],
   "source": [
    "name1\n"
   ]
  },
  {
   "cell_type": "code",
   "execution_count": 20,
   "id": "2507c564",
   "metadata": {},
   "outputs": [],
   "source": [
    "# combination of uppercase and lowercase characters cab be variable name"
   ]
  },
  {
   "cell_type": "code",
   "execution_count": 21,
   "id": "9f1e2302",
   "metadata": {},
   "outputs": [],
   "source": [
    "MyName =\"kham\""
   ]
  },
  {
   "cell_type": "code",
   "execution_count": 22,
   "id": "403899f6",
   "metadata": {},
   "outputs": [
    {
     "data": {
      "text/plain": [
       "'kham'"
      ]
     },
     "execution_count": 22,
     "metadata": {},
     "output_type": "execute_result"
    }
   ],
   "source": [
    "MyName"
   ]
  },
  {
   "cell_type": "code",
   "execution_count": 23,
   "id": "bb4124cb",
   "metadata": {},
   "outputs": [],
   "source": [
    "# python style guide\n",
    "# https://realpython.com/python-pep8/"
   ]
  },
  {
   "cell_type": "markdown",
   "id": "c4a3935e",
   "metadata": {},
   "source": [
    "# python is a case sensitive language"
   ]
  },
  {
   "cell_type": "code",
   "execution_count": 24,
   "id": "9e9b1911",
   "metadata": {},
   "outputs": [],
   "source": [
    "A= \" apple\"\n",
    "a= 'ant'"
   ]
  },
  {
   "cell_type": "code",
   "execution_count": 25,
   "id": "998c6909",
   "metadata": {},
   "outputs": [
    {
     "data": {
      "text/plain": [
       "' apple'"
      ]
     },
     "execution_count": 25,
     "metadata": {},
     "output_type": "execute_result"
    }
   ],
   "source": [
    "A\n"
   ]
  },
  {
   "cell_type": "code",
   "execution_count": 26,
   "id": "b6ab34f2",
   "metadata": {},
   "outputs": [
    {
     "name": "stdout",
     "output_type": "stream",
     "text": [
      "The value of capital A is apple\n",
      "The value of small a is apple\n"
     ]
    }
   ],
   "source": [
    "print (\"The value of capital A is apple\")\n",
    "print (\"The value of small a is apple\")"
   ]
  },
  {
   "cell_type": "code",
   "execution_count": 27,
   "id": "082a94a5",
   "metadata": {},
   "outputs": [
    {
     "name": "stdout",
     "output_type": "stream",
     "text": [
      "The value of capital A is  apple\n",
      "The value of small a is ant\n"
     ]
    }
   ],
   "source": [
    "print (f\"The value of capital A is {A}\")\n",
    "print (f\"The value of small a is {a}\")"
   ]
  },
  {
   "cell_type": "code",
   "execution_count": 29,
   "id": "c265557d",
   "metadata": {},
   "outputs": [
    {
     "name": "stdout",
     "output_type": "stream",
     "text": [
      "The value of capital A is  apple\n",
      "The value of small a is ant\n"
     ]
    }
   ],
   "source": [
    "print (\"The value of capital A is {}\" .format(A))\n",
    "print (\"The value of small a is {}\".format(a))"
   ]
  },
  {
   "cell_type": "markdown",
   "id": "d40f0cba",
   "metadata": {},
   "source": [
    "# how can we change variable value in a program?\n"
   ]
  },
  {
   "cell_type": "code",
   "execution_count": 30,
   "id": "c32a5125",
   "metadata": {},
   "outputs": [
    {
     "name": "stdout",
     "output_type": "stream",
     "text": [
      "fitst_number before replacement = 60.5\n",
      "fitst_number after replacement = 3\n"
     ]
    }
   ],
   "source": [
    "first_number =60.5\n",
    "print(f\"fitst_number before replacement = {first_number}\")\n",
    "first_number =3\n",
    "print(f\"fitst_number after replacement = {first_number}\")"
   ]
  },
  {
   "cell_type": "code",
   "execution_count": 31,
   "id": "0039d326",
   "metadata": {},
   "outputs": [
    {
     "name": "stdout",
     "output_type": "stream",
     "text": [
      "before  5\n",
      "after  7\n"
     ]
    }
   ],
   "source": [
    "a=5\n",
    "print(\"before \", a)\n",
    "a=a+2\n",
    "print(\"after \", a)"
   ]
  },
  {
   "cell_type": "markdown",
   "id": "26d440a6",
   "metadata": {},
   "source": [
    "# assigning mutliple values to multiple variables"
   ]
  },
  {
   "cell_type": "code",
   "execution_count": 32,
   "id": "97bebace",
   "metadata": {},
   "outputs": [],
   "source": [
    "a= 2\n",
    "b=0.3 \n",
    "c= 0.6 + 0.5j"
   ]
  },
  {
   "cell_type": "code",
   "execution_count": 33,
   "id": "d1ccf736",
   "metadata": {},
   "outputs": [
    {
     "data": {
      "text/plain": [
       "2"
      ]
     },
     "execution_count": 33,
     "metadata": {},
     "output_type": "execute_result"
    }
   ],
   "source": [
    "a"
   ]
  },
  {
   "cell_type": "code",
   "execution_count": 34,
   "id": "cb8f6233",
   "metadata": {},
   "outputs": [
    {
     "data": {
      "text/plain": [
       "0.3"
      ]
     },
     "execution_count": 34,
     "metadata": {},
     "output_type": "execute_result"
    }
   ],
   "source": [
    "b"
   ]
  },
  {
   "cell_type": "code",
   "execution_count": 35,
   "id": "4d6b092a",
   "metadata": {},
   "outputs": [
    {
     "data": {
      "text/plain": [
       "(0.6+0.5j)"
      ]
     },
     "execution_count": 35,
     "metadata": {},
     "output_type": "execute_result"
    }
   ],
   "source": [
    "c"
   ]
  },
  {
   "cell_type": "code",
   "execution_count": 36,
   "id": "5806b3b2",
   "metadata": {},
   "outputs": [],
   "source": [
    "a,b,c= 2,0.3,0.6+0.5j"
   ]
  },
  {
   "cell_type": "code",
   "execution_count": 37,
   "id": "61af7b73",
   "metadata": {},
   "outputs": [
    {
     "data": {
      "text/plain": [
       "2"
      ]
     },
     "execution_count": 37,
     "metadata": {},
     "output_type": "execute_result"
    }
   ],
   "source": [
    "a"
   ]
  },
  {
   "cell_type": "code",
   "execution_count": 38,
   "id": "d9e4794d",
   "metadata": {},
   "outputs": [
    {
     "data": {
      "text/plain": [
       "0.3"
      ]
     },
     "execution_count": 38,
     "metadata": {},
     "output_type": "execute_result"
    }
   ],
   "source": [
    "b"
   ]
  },
  {
   "cell_type": "code",
   "execution_count": 39,
   "id": "574f00da",
   "metadata": {},
   "outputs": [
    {
     "data": {
      "text/plain": [
       "(0.6+0.5j)"
      ]
     },
     "execution_count": 39,
     "metadata": {},
     "output_type": "execute_result"
    }
   ],
   "source": [
    "c"
   ]
  },
  {
   "cell_type": "code",
   "execution_count": 40,
   "id": "5e197f23",
   "metadata": {},
   "outputs": [],
   "source": [
    "a,b,c= 2,0.2,0.6+0.5j"
   ]
  },
  {
   "cell_type": "code",
   "execution_count": 41,
   "id": "be71c3e7",
   "metadata": {},
   "outputs": [
    {
     "data": {
      "text/plain": [
       "0.2"
      ]
     },
     "execution_count": 41,
     "metadata": {},
     "output_type": "execute_result"
    }
   ],
   "source": [
    "b"
   ]
  },
  {
   "cell_type": "code",
   "execution_count": null,
   "id": "cf4c1d93",
   "metadata": {},
   "outputs": [],
   "source": []
  }
 ],
 "metadata": {
  "kernelspec": {
   "display_name": "Python 3 (ipykernel)",
   "language": "python",
   "name": "python3"
  },
  "language_info": {
   "codemirror_mode": {
    "name": "ipython",
    "version": 3
   },
   "file_extension": ".py",
   "mimetype": "text/x-python",
   "name": "python",
   "nbconvert_exporter": "python",
   "pygments_lexer": "ipython3",
   "version": "3.10.11"
  }
 },
 "nbformat": 4,
 "nbformat_minor": 5
}
