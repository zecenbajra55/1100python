{
 "cells": [
  {
   "cell_type": "code",
   "execution_count": 4,
   "id": "5202a239",
   "metadata": {},
   "outputs": [
    {
     "ename": "SyntaxError",
     "evalue": "invalid syntax (2631828129.py, line 1)",
     "output_type": "error",
     "traceback": [
      "\u001b[1;36m  Cell \u001b[1;32mIn[4], line 1\u001b[1;36m\u001b[0m\n\u001b[1;33m    msg1 =\u001b[0m\n\u001b[1;37m          ^\u001b[0m\n\u001b[1;31mSyntaxError\u001b[0m\u001b[1;31m:\u001b[0m invalid syntax\n"
     ]
    }
   ],
   "source": [
    "msg1 =\"hello\"\n",
    "msg2 =\"Hello\""
   ]
  },
  {
   "cell_type": "code",
   "execution_count": 6,
   "id": "38b0d3af",
   "metadata": {},
   "outputs": [
    {
     "data": {
      "text/plain": [
       "False"
      ]
     },
     "execution_count": 6,
     "metadata": {},
     "output_type": "execute_result"
    }
   ],
   "source": [
    "msg1 == msg2"
   ]
  },
  {
   "cell_type": "code",
   "execution_count": 5,
   "id": "f1dfa3d0",
   "metadata": {},
   "outputs": [
    {
     "ename": "AssertionError",
     "evalue": "",
     "output_type": "error",
     "traceback": [
      "\u001b[1;31m---------------------------------------------------------------------------\u001b[0m",
      "\u001b[1;31mAssertionError\u001b[0m                            Traceback (most recent call last)",
      "Cell \u001b[1;32mIn[5], line 3\u001b[0m\n\u001b[0;32m      1\u001b[0m msg1 \u001b[38;5;241m=\u001b[39m\u001b[38;5;124m\"\u001b[39m\u001b[38;5;124mhello\u001b[39m\u001b[38;5;124m\"\u001b[39m\n\u001b[0;32m      2\u001b[0m msg2 \u001b[38;5;241m=\u001b[39m\u001b[38;5;124m\"\u001b[39m\u001b[38;5;124mHello\u001b[39m\u001b[38;5;124m\"\u001b[39m\n\u001b[1;32m----> 3\u001b[0m \u001b[38;5;28;01massert\u001b[39;00m msg1 \u001b[38;5;241m==\u001b[39m msg2\n",
      "\u001b[1;31mAssertionError\u001b[0m: "
     ]
    }
   ],
   "source": [
    "msg1 =\"hello\"\n",
    "msg2 =\"Hello\"\n",
    "assert msg1 == msg2"
   ]
  },
  {
   "cell_type": "markdown",
   "id": "b8307666",
   "metadata": {},
   "source": [
    "# single line and multiline string"
   ]
  },
  {
   "cell_type": "code",
   "execution_count": 7,
   "id": "1c66d6f8",
   "metadata": {},
   "outputs": [],
   "source": [
    "#single line string\n",
    "about=\"you mer o tope ho mer o topi kailash ko sir jatro\""
   ]
  },
  {
   "cell_type": "code",
   "execution_count": 8,
   "id": "7c17c3c2",
   "metadata": {},
   "outputs": [
    {
     "data": {
      "text/plain": [
       "'you mer o tope ho mer o topi kailash ko sir jatro'"
      ]
     },
     "execution_count": 8,
     "metadata": {},
     "output_type": "execute_result"
    }
   ],
   "source": [
    "about\n"
   ]
  },
  {
   "cell_type": "code",
   "execution_count": 9,
   "id": "210da41f",
   "metadata": {},
   "outputs": [
    {
     "ename": "SyntaxError",
     "evalue": "unterminated string literal (detected at line 1) (1096114704.py, line 1)",
     "output_type": "error",
     "traceback": [
      "\u001b[1;36m  Cell \u001b[1;32mIn[9], line 1\u001b[1;36m\u001b[0m\n\u001b[1;33m    about=\"yo mero topi ho\u001b[0m\n\u001b[1;37m          ^\u001b[0m\n\u001b[1;31mSyntaxError\u001b[0m\u001b[1;31m:\u001b[0m unterminated string literal (detected at line 1)\n"
     ]
    }
   ],
   "source": [
    "about=\"yo mero topi ho    #multiline string eutai quote vitra lekhna mildaina\n",
    "mero topi kailask ho sir jatro\n",
    "mero topi nepali bir jasto.\""
   ]
  },
  {
   "cell_type": "code",
   "execution_count": 11,
   "id": "e2a067f4",
   "metadata": {},
   "outputs": [],
   "source": [
    "# use triple quotes ''' ''' or \"\"\" \"\"\"\n",
    "about=\"\"\"yo mero topi ho    \n",
    "mero topi kailask ho sir jatro\n",
    "mero topi nepali bir jasto.\"\"\""
   ]
  },
  {
   "cell_type": "code",
   "execution_count": 12,
   "id": "91bc8f54",
   "metadata": {},
   "outputs": [
    {
     "data": {
      "text/plain": [
       "'yo mero topi ho    \\nmero topi kailask ho sir jatro\\nmero topi nepali bir jasto.'"
      ]
     },
     "execution_count": 12,
     "metadata": {},
     "output_type": "execute_result"
    }
   ],
   "source": [
    "about"
   ]
  },
  {
   "cell_type": "code",
   "execution_count": 13,
   "id": "7d90735e",
   "metadata": {},
   "outputs": [
    {
     "name": "stdout",
     "output_type": "stream",
     "text": [
      "yo mero topi ho    \n",
      "mero topi kailask ho sir jatro\n",
      "mero topi nepali bir jasto.\n"
     ]
    }
   ],
   "source": [
    "print(about)"
   ]
  },
  {
   "cell_type": "code",
   "execution_count": 17,
   "id": "bb28303b",
   "metadata": {},
   "outputs": [],
   "source": [
    "git =\"\"\"when you only need the light when youre feelin low\n",
    "only miss the sun when its starts to snow\"\"\""
   ]
  },
  {
   "cell_type": "markdown",
   "id": "36a3c1fb",
   "metadata": {},
   "source": [
    "git"
   ]
  },
  {
   "cell_type": "code",
   "execution_count": 19,
   "id": "3e313233",
   "metadata": {},
   "outputs": [
    {
     "name": "stdout",
     "output_type": "stream",
     "text": [
      "when you only need the light when youre feelin low\n",
      "only miss the sun when its starts to snow\n"
     ]
    }
   ],
   "source": [
    "print(git)"
   ]
  },
  {
   "cell_type": "code",
   "execution_count": 20,
   "id": "14dcf990",
   "metadata": {},
   "outputs": [],
   "source": [
    "git ='''when you only need the light when youre feelin low\n",
    "only miss the sun when its starts to snow'''"
   ]
  },
  {
   "cell_type": "code",
   "execution_count": 21,
   "id": "13024f4c",
   "metadata": {},
   "outputs": [
    {
     "name": "stdout",
     "output_type": "stream",
     "text": [
      "when you only need the light when youre feelin low\n",
      "only miss the sun when its starts to snow\n"
     ]
    }
   ],
   "source": [
    "print(git)"
   ]
  },
  {
   "cell_type": "markdown",
   "id": "f123bb7b",
   "metadata": {},
   "source": [
    "# indexing and slicing in string"
   ]
  },
  {
   "cell_type": "code",
   "execution_count": 22,
   "id": "07c8e8b2",
   "metadata": {},
   "outputs": [],
   "source": [
    "s='hello world'"
   ]
  },
  {
   "cell_type": "code",
   "execution_count": 23,
   "id": "6b7cb646",
   "metadata": {},
   "outputs": [
    {
     "data": {
      "text/plain": [
       "'e'"
      ]
     },
     "execution_count": 23,
     "metadata": {},
     "output_type": "execute_result"
    }
   ],
   "source": [
    "s[1]"
   ]
  },
  {
   "cell_type": "code",
   "execution_count": 24,
   "id": "9e73b0e6",
   "metadata": {},
   "outputs": [],
   "source": [
    "#indexing always starts with zero"
   ]
  },
  {
   "cell_type": "code",
   "execution_count": 26,
   "id": "755cafc8",
   "metadata": {},
   "outputs": [
    {
     "data": {
      "text/plain": [
       "'d'"
      ]
     },
     "execution_count": 26,
     "metadata": {},
     "output_type": "execute_result"
    }
   ],
   "source": [
    "s[10]"
   ]
  },
  {
   "cell_type": "code",
   "execution_count": 27,
   "id": "65cc3e11",
   "metadata": {},
   "outputs": [
    {
     "data": {
      "text/plain": [
       "' '"
      ]
     },
     "execution_count": 27,
     "metadata": {},
     "output_type": "execute_result"
    }
   ],
   "source": [
    "s[5]"
   ]
  },
  {
   "cell_type": "code",
   "execution_count": 28,
   "id": "297b7cd2",
   "metadata": {},
   "outputs": [
    {
     "ename": "IndexError",
     "evalue": "string index out of range",
     "output_type": "error",
     "traceback": [
      "\u001b[1;31m---------------------------------------------------------------------------\u001b[0m",
      "\u001b[1;31mIndexError\u001b[0m                                Traceback (most recent call last)",
      "Cell \u001b[1;32mIn[28], line 1\u001b[0m\n\u001b[1;32m----> 1\u001b[0m \u001b[43ms\u001b[49m\u001b[43m[\u001b[49m\u001b[38;5;241;43m11\u001b[39;49m\u001b[43m]\u001b[49m\n",
      "\u001b[1;31mIndexError\u001b[0m: string index out of range"
     ]
    }
   ],
   "source": [
    "s[11]"
   ]
  },
  {
   "cell_type": "code",
   "execution_count": 30,
   "id": "07f4496e",
   "metadata": {},
   "outputs": [
    {
     "data": {
      "text/plain": [
       "11"
      ]
     },
     "execution_count": 30,
     "metadata": {},
     "output_type": "execute_result"
    }
   ],
   "source": [
    "len(s)"
   ]
  },
  {
   "cell_type": "code",
   "execution_count": 31,
   "id": "32a0f562",
   "metadata": {},
   "outputs": [
    {
     "data": {
      "text/plain": [
       "'hello'"
      ]
     },
     "execution_count": 31,
     "metadata": {},
     "output_type": "execute_result"
    }
   ],
   "source": [
    "s[0:5]"
   ]
  },
  {
   "cell_type": "code",
   "execution_count": 32,
   "id": "eb32b8aa",
   "metadata": {},
   "outputs": [
    {
     "data": {
      "text/plain": [
       "'hello'"
      ]
     },
     "execution_count": 32,
     "metadata": {},
     "output_type": "execute_result"
    }
   ],
   "source": [
    "s[:5]# suru ko 5 ota"
   ]
  },
  {
   "cell_type": "code",
   "execution_count": 33,
   "id": "c7022137",
   "metadata": {},
   "outputs": [
    {
     "data": {
      "text/plain": [
       "'ello worl'"
      ]
     },
     "execution_count": 33,
     "metadata": {},
     "output_type": "execute_result"
    }
   ],
   "source": [
    "s[1:10]"
   ]
  },
  {
   "cell_type": "code",
   "execution_count": 34,
   "id": "bc323d18",
   "metadata": {},
   "outputs": [
    {
     "data": {
      "text/plain": [
       "'rld'"
      ]
     },
     "execution_count": 34,
     "metadata": {},
     "output_type": "execute_result"
    }
   ],
   "source": [
    "s[8:11]"
   ]
  },
  {
   "cell_type": "code",
   "execution_count": 36,
   "id": "125cb5ad",
   "metadata": {},
   "outputs": [
    {
     "data": {
      "text/plain": [
       "'rld'"
      ]
     },
     "execution_count": 36,
     "metadata": {},
     "output_type": "execute_result"
    }
   ],
   "source": [
    "s[8:] # 8 dekhi sabai"
   ]
  },
  {
   "cell_type": "code",
   "execution_count": 40,
   "id": "9cf610e0",
   "metadata": {},
   "outputs": [
    {
     "data": {
      "text/plain": [
       "'hlowrd'"
      ]
     },
     "execution_count": 40,
     "metadata": {},
     "output_type": "execute_result"
    }
   ],
   "source": [
    "s[0:11:2] # 2 jumps per word s[start: stop \"step\"]"
   ]
  },
  {
   "cell_type": "code",
   "execution_count": 39,
   "id": "98be998a",
   "metadata": {},
   "outputs": [
    {
     "data": {
      "text/plain": [
       "'lw'"
      ]
     },
     "execution_count": 39,
     "metadata": {},
     "output_type": "execute_result"
    }
   ],
   "source": [
    "s[3:9:3] "
   ]
  },
  {
   "cell_type": "code",
   "execution_count": 41,
   "id": "d934849d",
   "metadata": {},
   "outputs": [
    {
     "data": {
      "text/plain": [
       "'hlowrd'"
      ]
     },
     "execution_count": 41,
     "metadata": {},
     "output_type": "execute_result"
    }
   ],
   "source": [
    "s[::2]"
   ]
  },
  {
   "cell_type": "markdown",
   "id": "b160d46a",
   "metadata": {},
   "source": [
    "# python range\n"
   ]
  },
  {
   "cell_type": "code",
   "execution_count": 42,
   "id": "d62bf41e",
   "metadata": {},
   "outputs": [],
   "source": [
    "#range (start, stop , step)"
   ]
  },
  {
   "cell_type": "code",
   "execution_count": 43,
   "id": "350a087d",
   "metadata": {},
   "outputs": [
    {
     "data": {
      "text/plain": [
       "range(0, 11)"
      ]
     },
     "execution_count": 43,
     "metadata": {},
     "output_type": "execute_result"
    }
   ],
   "source": [
    "range(0,11,1)"
   ]
  },
  {
   "cell_type": "code",
   "execution_count": 49,
   "id": "47fe0fa5",
   "metadata": {},
   "outputs": [
    {
     "name": "stdout",
     "output_type": "stream",
     "text": [
      "0 h\n",
      "1 e\n",
      "2 l\n",
      "3 l\n",
      "4 o\n",
      "5  \n",
      "6 w\n",
      "7 o\n",
      "8 r\n",
      "9 l\n",
      "10 d\n"
     ]
    }
   ],
   "source": [
    "s='hello world'\n",
    "for index in range(0,len(s),1):\n",
    "    print(index, s[index])"
   ]
  },
  {
   "cell_type": "code",
   "execution_count": null,
   "id": "8a711692",
   "metadata": {},
   "outputs": [],
   "source": []
  }
 ],
 "metadata": {
  "kernelspec": {
   "display_name": "Python 3 (ipykernel)",
   "language": "python",
   "name": "python3"
  },
  "language_info": {
   "codemirror_mode": {
    "name": "ipython",
    "version": 3
   },
   "file_extension": ".py",
   "mimetype": "text/x-python",
   "name": "python",
   "nbconvert_exporter": "python",
   "pygments_lexer": "ipython3",
   "version": "3.10.11"
  }
 },
 "nbformat": 4,
 "nbformat_minor": 5
}
