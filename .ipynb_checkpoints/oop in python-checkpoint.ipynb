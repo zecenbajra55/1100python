{
 "cells": [
  {
   "cell_type": "markdown",
   "id": "375ecf7f",
   "metadata": {},
   "source": [
    "# characteristic of oop \n",
    "<img src=\"https://miro.medium.com/v2/resize:fit:557/1*ixEc6uzuyCZqSLr4eifL0w.png\">"
   ]
  },
  {
   "cell_type": "markdown",
   "id": "f5196a40",
   "metadata": {},
   "source": [
    "# class and object\n"
   ]
  },
  {
   "cell_type": "code",
   "execution_count": null,
   "id": "d2128473",
   "metadata": {},
   "outputs": [],
   "source": [
    "# creating empty class in python"
   ]
  },
  {
   "cell_type": "code",
   "execution_count": null,
   "id": "7f5b0e53",
   "metadata": {},
   "outputs": [],
   "source": [
    "class Mammal:# class name starts with capital letter\n",
    "    pass"
   ]
  },
  {
   "cell_type": "code",
   "execution_count": null,
   "id": "519e9e01",
   "metadata": {},
   "outputs": [],
   "source": [
    "class Person:\n",
    "    pass"
   ]
  },
  {
   "cell_type": "markdown",
   "id": "09d0051c",
   "metadata": {},
   "source": [
    "# creating objecy from a class"
   ]
  },
  {
   "cell_type": "code",
   "execution_count": null,
   "id": "ad2194ff",
   "metadata": {},
   "outputs": [],
   "source": [
    "class Mammal:\n",
    "    pass"
   ]
  },
  {
   "cell_type": "code",
   "execution_count": null,
   "id": "4b063fc2",
   "metadata": {},
   "outputs": [],
   "source": [
    "human=Mammal() # creating object human from mammal class"
   ]
  },
  {
   "cell_type": "code",
   "execution_count": null,
   "id": "860c90a5",
   "metadata": {},
   "outputs": [],
   "source": [
    "# class is a blue print to create an object"
   ]
  },
  {
   "cell_type": "code",
   "execution_count": null,
   "id": "42843de2",
   "metadata": {},
   "outputs": [],
   "source": [
    "# object is an instance of class. object is a real world entity"
   ]
  },
  {
   "cell_type": "code",
   "execution_count": null,
   "id": "78e0ff1b",
   "metadata": {},
   "outputs": [],
   "source": [
    "cow=Mammal()"
   ]
  },
  {
   "cell_type": "code",
   "execution_count": null,
   "id": "6cd617db",
   "metadata": {},
   "outputs": [],
   "source": [
    "# you can create any no. of object from class"
   ]
  },
  {
   "cell_type": "code",
   "execution_count": null,
   "id": "ed11ff9d",
   "metadata": {},
   "outputs": [],
   "source": [
    "type(cow)"
   ]
  },
  {
   "cell_type": "code",
   "execution_count": null,
   "id": "306a4bf7",
   "metadata": {},
   "outputs": [],
   "source": [
    "# main is a entrypoint of python program"
   ]
  },
  {
   "cell_type": "code",
   "execution_count": null,
   "id": "442d9741",
   "metadata": {},
   "outputs": [],
   "source": [
    "if __name__==\"__main__\":# __ are dunders\n",
    "    cow=Mammal()\n",
    "    print(type(cow))"
   ]
  },
  {
   "cell_type": "markdown",
   "id": "fba40e52",
   "metadata": {},
   "source": [
    "# class attribute"
   ]
  },
  {
   "cell_type": "code",
   "execution_count": null,
   "id": "fd980d92",
   "metadata": {},
   "outputs": [],
   "source": [
    "class Mammal:\n",
    "    has_hair=True # class attribute"
   ]
  },
  {
   "cell_type": "code",
   "execution_count": null,
   "id": "4802c6e6",
   "metadata": {},
   "outputs": [],
   "source": [
    "human=Mammal()\n",
    "print(human.has_hair) # class attribute sabai ko lai same hunxa"
   ]
  },
  {
   "cell_type": "code",
   "execution_count": null,
   "id": "8e63ce34",
   "metadata": {},
   "outputs": [],
   "source": [
    "cow=Mammal()\n",
    "print(cow.has_hair) # class attribute sabai ko lai same hunxa"
   ]
  },
  {
   "cell_type": "markdown",
   "id": "93158253",
   "metadata": {},
   "source": [
    "# object attribute"
   ]
  },
  {
   "cell_type": "code",
   "execution_count": null,
   "id": "c1b2173d",
   "metadata": {},
   "outputs": [],
   "source": [
    "class Mammal:\n",
    "    has_hair =True\n",
    "    \n",
    "    def __init__(self, legs): # legs is object attribute\n",
    "        self.legs =legs"
   ]
  },
  {
   "cell_type": "code",
   "execution_count": null,
   "id": "c89174d1",
   "metadata": {},
   "outputs": [],
   "source": [
    "cow = Mammal(legs=4)\n"
   ]
  },
  {
   "cell_type": "code",
   "execution_count": null,
   "id": "fa165bee",
   "metadata": {},
   "outputs": [],
   "source": [
    "cow.has_hair"
   ]
  },
  {
   "cell_type": "code",
   "execution_count": null,
   "id": "c73d64c8",
   "metadata": {},
   "outputs": [],
   "source": [
    "cow.legs"
   ]
  },
  {
   "cell_type": "code",
   "execution_count": null,
   "id": "4c5ea74b",
   "metadata": {},
   "outputs": [],
   "source": [
    "human=Mammal(legs=2)"
   ]
  },
  {
   "cell_type": "code",
   "execution_count": null,
   "id": "50193d1a",
   "metadata": {},
   "outputs": [],
   "source": [
    "human.legs"
   ]
  },
  {
   "cell_type": "markdown",
   "id": "39dac9e8",
   "metadata": {},
   "source": [
    "#  note\n",
    " * all classes have a function called  `__init__()` which is always executed when the class is being initiated\n",
    " * use the `__init__()` function to assign values to object properties or other operations that are necessarty to do when the object is being created"
   ]
  },
  {
   "cell_type": "code",
   "execution_count": null,
   "id": "630d7e05",
   "metadata": {},
   "outputs": [],
   "source": [
    "class Person:\n",
    "    def __init__(self,name,age):\n",
    "        print(type(self))\n",
    "        self.name =name\n",
    "        self.age=age"
   ]
  },
  {
   "cell_type": "code",
   "execution_count": null,
   "id": "1337bcd7",
   "metadata": {},
   "outputs": [],
   "source": [
    "p1=Person('ram',45)"
   ]
  },
  {
   "cell_type": "code",
   "execution_count": null,
   "id": "7b1808e1",
   "metadata": {},
   "outputs": [],
   "source": [
    "print(type(p1))"
   ]
  },
  {
   "cell_type": "code",
   "execution_count": null,
   "id": "d93dd3c3",
   "metadata": {},
   "outputs": [],
   "source": [
    "p2=Person('gopal',70)\n",
    "p2.name"
   ]
  },
  {
   "cell_type": "code",
   "execution_count": null,
   "id": "8609d32c",
   "metadata": {},
   "outputs": [],
   "source": [
    "'gopal'"
   ]
  },
  {
   "cell_type": "code",
   "execution_count": null,
   "id": "a070ab53",
   "metadata": {},
   "outputs": [],
   "source": [
    "p1.name"
   ]
  },
  {
   "cell_type": "markdown",
   "id": "7e75f5d0",
   "metadata": {},
   "source": [
    "# note\n",
    "* the self parameter is a reference to the current instance of the class and is used to access variable s that belong to the class\n",
    "* it does not have to be named self you can call it whatever you like, but it has to be the first parameter of any function in the class\n",
    "* `__init__()` is not a constructor in python `__new__(cls,*args,**kwargs)` is \n",
    "* because __new__() and __init__() work together in constructing objects(__new__() to create it and __init__() to customize it) no non-None value may be returned by __init__() ; doing so will cause a Type error to be raised at runtime."
   ]
  },
  {
   "cell_type": "code",
   "execution_count": null,
   "id": "2187de8b",
   "metadata": {},
   "outputs": [],
   "source": [
    "class Total:\n",
    "    def __init__(self,num1,num2):\n",
    "        self.total =num1+num2\n",
    "        return self.total"
   ]
  },
  {
   "cell_type": "code",
   "execution_count": null,
   "id": "06d2972f",
   "metadata": {},
   "outputs": [],
   "source": [
    "t1=Total(num1=5,num2=3) "
   ]
  },
  {
   "cell_type": "code",
   "execution_count": null,
   "id": "54d5b1b0",
   "metadata": {},
   "outputs": [],
   "source": [
    "t1.total"
   ]
  },
  {
   "cell_type": "code",
   "execution_count": null,
   "id": "2b18d74a",
   "metadata": {},
   "outputs": [],
   "source": [
    "class Total:\n",
    "    def __init__(self,num1,num2):\n",
    "        self.total =num1+num2\n",
    "        return self.total #init le None return garne ho aru keii return gardaina"
   ]
  },
  {
   "cell_type": "code",
   "execution_count": null,
   "id": "098cbc44",
   "metadata": {},
   "outputs": [],
   "source": [
    "t1=Total(num1=5,num2=3) \n"
   ]
  },
  {
   "cell_type": "markdown",
   "id": "08c01766",
   "metadata": {},
   "source": [
    "# user defined method in class"
   ]
  },
  {
   "cell_type": "code",
   "execution_count": null,
   "id": "758f80b6",
   "metadata": {},
   "outputs": [],
   "source": [
    "import math\n",
    "class Sphere:\n",
    "    def __init__(self,radi):\n",
    "        self.radi =radi\n",
    "        \n",
    "    def volume(self):\n",
    "        return 4/3*math.pi*self.radi**3"
   ]
  },
  {
   "cell_type": "code",
   "execution_count": null,
   "id": "5380adf1",
   "metadata": {},
   "outputs": [],
   "source": [
    "radi=4\n",
    "s1= Sphere(radi=radi)\n",
    "s1.volume()"
   ]
  },
  {
   "cell_type": "code",
   "execution_count": null,
   "id": "a42c780d",
   "metadata": {},
   "outputs": [],
   "source": [
    "class Rectangular:\n",
    "    def __init__(self,length,breadth):\n",
    "        self.length=length\n",
    "        self.breadth=breadth\n",
    "        \n",
    "    def perimeter(self):\n",
    "        return 2*(self.length + self.breadth)\n",
    "    \n",
    "    def area(self):\n",
    "        return self.length*self.breadth"
   ]
  },
  {
   "cell_type": "code",
   "execution_count": null,
   "id": "b9c300ed",
   "metadata": {},
   "outputs": [],
   "source": [
    "length=3\n",
    "breadth=4\n",
    "r1= Rectangular(length=length, breadth=breadth)\n",
    "print(r1.perimeter())\n",
    "r1= Rectangular(length=length, breadth=breadth)\n",
    "print(r1.area())"
   ]
  },
  {
   "cell_type": "code",
   "execution_count": null,
   "id": "f626590b",
   "metadata": {},
   "outputs": [],
   "source": [
    "import math\n",
    "class Circle:\n",
    "    def __init__(self,radius):\n",
    "        self.radius=radius\n",
    "    \n",
    "    def circim(self):\n",
    "        return 2*math.pi*self.radius\n",
    "    \n",
    "    def area (self):\n",
    "        return math.pi*self.radius**2\n",
    "    "
   ]
  },
  {
   "cell_type": "code",
   "execution_count": null,
   "id": "916243ca",
   "metadata": {},
   "outputs": [],
   "source": [
    "radius=5\n",
    "c1=Circle(radius=radius)\n",
    "print(round(c1.circim(),2))\n",
    "c1=Circle(radius=radius)\n",
    "print(round(c1.area(),2))"
   ]
  },
  {
   "cell_type": "markdown",
   "id": "ecd7426a",
   "metadata": {},
   "source": [
    "# take coordinates and find the distance between the points (5,2) and (9,8) using class and object"
   ]
  },
  {
   "cell_type": "code",
   "execution_count": null,
   "id": "630c2f33",
   "metadata": {},
   "outputs": [],
   "source": [
    "# sqrt((y2-y1)**2+(x2-x1)**2)"
   ]
  },
  {
   "cell_type": "markdown",
   "id": "3981863a",
   "metadata": {},
   "source": [
    "$$p1 = (5, 2)$$\n",
    "$$p2 = (9, 8)$$\n",
    "\n",
    "Calculate Distance between two points p1 and p2 using class object concept\n",
    "\n",
    "$$distance = \\sqrt{(y_2 - y_1) ^ 2 + (x_2 - x_1) ^ 2}$$"
   ]
  },
  {
   "cell_type": "code",
   "execution_count": null,
   "id": "b0f213fb",
   "metadata": {},
   "outputs": [],
   "source": [
    "import math\n",
    "class Distance:\n",
    "    def __init__(self,x,y):\n",
    "        self.x=x\n",
    "        self.y=y\n",
    "        \n",
    "    def dis(self,c):\n",
    "        a=self.x-c.x\n",
    "        b=self.y-c.y\n",
    "        return math.sqrt(a**2+b**2)\n",
    "      "
   ]
  },
  {
   "cell_type": "code",
   "execution_count": null,
   "id": "60aba8af",
   "metadata": {},
   "outputs": [],
   "source": [
    "x=Distance(5,2)\n",
    "y=Distance(9,8)\n",
    "d1 = x.dis(y)\n",
    "print(d1)"
   ]
  },
  {
   "cell_type": "code",
   "execution_count": 1,
   "id": "6f8a7481",
   "metadata": {},
   "outputs": [],
   "source": [
    "import math\n",
    "class Compute:\n",
    "    def __init__(self,x,y):\n",
    "        self.x1 ,self.y1 =p1\n",
    "        self.x2, self.y2 =p2\n",
    "    \n",
    "    def distance(self):\n",
    "        return math.sqrt((self.y2-self.y1)**2+(self.x2-self.x1)**2)"
   ]
  },
  {
   "cell_type": "code",
   "execution_count": 2,
   "id": "85bc8153",
   "metadata": {},
   "outputs": [
    {
     "ename": "TypeError",
     "evalue": "Compute.__init__() got an unexpected keyword argument 'p1'",
     "output_type": "error",
     "traceback": [
      "\u001b[1;31m---------------------------------------------------------------------------\u001b[0m",
      "\u001b[1;31mTypeError\u001b[0m                                 Traceback (most recent call last)",
      "Cell \u001b[1;32mIn[2], line 3\u001b[0m\n\u001b[0;32m      1\u001b[0m p1\u001b[38;5;241m=\u001b[39m(\u001b[38;5;241m5\u001b[39m,\u001b[38;5;241m2\u001b[39m)\n\u001b[0;32m      2\u001b[0m p2\u001b[38;5;241m=\u001b[39m(\u001b[38;5;241m9\u001b[39m,\u001b[38;5;241m8\u001b[39m)\n\u001b[1;32m----> 3\u001b[0m dist \u001b[38;5;241m=\u001b[39m \u001b[43mCompute\u001b[49m\u001b[43m(\u001b[49m\u001b[43mp1\u001b[49m\u001b[38;5;241;43m=\u001b[39;49m\u001b[43mp1\u001b[49m\u001b[43m,\u001b[49m\u001b[43mp2\u001b[49m\u001b[38;5;241;43m=\u001b[39;49m\u001b[43mp2\u001b[49m\u001b[43m)\u001b[49m\u001b[38;5;241m.\u001b[39mdistance()\n",
      "\u001b[1;31mTypeError\u001b[0m: Compute.__init__() got an unexpected keyword argument 'p1'"
     ]
    }
   ],
   "source": [
    "p1=(5,2)\n",
    "p2=(9,8)\n",
    "dist = Compute(p1=p1,p2=p2).distance()\n"
   ]
  },
  {
   "cell_type": "code",
   "execution_count": null,
   "id": "1a691036",
   "metadata": {},
   "outputs": [],
   "source": []
  }
 ],
 "metadata": {
  "kernelspec": {
   "display_name": "Python 3 (ipykernel)",
   "language": "python",
   "name": "python3"
  },
  "language_info": {
   "codemirror_mode": {
    "name": "ipython",
    "version": 3
   },
   "file_extension": ".py",
   "mimetype": "text/x-python",
   "name": "python",
   "nbconvert_exporter": "python",
   "pygments_lexer": "ipython3",
   "version": "3.10.11"
  }
 },
 "nbformat": 4,
 "nbformat_minor": 5
}
