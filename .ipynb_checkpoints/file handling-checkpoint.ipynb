{
 "cells": [
  {
   "cell_type": "markdown",
   "id": "10759b0c",
   "metadata": {},
   "source": [
    "# file handling\n",
    "## file handling in python includes:\n",
    "* creating\n",
    "* opening\n",
    "* closing files\n",
    "\n",
    "while files are open , python additionally performing various file operations such as:\n",
    "* reading\n",
    "* writing\n",
    "* appending information"
   ]
  },
  {
   "cell_type": "markdown",
   "id": "32f00b15",
   "metadata": {},
   "source": [
    "# opening a file\n",
    "``` python\n",
    "file=open(filename,mode)\n",
    "```\n",
    "mode:\n",
    "* read: `r`\n",
    "* write :`w`\n",
    "* append: `a`\n",
    "* create:`x`"
   ]
  },
  {
   "cell_type": "code",
   "execution_count": null,
   "id": "ad3c6a99",
   "metadata": {},
   "outputs": [],
   "source": [
    "file = open('gokuldham.txt','r')"
   ]
  },
  {
   "cell_type": "code",
   "execution_count": null,
   "id": "ac36fd50",
   "metadata": {},
   "outputs": [],
   "source": [
    "file = open('gokuldham.txt','x')"
   ]
  },
  {
   "cell_type": "code",
   "execution_count": null,
   "id": "0410ac99",
   "metadata": {},
   "outputs": [],
   "source": [
    "import os"
   ]
  },
  {
   "cell_type": "code",
   "execution_count": null,
   "id": "0bec9759",
   "metadata": {},
   "outputs": [],
   "source": [
    "os.path.exists('gokuldham.txt')"
   ]
  },
  {
   "cell_type": "code",
   "execution_count": null,
   "id": "5d79d9e5",
   "metadata": {},
   "outputs": [],
   "source": [
    "file.close() # closes the file"
   ]
  },
  {
   "cell_type": "markdown",
   "id": "efb3c332",
   "metadata": {},
   "source": [
    "# reading a file\n"
   ]
  },
  {
   "cell_type": "code",
   "execution_count": 11,
   "id": "11fe47ab",
   "metadata": {},
   "outputs": [],
   "source": [
    "with open('gokuldham.txt','r',encoding='utf-8') as file: # utf-8 for nepali\n",
    "    text=file.read() # reads entire text at once"
   ]
  },
  {
   "cell_type": "code",
   "execution_count": 12,
   "id": "7948673e",
   "metadata": {},
   "outputs": [
    {
     "name": "stdout",
     "output_type": "stream",
     "text": [
      "a quick brown fox jumps over the lazy dog a quick brown foc jumps over the lazy dog a quick brown fox jumps over the lazy dog a quick brown fox jumps over the lazy dog\n",
      "a quick brown fox jumps over the lazy dog\n",
      "a quick brown fox jumps over the lazy dog\n",
      "a quick brown fox jumps over the lazy dog\n",
      "a quick brown fox jumps over the lazy dog\n",
      "a quick brown fox jumps over the lazy dog\n",
      "a quick brown fox jumps over the lazy dog\n",
      "a quick brown fox jumps over the lazy dog\n"
     ]
    }
   ],
   "source": [
    "print(text)"
   ]
  },
  {
   "cell_type": "code",
   "execution_count": 13,
   "id": "01a0472a",
   "metadata": {},
   "outputs": [],
   "source": [
    "with open('gokuldham.txt','r',encoding='utf-8') as file: # utf-8 for nepali\n",
    "    text=file.readline() # reads a line at once"
   ]
  },
  {
   "cell_type": "code",
   "execution_count": 14,
   "id": "47c4578d",
   "metadata": {},
   "outputs": [
    {
     "name": "stdout",
     "output_type": "stream",
     "text": [
      "a quick brown fox jumps over the lazy dog a quick brown foc jumps over the lazy dog a quick brown fox jumps over the lazy dog a quick brown fox jumps over the lazy dog\n",
      "\n"
     ]
    }
   ],
   "source": [
    "print(text)"
   ]
  },
  {
   "cell_type": "code",
   "execution_count": 15,
   "id": "bb3886e0",
   "metadata": {},
   "outputs": [],
   "source": [
    "with open('gokuldham.txt','r',encoding='utf-8') as file: # utf-8 for nepali\n",
    "    text=file.readlines() # reads a line by line"
   ]
  },
  {
   "cell_type": "code",
   "execution_count": 16,
   "id": "004ffa86",
   "metadata": {},
   "outputs": [
    {
     "name": "stdout",
     "output_type": "stream",
     "text": [
      "['a quick brown fox jumps over the lazy dog a quick brown foc jumps over the lazy dog a quick brown fox jumps over the lazy dog a quick brown fox jumps over the lazy dog\\n', 'a quick brown fox jumps over the lazy dog\\n', 'a quick brown fox jumps over the lazy dog\\n', 'a quick brown fox jumps over the lazy dog\\n', 'a quick brown fox jumps over the lazy dog\\n', 'a quick brown fox jumps over the lazy dog\\n', 'a quick brown fox jumps over the lazy dog\\n', 'a quick brown fox jumps over the lazy dog']\n"
     ]
    }
   ],
   "source": [
    "print(text)"
   ]
  },
  {
   "cell_type": "markdown",
   "id": "ef20cd5f",
   "metadata": {},
   "source": [
    "# writing a file"
   ]
  },
  {
   "cell_type": "code",
   "execution_count": 17,
   "id": "a1b6573d",
   "metadata": {},
   "outputs": [],
   "source": [
    "with open('nayafile.txt','w')as file:\n",
    "    file.write('you file exits fardainamaiel naya banbaye')"
   ]
  },
  {
   "cell_type": "code",
   "execution_count": 18,
   "id": "f2390dd3",
   "metadata": {},
   "outputs": [
    {
     "data": {
      "text/plain": [
       "'you file exits fardainamaiel naya banbaye'"
      ]
     },
     "execution_count": 18,
     "metadata": {},
     "output_type": "execute_result"
    }
   ],
   "source": [
    "with open('nayafile.txt','r') as file:\n",
    "    text=file.read()\n",
    "text"
   ]
  },
  {
   "cell_type": "code",
   "execution_count": 20,
   "id": "9a2065ff",
   "metadata": {},
   "outputs": [],
   "source": [
    "# write mode ma if file pailai exists garxa and you want to write it vane purano file replace vayera \n",
    "# naya file write hunxa ani data loss hunca"
   ]
  },
  {
   "cell_type": "code",
   "execution_count": 22,
   "id": "9d1c8272",
   "metadata": {},
   "outputs": [
    {
     "data": {
      "text/plain": [
       "True"
      ]
     },
     "execution_count": 22,
     "metadata": {},
     "output_type": "execute_result"
    }
   ],
   "source": [
    "import os\n",
    "os.path.exists('nayafile.txt')"
   ]
  },
  {
   "cell_type": "code",
   "execution_count": 23,
   "id": "cce14f21",
   "metadata": {},
   "outputs": [],
   "source": [
    "with open ('nayafile.txt','w') as file:\n",
    "    file.write('overwirtten')"
   ]
  },
  {
   "cell_type": "code",
   "execution_count": 24,
   "id": "fb2d83bf",
   "metadata": {},
   "outputs": [
    {
     "data": {
      "text/plain": [
       "'overwirtten'"
      ]
     },
     "execution_count": 24,
     "metadata": {},
     "output_type": "execute_result"
    }
   ],
   "source": [
    "with open('nayafile.txt','r') as file:\n",
    "    text=file.read()\n",
    "text"
   ]
  },
  {
   "cell_type": "markdown",
   "id": "c6a3f01f",
   "metadata": {},
   "source": [
    "# append garyo vane purano ma data add hunxa and if no file exists then new file is created"
   ]
  },
  {
   "cell_type": "code",
   "execution_count": 25,
   "id": "06a9582d",
   "metadata": {},
   "outputs": [],
   "source": [
    "# write mode ma naya file aafai create hunxa"
   ]
  },
  {
   "cell_type": "code",
   "execution_count": 26,
   "id": "0b5d961e",
   "metadata": {},
   "outputs": [],
   "source": [
    "# if you dont want t0 lose your data you should open yuor fiel in append mode"
   ]
  },
  {
   "cell_type": "code",
   "execution_count": 29,
   "id": "7187f5c9",
   "metadata": {},
   "outputs": [],
   "source": [
    "with open ('student.txt','a') as file:\n",
    "    file.write('sandesh\\n')"
   ]
  },
  {
   "cell_type": "code",
   "execution_count": 30,
   "id": "d1599519",
   "metadata": {},
   "outputs": [
    {
     "name": "stdout",
     "output_type": "stream",
     "text": [
      "sandesh/nsandesh\n",
      "\n"
     ]
    }
   ],
   "source": [
    "with open('student.txt','r') as file:\n",
    "    std=file.read()\n",
    "print(std)"
   ]
  },
  {
   "cell_type": "code",
   "execution_count": 31,
   "id": "1541e66d",
   "metadata": {},
   "outputs": [],
   "source": [
    "with open ('student.txt','a') as file:\n",
    "    file.write('sumit\\n')"
   ]
  },
  {
   "cell_type": "code",
   "execution_count": 32,
   "id": "69fd39e6",
   "metadata": {},
   "outputs": [
    {
     "name": "stdout",
     "output_type": "stream",
     "text": [
      "sandesh/nsandesh\n",
      "sumit\n",
      "\n"
     ]
    }
   ],
   "source": [
    "with open('student.txt','r') as file:\n",
    "    std=file.read()\n",
    "print(std)"
   ]
  },
  {
   "cell_type": "markdown",
   "id": "475975fe",
   "metadata": {},
   "source": [
    "# handling csv files"
   ]
  },
  {
   "cell_type": "code",
   "execution_count": 43,
   "id": "82bd80da",
   "metadata": {},
   "outputs": [],
   "source": [
    "import csv # comma separated value"
   ]
  },
  {
   "cell_type": "code",
   "execution_count": 45,
   "id": "eecec1fd",
   "metadata": {},
   "outputs": [],
   "source": [
    "with open ('student.csv','w') as file:\n",
    "    column_name=['roll_no','name']   #header\n",
    "    writer = csv.DictWriter(file,column_name)\n",
    "    writer.writeheader()\n",
    "    \n",
    "    writer.writerow({'roll_no':1,'name':'aaa'})\n",
    "    writer.writerow({'roll_no':2,'name':'aas'})"
   ]
  },
  {
   "cell_type": "code",
   "execution_count": 46,
   "id": "4aec62e9",
   "metadata": {},
   "outputs": [
    {
     "name": "stdout",
     "output_type": "stream",
     "text": [
      "{'roll_no': '1', 'name': 'aaa'}\n",
      "{'roll_no': '2', 'name': 'aas'}\n"
     ]
    }
   ],
   "source": [
    "with open ('student.csv','r')as file:\n",
    "    reader=csv.DictReader(file)\n",
    "    for item in reader:\n",
    "        print(item)"
   ]
  },
  {
   "cell_type": "code",
   "execution_count": null,
   "id": "1651530f",
   "metadata": {},
   "outputs": [],
   "source": []
  }
 ],
 "metadata": {
  "kernelspec": {
   "display_name": "Python 3 (ipykernel)",
   "language": "python",
   "name": "python3"
  },
  "language_info": {
   "codemirror_mode": {
    "name": "ipython",
    "version": 3
   },
   "file_extension": ".py",
   "mimetype": "text/x-python",
   "name": "python",
   "nbconvert_exporter": "python",
   "pygments_lexer": "ipython3",
   "version": "3.10.11"
  }
 },
 "nbformat": 4,
 "nbformat_minor": 5
}
