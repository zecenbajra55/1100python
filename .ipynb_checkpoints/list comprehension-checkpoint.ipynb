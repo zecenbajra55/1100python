{
 "cells": [
  {
   "cell_type": "markdown",
   "id": "e30f3c25",
   "metadata": {},
   "source": [
    "# list comprehension  : elegant way to create list offers  a shorter syntax to create a new list based on the values of an existing list"
   ]
  },
  {
   "cell_type": "code",
   "execution_count": null,
   "id": "237d854f",
   "metadata": {},
   "outputs": [],
   "source": [
    "import random\n"
   ]
  },
  {
   "cell_type": "code",
   "execution_count": null,
   "id": "6be040ec",
   "metadata": {},
   "outputs": [],
   "source": [
    "random.randint(1,10) #non deterministic"
   ]
  },
  {
   "cell_type": "code",
   "execution_count": null,
   "id": "d0fd7b84",
   "metadata": {},
   "outputs": [],
   "source": [
    "random.seed(6)\n",
    "random.randint(1,10)"
   ]
  },
  {
   "cell_type": "code",
   "execution_count": null,
   "id": "63ef0c30",
   "metadata": {},
   "outputs": [],
   "source": [
    "sq= []\n",
    "for item in range (1,10):\n",
    "    sq.append(item**2)\n",
    "sq"
   ]
  },
  {
   "cell_type": "code",
   "execution_count": null,
   "id": "2932c5e0",
   "metadata": {},
   "outputs": [],
   "source": [
    "[item**2 for item in range(1,10)]"
   ]
  },
  {
   "cell_type": "markdown",
   "id": "d8f3025d",
   "metadata": {},
   "source": [
    "# syntax\n",
    "``` python\n",
    "[expression for item in iterables]\n",
    "```"
   ]
  },
  {
   "cell_type": "code",
   "execution_count": null,
   "id": "87e9e950",
   "metadata": {},
   "outputs": [],
   "source": [
    "[item**3 for item in range(5,16)]"
   ]
  },
  {
   "cell_type": "markdown",
   "id": "87246008",
   "metadata": {},
   "source": [
    "# wap  to find even numbers from the given list"
   ]
  },
  {
   "cell_type": "code",
   "execution_count": null,
   "id": "82dd6ad9",
   "metadata": {},
   "outputs": [],
   "source": [
    "data= [random.randint(1,100) for index in range (10)]\n",
    "data"
   ]
  },
  {
   "cell_type": "code",
   "execution_count": null,
   "id": "1b9ecc19",
   "metadata": {},
   "outputs": [],
   "source": [
    "[item for item in data if item % 2 ==0] # if true vaye matrai item expression"
   ]
  },
  {
   "cell_type": "markdown",
   "id": "f65bc6d4",
   "metadata": {},
   "source": [
    "# syntax\n",
    "```python\n",
    " [expression for item in iterable if True]\n",
    "```"
   ]
  },
  {
   "cell_type": "code",
   "execution_count": null,
   "id": "8cab9be6",
   "metadata": {},
   "outputs": [],
   "source": [
    "data= [random.randint(1,100) for index in range (10)]\n",
    "[item for item in data if item % 2 !=0]"
   ]
  },
  {
   "cell_type": "markdown",
   "id": "48bab04f",
   "metadata": {},
   "source": [
    " # list comprehension is faster than loop"
   ]
  },
  {
   "cell_type": "code",
   "execution_count": 3,
   "id": "a95a0f3d",
   "metadata": {},
   "outputs": [],
   "source": [
    "import random \n",
    "# generate 50000 random number between 1-10\n",
    "data= [random.randint(1,10) for i in range(50000)]"
   ]
  },
  {
   "cell_type": "code",
   "execution_count": 4,
   "id": "056b8ec7",
   "metadata": {},
   "outputs": [
    {
     "name": "stdout",
     "output_type": "stream",
     "text": [
      "CPU times: total: 0 ns\n",
      "Wall time: 26.2 ms\n"
     ]
    }
   ],
   "source": [
    "%%time\n",
    "sq = []\n",
    "for item in data:\n",
    "    sq.append(item **2)"
   ]
  },
  {
   "cell_type": "code",
   "execution_count": 5,
   "id": "ec6ec934",
   "metadata": {},
   "outputs": [
    {
     "name": "stdout",
     "output_type": "stream",
     "text": [
      "CPU times: total: 15.6 ms\n",
      "Wall time: 19 ms\n"
     ]
    }
   ],
   "source": [
    "%%time\n",
    "sq =[item **2 for item in data]"
   ]
  },
  {
   "cell_type": "markdown",
   "id": "b18c9713",
   "metadata": {},
   "source": [
    "# list comprehension with if else\n",
    "```python\n",
    "[expression if True else for item in iterable]\n",
    "```"
   ]
  },
  {
   "cell_type": "markdown",
   "id": "537a10be",
   "metadata": {},
   "source": [
    "<img src=\"https://www.nomidl.com/wp-content/uploads/2022/04/image-10.png\">"
   ]
  },
  {
   "cell_type": "code",
   "execution_count": 6,
   "id": "06758b4b",
   "metadata": {},
   "outputs": [
    {
     "data": {
      "text/plain": [
       "[0, 0, 0, 0, 0, 0, 0, 0, 0, 0, 0, 1, 2, 3, 4, 5, 6, 7, 8, 9]"
      ]
     },
     "execution_count": 6,
     "metadata": {},
     "output_type": "execute_result"
    }
   ],
   "source": [
    "[0 if item<=0 else item for item in range(-10,10)]"
   ]
  },
  {
   "cell_type": "markdown",
   "id": "9c02595c",
   "metadata": {},
   "source": [
    "# given a list  write a program that replaces everything with oranges if item is not banana if it is banana keep as it is"
   ]
  },
  {
   "cell_type": "code",
   "execution_count": 7,
   "id": "1899ce48",
   "metadata": {},
   "outputs": [
    {
     "name": "stdout",
     "output_type": "stream",
     "text": [
      "['orange', 'banana', 'orange', 'orange', 'orange']\n"
     ]
    }
   ],
   "source": [
    "fruits =['apple', 'banana','cherry','kiwi','mango']\n",
    "newlist=[x if x=='banana' else 'orange' for x in fruits]\n",
    "print(newlist)"
   ]
  },
  {
   "cell_type": "markdown",
   "id": "a2720a87",
   "metadata": {},
   "source": [
    "# WAP to lowercase item in given list using list comprehension"
   ]
  },
  {
   "cell_type": "code",
   "execution_count": 2,
   "id": "f8c35aa8",
   "metadata": {},
   "outputs": [
    {
     "name": "stdout",
     "output_type": "stream",
     "text": [
      "['apple', 'banana', 'mango', 'orange']\n"
     ]
    }
   ],
   "source": [
    "fruits = ['APPLE','BANANA','MANGO','ORANGE']\n",
    "lower=[item.lower() for item in fruits]\n",
    "print(lower)"
   ]
  },
  {
   "cell_type": "code",
   "execution_count": null,
   "id": "2a15d445",
   "metadata": {},
   "outputs": [],
   "source": []
  }
 ],
 "metadata": {
  "kernelspec": {
   "display_name": "Python 3 (ipykernel)",
   "language": "python",
   "name": "python3"
  },
  "language_info": {
   "codemirror_mode": {
    "name": "ipython",
    "version": 3
   },
   "file_extension": ".py",
   "mimetype": "text/x-python",
   "name": "python",
   "nbconvert_exporter": "python",
   "pygments_lexer": "ipython3",
   "version": "3.10.11"
  }
 },
 "nbformat": 4,
 "nbformat_minor": 5
}
