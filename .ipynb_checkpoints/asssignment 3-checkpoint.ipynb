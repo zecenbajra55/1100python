{
 "cells": [
  {
   "cell_type": "markdown",
   "id": "c4675ab9",
   "metadata": {},
   "source": [
    "# check the numer of vowels and consonants in a string"
   ]
  },
  {
   "cell_type": "code",
   "execution_count": 30,
   "id": "4860c4cb",
   "metadata": {},
   "outputs": [
    {
     "name": "stdout",
     "output_type": "stream",
     "text": [
      "vowels=3\n",
      "consonants= 7\n"
     ]
    }
   ],
   "source": [
    "s= \"hello world\"\n",
    "vowels = 0\n",
    "consonant = 0 \n",
    "for index in range(0, len(s),1):\n",
    "    x= s[index]\n",
    "    if x == 'a' or  x =='e' or  x =='i' or  x =='o' or x =='u':\n",
    "        vowels = vowels + 1\n",
    "    elif x==' ':\n",
    "        continue\n",
    "    else:\n",
    "        consonant = consonant + 1\n",
    "print (f\"vowels={vowels}\")\n",
    "print (f\"consonants= {consonant}\")"
   ]
  },
  {
   "cell_type": "markdown",
   "id": "06a86a68",
   "metadata": {},
   "source": [
    "# regEx"
   ]
  },
  {
   "cell_type": "markdown",
   "id": "49acc08b",
   "metadata": {},
   "source": [
    "# WAP that asks the user to enter a string and prints the string in reverse order"
   ]
  },
  {
   "cell_type": "code",
   "execution_count": 50,
   "id": "07a08907",
   "metadata": {},
   "outputs": [
    {
     "name": "stdout",
     "output_type": "stream",
     "text": [
      "enter a string asdf\n",
      "fdsa\n"
     ]
    }
   ],
   "source": [
    "input_str = input(\"enter a string \")\n",
    "t = input_str[::-1]\n",
    "print(t)"
   ]
  },
  {
   "cell_type": "markdown",
   "id": "b427bec4",
   "metadata": {},
   "source": [
    "# WAP that asks the user to enter a string and prints the sentence with each word capitalized"
   ]
  },
  {
   "cell_type": "code",
   "execution_count": 10,
   "id": "43724038",
   "metadata": {},
   "outputs": [
    {
     "name": "stdout",
     "output_type": "stream",
     "text": [
      "enter a string aaa\n",
      "AAA\n"
     ]
    }
   ],
   "source": [
    "input_str = input(\"enter a string \")\n",
    "new=input_str.upper()\n",
    "print(new)"
   ]
  },
  {
   "cell_type": "markdown",
   "id": "a70b57ab",
   "metadata": {},
   "source": [
    "# WAP that asks the user to enter a string and prints the string with all the vowels letters replaced by 'o'"
   ]
  },
  {
   "cell_type": "code",
   "execution_count": null,
   "id": "d125f3f7",
   "metadata": {},
   "outputs": [],
   "source": [
    "s = input(\"Enter a string: \")\n",
    "new= s.replace(\"a\",\"e\",\"i\",\"u\",\"o\")\n",
    "print(new)"
   ]
  },
  {
   "cell_type": "markdown",
   "id": "d10da51a",
   "metadata": {},
   "source": [
    "# WAP the asks the user to enter two strings and prints the two strings concatenated together with a space between them"
   ]
  },
  {
   "cell_type": "code",
   "execution_count": 21,
   "id": "6bc14251",
   "metadata": {},
   "outputs": [
    {
     "name": "stdout",
     "output_type": "stream",
     "text": [
      "enter a stringasa\n",
      "enter another stringasa\n",
      "asa asa\n"
     ]
    }
   ],
   "source": [
    "s1=input(\"enter a string \")\n",
    "s2=input(\"enter another string \")\n",
    "s3= s1 +' '+ s2\n",
    "print(s3)"
   ]
  },
  {
   "cell_type": "markdown",
   "id": "3f20c55e",
   "metadata": {},
   "source": [
    "# WAP that asks the user to enter a string and prints the strings with first and last characters removed"
   ]
  },
  {
   "cell_type": "code",
   "execution_count": 34,
   "id": "4a4ffb62",
   "metadata": {},
   "outputs": [
    {
     "name": "stdout",
     "output_type": "stream",
     "text": [
      "enter a string asgasghsag\n",
      "sgasghsa\n"
     ]
    }
   ],
   "source": [
    "s=input(\"enter a string \")\n",
    "length = len(s)\n",
    "t= s[1:length-1:1]\n",
    "print(t)"
   ]
  },
  {
   "cell_type": "markdown",
   "id": "c70f28a7",
   "metadata": {},
   "source": [
    "# WAP that asks the user to enter a string and prints the string with all the spaces removed"
   ]
  },
  {
   "cell_type": "code",
   "execution_count": 52,
   "id": "6cbd3da8",
   "metadata": {},
   "outputs": [
    {
     "name": "stdout",
     "output_type": "stream",
     "text": [
      "enter a string aaa aaa aaa\n",
      "aaaaaaaaa\n"
     ]
    }
   ],
   "source": [
    "s=input(\"enter a string \")\n",
    "new= s.replace(\" \",\"\")\n",
    "print(new)"
   ]
  },
  {
   "cell_type": "code",
   "execution_count": null,
   "id": "8c4fae09",
   "metadata": {},
   "outputs": [],
   "source": []
  },
  {
   "cell_type": "markdown",
   "id": "119964b7",
   "metadata": {},
   "source": [
    "# WAP that asks the user to enter a string and prints with each word in reverse order"
   ]
  },
  {
   "cell_type": "code",
   "execution_count": 32,
   "id": "762707ee",
   "metadata": {},
   "outputs": [
    {
     "name": "stdout",
     "output_type": "stream",
     "text": [
      "enter a string asdf\n",
      "f\n",
      "d\n",
      "s\n",
      "a\n"
     ]
    }
   ],
   "source": [
    "s=input(\"enter a string \")\n",
    "length = len(s)\n",
    "for ind in range (length-1,-1,-1):\n",
    "    new=s[ind]\n",
    "    print(new)"
   ]
  },
  {
   "cell_type": "markdown",
   "id": "cbd5844b",
   "metadata": {},
   "source": [
    "# WAP using string manipulation extract fruit names from the text"
   ]
  },
  {
   "cell_type": "code",
   "execution_count": null,
   "id": "ae13c217",
   "metadata": {},
   "outputs": [],
   "source": [
    "s = input(\"enter a string \")\n",
    "words = s.split(\" \")\n",
    "if words==\"orange\" or words==\"banana\" or words==\"apple\" or words==\"kiwi\":\n",
    "    print (words)\n",
    "else:\n",
    "    continue"
   ]
  },
  {
   "cell_type": "code",
   "execution_count": null,
   "id": "70708d72",
   "metadata": {},
   "outputs": [],
   "source": []
  }
 ],
 "metadata": {
  "kernelspec": {
   "display_name": "Python 3 (ipykernel)",
   "language": "python",
   "name": "python3"
  },
  "language_info": {
   "codemirror_mode": {
    "name": "ipython",
    "version": 3
   },
   "file_extension": ".py",
   "mimetype": "text/x-python",
   "name": "python",
   "nbconvert_exporter": "python",
   "pygments_lexer": "ipython3",
   "version": "3.10.11"
  }
 },
 "nbformat": 4,
 "nbformat_minor": 5
}
