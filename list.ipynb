{
 "cells": [
  {
   "cell_type": "markdown",
   "id": "1e3a0f9c",
   "metadata": {},
   "source": [
    "# string concatenation"
   ]
  },
  {
   "cell_type": "code",
   "execution_count": 1,
   "id": "9f9e5537",
   "metadata": {},
   "outputs": [
    {
     "data": {
      "text/plain": [
       "'siyaram'"
      ]
     },
     "execution_count": 1,
     "metadata": {},
     "output_type": "execute_result"
    }
   ],
   "source": [
    "'siya' +'ram'"
   ]
  },
  {
   "cell_type": "code",
   "execution_count": 2,
   "id": "03a4cea3",
   "metadata": {},
   "outputs": [
    {
     "data": {
      "text/plain": [
       "'ramram'"
      ]
     },
     "execution_count": 2,
     "metadata": {},
     "output_type": "execute_result"
    }
   ],
   "source": [
    "'ram'*2"
   ]
  },
  {
   "cell_type": "markdown",
   "id": "02fb683f",
   "metadata": {},
   "source": [
    "# list\n",
    "* collection of item under one variable name\n",
    "* all duplicate value\n",
    "* ordered\n",
    "* indexed\n",
    "* mutable datatype"
   ]
  },
  {
   "cell_type": "code",
   "execution_count": 9,
   "id": "5208048d",
   "metadata": {},
   "outputs": [],
   "source": [
    "gift = ['laptop', 'mobile','laptop', 'bike','headphone','shoes', 'dress', 'mobile']"
   ]
  },
  {
   "cell_type": "code",
   "execution_count": 4,
   "id": "b5304b0b",
   "metadata": {},
   "outputs": [
    {
     "data": {
      "text/plain": [
       "['laptop', 'mobile', 'laptop', 'bike', 'shoes', 'dress', 'mobile']"
      ]
     },
     "execution_count": 4,
     "metadata": {},
     "output_type": "execute_result"
    }
   ],
   "source": [
    "gift\n"
   ]
  },
  {
   "cell_type": "markdown",
   "id": "49774a57",
   "metadata": {},
   "source": [
    "# indexing and slicing\n"
   ]
  },
  {
   "cell_type": "code",
   "execution_count": 14,
   "id": "210a1ad7",
   "metadata": {},
   "outputs": [
    {
     "data": {
      "text/plain": [
       "['laptop', 'mobile', 'laptop', 'bike', 'headphone', 'shoes', 'dress', 'mobile']"
      ]
     },
     "execution_count": 14,
     "metadata": {},
     "output_type": "execute_result"
    }
   ],
   "source": [
    "\n",
    "gift\n"
   ]
  },
  {
   "cell_type": "code",
   "execution_count": 15,
   "id": "df1b9272",
   "metadata": {},
   "outputs": [
    {
     "data": {
      "text/plain": [
       "'laptop'"
      ]
     },
     "execution_count": 15,
     "metadata": {},
     "output_type": "execute_result"
    }
   ],
   "source": [
    "gift[0]"
   ]
  },
  {
   "cell_type": "code",
   "execution_count": 16,
   "id": "0639315d",
   "metadata": {},
   "outputs": [
    {
     "data": {
      "text/plain": [
       "'headphone'"
      ]
     },
     "execution_count": 16,
     "metadata": {},
     "output_type": "execute_result"
    }
   ],
   "source": [
    "gift[4]"
   ]
  },
  {
   "cell_type": "code",
   "execution_count": 13,
   "id": "77288096",
   "metadata": {},
   "outputs": [
    {
     "data": {
      "text/plain": [
       "['laptop', 'headphone']"
      ]
     },
     "execution_count": 13,
     "metadata": {},
     "output_type": "execute_result"
    }
   ],
   "source": [
    "gift[2:5:2]"
   ]
  },
  {
   "cell_type": "code",
   "execution_count": 18,
   "id": "e77c2a9e",
   "metadata": {},
   "outputs": [
    {
     "data": {
      "text/plain": [
       "['dress', 'mobile']"
      ]
     },
     "execution_count": 18,
     "metadata": {},
     "output_type": "execute_result"
    }
   ],
   "source": [
    "gift[6:8]"
   ]
  },
  {
   "cell_type": "code",
   "execution_count": 19,
   "id": "1594c475",
   "metadata": {},
   "outputs": [
    {
     "data": {
      "text/plain": [
       "['laptop', 'laptop', 'headphone', 'dress']"
      ]
     },
     "execution_count": 19,
     "metadata": {},
     "output_type": "execute_result"
    }
   ],
   "source": [
    "gift[::2]"
   ]
  },
  {
   "cell_type": "code",
   "execution_count": 20,
   "id": "75c26743",
   "metadata": {},
   "outputs": [
    {
     "data": {
      "text/plain": [
       "['mobile', 'laptop']"
      ]
     },
     "execution_count": 20,
     "metadata": {},
     "output_type": "execute_result"
    }
   ],
   "source": [
    "gift[1:3]"
   ]
  },
  {
   "cell_type": "markdown",
   "id": "c56fe059",
   "metadata": {},
   "source": [
    "# negative indexing in pyton"
   ]
  },
  {
   "cell_type": "code",
   "execution_count": 21,
   "id": "8e6e6beb",
   "metadata": {},
   "outputs": [
    {
     "data": {
      "text/plain": [
       "['laptop', 'mobile', 'laptop', 'bike', 'headphone', 'shoes', 'dress', 'mobile']"
      ]
     },
     "execution_count": 21,
     "metadata": {},
     "output_type": "execute_result"
    }
   ],
   "source": [
    "gift"
   ]
  },
  {
   "cell_type": "code",
   "execution_count": 22,
   "id": "892e1500",
   "metadata": {},
   "outputs": [
    {
     "data": {
      "text/plain": [
       "'mobile'"
      ]
     },
     "execution_count": 22,
     "metadata": {},
     "output_type": "execute_result"
    }
   ],
   "source": [
    "gift[-1]"
   ]
  },
  {
   "cell_type": "code",
   "execution_count": 23,
   "id": "6a55f2e7",
   "metadata": {},
   "outputs": [
    {
     "data": {
      "text/plain": [
       "'dress'"
      ]
     },
     "execution_count": 23,
     "metadata": {},
     "output_type": "execute_result"
    }
   ],
   "source": [
    "gift[-2]"
   ]
  },
  {
   "cell_type": "code",
   "execution_count": 24,
   "id": "de23637f",
   "metadata": {},
   "outputs": [
    {
     "data": {
      "text/plain": [
       "['dress', 'mobile']"
      ]
     },
     "execution_count": 24,
     "metadata": {},
     "output_type": "execute_result"
    }
   ],
   "source": [
    "gift[-2:]"
   ]
  },
  {
   "cell_type": "code",
   "execution_count": 25,
   "id": "0cf56446",
   "metadata": {},
   "outputs": [
    {
     "data": {
      "text/plain": [
       "['headphone', 'shoes', 'dress', 'mobile']"
      ]
     },
     "execution_count": 25,
     "metadata": {},
     "output_type": "execute_result"
    }
   ],
   "source": [
    "gift[-4:]"
   ]
  },
  {
   "cell_type": "markdown",
   "id": "9cb73338",
   "metadata": {},
   "source": [
    "# lists supports multiple datatype"
   ]
  },
  {
   "cell_type": "code",
   "execution_count": 26,
   "id": "c049ee1d",
   "metadata": {},
   "outputs": [
    {
     "data": {
      "text/plain": [
       "[5, -4.4, 'text', False]"
      ]
     },
     "execution_count": 26,
     "metadata": {},
     "output_type": "execute_result"
    }
   ],
   "source": [
    "[5,-4.4,'text',False]"
   ]
  },
  {
   "cell_type": "markdown",
   "id": "939652cd",
   "metadata": {},
   "source": [
    "# find the sum of all items in the list\n"
   ]
  },
  {
   "cell_type": "code",
   "execution_count": 28,
   "id": "a06d36e6",
   "metadata": {},
   "outputs": [
    {
     "name": "stdout",
     "output_type": "stream",
     "text": [
      "20\n"
     ]
    }
   ],
   "source": [
    "num = [2,4,6,8]\n",
    "sum=0\n",
    "length= len(num)\n",
    "for index in range(0,length,1):\n",
    "    sum= sum+ num[index]\n",
    "print (sum)"
   ]
  },
  {
   "cell_type": "code",
   "execution_count": 30,
   "id": "2626f451",
   "metadata": {},
   "outputs": [
    {
     "name": "stdout",
     "output_type": "stream",
     "text": [
      "2 2\n",
      "4 6\n",
      "6 12\n",
      "8 20\n"
     ]
    }
   ],
   "source": [
    "total = 0\n",
    "for item in num:\n",
    "    total = total + item \n",
    "    print(item,total)"
   ]
  },
  {
   "cell_type": "code",
   "execution_count": 32,
   "id": "24e388ed",
   "metadata": {},
   "outputs": [
    {
     "data": {
      "text/plain": [
       "5.0"
      ]
     },
     "execution_count": 32,
     "metadata": {},
     "output_type": "execute_result"
    }
   ],
   "source": [
    "mean = total/ length\n",
    "mean"
   ]
  },
  {
   "cell_type": "code",
   "execution_count": 35,
   "id": "68055e91",
   "metadata": {},
   "outputs": [
    {
     "name": "stdout",
     "output_type": "stream",
     "text": [
      "the mean is 13.4\n"
     ]
    }
   ],
   "source": [
    "num= [9,2,45,0,11]\n",
    "sum=0\n",
    "length= len(num)\n",
    "for index in range(0,length,1):\n",
    "    sum= sum+ num[index]\n",
    "mean= sum/length\n",
    "print(f\"the mean is {mean}\")"
   ]
  },
  {
   "cell_type": "code",
   "execution_count": 37,
   "id": "f4b093cc",
   "metadata": {},
   "outputs": [
    {
     "name": "stdout",
     "output_type": "stream",
     "text": [
      "mean =9.857142857142858\n"
     ]
    }
   ],
   "source": [
    "num=[20,22,59,49,27,0,69]\n",
    "for index in range (len(num)):\n",
    "    total = num[index]\n",
    "no= len(num)\n",
    "mean= total/no\n",
    "print(\"mean ={}\".format(mean))"
   ]
  },
  {
   "cell_type": "markdown",
   "id": "2ed5ba13",
   "metadata": {},
   "source": []
  }
 ],
 "metadata": {
  "kernelspec": {
   "display_name": "Python 3 (ipykernel)",
   "language": "python",
   "name": "python3"
  },
  "language_info": {
   "codemirror_mode": {
    "name": "ipython",
    "version": 3
   },
   "file_extension": ".py",
   "mimetype": "text/x-python",
   "name": "python",
   "nbconvert_exporter": "python",
   "pygments_lexer": "ipython3",
   "version": "3.10.11"
  }
 },
 "nbformat": 4,
 "nbformat_minor": 5
}
