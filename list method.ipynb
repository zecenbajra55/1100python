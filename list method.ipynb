{
 "cells": [
  {
   "cell_type": "code",
   "execution_count": null,
   "id": "6dd478d2",
   "metadata": {},
   "outputs": [],
   "source": [
    "book = ['Lord of the rings','Harry Potter','Famous Five','A-son','Game of Thrones','Meditation', 'Mahabharat','The Alchemist']"
   ]
  },
  {
   "cell_type": "code",
   "execution_count": null,
   "id": "f800aefd",
   "metadata": {},
   "outputs": [],
   "source": [
    "book"
   ]
  },
  {
   "cell_type": "code",
   "execution_count": null,
   "id": "bf0bac3b",
   "metadata": {},
   "outputs": [],
   "source": [
    "book[4]"
   ]
  },
  {
   "cell_type": "code",
   "execution_count": null,
   "id": "c2b90691",
   "metadata": {},
   "outputs": [],
   "source": [
    "book[4]='GOT'"
   ]
  },
  {
   "cell_type": "code",
   "execution_count": null,
   "id": "c0768465",
   "metadata": {},
   "outputs": [],
   "source": [
    "book"
   ]
  },
  {
   "cell_type": "code",
   "execution_count": null,
   "id": "528a9919",
   "metadata": {},
   "outputs": [],
   "source": [
    "# list is a mutable datatype"
   ]
  },
  {
   "cell_type": "code",
   "execution_count": null,
   "id": "8267307d",
   "metadata": {},
   "outputs": [],
   "source": [
    "book\n"
   ]
  },
  {
   "cell_type": "code",
   "execution_count": null,
   "id": "a867b3c3",
   "metadata": {},
   "outputs": [],
   "source": [
    "id (book\n",
    "   )"
   ]
  },
  {
   "cell_type": "code",
   "execution_count": null,
   "id": "0ed33604",
   "metadata": {},
   "outputs": [],
   "source": [
    "fruits = ['apple','banana', 'mango','orange','kiwi','mango']\n",
    "fruits[1:3]=['black current','watermelon']\n",
    "print(fruits)"
   ]
  },
  {
   "cell_type": "markdown",
   "id": "9130ad0e",
   "metadata": {},
   "source": [
    "# .insert() you can insert a list of item at a specified index, use the insert() method"
   ]
  },
  {
   "cell_type": "code",
   "execution_count": null,
   "id": "58870fc5",
   "metadata": {},
   "outputs": [],
   "source": [
    "fruits = ['apple','banana', 'mango','orange','kiwi','mango']\n",
    "fruits.insert(1,\"papaya\")\n",
    "print(fruits)"
   ]
  },
  {
   "cell_type": "code",
   "execution_count": null,
   "id": "3346296d",
   "metadata": {},
   "outputs": [],
   "source": [
    "fruits[2]"
   ]
  },
  {
   "cell_type": "code",
   "execution_count": null,
   "id": "1470e8d0",
   "metadata": {},
   "outputs": [],
   "source": [
    "fruits[1]"
   ]
  },
  {
   "cell_type": "markdown",
   "id": "9006414c",
   "metadata": {},
   "source": [
    "# you can append items on list items  -add additional items on the end of the python list using append () ,method"
   ]
  },
  {
   "cell_type": "code",
   "execution_count": null,
   "id": "9ca29b7c",
   "metadata": {},
   "outputs": [],
   "source": [
    "line =[]"
   ]
  },
  {
   "cell_type": "code",
   "execution_count": null,
   "id": "185e6ab2",
   "metadata": {},
   "outputs": [],
   "source": [
    "line.append('kshitiz')"
   ]
  },
  {
   "cell_type": "code",
   "execution_count": null,
   "id": "27a191a9",
   "metadata": {},
   "outputs": [],
   "source": [
    "line\n"
   ]
  },
  {
   "cell_type": "code",
   "execution_count": null,
   "id": "b46d2244",
   "metadata": {},
   "outputs": [],
   "source": [
    "line.append('sandesh')"
   ]
  },
  {
   "cell_type": "code",
   "execution_count": null,
   "id": "36877202",
   "metadata": {},
   "outputs": [],
   "source": []
  },
  {
   "cell_type": "code",
   "execution_count": null,
   "id": "deb51e1f",
   "metadata": {},
   "outputs": [],
   "source": [
    "line"
   ]
  },
  {
   "cell_type": "code",
   "execution_count": null,
   "id": "1bf0ebe7",
   "metadata": {},
   "outputs": [],
   "source": [
    "even =[]\n",
    "for number in range(2,25,2):\n",
    "    even.append(number)\n",
    "even"
   ]
  },
  {
   "cell_type": "code",
   "execution_count": null,
   "id": "f46aab46",
   "metadata": {},
   "outputs": [],
   "source": [
    "odd=[]\n",
    "for number in range(1,26,2):\n",
    "    odd.append(number)\n",
    "odd"
   ]
  },
  {
   "cell_type": "markdown",
   "id": "a19a30be",
   "metadata": {},
   "source": [
    "# find square of number in the given list"
   ]
  },
  {
   "cell_type": "code",
   "execution_count": 5,
   "id": "790192f1",
   "metadata": {},
   "outputs": [
    {
     "data": {
      "text/plain": [
       "[1, 9, 16, 25, 36]"
      ]
     },
     "execution_count": 5,
     "metadata": {},
     "output_type": "execute_result"
    }
   ],
   "source": [
    "data= [1,3,4,5,6]\n",
    "square=[]\n",
    "for number in range(0,len(data),1):\n",
    "    x=data[number]**2\n",
    "    square.append(x)\n",
    "square\n",
    "    "
   ]
  },
  {
   "cell_type": "markdown",
   "id": "57b5bf38",
   "metadata": {},
   "source": [
    "data= [1,3,4,5,6]\n",
    "square=[]\n",
    "for number in range(0,len(data),1):\n",
    "    x=data[number]**3\n",
    "    square.append(x)\n",
    "square\n",
    "    "
   ]
  },
  {
   "cell_type": "markdown",
   "id": "a39b815f",
   "metadata": {},
   "source": [
    "# .extend()"
   ]
  },
  {
   "cell_type": "code",
   "execution_count": 11,
   "id": "13260892",
   "metadata": {},
   "outputs": [],
   "source": [
    "l1=['dal','bhaat']\n",
    "l2=['acchar','tarkari','salad']\n"
   ]
  },
  {
   "cell_type": "code",
   "execution_count": 7,
   "id": "f396002c",
   "metadata": {},
   "outputs": [
    {
     "data": {
      "text/plain": [
       "['dal', 'bhaat', 'acchar', 'tarkari', 'salad']"
      ]
     },
     "execution_count": 7,
     "metadata": {},
     "output_type": "execute_result"
    }
   ],
   "source": [
    "l1+l2"
   ]
  },
  {
   "cell_type": "code",
   "execution_count": 8,
   "id": "db2881fd",
   "metadata": {},
   "outputs": [],
   "source": [
    "l1.extend(l2)"
   ]
  },
  {
   "cell_type": "code",
   "execution_count": 9,
   "id": "7912e11f",
   "metadata": {},
   "outputs": [
    {
     "data": {
      "text/plain": [
       "['dal', 'bhaat', 'acchar', 'tarkari', 'salad']"
      ]
     },
     "execution_count": 9,
     "metadata": {},
     "output_type": "execute_result"
    }
   ],
   "source": [
    "l1\n"
   ]
  },
  {
   "cell_type": "code",
   "execution_count": 10,
   "id": "6f40c638",
   "metadata": {},
   "outputs": [
    {
     "data": {
      "text/plain": [
       "['acchar', 'tarkari', 'salad']"
      ]
     },
     "execution_count": 10,
     "metadata": {},
     "output_type": "execute_result"
    }
   ],
   "source": [
    "l2"
   ]
  },
  {
   "cell_type": "code",
   "execution_count": 12,
   "id": "93811eeb",
   "metadata": {},
   "outputs": [],
   "source": [
    "l2.extend(l1)"
   ]
  },
  {
   "cell_type": "code",
   "execution_count": 13,
   "id": "5237ff95",
   "metadata": {},
   "outputs": [
    {
     "data": {
      "text/plain": [
       "['acchar', 'tarkari', 'salad', 'dal', 'bhaat']"
      ]
     },
     "execution_count": 13,
     "metadata": {},
     "output_type": "execute_result"
    }
   ],
   "source": [
    "l2"
   ]
  },
  {
   "cell_type": "code",
   "execution_count": 14,
   "id": "78121168",
   "metadata": {},
   "outputs": [
    {
     "data": {
      "text/plain": [
       "['dal', 'bhaat']"
      ]
     },
     "execution_count": 14,
     "metadata": {},
     "output_type": "execute_result"
    }
   ],
   "source": [
    "l1"
   ]
  },
  {
   "cell_type": "markdown",
   "id": "2a37e0d4",
   "metadata": {},
   "source": [
    "# .remove() "
   ]
  },
  {
   "cell_type": "code",
   "execution_count": 16,
   "id": "3bf6d285",
   "metadata": {},
   "outputs": [],
   "source": [
    "fruits = ['apple','banana', 'apple','mango']\n",
    "fruits.remove('apple')"
   ]
  },
  {
   "cell_type": "code",
   "execution_count": 18,
   "id": "8e4be867",
   "metadata": {},
   "outputs": [
    {
     "data": {
      "text/plain": [
       "['banana', 'apple', 'mango']"
      ]
     },
     "execution_count": 18,
     "metadata": {},
     "output_type": "execute_result"
    }
   ],
   "source": [
    "fruits #diesnt remove all duplicate items"
   ]
  },
  {
   "cell_type": "markdown",
   "id": "15152b23",
   "metadata": {},
   "source": [
    "# .pop()\n"
   ]
  },
  {
   "cell_type": "code",
   "execution_count": 20,
   "id": "bd8f6bb5",
   "metadata": {},
   "outputs": [
    {
     "data": {
      "text/plain": [
       "'mango'"
      ]
     },
     "execution_count": 20,
     "metadata": {},
     "output_type": "execute_result"
    }
   ],
   "source": [
    "# last ko item nikalxa\n",
    "fruits = ['apple','banana', 'apple','mango']\n",
    "fruits.pop()"
   ]
  },
  {
   "cell_type": "code",
   "execution_count": 21,
   "id": "c357260c",
   "metadata": {},
   "outputs": [
    {
     "data": {
      "text/plain": [
       "'apple'"
      ]
     },
     "execution_count": 21,
     "metadata": {},
     "output_type": "execute_result"
    }
   ],
   "source": [
    "fruits.pop()"
   ]
  },
  {
   "cell_type": "code",
   "execution_count": 22,
   "id": "ce675f9b",
   "metadata": {},
   "outputs": [
    {
     "data": {
      "text/plain": [
       "'banana'"
      ]
     },
     "execution_count": 22,
     "metadata": {},
     "output_type": "execute_result"
    }
   ],
   "source": [
    "fruits.pop()"
   ]
  },
  {
   "cell_type": "code",
   "execution_count": 23,
   "id": "a052b55c",
   "metadata": {},
   "outputs": [
    {
     "data": {
      "text/plain": [
       "'apple'"
      ]
     },
     "execution_count": 23,
     "metadata": {},
     "output_type": "execute_result"
    }
   ],
   "source": [
    "fruits.pop()"
   ]
  },
  {
   "cell_type": "code",
   "execution_count": 24,
   "id": "a2df64bc",
   "metadata": {},
   "outputs": [
    {
     "ename": "IndexError",
     "evalue": "pop from empty list",
     "output_type": "error",
     "traceback": [
      "\u001b[1;31m---------------------------------------------------------------------------\u001b[0m",
      "\u001b[1;31mIndexError\u001b[0m                                Traceback (most recent call last)",
      "Cell \u001b[1;32mIn[24], line 1\u001b[0m\n\u001b[1;32m----> 1\u001b[0m \u001b[43mfruits\u001b[49m\u001b[38;5;241;43m.\u001b[39;49m\u001b[43mpop\u001b[49m\u001b[43m(\u001b[49m\u001b[43m)\u001b[49m\n",
      "\u001b[1;31mIndexError\u001b[0m: pop from empty list"
     ]
    }
   ],
   "source": [
    "fruits.pop()"
   ]
  },
  {
   "cell_type": "code",
   "execution_count": 25,
   "id": "e79deddd",
   "metadata": {},
   "outputs": [],
   "source": [
    "#pop allows index"
   ]
  },
  {
   "cell_type": "code",
   "execution_count": 26,
   "id": "2f6cf4ae",
   "metadata": {},
   "outputs": [
    {
     "data": {
      "text/plain": [
       "'banana'"
      ]
     },
     "execution_count": 26,
     "metadata": {},
     "output_type": "execute_result"
    }
   ],
   "source": [
    "fruits = ['apple','banana', 'apple','mango']\n",
    "fruits.pop(1)"
   ]
  },
  {
   "cell_type": "markdown",
   "id": "26a40560",
   "metadata": {},
   "source": [
    "# sorting of list - sort() method"
   ]
  },
  {
   "cell_type": "code",
   "execution_count": 27,
   "id": "9c2f378e",
   "metadata": {},
   "outputs": [],
   "source": [
    "numbers=[0,-5,-8,3,2,1,8,9]\n"
   ]
  },
  {
   "cell_type": "code",
   "execution_count": 29,
   "id": "c6e219c7",
   "metadata": {},
   "outputs": [],
   "source": [
    "numbers.sort() #ascending order by default"
   ]
  },
  {
   "cell_type": "code",
   "execution_count": 30,
   "id": "6a3f13f8",
   "metadata": {},
   "outputs": [
    {
     "data": {
      "text/plain": [
       "[-8, -5, 0, 1, 2, 3, 8, 9]"
      ]
     },
     "execution_count": 30,
     "metadata": {},
     "output_type": "execute_result"
    }
   ],
   "source": [
    "numbers"
   ]
  },
  {
   "cell_type": "code",
   "execution_count": 32,
   "id": "c0dfe2d3",
   "metadata": {},
   "outputs": [
    {
     "data": {
      "text/plain": [
       "[9, 8, 3, 2, 1, 0, -5, -8]"
      ]
     },
     "execution_count": 32,
     "metadata": {},
     "output_type": "execute_result"
    }
   ],
   "source": [
    "numbers=[0,-5,-8,3,2,1,8,9]\n",
    "numbers.sort(reverse= True) #descending order\n",
    "numbers\n"
   ]
  },
  {
   "cell_type": "code",
   "execution_count": 33,
   "id": "26cc6bb3",
   "metadata": {},
   "outputs": [
    {
     "data": {
      "text/plain": [
       "[-8, -5, 0, 1, 2, 3, 8, 9]"
      ]
     },
     "execution_count": 33,
     "metadata": {},
     "output_type": "execute_result"
    }
   ],
   "source": [
    "numbers=[0,-5,-8,3,2,1,8,9]\n",
    "sorted_numbers=sorted(numbers) # in ascending order by default\n",
    "sorted_numbers"
   ]
  },
  {
   "cell_type": "code",
   "execution_count": 34,
   "id": "b2bb0a47",
   "metadata": {},
   "outputs": [
    {
     "data": {
      "text/plain": [
       "[0, -5, -8, 3, 2, 1, 8, 9]"
      ]
     },
     "execution_count": 34,
     "metadata": {},
     "output_type": "execute_result"
    }
   ],
   "source": [
    "numbers #numbers is not updated"
   ]
  },
  {
   "cell_type": "code",
   "execution_count": 35,
   "id": "4c0c2f50",
   "metadata": {},
   "outputs": [
    {
     "data": {
      "text/plain": [
       "[9, 8, 3, 2, 1, 0, -5, -8]"
      ]
     },
     "execution_count": 35,
     "metadata": {},
     "output_type": "execute_result"
    }
   ],
   "source": [
    "numbers=[0,-5,-8,3,2,1,8,9]\n",
    "sorted_numbers=sorted(numbers, reverse=True) # descending order\n",
    "sorted_numbers"
   ]
  },
  {
   "cell_type": "code",
   "execution_count": 38,
   "id": "59db517d",
   "metadata": {},
   "outputs": [],
   "source": [
    "numbers=[0,-5,-8,3,2,1,8,9]\n",
    "x= numbers.sort(reverse= True) #descending ox\n",
    "x # doesnt work returns null value"
   ]
  },
  {
   "cell_type": "markdown",
   "id": "ba44a188",
   "metadata": {},
   "source": [
    "# using python list as stack and queue\n",
    "https://docs.python.org/3/tutorial/datastructures.html#using-lists-as-stacks"
   ]
  },
  {
   "cell_type": "code",
   "execution_count": null,
   "id": "110d0048",
   "metadata": {},
   "outputs": [],
   "source": []
  }
 ],
 "metadata": {
  "kernelspec": {
   "display_name": "Python 3 (ipykernel)",
   "language": "python",
   "name": "python3"
  },
  "language_info": {
   "codemirror_mode": {
    "name": "ipython",
    "version": 3
   },
   "file_extension": ".py",
   "mimetype": "text/x-python",
   "name": "python",
   "nbconvert_exporter": "python",
   "pygments_lexer": "ipython3",
   "version": "3.10.11"
  }
 },
 "nbformat": 4,
 "nbformat_minor": 5
}
