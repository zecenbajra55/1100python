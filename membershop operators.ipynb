{
 "cells": [
  {
   "cell_type": "markdown",
   "id": "eb0021c9",
   "metadata": {},
   "source": [
    "# how to check if something is in the list or not ? - membership operators"
   ]
  },
  {
   "cell_type": "code",
   "execution_count": 1,
   "id": "4d5000c3",
   "metadata": {},
   "outputs": [],
   "source": [
    "neta = ['Balen Shah', 'Harka Sampang','Gyanendra Shahi','Gopi Hamal']"
   ]
  },
  {
   "cell_type": "code",
   "execution_count": 2,
   "id": "6d153b59",
   "metadata": {},
   "outputs": [
    {
     "data": {
      "text/plain": [
       "False"
      ]
     },
     "execution_count": 2,
     "metadata": {},
     "output_type": "execute_result"
    }
   ],
   "source": [
    "'Pushpa Kamal' in neta"
   ]
  },
  {
   "cell_type": "code",
   "execution_count": 3,
   "id": "e31e6538",
   "metadata": {},
   "outputs": [
    {
     "data": {
      "text/plain": [
       "True"
      ]
     },
     "execution_count": 3,
     "metadata": {},
     "output_type": "execute_result"
    }
   ],
   "source": [
    "\"Balen Shah\" in neta"
   ]
  },
  {
   "cell_type": "code",
   "execution_count": 4,
   "id": "e0cd0db8",
   "metadata": {},
   "outputs": [
    {
     "data": {
      "text/plain": [
       "False"
      ]
     },
     "execution_count": 4,
     "metadata": {},
     "output_type": "execute_result"
    }
   ],
   "source": [
    "\"kp ba\" in neta"
   ]
  },
  {
   "cell_type": "code",
   "execution_count": 5,
   "id": "e4b2668f",
   "metadata": {},
   "outputs": [],
   "source": [
    "# in and not in are membership operator in python"
   ]
  },
  {
   "cell_type": "code",
   "execution_count": 6,
   "id": "009e9c2e",
   "metadata": {},
   "outputs": [],
   "source": [
    "mayor =\" Balen Shah\""
   ]
  },
  {
   "cell_type": "code",
   "execution_count": 8,
   "id": "1c16b7b6",
   "metadata": {},
   "outputs": [
    {
     "data": {
      "text/plain": [
       "True"
      ]
     },
     "execution_count": 8,
     "metadata": {},
     "output_type": "execute_result"
    }
   ],
   "source": [
    "\"Balen\" in mayor # Balen is substring of Balen Shah"
   ]
  },
  {
   "cell_type": "code",
   "execution_count": null,
   "id": "cf9b4a00",
   "metadata": {},
   "outputs": [],
   "source": []
  }
 ],
 "metadata": {
  "kernelspec": {
   "display_name": "Python 3 (ipykernel)",
   "language": "python",
   "name": "python3"
  },
  "language_info": {
   "codemirror_mode": {
    "name": "ipython",
    "version": 3
   },
   "file_extension": ".py",
   "mimetype": "text/x-python",
   "name": "python",
   "nbconvert_exporter": "python",
   "pygments_lexer": "ipython3",
   "version": "3.10.11"
  }
 },
 "nbformat": 4,
 "nbformat_minor": 5
}
