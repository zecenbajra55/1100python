{
 "cells": [
  {
   "cell_type": "markdown",
   "id": "a50c0886",
   "metadata": {},
   "source": [
    "# what if i want to check multiple expressions ?  nesting and changing of conditionals"
   ]
  },
  {
   "cell_type": "markdown",
   "id": "4e28b51b",
   "metadata": {},
   "source": [
    "# write a program to check if the user given input is positive negative or neutral"
   ]
  },
  {
   "cell_type": "code",
   "execution_count": 2,
   "id": "92ac7c0a",
   "metadata": {},
   "outputs": [
    {
     "name": "stdout",
     "output_type": "stream",
     "text": [
      "enter a number 33\n",
      "the number is positive\n"
     ]
    }
   ],
   "source": [
    "num = int (input(\"enter a number \"))\n",
    "if num == 0:\n",
    "    print(\"the number is neutral\")\n",
    "    \n",
    "if num < 0:\n",
    "    print(\"the number is negative\")\n",
    "    \n",
    "if num > 0:\n",
    "    print(\"the number is positive\")"
   ]
  },
  {
   "cell_type": "code",
   "execution_count": 4,
   "id": "1efa328c",
   "metadata": {},
   "outputs": [
    {
     "name": "stdout",
     "output_type": "stream",
     "text": [
      "enter a number 3\n",
      "the number is positive\n"
     ]
    }
   ],
   "source": [
    "num = int (input(\"enter a number \")) # nesting of conditionals\n",
    "if num < 0:\n",
    "    print(\"the number is negative\")\n",
    "    \n",
    "else:\n",
    "    if num == 0:\n",
    "        print(\"the number is neutral\")\n",
    "        \n",
    "    else :\n",
    "        print (\"the number is positive\")"
   ]
  },
  {
   "cell_type": "code",
   "execution_count": 5,
   "id": "adfc8784",
   "metadata": {},
   "outputs": [
    {
     "name": "stdout",
     "output_type": "stream",
     "text": [
      "enter a number 44\n",
      "the number is positive\n"
     ]
    }
   ],
   "source": [
    "# chaining of conditional\n",
    "num = int (input(\"enter a number \")) # nesting of conditionals\n",
    "if num < 0:\n",
    "    print(\"the number is negative\")\n",
    "\n",
    "elif num == 0:\n",
    "    print(\"the number is neutral\")\n",
    "\n",
    "else:\n",
    "     print(\"the number is positive\")"
   ]
  },
  {
   "cell_type": "code",
   "execution_count": null,
   "id": "624e11a0",
   "metadata": {},
   "outputs": [],
   "source": []
  }
 ],
 "metadata": {
  "kernelspec": {
   "display_name": "Python 3 (ipykernel)",
   "language": "python",
   "name": "python3"
  },
  "language_info": {
   "codemirror_mode": {
    "name": "ipython",
    "version": 3
   },
   "file_extension": ".py",
   "mimetype": "text/x-python",
   "name": "python",
   "nbconvert_exporter": "python",
   "pygments_lexer": "ipython3",
   "version": "3.10.11"
  }
 },
 "nbformat": 4,
 "nbformat_minor": 5
}
