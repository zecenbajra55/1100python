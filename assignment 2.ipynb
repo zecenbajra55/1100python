{
 "cells": [
  {
   "cell_type": "markdown",
   "id": "4017c77f",
   "metadata": {},
   "source": [
    "# WAP to check whether a person is eligible for voting or not ( accept age from user)"
   ]
  },
  {
   "cell_type": "code",
   "execution_count": 1,
   "id": "2dda0f29",
   "metadata": {},
   "outputs": [
    {
     "name": "stdout",
     "output_type": "stream",
     "text": [
      "enter your age 44\n",
      "eligible to vote\n"
     ]
    }
   ],
   "source": [
    "num = int (input(\"enter your age \"))\n",
    "if num >= 18:\n",
    "    print(\"eligible to vote\")\n",
    "    \n",
    "else:\n",
    "    print(\"not eligible\")"
   ]
  },
  {
   "cell_type": "markdown",
   "id": "c1924e13",
   "metadata": {},
   "source": [
    "# WAP to check whether the last digit of a number entered by the user is divisible by 3 or not"
   ]
  },
  {
   "cell_type": "code",
   "execution_count": null,
   "id": "a5e87501",
   "metadata": {},
   "outputs": [],
   "source": [
    "num = int (input(\"enter an number \"))\n",
    "a = num % 10\n",
    "if a % 3 == 0:\n",
    "    print(\"it is divisible\")\n",
    "    \n",
    "else:\n",
    "    print(\"not divisible\")"
   ]
  },
  {
   "cell_type": "code",
   "execution_count": null,
   "id": "049d72a4",
   "metadata": {},
   "outputs": [],
   "source": []
  }
 ],
 "metadata": {
  "kernelspec": {
   "display_name": "Python 3 (ipykernel)",
   "language": "python",
   "name": "python3"
  },
  "language_info": {
   "codemirror_mode": {
    "name": "ipython",
    "version": 3
   },
   "file_extension": ".py",
   "mimetype": "text/x-python",
   "name": "python",
   "nbconvert_exporter": "python",
   "pygments_lexer": "ipython3",
   "version": "3.10.11"
  }
 },
 "nbformat": 4,
 "nbformat_minor": 5
}
