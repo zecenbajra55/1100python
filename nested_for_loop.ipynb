{
  "nbformat": 4,
  "nbformat_minor": 0,
  "metadata": {
    "colab": {
      "provenance": [],
      "authorship_tag": "ABX9TyM3A9Z7IaoL6Nj8rlMSmkAn",
      "include_colab_link": true
    },
    "kernelspec": {
      "name": "python3",
      "display_name": "Python 3"
    },
    "language_info": {
      "name": "python"
    }
  },
  "cells": [
    {
      "cell_type": "markdown",
      "metadata": {
        "id": "view-in-github",
        "colab_type": "text"
      },
      "source": [
        "<a href=\"https://colab.research.google.com/github/zecenbajra55/1100python/blob/main/nested_for_loop.ipynb\" target=\"_parent\"><img src=\"https://colab.research.google.com/assets/colab-badge.svg\" alt=\"Open In Colab\"/></a>"
      ]
    },
    {
      "cell_type": "code",
      "execution_count": null,
      "metadata": {
        "colab": {
          "base_uri": "https://localhost:8080/"
        },
        "id": "XAd_cJpsToKj",
        "outputId": "646c76e4-d18a-4a85-81ce-e69152471045"
      },
      "outputs": [
        {
          "output_type": "stream",
          "name": "stdout",
          "text": [
            "-----\n",
            "i=0\n",
            "-----\n",
            "j=0\n",
            "j=1\n",
            "j=2\n",
            "-----\n",
            "i=1\n",
            "-----\n",
            "j=0\n",
            "j=1\n",
            "j=2\n",
            "-----\n",
            "i=2\n",
            "-----\n",
            "j=0\n",
            "j=1\n",
            "j=2\n",
            "-----\n",
            "i=3\n",
            "-----\n",
            "j=0\n",
            "j=1\n",
            "j=2\n",
            "-----\n",
            "i=4\n",
            "-----\n",
            "j=0\n",
            "j=1\n",
            "j=2\n"
          ]
        }
      ],
      "source": [
        "for i in range(5):\n",
        "    print('-----')\n",
        "    print(f'i={i}')\n",
        "    print('-----')\n",
        "    for j in range(3):\n",
        "        print(f'j={j}')"
      ]
    },
    {
      "cell_type": "code",
      "source": [],
      "metadata": {
        "id": "N55vuOxiT-at"
      },
      "execution_count": null,
      "outputs": []
    }
  ]
}