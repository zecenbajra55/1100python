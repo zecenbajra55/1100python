{
 "cells": [
  {
   "cell_type": "markdown",
   "id": "6fa6f88c",
   "metadata": {},
   "source": [
    "# identify positive and negative numbers "
   ]
  },
  {
   "cell_type": "code",
   "execution_count": 2,
   "id": "cb3686a6",
   "metadata": {},
   "outputs": [
    {
     "name": "stdout",
     "output_type": "stream",
     "text": [
      "enter an number -1\n",
      "number is negative\n"
     ]
    }
   ],
   "source": [
    "num = int (input(\"enter an number \"))\n",
    "if num < 0:\n",
    "    print(\"number is negative\")\n",
    "    \n",
    "else:\n",
    "    print(\"the number is positive\")"
   ]
  },
  {
   "cell_type": "markdown",
   "id": "e687bd85",
   "metadata": {},
   "source": [
    "# write  a program to display \" hello\" if a number entered by a user is a multiple of 5 otherwise bye"
   ]
  },
  {
   "cell_type": "code",
   "execution_count": 3,
   "id": "179aebce",
   "metadata": {},
   "outputs": [
    {
     "name": "stdout",
     "output_type": "stream",
     "text": [
      "enter an number 10\n",
      "hello\n"
     ]
    }
   ],
   "source": [
    "num = int (input(\"enter an number \"))\n",
    "if num % 5 == 0:\n",
    "    print(\"hello\")\n",
    "    \n",
    "else:\n",
    "    print(\"bye\")"
   ]
  },
  {
   "cell_type": "code",
   "execution_count": null,
   "id": "029d32f1",
   "metadata": {},
   "outputs": [],
   "source": []
  }
 ],
 "metadata": {
  "kernelspec": {
   "display_name": "Python 3 (ipykernel)",
   "language": "python",
   "name": "python3"
  },
  "language_info": {
   "codemirror_mode": {
    "name": "ipython",
    "version": 3
   },
   "file_extension": ".py",
   "mimetype": "text/x-python",
   "name": "python",
   "nbconvert_exporter": "python",
   "pygments_lexer": "ipython3",
   "version": "3.10.11"
  }
 },
 "nbformat": 4,
 "nbformat_minor": 5
}
