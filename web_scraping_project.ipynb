{
  "nbformat": 4,
  "nbformat_minor": 0,
  "metadata": {
    "colab": {
      "provenance": [],
      "authorship_tag": "ABX9TyNhjFZe2fpFblGcCEMin5kv",
      "include_colab_link": true
    },
    "kernelspec": {
      "name": "python3",
      "display_name": "Python 3"
    },
    "language_info": {
      "name": "python"
    }
  },
  "cells": [
    {
      "cell_type": "markdown",
      "metadata": {
        "id": "view-in-github",
        "colab_type": "text"
      },
      "source": [
        "<a href=\"https://colab.research.google.com/github/zecenbajra55/1100python/blob/main/web_scraping_project.ipynb\" target=\"_parent\"><img src=\"https://colab.research.google.com/assets/colab-badge.svg\" alt=\"Open In Colab\"/></a>"
      ]
    },
    {
      "cell_type": "markdown",
      "source": [
        "# Scraping the population fo nepal from the given url and saving it in a .csv file"
      ],
      "metadata": {
        "id": "ZfW04KejLXrP"
      }
    },
    {
      "cell_type": "code",
      "execution_count": null,
      "metadata": {
        "id": "_9T854M2IN-R"
      },
      "outputs": [],
      "source": [
        "url='https://www.worldometers.info/world-population/nepal-population/'"
      ]
    },
    {
      "cell_type": "code",
      "source": [
        "import requests\n",
        "content = requests.get(url).content"
      ],
      "metadata": {
        "id": "s46DepI9IyDI"
      },
      "execution_count": null,
      "outputs": []
    },
    {
      "cell_type": "code",
      "source": [
        "from bs4 import BeautifulSoup\n",
        "soup= BeautifulSoup(content,'lxml')"
      ],
      "metadata": {
        "id": "-4Y2cmSqI62Q"
      },
      "execution_count": null,
      "outputs": []
    },
    {
      "cell_type": "code",
      "source": [
        "tbody = soup.find('tbody')"
      ],
      "metadata": {
        "id": "0-eX12ybJUHg"
      },
      "execution_count": null,
      "outputs": []
    },
    {
      "cell_type": "code",
      "source": [
        "row = tbody.find_all('tr')"
      ],
      "metadata": {
        "id": "TBaUa25IJhl1"
      },
      "execution_count": null,
      "outputs": []
    },
    {
      "cell_type": "code",
      "source": [
        "row[0]"
      ],
      "metadata": {
        "colab": {
          "base_uri": "https://localhost:8080/"
        },
        "id": "ola7MXcOJqhe",
        "outputId": "388cd5a5-6a9e-43dc-a884-0c81f85d0674"
      },
      "execution_count": null,
      "outputs": [
        {
          "output_type": "execute_result",
          "data": {
            "text/plain": [
              "<tr> <td>2023</td> <td><strong>30,896,590</strong></td> <td>1.14 %</td> <td>349,010</td> <td>-62,012</td> <td>24.4</td> <td>1.99</td> <td>216</td> <td>22.1 %</td> <td>6,835,484</td> <td>0.38 %</td> <td>8,045,311,447</td> <td>49</td> </tr>"
            ]
          },
          "metadata": {},
          "execution_count": 6
        }
      ]
    },
    {
      "cell_type": "code",
      "source": [
        "for tr in row:\n",
        "    td = tr.find_all('td')\n",
        "    for cell in td:\n",
        "        print(cell.text.strip())"
      ],
      "metadata": {
        "colab": {
          "base_uri": "https://localhost:8080/"
        },
        "id": "p81sOhdXJtvS",
        "outputId": "c084ac10-c73c-4640-a3a7-127ed90094d7"
      },
      "execution_count": null,
      "outputs": [
        {
          "output_type": "stream",
          "name": "stdout",
          "text": [
            "2023\n",
            "30,896,590\n",
            "1.14 %\n",
            "349,010\n",
            "-62,012\n",
            "24.4\n",
            "1.99\n",
            "216\n",
            "22.1 %\n",
            "6,835,484\n",
            "0.38 %\n",
            "8,045,311,447\n",
            "49\n",
            "2022\n",
            "30,547,580\n",
            "1.71 %\n",
            "512,591\n",
            "-62,012\n",
            "24.0\n",
            "2.01\n",
            "213\n",
            "21.7 %\n",
            "6,627,181\n",
            "0.38 %\n",
            "7,975,105,156\n",
            "49\n",
            "2020\n",
            "29,348,627\n",
            "1.79 %\n",
            "516,131\n",
            "306,664\n",
            "23.2\n",
            "2.06\n",
            "205\n",
            "21.2 %\n",
            "6,226,233\n",
            "0.37 %\n",
            "7,840,952,880\n",
            "49\n",
            "2015\n",
            "27,610,325\n",
            "0.33 %\n",
            "89,752\n",
            "-221,059\n",
            "21.5\n",
            "2.25\n",
            "193\n",
            "19.3 %\n",
            "5,317,799\n",
            "0.37 %\n",
            "7,426,597,537\n",
            "49\n",
            "2010\n",
            "27,161,567\n",
            "0.66 %\n",
            "175,291\n",
            "-293,613\n",
            "20.2\n",
            "2.51\n",
            "189\n",
            "16.7 %\n",
            "4,531,339\n",
            "0.39 %\n",
            "6,985,603,105\n",
            "46\n",
            "2005\n",
            "26,285,110\n",
            "1.37 %\n",
            "345,122\n",
            "-238,799\n",
            "19.1\n",
            "3.14\n",
            "183\n",
            "14.8 %\n",
            "3,884,136\n",
            "0.40 %\n",
            "6,558,176,119\n",
            "43\n",
            "2000\n",
            "24,559,500\n",
            "1.94 %\n",
            "450,786\n",
            "-147,403\n",
            "18.4\n",
            "3.94\n",
            "171\n",
            "13.0 %\n",
            "3,180,501\n",
            "0.40 %\n",
            "6,148,898,975\n",
            "41\n",
            "1995\n",
            "22,305,571\n",
            "2.60 %\n",
            "537,808\n",
            "-86,300\n",
            "18.2\n",
            "4.79\n",
            "156\n",
            "10.4 %\n",
            "2,328,505\n",
            "0.39 %\n",
            "5,743,219,454\n",
            "42\n",
            "1990\n",
            "19,616,530\n",
            "2.26 %\n",
            "415,192\n",
            "-650\n",
            "18.1\n",
            "5.21\n",
            "137\n",
            "8.5 %\n",
            "1,660,139\n",
            "0.37 %\n",
            "5,316,175,862\n",
            "44\n",
            "1985\n",
            "17,540,571\n",
            "2.37 %\n",
            "388,026\n",
            "-30,173\n",
            "18.3\n",
            "5.47\n",
            "122\n",
            "7.0 %\n",
            "1,235,180\n",
            "0.36 %\n",
            "4,861,730,613\n",
            "43\n",
            "1980\n",
            "15,600,442\n",
            "2.30 %\n",
            "334,980\n",
            "5,084\n",
            "18.4\n",
            "5.64\n",
            "109\n",
            "5.8 %\n",
            "907,698\n",
            "0.35 %\n",
            "4,444,007,706\n",
            "43\n",
            "1975\n",
            "13,925,541\n",
            "2.18 %\n",
            "284,851\n",
            "-6,677\n",
            "18.6\n",
            "5.75\n",
            "97\n",
            "4.6 %\n",
            "643,695\n",
            "0.34 %\n",
            "4,069,437,231\n",
            "40\n",
            "1970\n",
            "12,501,285\n",
            "2.16 %\n",
            "253,667\n",
            "1,846\n",
            "18.5\n",
            "5.88\n",
            "87\n",
            "3.8 %\n",
            "474,634\n",
            "0.34 %\n",
            "3,695,390,336\n",
            "42\n",
            "1965\n",
            "11,232,951\n",
            "2.01 %\n",
            "213,002\n",
            "-1,559\n",
            "18.5\n",
            "6.03\n",
            "78\n",
            "3.6 %\n",
            "407,893\n",
            "0.34 %\n",
            "3,337,111,983\n",
            "40\n",
            "1960\n",
            "10,167,941\n",
            "1.83 %\n",
            "176,609\n",
            "-13,235\n",
            "18.4\n",
            "6.03\n",
            "71\n",
            "3.4 %\n",
            "350,230\n",
            "0.34 %\n",
            "3,019,233,434\n",
            "41\n",
            "1955\n",
            "9,284,895\n",
            "2.03 %\n",
            "177,190\n",
            "-16,468\n",
            "18.5\n",
            "6.03\n",
            "65\n",
            "3.1 %\n",
            "283,756\n",
            "0.34 %\n",
            "2,746,072,141\n",
            "40\n"
          ]
        }
      ]
    },
    {
      "cell_type": "code",
      "source": [
        "all_data=[]\n",
        "for tr in row:\n",
        "    year=[]\n",
        "    td= tr.find_all('td')\n",
        "    for cell in td:\n",
        "        year.append(cell.text.strip())\n",
        "    all_data.append(year)"
      ],
      "metadata": {
        "id": "hxG12IcIJ8av"
      },
      "execution_count": null,
      "outputs": []
    },
    {
      "cell_type": "code",
      "source": [
        "all_data[0]"
      ],
      "metadata": {
        "colab": {
          "base_uri": "https://localhost:8080/"
        },
        "id": "E9NlN-CFKZLp",
        "outputId": "1d51b85e-4c78-484a-9d7b-1b6e33379e7d"
      },
      "execution_count": null,
      "outputs": [
        {
          "output_type": "execute_result",
          "data": {
            "text/plain": [
              "['2023',\n",
              " '30,896,590',\n",
              " '1.14 %',\n",
              " '349,010',\n",
              " '-62,012',\n",
              " '24.4',\n",
              " '1.99',\n",
              " '216',\n",
              " '22.1 %',\n",
              " '6,835,484',\n",
              " '0.38 %',\n",
              " '8,045,311,447',\n",
              " '49']"
            ]
          },
          "metadata": {},
          "execution_count": 9
        }
      ]
    },
    {
      "cell_type": "code",
      "source": [
        "columns=[item.text.strip() for item in soup.find('thead').find_all('th')]"
      ],
      "metadata": {
        "id": "A2R5sFOWKc5g"
      },
      "execution_count": null,
      "outputs": []
    },
    {
      "cell_type": "code",
      "source": [
        "columns"
      ],
      "metadata": {
        "colab": {
          "base_uri": "https://localhost:8080/"
        },
        "id": "lUS8cVbrKnxy",
        "outputId": "d0b9448d-9ca8-4a99-8a2e-fd9e05af1518"
      },
      "execution_count": null,
      "outputs": [
        {
          "output_type": "execute_result",
          "data": {
            "text/plain": [
              "['Year',\n",
              " 'Population',\n",
              " 'Yearly %  Change',\n",
              " 'Yearly Change',\n",
              " 'Migrants (net)',\n",
              " 'Median Age',\n",
              " 'Fertility Rate',\n",
              " 'Density (P/Km²)',\n",
              " 'Urban Pop %',\n",
              " 'Urban Population',\n",
              " \"Country's Share of World Pop\",\n",
              " 'World Population',\n",
              " 'NepalGlobal Rank']"
            ]
          },
          "metadata": {},
          "execution_count": 11
        }
      ]
    },
    {
      "cell_type": "code",
      "source": [
        "import pandas as pd"
      ],
      "metadata": {
        "id": "Nyvh2waRKpOB"
      },
      "execution_count": null,
      "outputs": []
    },
    {
      "cell_type": "code",
      "source": [
        "df = pd.DataFrame(all_data, columns = columns)"
      ],
      "metadata": {
        "id": "M2oqoSC5KuSw"
      },
      "execution_count": null,
      "outputs": []
    },
    {
      "cell_type": "code",
      "source": [
        "df.to_csv('population.csv',index=False)"
      ],
      "metadata": {
        "id": "8AeP6QX6K1eg"
      },
      "execution_count": null,
      "outputs": []
    },
    {
      "cell_type": "markdown",
      "source": [
        "# Reading the .csv file created and creating respective graphs"
      ],
      "metadata": {
        "id": "tRqvuB1GLz-C"
      }
    },
    {
      "cell_type": "code",
      "source": [
        "df= pd.read_csv('/content/population.csv')"
      ],
      "metadata": {
        "id": "NMQOB6qRL7FW"
      },
      "execution_count": null,
      "outputs": []
    },
    {
      "cell_type": "code",
      "source": [
        "df.shape"
      ],
      "metadata": {
        "colab": {
          "base_uri": "https://localhost:8080/"
        },
        "id": "vxaSX39AMIyu",
        "outputId": "2571271e-6578-45d1-af18-54bec763227e"
      },
      "execution_count": null,
      "outputs": [
        {
          "output_type": "execute_result",
          "data": {
            "text/plain": [
              "(16, 13)"
            ]
          },
          "metadata": {},
          "execution_count": 16
        }
      ]
    },
    {
      "cell_type": "code",
      "source": [
        "df.info()"
      ],
      "metadata": {
        "colab": {
          "base_uri": "https://localhost:8080/"
        },
        "id": "H_5DvTDdMLDf",
        "outputId": "4234c5cc-f7a6-4990-8779-82efc388a6e9"
      },
      "execution_count": null,
      "outputs": [
        {
          "output_type": "stream",
          "name": "stdout",
          "text": [
            "<class 'pandas.core.frame.DataFrame'>\n",
            "RangeIndex: 16 entries, 0 to 15\n",
            "Data columns (total 13 columns):\n",
            " #   Column                        Non-Null Count  Dtype  \n",
            "---  ------                        --------------  -----  \n",
            " 0   Year                          16 non-null     int64  \n",
            " 1   Population                    16 non-null     object \n",
            " 2   Yearly %  Change              16 non-null     object \n",
            " 3   Yearly Change                 16 non-null     object \n",
            " 4   Migrants (net)                16 non-null     object \n",
            " 5   Median Age                    16 non-null     float64\n",
            " 6   Fertility Rate                16 non-null     float64\n",
            " 7   Density (P/Km²)               16 non-null     int64  \n",
            " 8   Urban Pop %                   16 non-null     object \n",
            " 9   Urban Population              16 non-null     object \n",
            " 10  Country's Share of World Pop  16 non-null     object \n",
            " 11  World Population              16 non-null     object \n",
            " 12  NepalGlobal Rank              16 non-null     int64  \n",
            "dtypes: float64(2), int64(3), object(8)\n",
            "memory usage: 1.8+ KB\n"
          ]
        }
      ]
    },
    {
      "cell_type": "code",
      "source": [
        "df.loc[df['Year']== 2000]"
      ],
      "metadata": {
        "colab": {
          "base_uri": "https://localhost:8080/",
          "height": 81
        },
        "id": "ihSdsFlFMU33",
        "outputId": "376e32ae-ce11-4fa7-ef3b-98d65e977985"
      },
      "execution_count": null,
      "outputs": [
        {
          "output_type": "execute_result",
          "data": {
            "text/plain": [
              "   Year  Population Yearly %  Change Yearly Change Migrants (net)  Median Age  \\\n",
              "6  2000  24,559,500           1.94 %       450,786       -147,403        18.4   \n",
              "\n",
              "   Fertility Rate  Density (P/Km²) Urban Pop % Urban Population  \\\n",
              "6            3.94              171      13.0 %        3,180,501   \n",
              "\n",
              "  Country's Share of World Pop World Population  NepalGlobal Rank  \n",
              "6                       0.40 %    6,148,898,975                41  "
            ],
            "text/html": [
              "\n",
              "  <div id=\"df-a46a1af6-931e-4d81-a207-dfc1ed111196\" class=\"colab-df-container\">\n",
              "    <div>\n",
              "<style scoped>\n",
              "    .dataframe tbody tr th:only-of-type {\n",
              "        vertical-align: middle;\n",
              "    }\n",
              "\n",
              "    .dataframe tbody tr th {\n",
              "        vertical-align: top;\n",
              "    }\n",
              "\n",
              "    .dataframe thead th {\n",
              "        text-align: right;\n",
              "    }\n",
              "</style>\n",
              "<table border=\"1\" class=\"dataframe\">\n",
              "  <thead>\n",
              "    <tr style=\"text-align: right;\">\n",
              "      <th></th>\n",
              "      <th>Year</th>\n",
              "      <th>Population</th>\n",
              "      <th>Yearly %  Change</th>\n",
              "      <th>Yearly Change</th>\n",
              "      <th>Migrants (net)</th>\n",
              "      <th>Median Age</th>\n",
              "      <th>Fertility Rate</th>\n",
              "      <th>Density (P/Km²)</th>\n",
              "      <th>Urban Pop %</th>\n",
              "      <th>Urban Population</th>\n",
              "      <th>Country's Share of World Pop</th>\n",
              "      <th>World Population</th>\n",
              "      <th>NepalGlobal Rank</th>\n",
              "    </tr>\n",
              "  </thead>\n",
              "  <tbody>\n",
              "    <tr>\n",
              "      <th>6</th>\n",
              "      <td>2000</td>\n",
              "      <td>24,559,500</td>\n",
              "      <td>1.94 %</td>\n",
              "      <td>450,786</td>\n",
              "      <td>-147,403</td>\n",
              "      <td>18.4</td>\n",
              "      <td>3.94</td>\n",
              "      <td>171</td>\n",
              "      <td>13.0 %</td>\n",
              "      <td>3,180,501</td>\n",
              "      <td>0.40 %</td>\n",
              "      <td>6,148,898,975</td>\n",
              "      <td>41</td>\n",
              "    </tr>\n",
              "  </tbody>\n",
              "</table>\n",
              "</div>\n",
              "    <div class=\"colab-df-buttons\">\n",
              "\n",
              "  <div class=\"colab-df-container\">\n",
              "    <button class=\"colab-df-convert\" onclick=\"convertToInteractive('df-a46a1af6-931e-4d81-a207-dfc1ed111196')\"\n",
              "            title=\"Convert this dataframe to an interactive table.\"\n",
              "            style=\"display:none;\">\n",
              "\n",
              "  <svg xmlns=\"http://www.w3.org/2000/svg\" height=\"24px\" viewBox=\"0 -960 960 960\">\n",
              "    <path d=\"M120-120v-720h720v720H120Zm60-500h600v-160H180v160Zm220 220h160v-160H400v160Zm0 220h160v-160H400v160ZM180-400h160v-160H180v160Zm440 0h160v-160H620v160ZM180-180h160v-160H180v160Zm440 0h160v-160H620v160Z\"/>\n",
              "  </svg>\n",
              "    </button>\n",
              "\n",
              "  <style>\n",
              "    .colab-df-container {\n",
              "      display:flex;\n",
              "      gap: 12px;\n",
              "    }\n",
              "\n",
              "    .colab-df-convert {\n",
              "      background-color: #E8F0FE;\n",
              "      border: none;\n",
              "      border-radius: 50%;\n",
              "      cursor: pointer;\n",
              "      display: none;\n",
              "      fill: #1967D2;\n",
              "      height: 32px;\n",
              "      padding: 0 0 0 0;\n",
              "      width: 32px;\n",
              "    }\n",
              "\n",
              "    .colab-df-convert:hover {\n",
              "      background-color: #E2EBFA;\n",
              "      box-shadow: 0px 1px 2px rgba(60, 64, 67, 0.3), 0px 1px 3px 1px rgba(60, 64, 67, 0.15);\n",
              "      fill: #174EA6;\n",
              "    }\n",
              "\n",
              "    .colab-df-buttons div {\n",
              "      margin-bottom: 4px;\n",
              "    }\n",
              "\n",
              "    [theme=dark] .colab-df-convert {\n",
              "      background-color: #3B4455;\n",
              "      fill: #D2E3FC;\n",
              "    }\n",
              "\n",
              "    [theme=dark] .colab-df-convert:hover {\n",
              "      background-color: #434B5C;\n",
              "      box-shadow: 0px 1px 3px 1px rgba(0, 0, 0, 0.15);\n",
              "      filter: drop-shadow(0px 1px 2px rgba(0, 0, 0, 0.3));\n",
              "      fill: #FFFFFF;\n",
              "    }\n",
              "  </style>\n",
              "\n",
              "    <script>\n",
              "      const buttonEl =\n",
              "        document.querySelector('#df-a46a1af6-931e-4d81-a207-dfc1ed111196 button.colab-df-convert');\n",
              "      buttonEl.style.display =\n",
              "        google.colab.kernel.accessAllowed ? 'block' : 'none';\n",
              "\n",
              "      async function convertToInteractive(key) {\n",
              "        const element = document.querySelector('#df-a46a1af6-931e-4d81-a207-dfc1ed111196');\n",
              "        const dataTable =\n",
              "          await google.colab.kernel.invokeFunction('convertToInteractive',\n",
              "                                                    [key], {});\n",
              "        if (!dataTable) return;\n",
              "\n",
              "        const docLinkHtml = 'Like what you see? Visit the ' +\n",
              "          '<a target=\"_blank\" href=https://colab.research.google.com/notebooks/data_table.ipynb>data table notebook</a>'\n",
              "          + ' to learn more about interactive tables.';\n",
              "        element.innerHTML = '';\n",
              "        dataTable['output_type'] = 'display_data';\n",
              "        await google.colab.output.renderOutput(dataTable, element);\n",
              "        const docLink = document.createElement('div');\n",
              "        docLink.innerHTML = docLinkHtml;\n",
              "        element.appendChild(docLink);\n",
              "      }\n",
              "    </script>\n",
              "  </div>\n",
              "\n",
              "    </div>\n",
              "  </div>\n"
            ]
          },
          "metadata": {},
          "execution_count": 18
        }
      ]
    },
    {
      "cell_type": "markdown",
      "source": [
        "# Graphs"
      ],
      "metadata": {
        "id": "iD2Y6oKeMi0v"
      }
    },
    {
      "cell_type": "code",
      "source": [
        "import matplotlib.pyplot as plt"
      ],
      "metadata": {
        "id": "GLWu8CUaMfGT"
      },
      "execution_count": null,
      "outputs": []
    },
    {
      "cell_type": "code",
      "source": [
        "df ['Population']"
      ],
      "metadata": {
        "colab": {
          "base_uri": "https://localhost:8080/"
        },
        "id": "BCuC9HPTMqgE",
        "outputId": "972f2faf-e7a2-4ca2-a202-58382c67b0d9"
      },
      "execution_count": null,
      "outputs": [
        {
          "output_type": "execute_result",
          "data": {
            "text/plain": [
              "0     30,896,590\n",
              "1     30,547,580\n",
              "2     29,348,627\n",
              "3     27,610,325\n",
              "4     27,161,567\n",
              "5     26,285,110\n",
              "6     24,559,500\n",
              "7     22,305,571\n",
              "8     19,616,530\n",
              "9     17,540,571\n",
              "10    15,600,442\n",
              "11    13,925,541\n",
              "12    12,501,285\n",
              "13    11,232,951\n",
              "14    10,167,941\n",
              "15     9,284,895\n",
              "Name: Population, dtype: object"
            ]
          },
          "metadata": {},
          "execution_count": 20
        }
      ]
    },
    {
      "cell_type": "code",
      "source": [
        "plt.plot(df['Year'], df['Population'],'o-',color='green') # rough graph"
      ],
      "metadata": {
        "colab": {
          "base_uri": "https://localhost:8080/",
          "height": 447
        },
        "id": "ln4_rSCOM2qO",
        "outputId": "c3f3c088-d5c4-44aa-d2e1-d0859b86c95c"
      },
      "execution_count": null,
      "outputs": [
        {
          "output_type": "execute_result",
          "data": {
            "text/plain": [
              "[<matplotlib.lines.Line2D at 0x7bb7fc1fe830>]"
            ]
          },
          "metadata": {},
          "execution_count": 21
        },
        {
          "output_type": "display_data",
          "data": {
            "text/plain": [
              "<Figure size 640x480 with 1 Axes>"
            ],
            "image/png": "[encoded data removed]"
          },
          "metadata": {}
        }
      ]
    },
    {
      "cell_type": "code",
      "source": [
        "def str_to_int(x):\n",
        "    x=x.replace(',','')\n",
        "    return int(x)\n",
        "df ['Population']= df['Population'].apply(str_to_int)"
      ],
      "metadata": {
        "id": "VzmS_O2ONO6N"
      },
      "execution_count": null,
      "outputs": []
    },
    {
      "cell_type": "code",
      "source": [
        "df['Population']"
      ],
      "metadata": {
        "colab": {
          "base_uri": "https://localhost:8080/"
        },
        "id": "qxhAjb_vNolr",
        "outputId": "9afdc917-8fff-458d-fcc8-b5cd756a35b1"
      },
      "execution_count": null,
      "outputs": [
        {
          "output_type": "execute_result",
          "data": {
            "text/plain": [
              "0     30896590\n",
              "1     30547580\n",
              "2     29348627\n",
              "3     27610325\n",
              "4     27161567\n",
              "5     26285110\n",
              "6     24559500\n",
              "7     22305571\n",
              "8     19616530\n",
              "9     17540571\n",
              "10    15600442\n",
              "11    13925541\n",
              "12    12501285\n",
              "13    11232951\n",
              "14    10167941\n",
              "15     9284895\n",
              "Name: Population, dtype: int64"
            ]
          },
          "metadata": {},
          "execution_count": 23
        }
      ]
    },
    {
      "cell_type": "code",
      "source": [
        "df ['Population']= df['Population']/1000000"
      ],
      "metadata": {
        "id": "CwUPlszxOgMG"
      },
      "execution_count": null,
      "outputs": []
    },
    {
      "cell_type": "code",
      "source": [
        "df['Population']"
      ],
      "metadata": {
        "colab": {
          "base_uri": "https://localhost:8080/"
        },
        "id": "2ijy10SZOr6v",
        "outputId": "cd6c0e8d-0266-4417-f60a-08a03819e12d"
      },
      "execution_count": null,
      "outputs": [
        {
          "output_type": "execute_result",
          "data": {
            "text/plain": [
              "0     30.896590\n",
              "1     30.547580\n",
              "2     29.348627\n",
              "3     27.610325\n",
              "4     27.161567\n",
              "5     26.285110\n",
              "6     24.559500\n",
              "7     22.305571\n",
              "8     19.616530\n",
              "9     17.540571\n",
              "10    15.600442\n",
              "11    13.925541\n",
              "12    12.501285\n",
              "13    11.232951\n",
              "14    10.167941\n",
              "15     9.284895\n",
              "Name: Population, dtype: float64"
            ]
          },
          "metadata": {},
          "execution_count": 25
        }
      ]
    },
    {
      "cell_type": "code",
      "source": [
        "def round_off(x):\n",
        "    x=round(x)\n",
        "    return int(x)\n",
        "df ['Population']= df['Population'].apply(round_off)"
      ],
      "metadata": {
        "id": "khC06oITOvNY"
      },
      "execution_count": null,
      "outputs": []
    },
    {
      "cell_type": "code",
      "source": [
        "df['Population']"
      ],
      "metadata": {
        "colab": {
          "base_uri": "https://localhost:8080/"
        },
        "id": "WzHqlDsSP_Eo",
        "outputId": "07354559-5969-44a0-e2dc-804105845eca"
      },
      "execution_count": null,
      "outputs": [
        {
          "output_type": "execute_result",
          "data": {
            "text/plain": [
              "0     31\n",
              "1     31\n",
              "2     29\n",
              "3     28\n",
              "4     27\n",
              "5     26\n",
              "6     25\n",
              "7     22\n",
              "8     20\n",
              "9     18\n",
              "10    16\n",
              "11    14\n",
              "12    13\n",
              "13    11\n",
              "14    10\n",
              "15     9\n",
              "Name: Population, dtype: int64"
            ]
          },
          "metadata": {},
          "execution_count": 27
        }
      ]
    },
    {
      "cell_type": "code",
      "source": [
        "plt.figure(figsize=(20,10))\n",
        "plt.plot(df['Year'], df['Population'],'o-',color='green')\n",
        "plt.xlabel('year')\n",
        "plt.ylabel('population in million')\n",
        "plt.title('population of nepal in each year')\n",
        "plt.xticks(df['Year'])\n",
        "plt.show()"
      ],
      "metadata": {
        "colab": {
          "base_uri": "https://localhost:8080/",
          "height": 872
        },
        "id": "tXKsuEtZQDQY",
        "outputId": "05c0b567-b45d-4e9d-c350-5cc9d9028ea1"
      },
      "execution_count": null,
      "outputs": [
        {
          "output_type": "display_data",
          "data": {
            "text/plain": [
              "<Figure size 2000x1000 with 1 Axes>"
            ],
            "image/png": "[encoded data removed]"
          },
          "metadata": {}
        }
      ]
    },
    {
      "cell_type": "code",
      "source": [
        "df['Fertility Rate']"
      ],
      "metadata": {
        "colab": {
          "base_uri": "https://localhost:8080/"
        },
        "id": "rZ_2-iFXQjvo",
        "outputId": "3333fd2b-0582-482c-af89-267d66507695"
      },
      "execution_count": null,
      "outputs": [
        {
          "output_type": "execute_result",
          "data": {
            "text/plain": [
              "0     1.99\n",
              "1     2.01\n",
              "2     2.06\n",
              "3     2.25\n",
              "4     2.51\n",
              "5     3.14\n",
              "6     3.94\n",
              "7     4.79\n",
              "8     5.21\n",
              "9     5.47\n",
              "10    5.64\n",
              "11    5.75\n",
              "12    5.88\n",
              "13    6.03\n",
              "14    6.03\n",
              "15    6.03\n",
              "Name: Fertility Rate, dtype: float64"
            ]
          },
          "metadata": {},
          "execution_count": 29
        }
      ]
    },
    {
      "cell_type": "code",
      "source": [],
      "metadata": {
        "id": "JdhHVgOPSuFC"
      },
      "execution_count": null,
      "outputs": []
    }
  ]
}