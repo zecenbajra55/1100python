{
 "cells": [
  {
   "cell_type": "code",
   "execution_count": null,
   "id": "c7de395a",
   "metadata": {},
   "outputs": [],
   "source": [
    "input()"
   ]
  },
  {
   "cell_type": "code",
   "execution_count": 1,
   "id": "c98fe3f2",
   "metadata": {},
   "outputs": [
    {
     "name": "stdout",
     "output_type": "stream",
     "text": [
      "enter a number 4\n",
      "4\n"
     ]
    }
   ],
   "source": [
    "user_input = input(\"enter a number \")\n",
    "print(user_input)"
   ]
  },
  {
   "cell_type": "code",
   "execution_count": 2,
   "id": "56a87179",
   "metadata": {},
   "outputs": [
    {
     "name": "stdout",
     "output_type": "stream",
     "text": [
      "enter a number: a\n",
      "enter another number: a\n",
      "aa\n"
     ]
    }
   ],
   "source": [
    "num1 = input(\"enter a number: \")\n",
    "num2 = input(\"enter another number: \")\n",
    "total = num1 + num2\n",
    "print (total)"
   ]
  },
  {
   "cell_type": "code",
   "execution_count": 3,
   "id": "30a7b631",
   "metadata": {},
   "outputs": [
    {
     "name": "stdout",
     "output_type": "stream",
     "text": [
      "enter a number: 55\n"
     ]
    },
    {
     "data": {
      "text/plain": [
       "str"
      ]
     },
     "execution_count": 3,
     "metadata": {},
     "output_type": "execute_result"
    }
   ],
   "source": [
    "num1 = input(\"enter a number: \")\n",
    "type (num1)"
   ]
  },
  {
   "cell_type": "code",
   "execution_count": 4,
   "id": "78b66db5",
   "metadata": {},
   "outputs": [
    {
     "name": "stdout",
     "output_type": "stream",
     "text": [
      "enter a number: d\n"
     ]
    },
    {
     "ename": "ValueError",
     "evalue": "invalid literal for int() with base 10: 'd'",
     "output_type": "error",
     "traceback": [
      "\u001b[1;31m---------------------------------------------------------------------------\u001b[0m",
      "\u001b[1;31mValueError\u001b[0m                                Traceback (most recent call last)",
      "Cell \u001b[1;32mIn[4], line 1\u001b[0m\n\u001b[1;32m----> 1\u001b[0m num1 \u001b[38;5;241m=\u001b[39m \u001b[38;5;28;43mint\u001b[39;49m\u001b[43m(\u001b[49m\u001b[38;5;28;43minput\u001b[39;49m\u001b[43m(\u001b[49m\u001b[38;5;124;43m\"\u001b[39;49m\u001b[38;5;124;43menter a number: \u001b[39;49m\u001b[38;5;124;43m\"\u001b[39;49m\u001b[43m)\u001b[49m\u001b[43m)\u001b[49m\n\u001b[0;32m      2\u001b[0m \u001b[38;5;28mtype\u001b[39m (num1)\n",
      "\u001b[1;31mValueError\u001b[0m: invalid literal for int() with base 10: 'd'"
     ]
    }
   ],
   "source": [
    "num1 = int(input(\"enter a number: \"))\n",
    "type (num1)"
   ]
  },
  {
   "cell_type": "code",
   "execution_count": 5,
   "id": "1de9ef61",
   "metadata": {},
   "outputs": [
    {
     "name": "stdout",
     "output_type": "stream",
     "text": [
      "enter a number: 33\n"
     ]
    },
    {
     "data": {
      "text/plain": [
       "int"
      ]
     },
     "execution_count": 5,
     "metadata": {},
     "output_type": "execute_result"
    }
   ],
   "source": [
    "num1 = int(input(\"enter a number: \"))\n",
    "type (num1)"
   ]
  },
  {
   "cell_type": "code",
   "execution_count": 6,
   "id": "60cfc79d",
   "metadata": {},
   "outputs": [
    {
     "name": "stdout",
     "output_type": "stream",
     "text": [
      "enter a number: 22\n",
      "enter another number: 22\n",
      "44\n"
     ]
    }
   ],
   "source": [
    "num1 =  int(input(\"enter a number: \"))\n",
    "num2 =  int(input(\"enter another number: \")) #by default instring\n",
    "total = num1 + num2\n",
    "print (total)"
   ]
  },
  {
   "cell_type": "code",
   "execution_count": null,
   "id": "6482dd12",
   "metadata": {},
   "outputs": [],
   "source": []
  }
 ],
 "metadata": {
  "kernelspec": {
   "display_name": "Python 3 (ipykernel)",
   "language": "python",
   "name": "python3"
  },
  "language_info": {
   "codemirror_mode": {
    "name": "ipython",
    "version": 3
   },
   "file_extension": ".py",
   "mimetype": "text/x-python",
   "name": "python",
   "nbconvert_exporter": "python",
   "pygments_lexer": "ipython3",
   "version": "3.10.11"
  }
 },
 "nbformat": 4,
 "nbformat_minor": 5
}
