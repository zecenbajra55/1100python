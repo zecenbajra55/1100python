{
 "cells": [
  {
   "cell_type": "code",
   "execution_count": 1,
   "id": "07610774",
   "metadata": {},
   "outputs": [],
   "source": [
    "name=\"k$hitiz\""
   ]
  },
  {
   "cell_type": "code",
   "execution_count": 2,
   "id": "99e525bc",
   "metadata": {},
   "outputs": [
    {
     "ename": "NameError",
     "evalue": "name 's' is not defined",
     "output_type": "error",
     "traceback": [
      "\u001b[1;31m---------------------------------------------------------------------------\u001b[0m",
      "\u001b[1;31mNameError\u001b[0m                                 Traceback (most recent call last)",
      "Cell \u001b[1;32mIn[2], line 1\u001b[0m\n\u001b[1;32m----> 1\u001b[0m name[\u001b[38;5;241m1\u001b[39m]\u001b[38;5;241m=\u001b[39m\u001b[43ms\u001b[49m\n",
      "\u001b[1;31mNameError\u001b[0m: name 's' is not defined"
     ]
    }
   ],
   "source": [
    "name[1]=s"
   ]
  },
  {
   "cell_type": "code",
   "execution_count": 3,
   "id": "f64009ff",
   "metadata": {},
   "outputs": [],
   "source": [
    "# string is imutable datatype\n",
    "# immutable ma same memory location ma gayera value ubdate garna mildaina"
   ]
  },
  {
   "cell_type": "code",
   "execution_count": 4,
   "id": "e4d8488a",
   "metadata": {},
   "outputs": [
    {
     "data": {
      "text/plain": [
       "'kshitiz'"
      ]
     },
     "execution_count": 4,
     "metadata": {},
     "output_type": "execute_result"
    }
   ],
   "source": [
    "name=\"k$hitiz\"\n",
    "name.replace('$','s')"
   ]
  },
  {
   "cell_type": "code",
   "execution_count": 5,
   "id": "82b2bcc6",
   "metadata": {},
   "outputs": [
    {
     "data": {
      "text/plain": [
       "'k$hitiz'"
      ]
     },
     "execution_count": 5,
     "metadata": {},
     "output_type": "execute_result"
    }
   ],
   "source": [
    "name"
   ]
  },
  {
   "cell_type": "code",
   "execution_count": 6,
   "id": "d54da7a2",
   "metadata": {},
   "outputs": [
    {
     "data": {
      "text/plain": [
       "1895966833584"
      ]
     },
     "execution_count": 6,
     "metadata": {},
     "output_type": "execute_result"
    }
   ],
   "source": [
    "name=\"k$hitiz\"\n",
    "id(name)"
   ]
  },
  {
   "cell_type": "code",
   "execution_count": 7,
   "id": "d0a1e60f",
   "metadata": {},
   "outputs": [],
   "source": [
    "name= name.replace('$','s')"
   ]
  },
  {
   "cell_type": "code",
   "execution_count": 8,
   "id": "0f23b2a0",
   "metadata": {},
   "outputs": [
    {
     "data": {
      "text/plain": [
       "1895966826672"
      ]
     },
     "execution_count": 8,
     "metadata": {},
     "output_type": "execute_result"
    }
   ],
   "source": [
    "id(name)"
   ]
  },
  {
   "cell_type": "code",
   "execution_count": 10,
   "id": "77b79896",
   "metadata": {},
   "outputs": [
    {
     "data": {
      "text/plain": [
       "'fantastic new year'"
      ]
     },
     "execution_count": 10,
     "metadata": {},
     "output_type": "execute_result"
    }
   ],
   "source": [
    "\"Happy new year\".replace(\"Happy\",\"fantastic\")"
   ]
  },
  {
   "cell_type": "code",
   "execution_count": 11,
   "id": "88884f6c",
   "metadata": {},
   "outputs": [
    {
     "data": {
      "text/plain": [
       "'HELLO'"
      ]
     },
     "execution_count": 11,
     "metadata": {},
     "output_type": "execute_result"
    }
   ],
   "source": [
    "greet='hello'\n",
    "greet.upper()"
   ]
  },
  {
   "cell_type": "code",
   "execution_count": 12,
   "id": "bbd88c50",
   "metadata": {},
   "outputs": [
    {
     "data": {
      "text/plain": [
       "'hello'"
      ]
     },
     "execution_count": 12,
     "metadata": {},
     "output_type": "execute_result"
    }
   ],
   "source": [
    "greet.lower()"
   ]
  },
  {
   "cell_type": "code",
   "execution_count": 14,
   "id": "45b539f6",
   "metadata": {},
   "outputs": [
    {
     "data": {
      "text/plain": [
       "'H'"
      ]
     },
     "execution_count": 14,
     "metadata": {},
     "output_type": "execute_result"
    }
   ],
   "source": [
    "greet[0].upper()"
   ]
  },
  {
   "cell_type": "code",
   "execution_count": 15,
   "id": "fc5526eb",
   "metadata": {},
   "outputs": [
    {
     "data": {
      "text/plain": [
       "'Nepali Le Chance Paye Garxa'"
      ]
     },
     "execution_count": 15,
     "metadata": {},
     "output_type": "execute_result"
    }
   ],
   "source": [
    "dialogue=\"nepali le chance paye garxa\"\n",
    "dialogue.title()"
   ]
  },
  {
   "cell_type": "markdown",
   "id": "eb4aab5d",
   "metadata": {},
   "source": [
    "# .strip(), .lstrip(), .rstrip()"
   ]
  },
  {
   "cell_type": "code",
   "execution_count": 16,
   "id": "02d17c5b",
   "metadata": {},
   "outputs": [],
   "source": [
    "samachar=\"  prachanda le murra vaisi layee. \""
   ]
  },
  {
   "cell_type": "code",
   "execution_count": 17,
   "id": "0beb5058",
   "metadata": {},
   "outputs": [
    {
     "data": {
      "text/plain": [
       "'  prachanda le murra vaisi layee. '"
      ]
     },
     "execution_count": 17,
     "metadata": {},
     "output_type": "execute_result"
    }
   ],
   "source": [
    "samachar"
   ]
  },
  {
   "cell_type": "code",
   "execution_count": 18,
   "id": "b4b59dd2",
   "metadata": {},
   "outputs": [
    {
     "data": {
      "text/plain": [
       "'prachanda le murra vaisi layee. '"
      ]
     },
     "execution_count": 18,
     "metadata": {},
     "output_type": "execute_result"
    }
   ],
   "source": [
    "samachar.lstrip() #left ko space janxa"
   ]
  },
  {
   "cell_type": "code",
   "execution_count": 21,
   "id": "65689684",
   "metadata": {},
   "outputs": [
    {
     "data": {
      "text/plain": [
       "'  prachanda le murra vaisi layee.'"
      ]
     },
     "execution_count": 21,
     "metadata": {},
     "output_type": "execute_result"
    }
   ],
   "source": [
    "samachar.rstrip()  # right ko space janxa"
   ]
  },
  {
   "cell_type": "code",
   "execution_count": 20,
   "id": "9cb1b227",
   "metadata": {},
   "outputs": [
    {
     "data": {
      "text/plain": [
       "'prachanda le murra vaisi layee.'"
      ]
     },
     "execution_count": 20,
     "metadata": {},
     "output_type": "execute_result"
    }
   ],
   "source": [
    "samachar.strip() #both sides ko space janxa"
   ]
  },
  {
   "cell_type": "markdown",
   "id": "01bc832a",
   "metadata": {},
   "source": [
    "# .split()"
   ]
  },
  {
   "cell_type": "code",
   "execution_count": 22,
   "id": "f7efdab3",
   "metadata": {},
   "outputs": [],
   "source": [
    "khabar = 'neta ji lai talab kam vo tei vayera party futyo.'"
   ]
  },
  {
   "cell_type": "code",
   "execution_count": 25,
   "id": "51ac5d5b",
   "metadata": {},
   "outputs": [
    {
     "name": "stdout",
     "output_type": "stream",
     "text": [
      "['neta', 'ji', 'lai', 'talab', 'kam', 'vo', 'tei', 'vayera', 'party', 'futyo.']\n"
     ]
    }
   ],
   "source": [
    "words = khabar.split(\" \")\n",
    "print(words)"
   ]
  },
  {
   "cell_type": "code",
   "execution_count": 26,
   "id": "413cb93d",
   "metadata": {},
   "outputs": [
    {
     "data": {
      "text/plain": [
       "list"
      ]
     },
     "execution_count": 26,
     "metadata": {},
     "output_type": "execute_result"
    }
   ],
   "source": [
    "type(words)"
   ]
  },
  {
   "cell_type": "markdown",
   "id": "5caf1dd7",
   "metadata": {},
   "source": [
    "# .join()"
   ]
  },
  {
   "cell_type": "code",
   "execution_count": 30,
   "id": "ea086b56",
   "metadata": {},
   "outputs": [],
   "source": [
    "color='red-green-blue'"
   ]
  },
  {
   "cell_type": "code",
   "execution_count": 33,
   "id": "cc7c09a5",
   "metadata": {},
   "outputs": [
    {
     "data": {
      "text/plain": [
       "['red', 'green', 'blue']"
      ]
     },
     "execution_count": 33,
     "metadata": {},
     "output_type": "execute_result"
    }
   ],
   "source": [
    "color_list= color.split(\"-\")\n",
    "color_list"
   ]
  },
  {
   "cell_type": "code",
   "execution_count": 34,
   "id": "5c745372",
   "metadata": {},
   "outputs": [
    {
     "data": {
      "text/plain": [
       "'red+green+blue'"
      ]
     },
     "execution_count": 34,
     "metadata": {},
     "output_type": "execute_result"
    }
   ],
   "source": [
    "\"+\".join (color_list)"
   ]
  },
  {
   "cell_type": "code",
   "execution_count": 35,
   "id": "db423a4c",
   "metadata": {},
   "outputs": [
    {
     "data": {
      "text/plain": [
       "'red green blue'"
      ]
     },
     "execution_count": 35,
     "metadata": {},
     "output_type": "execute_result"
    }
   ],
   "source": [
    "\" \".join(color_list)"
   ]
  },
  {
   "cell_type": "code",
   "execution_count": null,
   "id": "bca00725",
   "metadata": {},
   "outputs": [],
   "source": []
  }
 ],
 "metadata": {
  "kernelspec": {
   "display_name": "Python 3 (ipykernel)",
   "language": "python",
   "name": "python3"
  },
  "language_info": {
   "codemirror_mode": {
    "name": "ipython",
    "version": 3
   },
   "file_extension": ".py",
   "mimetype": "text/x-python",
   "name": "python",
   "nbconvert_exporter": "python",
   "pygments_lexer": "ipython3",
   "version": "3.10.11"
  }
 },
 "nbformat": 4,
 "nbformat_minor": 5
}
