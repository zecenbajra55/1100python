{
 "cells": [
  {
   "cell_type": "markdown",
   "id": "83dbca49",
   "metadata": {},
   "source": [
    "# None\n",
    "* the None keyword is used to define a null value, or no value at all\n",
    "* None is not the same as 0,False or an empyty string\n",
    "* None is a datatype of its own (NoneType) only None can be None"
   ]
  },
  {
   "cell_type": "code",
   "execution_count": 5,
   "id": "5871a1bb",
   "metadata": {},
   "outputs": [],
   "source": [
    "x=None"
   ]
  },
  {
   "cell_type": "code",
   "execution_count": 6,
   "id": "16679c99",
   "metadata": {},
   "outputs": [],
   "source": [
    "x"
   ]
  },
  {
   "cell_type": "code",
   "execution_count": 7,
   "id": "93202508",
   "metadata": {},
   "outputs": [
    {
     "name": "stdout",
     "output_type": "stream",
     "text": [
      "None\n"
     ]
    }
   ],
   "source": [
    "print(x)"
   ]
  },
  {
   "cell_type": "code",
   "execution_count": 9,
   "id": "3ce1d4b7",
   "metadata": {},
   "outputs": [
    {
     "data": {
      "text/plain": [
       "NoneType"
      ]
     },
     "execution_count": 9,
     "metadata": {},
     "output_type": "execute_result"
    }
   ],
   "source": [
    "type(x)"
   ]
  },
  {
   "cell_type": "code",
   "execution_count": 10,
   "id": "28fc013a",
   "metadata": {},
   "outputs": [
    {
     "data": {
      "text/plain": [
       "False"
      ]
     },
     "execution_count": 10,
     "metadata": {},
     "output_type": "execute_result"
    }
   ],
   "source": [
    "x == 0"
   ]
  },
  {
   "cell_type": "code",
   "execution_count": 11,
   "id": "5e8ac640",
   "metadata": {},
   "outputs": [
    {
     "data": {
      "text/plain": [
       "False"
      ]
     },
     "execution_count": 11,
     "metadata": {},
     "output_type": "execute_result"
    }
   ],
   "source": [
    "x==False"
   ]
  },
  {
   "cell_type": "code",
   "execution_count": 12,
   "id": "428de988",
   "metadata": {},
   "outputs": [
    {
     "data": {
      "text/plain": [
       "False"
      ]
     },
     "execution_count": 12,
     "metadata": {},
     "output_type": "execute_result"
    }
   ],
   "source": [
    "x==''"
   ]
  },
  {
   "cell_type": "code",
   "execution_count": 13,
   "id": "199c38eb",
   "metadata": {},
   "outputs": [
    {
     "data": {
      "text/plain": [
       "5"
      ]
     },
     "execution_count": 13,
     "metadata": {},
     "output_type": "execute_result"
    }
   ],
   "source": [
    "len('hello')"
   ]
  },
  {
   "cell_type": "code",
   "execution_count": 16,
   "id": "900930f6",
   "metadata": {},
   "outputs": [
    {
     "ename": "TypeError",
     "evalue": "object of type 'NoneType' has no len()",
     "output_type": "error",
     "traceback": [
      "\u001b[1;31m---------------------------------------------------------------------------\u001b[0m",
      "\u001b[1;31mTypeError\u001b[0m                                 Traceback (most recent call last)",
      "Cell \u001b[1;32mIn[16], line 1\u001b[0m\n\u001b[1;32m----> 1\u001b[0m \u001b[38;5;28;43mlen\u001b[39;49m\u001b[43m(\u001b[49m\u001b[43mx\u001b[49m\u001b[43m)\u001b[49m\n",
      "\u001b[1;31mTypeError\u001b[0m: object of type 'NoneType' has no len()"
     ]
    }
   ],
   "source": [
    "len(x)"
   ]
  },
  {
   "cell_type": "code",
   "execution_count": 18,
   "id": "35a8db73",
   "metadata": {},
   "outputs": [
    {
     "data": {
      "text/plain": [
       "True"
      ]
     },
     "execution_count": 18,
     "metadata": {},
     "output_type": "execute_result"
    }
   ],
   "source": [
    "x==None # not preferrable way"
   ]
  },
  {
   "cell_type": "markdown",
   "id": "68e9e4cb",
   "metadata": {},
   "source": [
    "# identity operator\n",
    "* identity operators are used to compare the objects, not if they are equal, but if they are actually the same object, with the same memory location"
   ]
  },
  {
   "cell_type": "code",
   "execution_count": 19,
   "id": "bd990c97",
   "metadata": {},
   "outputs": [],
   "source": [
    "x=None"
   ]
  },
  {
   "cell_type": "code",
   "execution_count": 20,
   "id": "12044438",
   "metadata": {},
   "outputs": [
    {
     "data": {
      "text/plain": [
       "True"
      ]
     },
     "execution_count": 20,
     "metadata": {},
     "output_type": "execute_result"
    }
   ],
   "source": [
    "x is None # preferred way"
   ]
  },
  {
   "cell_type": "code",
   "execution_count": 21,
   "id": "7da2e2b4",
   "metadata": {},
   "outputs": [
    {
     "data": {
      "text/plain": [
       "False"
      ]
     },
     "execution_count": 21,
     "metadata": {},
     "output_type": "execute_result"
    }
   ],
   "source": [
    "x is float"
   ]
  },
  {
   "cell_type": "code",
   "execution_count": 22,
   "id": "6f68cb48",
   "metadata": {},
   "outputs": [
    {
     "data": {
      "text/plain": [
       "True"
      ]
     },
     "execution_count": 22,
     "metadata": {},
     "output_type": "execute_result"
    }
   ],
   "source": [
    "x is not float"
   ]
  },
  {
   "cell_type": "code",
   "execution_count": 23,
   "id": "be4cc70c",
   "metadata": {},
   "outputs": [
    {
     "data": {
      "text/plain": [
       "False"
      ]
     },
     "execution_count": 23,
     "metadata": {},
     "output_type": "execute_result"
    }
   ],
   "source": [
    "x is not None"
   ]
  },
  {
   "cell_type": "code",
   "execution_count": 25,
   "id": "dc028324",
   "metadata": {},
   "outputs": [
    {
     "name": "stderr",
     "output_type": "stream",
     "text": [
      "<>:1: SyntaxWarning: \"is\" with a literal. Did you mean \"==\"?\n",
      "<>:1: SyntaxWarning: \"is\" with a literal. Did you mean \"==\"?\n",
      "C:\\Users\\hp\\AppData\\Local\\Temp\\ipykernel_18260\\1708075380.py:1: SyntaxWarning: \"is\" with a literal. Did you mean \"==\"?\n",
      "  2 is 2 # identity operator le value compare garne haina\n"
     ]
    },
    {
     "data": {
      "text/plain": [
       "True"
      ]
     },
     "execution_count": 25,
     "metadata": {},
     "output_type": "execute_result"
    }
   ],
   "source": [
    "2 is 2 # identity operator le value compare garne haina"
   ]
  },
  {
   "cell_type": "code",
   "execution_count": 26,
   "id": "626db7b4",
   "metadata": {},
   "outputs": [
    {
     "name": "stderr",
     "output_type": "stream",
     "text": [
      "<>:1: SyntaxWarning: \"is\" with a literal. Did you mean \"==\"?\n",
      "<>:1: SyntaxWarning: \"is\" with a literal. Did you mean \"==\"?\n",
      "C:\\Users\\hp\\AppData\\Local\\Temp\\ipykernel_18260\\987255956.py:1: SyntaxWarning: \"is\" with a literal. Did you mean \"==\"?\n",
      "  \"k\" is 'k'\n"
     ]
    },
    {
     "data": {
      "text/plain": [
       "True"
      ]
     },
     "execution_count": 26,
     "metadata": {},
     "output_type": "execute_result"
    }
   ],
   "source": [
    "\"k\" is 'k'"
   ]
  },
  {
   "cell_type": "code",
   "execution_count": null,
   "id": "24f0fc51",
   "metadata": {},
   "outputs": [],
   "source": []
  }
 ],
 "metadata": {
  "kernelspec": {
   "display_name": "Python 3 (ipykernel)",
   "language": "python",
   "name": "python3"
  },
  "language_info": {
   "codemirror_mode": {
    "name": "ipython",
    "version": 3
   },
   "file_extension": ".py",
   "mimetype": "text/x-python",
   "name": "python",
   "nbconvert_exporter": "python",
   "pygments_lexer": "ipython3",
   "version": "3.10.11"
  }
 },
 "nbformat": 4,
 "nbformat_minor": 5
}
