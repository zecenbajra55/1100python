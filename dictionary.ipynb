{
 "cells": [
  {
   "cell_type": "markdown",
   "id": "3bb38bae",
   "metadata": {},
   "source": [
    "# dictionary\n",
    "* mapping datatype\n",
    "* dictionaries are used to store data values in key:value pairs\n",
    "* a dictionary is a collection which is ordered, changeable and do not allow duplicate keys\n",
    "* also written in curly bracets\n",
    "\n",
    "# syntax\n",
    "```python\n",
    "{\n",
    "    key:value\n",
    "}\n",
    "```"
   ]
  },
  {
   "cell_type": "code",
   "execution_count": 1,
   "id": "2e1f3adf",
   "metadata": {},
   "outputs": [],
   "source": [
    "# creating empty dictionary\n"
   ]
  },
  {
   "cell_type": "code",
   "execution_count": 4,
   "id": "a40a2c44",
   "metadata": {},
   "outputs": [],
   "source": [
    "about = {} # empty dictionary"
   ]
  },
  {
   "cell_type": "code",
   "execution_count": 5,
   "id": "d4fff7e4",
   "metadata": {},
   "outputs": [
    {
     "data": {
      "text/plain": [
       "dict"
      ]
     },
     "execution_count": 5,
     "metadata": {},
     "output_type": "execute_result"
    }
   ],
   "source": [
    "type(about)"
   ]
  },
  {
   "cell_type": "code",
   "execution_count": 6,
   "id": "517d2e57",
   "metadata": {},
   "outputs": [
    {
     "data": {
      "text/plain": [
       "dict"
      ]
     },
     "execution_count": 6,
     "metadata": {},
     "output_type": "execute_result"
    }
   ],
   "source": [
    "about = dict()\n",
    "type(about)"
   ]
  },
  {
   "cell_type": "markdown",
   "id": "242fc03d",
   "metadata": {},
   "source": [
    "# creating your own dictionary"
   ]
  },
  {
   "cell_type": "code",
   "execution_count": 7,
   "id": "0ec6c381",
   "metadata": {},
   "outputs": [],
   "source": [
    "# value can be of any data type\n",
    "about = {\n",
    "    \"name\": \"kshitiz\",\n",
    "    \"teaches\": ['python','data science','ai'],\n",
    "    'AGE': 26\n",
    "}"
   ]
  },
  {
   "cell_type": "code",
   "execution_count": 8,
   "id": "3c74e0f9",
   "metadata": {},
   "outputs": [
    {
     "data": {
      "text/plain": [
       "{'name': 'kshitiz', 'teaches': ['python', 'data science', 'ai'], 'AGE': 26}"
      ]
     },
     "execution_count": 8,
     "metadata": {},
     "output_type": "execute_result"
    }
   ],
   "source": [
    "about"
   ]
  },
  {
   "cell_type": "code",
   "execution_count": 9,
   "id": "26d7a57b",
   "metadata": {},
   "outputs": [
    {
     "name": "stdout",
     "output_type": "stream",
     "text": [
      "{'name': 'kshitiz', 'teaches': ['python', 'data science', 'ai'], 'AGE': 26}\n"
     ]
    }
   ],
   "source": [
    "print(about)"
   ]
  },
  {
   "cell_type": "code",
   "execution_count": 10,
   "id": "57c107b9",
   "metadata": {},
   "outputs": [],
   "source": [
    "# keys can be integer, float, string"
   ]
  },
  {
   "cell_type": "code",
   "execution_count": 11,
   "id": "753ffca3",
   "metadata": {},
   "outputs": [
    {
     "data": {
      "text/plain": [
       "{1: 'one', 2.3: 'two point three'}"
      ]
     },
     "execution_count": 11,
     "metadata": {},
     "output_type": "execute_result"
    }
   ],
   "source": [
    "{\n",
    "    1:'one',\n",
    "    2.3: \"two point three\"\n",
    "}"
   ]
  },
  {
   "cell_type": "code",
   "execution_count": 12,
   "id": "55c6a40a",
   "metadata": {},
   "outputs": [
    {
     "ename": "TypeError",
     "evalue": "unhashable type: 'list'",
     "output_type": "error",
     "traceback": [
      "\u001b[1;31m---------------------------------------------------------------------------\u001b[0m",
      "\u001b[1;31mTypeError\u001b[0m                                 Traceback (most recent call last)",
      "Cell \u001b[1;32mIn[12], line 1\u001b[0m\n\u001b[1;32m----> 1\u001b[0m {\n\u001b[0;32m      2\u001b[0m     [\u001b[38;5;124m'\u001b[39m\u001b[38;5;124mone\u001b[39m\u001b[38;5;124m'\u001b[39m]: \u001b[38;5;124m'\u001b[39m\u001b[38;5;124mone\u001b[39m\u001b[38;5;124m'\u001b[39m\n\u001b[0;32m      3\u001b[0m }\n",
      "\u001b[1;31mTypeError\u001b[0m: unhashable type: 'list'"
     ]
    }
   ],
   "source": [
    "{\n",
    "    ['one']: 'one'\n",
    "}"
   ]
  },
  {
   "cell_type": "markdown",
   "id": "f548432e",
   "metadata": {},
   "source": [
    "# accessing key's value in dictionary"
   ]
  },
  {
   "cell_type": "code",
   "execution_count": 13,
   "id": "89d2c862",
   "metadata": {},
   "outputs": [],
   "source": [
    "person = {\n",
    "    \"name\": \"kshitiz\",\n",
    "    \"teaches\": ['python','data science','ai'],\n",
    "    'AGE': 26\n",
    "}"
   ]
  },
  {
   "cell_type": "code",
   "execution_count": 14,
   "id": "701c5f35",
   "metadata": {},
   "outputs": [],
   "source": [
    "# i want to know name of person"
   ]
  },
  {
   "cell_type": "code",
   "execution_count": 15,
   "id": "1b40efcf",
   "metadata": {},
   "outputs": [
    {
     "data": {
      "text/plain": [
       "'kshitiz'"
      ]
     },
     "execution_count": 15,
     "metadata": {},
     "output_type": "execute_result"
    }
   ],
   "source": [
    "#one way\n",
    "person['name']"
   ]
  },
  {
   "cell_type": "code",
   "execution_count": 17,
   "id": "c1e35274",
   "metadata": {},
   "outputs": [
    {
     "data": {
      "text/plain": [
       "26"
      ]
     },
     "execution_count": 17,
     "metadata": {},
     "output_type": "execute_result"
    }
   ],
   "source": [
    "person['AGE']"
   ]
  },
  {
   "cell_type": "code",
   "execution_count": 18,
   "id": "999e13f8",
   "metadata": {},
   "outputs": [
    {
     "data": {
      "text/plain": [
       "'kshitiz'"
      ]
     },
     "execution_count": 18,
     "metadata": {},
     "output_type": "execute_result"
    }
   ],
   "source": [
    "# other way\n",
    "person.get('name')"
   ]
  },
  {
   "cell_type": "code",
   "execution_count": 19,
   "id": "0db03a06",
   "metadata": {},
   "outputs": [
    {
     "data": {
      "text/plain": [
       "['python', 'data science', 'ai']"
      ]
     },
     "execution_count": 19,
     "metadata": {},
     "output_type": "execute_result"
    }
   ],
   "source": [
    "person.get('teaches')"
   ]
  },
  {
   "cell_type": "markdown",
   "id": "df33c404",
   "metadata": {},
   "source": [
    "# adding a new key value pair in dictionary"
   ]
  },
  {
   "cell_type": "code",
   "execution_count": 20,
   "id": "514e0dda",
   "metadata": {},
   "outputs": [],
   "source": [
    "person = {\n",
    "    \"name\": \"kshitiz\",\n",
    "    \"teaches\": ['python','data science','ai'],\n",
    "    'AGE': 26\n",
    "}"
   ]
  },
  {
   "cell_type": "code",
   "execution_count": 21,
   "id": "63b7e955",
   "metadata": {},
   "outputs": [],
   "source": [
    "person['address']='gwarko'"
   ]
  },
  {
   "cell_type": "code",
   "execution_count": 22,
   "id": "4ca55533",
   "metadata": {},
   "outputs": [
    {
     "data": {
      "text/plain": [
       "{'name': 'kshitiz',\n",
       " 'teaches': ['python', 'data science', 'ai'],\n",
       " 'AGE': 26,\n",
       " 'address': 'gwarko'}"
      ]
     },
     "execution_count": 22,
     "metadata": {},
     "output_type": "execute_result"
    }
   ],
   "source": [
    "person\n"
   ]
  },
  {
   "cell_type": "code",
   "execution_count": 23,
   "id": "8f21e5f0",
   "metadata": {},
   "outputs": [],
   "source": [
    "# other way\n",
    "person.update({'works at':'broadway'})"
   ]
  },
  {
   "cell_type": "code",
   "execution_count": 24,
   "id": "78e94a9a",
   "metadata": {},
   "outputs": [
    {
     "data": {
      "text/plain": [
       "{'name': 'kshitiz',\n",
       " 'teaches': ['python', 'data science', 'ai'],\n",
       " 'AGE': 26,\n",
       " 'address': 'gwarko',\n",
       " 'works at': 'broadway'}"
      ]
     },
     "execution_count": 24,
     "metadata": {},
     "output_type": "execute_result"
    }
   ],
   "source": [
    "person"
   ]
  },
  {
   "cell_type": "code",
   "execution_count": 25,
   "id": "08c7c6a9",
   "metadata": {},
   "outputs": [],
   "source": [
    "person.update({'name':\"kshitiz regmi\"})"
   ]
  },
  {
   "cell_type": "code",
   "execution_count": 26,
   "id": "c7b25cda",
   "metadata": {},
   "outputs": [
    {
     "data": {
      "text/plain": [
       "{'name': 'kshitiz regmi',\n",
       " 'teaches': ['python', 'data science', 'ai'],\n",
       " 'AGE': 26,\n",
       " 'address': 'gwarko',\n",
       " 'works at': 'broadway'}"
      ]
     },
     "execution_count": 26,
     "metadata": {},
     "output_type": "execute_result"
    }
   ],
   "source": [
    "person"
   ]
  },
  {
   "cell_type": "code",
   "execution_count": 27,
   "id": "bc088d95",
   "metadata": {},
   "outputs": [],
   "source": [
    "# update le key exist gardaina vane naya key pair dictionary ma thapxa\n",
    "# if key exist garxa vane tyo value update garxa"
   ]
  },
  {
   "cell_type": "code",
   "execution_count": 33,
   "id": "7c84951c",
   "metadata": {},
   "outputs": [
    {
     "name": "stdout",
     "output_type": "stream",
     "text": [
      "enter the name of the mayor: balen\n",
      "enter the age of the mayor: 33\n",
      "enter the city of the mayor: ktm\n"
     ]
    },
    {
     "data": {
      "text/plain": [
       "{'name': 'balen', 'age': '33', 'city': 'ktm'}"
      ]
     },
     "execution_count": 33,
     "metadata": {},
     "output_type": "execute_result"
    }
   ],
   "source": [
    "a=input('enter the name of the mayor: ')\n",
    "b=input('enter the age of the mayor: ')\n",
    "c=input('enter the city of the mayor: ')\n",
    "mayor={\n",
    "    'name': a,\n",
    "    'age': b,\n",
    "    'city': c\n",
    "}\n",
    "mayor"
   ]
  },
  {
   "cell_type": "code",
   "execution_count": 38,
   "id": "2bb9636e",
   "metadata": {},
   "outputs": [
    {
     "name": "stdout",
     "output_type": "stream",
     "text": [
      "enter the name of the mayor: balen\n",
      "enter the age of the mayor: 33\n",
      "enter the city of the mayor: ktm\n",
      "before {'name': 'balen', 'age': '33', 'city': 'ktm'}\n",
      "enter the name of the mayor: harka\n",
      "enter the age of the mayor: 35\n",
      "enter the city of the mayor: dharan\n",
      "before {'name': 'harka', 'age': '35', 'city': 'dharan'}\n",
      "after loop [{'name': 'balen', 'age': '33', 'city': 'ktm'}, {'name': 'harka', 'age': '35', 'city': 'dharan'}]\n"
     ]
    }
   ],
   "source": [
    "about=list()\n",
    "for index in range(2):\n",
    "    a=input('enter the name of the mayor: ')\n",
    "    b=input('enter the age of the mayor: ')\n",
    "    c=input('enter the city of the mayor: ')\n",
    "    mayor={\n",
    "        'name': a,\n",
    "        'age': b,\n",
    "        'city': c\n",
    "    }\n",
    "    print('before',mayor)\n",
    "    about.append(mayor)\n",
    "print('after loop',about)"
   ]
  },
  {
   "cell_type": "code",
   "execution_count": 39,
   "id": "4b3eae6c",
   "metadata": {},
   "outputs": [],
   "source": [
    "name =['balen','harka']\n",
    "city=['ktm','dharan']"
   ]
  },
  {
   "cell_type": "code",
   "execution_count": 41,
   "id": "84b86b84",
   "metadata": {},
   "outputs": [
    {
     "data": {
      "text/plain": [
       "{'balen': 'ktm', 'harka': 'dharan'}"
      ]
     },
     "execution_count": 41,
     "metadata": {},
     "output_type": "execute_result"
    }
   ],
   "source": [
    "m= dict(zip(name,city))\n",
    "m"
   ]
  },
  {
   "cell_type": "code",
   "execution_count": 42,
   "id": "ca72f125",
   "metadata": {},
   "outputs": [
    {
     "data": {
      "text/plain": [
       "'ktm'"
      ]
     },
     "execution_count": 42,
     "metadata": {},
     "output_type": "execute_result"
    }
   ],
   "source": [
    "m.get('balen')"
   ]
  },
  {
   "cell_type": "markdown",
   "id": "7dd23881",
   "metadata": {},
   "source": [
    "# find keys and values in dictionary"
   ]
  },
  {
   "cell_type": "code",
   "execution_count": 43,
   "id": "76550853",
   "metadata": {},
   "outputs": [],
   "source": [
    "mayor = {\n",
    "    'balen':'ktm',\n",
    "    'harka':'dharan'\n",
    "}"
   ]
  },
  {
   "cell_type": "code",
   "execution_count": 44,
   "id": "e3f2ff46",
   "metadata": {},
   "outputs": [
    {
     "data": {
      "text/plain": [
       "dict_keys(['balen', 'harka'])"
      ]
     },
     "execution_count": 44,
     "metadata": {},
     "output_type": "execute_result"
    }
   ],
   "source": [
    "mayor.keys()"
   ]
  },
  {
   "cell_type": "code",
   "execution_count": 45,
   "id": "69025975",
   "metadata": {},
   "outputs": [
    {
     "data": {
      "text/plain": [
       "dict_values(['ktm', 'dharan'])"
      ]
     },
     "execution_count": 45,
     "metadata": {},
     "output_type": "execute_result"
    }
   ],
   "source": [
    "mayor.values()"
   ]
  },
  {
   "cell_type": "code",
   "execution_count": 46,
   "id": "fd13ec49",
   "metadata": {},
   "outputs": [
    {
     "data": {
      "text/plain": [
       "dict_items([('balen', 'ktm'), ('harka', 'dharan')])"
      ]
     },
     "execution_count": 46,
     "metadata": {},
     "output_type": "execute_result"
    }
   ],
   "source": [
    "mayor.items()"
   ]
  },
  {
   "cell_type": "code",
   "execution_count": 47,
   "id": "c5198623",
   "metadata": {},
   "outputs": [
    {
     "name": "stdout",
     "output_type": "stream",
     "text": [
      "('balen', 'ktm')\n",
      "('harka', 'dharan')\n"
     ]
    }
   ],
   "source": [
    "for item in mayor.items():\n",
    "    print(item)"
   ]
  },
  {
   "cell_type": "code",
   "execution_count": 48,
   "id": "7949c292",
   "metadata": {},
   "outputs": [],
   "source": [
    "key , val = ('balen', 'ktm') # tuple unpacking"
   ]
  },
  {
   "cell_type": "code",
   "execution_count": 49,
   "id": "e04e6b1b",
   "metadata": {},
   "outputs": [
    {
     "data": {
      "text/plain": [
       "'balen'"
      ]
     },
     "execution_count": 49,
     "metadata": {},
     "output_type": "execute_result"
    }
   ],
   "source": [
    "key"
   ]
  },
  {
   "cell_type": "code",
   "execution_count": 51,
   "id": "a34cd636",
   "metadata": {},
   "outputs": [
    {
     "data": {
      "text/plain": [
       "'ktm'"
      ]
     },
     "execution_count": 51,
     "metadata": {},
     "output_type": "execute_result"
    }
   ],
   "source": [
    "val"
   ]
  },
  {
   "cell_type": "code",
   "execution_count": 52,
   "id": "5ffc119b",
   "metadata": {},
   "outputs": [
    {
     "name": "stdout",
     "output_type": "stream",
     "text": [
      "balen is a mayor of ktm\n",
      "harka is a mayor of dharan\n"
     ]
    }
   ],
   "source": [
    "for key, val in mayor.items():\n",
    "    print(f'{key} is a mayor of {val}')"
   ]
  },
  {
   "cell_type": "code",
   "execution_count": 53,
   "id": "5991028c",
   "metadata": {},
   "outputs": [],
   "source": [
    "math = {'pi':3.1415}"
   ]
  },
  {
   "cell_type": "code",
   "execution_count": 54,
   "id": "da086b87",
   "metadata": {},
   "outputs": [
    {
     "name": "stdout",
     "output_type": "stream",
     "text": [
      "pi 8.1415\n"
     ]
    }
   ],
   "source": [
    "for key, val in math.items():\n",
    "    print (key,val+5)"
   ]
  },
  {
   "cell_type": "markdown",
   "id": "f98ec028",
   "metadata": {},
   "source": [
    "# dictionary comprehension"
   ]
  },
  {
   "cell_type": "code",
   "execution_count": 55,
   "id": "66721545",
   "metadata": {},
   "outputs": [],
   "source": [
    "# swap key and value\n",
    "data= { 1: 'one',2 :\"two\"}"
   ]
  },
  {
   "cell_type": "code",
   "execution_count": 56,
   "id": "de6223c8",
   "metadata": {},
   "outputs": [
    {
     "data": {
      "text/plain": [
       "{'one': 1, 'two': 2}"
      ]
     },
     "execution_count": 56,
     "metadata": {},
     "output_type": "execute_result"
    }
   ],
   "source": [
    "{val:key for key, val in data.items()}"
   ]
  },
  {
   "cell_type": "markdown",
   "id": "087933b5",
   "metadata": {},
   "source": [
    "# pop"
   ]
  },
  {
   "cell_type": "code",
   "execution_count": 57,
   "id": "bc95cc33",
   "metadata": {},
   "outputs": [],
   "source": [
    "person = {\n",
    "    \"name\": \"kshitiz\",\n",
    "    \"teaches\": ['python','data science','ai'],\n",
    "    'AGE': 26\n",
    "}"
   ]
  },
  {
   "cell_type": "code",
   "execution_count": 59,
   "id": "ec35d3bb",
   "metadata": {},
   "outputs": [
    {
     "data": {
      "text/plain": [
       "26"
      ]
     },
     "execution_count": 59,
     "metadata": {},
     "output_type": "execute_result"
    }
   ],
   "source": [
    "person.pop('AGE')"
   ]
  },
  {
   "cell_type": "code",
   "execution_count": 60,
   "id": "fec9dbf6",
   "metadata": {},
   "outputs": [
    {
     "data": {
      "text/plain": [
       "{'name': 'kshitiz', 'teaches': ['python', 'data science', 'ai']}"
      ]
     },
     "execution_count": 60,
     "metadata": {},
     "output_type": "execute_result"
    }
   ],
   "source": [
    "person"
   ]
  },
  {
   "cell_type": "code",
   "execution_count": 61,
   "id": "a8fa8895",
   "metadata": {},
   "outputs": [],
   "source": [
    "# duplicate values is not supported in dictionary"
   ]
  },
  {
   "cell_type": "markdown",
   "id": "22352258",
   "metadata": {},
   "source": [
    "# nested dictionary"
   ]
  },
  {
   "cell_type": "code",
   "execution_count": 62,
   "id": "2bd71c3f",
   "metadata": {},
   "outputs": [],
   "source": [
    "child={\n",
    "    \"child1\":{'name': 'sumit','age':10},\n",
    "    'child2':{'name':'champs','age':69,'gender':'non binary'}\n",
    "}"
   ]
  },
  {
   "cell_type": "code",
   "execution_count": 63,
   "id": "9f213618",
   "metadata": {},
   "outputs": [
    {
     "data": {
      "text/plain": [
       "{'child1': {'name': 'sumit', 'age': 10},\n",
       " 'child2': {'name': 'champs', 'age': 69, 'gender': 'non binary'}}"
      ]
     },
     "execution_count": 63,
     "metadata": {},
     "output_type": "execute_result"
    }
   ],
   "source": [
    "child"
   ]
  },
  {
   "cell_type": "code",
   "execution_count": 64,
   "id": "d9256d10",
   "metadata": {},
   "outputs": [
    {
     "data": {
      "text/plain": [
       "{'name': 'champs', 'age': 69, 'gender': 'non binary'}"
      ]
     },
     "execution_count": 64,
     "metadata": {},
     "output_type": "execute_result"
    }
   ],
   "source": [
    "child['child2']"
   ]
  },
  {
   "cell_type": "code",
   "execution_count": 65,
   "id": "10621938",
   "metadata": {},
   "outputs": [
    {
     "data": {
      "text/plain": [
       "'champs'"
      ]
     },
     "execution_count": 65,
     "metadata": {},
     "output_type": "execute_result"
    }
   ],
   "source": [
    "child['child2']['name']"
   ]
  },
  {
   "cell_type": "code",
   "execution_count": 66,
   "id": "ef8d3b0c",
   "metadata": {},
   "outputs": [
    {
     "ename": "KeyError",
     "evalue": "'gender'",
     "output_type": "error",
     "traceback": [
      "\u001b[1;31m---------------------------------------------------------------------------\u001b[0m",
      "\u001b[1;31mKeyError\u001b[0m                                  Traceback (most recent call last)",
      "Cell \u001b[1;32mIn[66], line 1\u001b[0m\n\u001b[1;32m----> 1\u001b[0m \u001b[43mchild\u001b[49m\u001b[43m[\u001b[49m\u001b[38;5;124;43m'\u001b[39;49m\u001b[38;5;124;43mchild1\u001b[39;49m\u001b[38;5;124;43m'\u001b[39;49m\u001b[43m]\u001b[49m\u001b[43m[\u001b[49m\u001b[38;5;124;43m'\u001b[39;49m\u001b[38;5;124;43mgender\u001b[39;49m\u001b[38;5;124;43m'\u001b[39;49m\u001b[43m]\u001b[49m\n",
      "\u001b[1;31mKeyError\u001b[0m: 'gender'"
     ]
    }
   ],
   "source": [
    "child['child1']['gender']"
   ]
  },
  {
   "cell_type": "code",
   "execution_count": 69,
   "id": "f1a9ade5",
   "metadata": {},
   "outputs": [],
   "source": [
    "gender=child['child1'].get('gender')"
   ]
  },
  {
   "cell_type": "code",
   "execution_count": 70,
   "id": "9a91df6e",
   "metadata": {},
   "outputs": [
    {
     "name": "stdout",
     "output_type": "stream",
     "text": [
      "None\n"
     ]
    }
   ],
   "source": [
    "print(gender)"
   ]
  },
  {
   "cell_type": "code",
   "execution_count": 71,
   "id": "008f8e35",
   "metadata": {},
   "outputs": [],
   "source": [
    "gender=child['child1'].get('gender',None) # None is default you can change it"
   ]
  },
  {
   "cell_type": "code",
   "execution_count": 72,
   "id": "25c271eb",
   "metadata": {},
   "outputs": [
    {
     "name": "stdout",
     "output_type": "stream",
     "text": [
      "None\n"
     ]
    }
   ],
   "source": [
    "print(gender\n",
    "     )"
   ]
  },
  {
   "cell_type": "code",
   "execution_count": 73,
   "id": "dc40f519",
   "metadata": {},
   "outputs": [],
   "source": [
    "gender=child['child1'].get('gender','not specified')"
   ]
  },
  {
   "cell_type": "code",
   "execution_count": 74,
   "id": "9a7821bd",
   "metadata": {},
   "outputs": [
    {
     "name": "stdout",
     "output_type": "stream",
     "text": [
      "not specified\n"
     ]
    }
   ],
   "source": [
    "print(gender)"
   ]
  },
  {
   "cell_type": "code",
   "execution_count": null,
   "id": "d7637e41",
   "metadata": {},
   "outputs": [],
   "source": []
  }
 ],
 "metadata": {
  "kernelspec": {
   "display_name": "Python 3 (ipykernel)",
   "language": "python",
   "name": "python3"
  },
  "language_info": {
   "codemirror_mode": {
    "name": "ipython",
    "version": 3
   },
   "file_extension": ".py",
   "mimetype": "text/x-python",
   "name": "python",
   "nbconvert_exporter": "python",
   "pygments_lexer": "ipython3",
   "version": "3.10.11"
  }
 },
 "nbformat": 4,
 "nbformat_minor": 5
}
