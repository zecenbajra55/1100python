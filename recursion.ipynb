{
 "cells": [
  {
   "cell_type": "code",
   "execution_count": null,
   "id": "77a2f8f8",
   "metadata": {},
   "outputs": [],
   "source": [
    "def test():\n",
    "    "
   ]
  },
  {
   "cell_type": "code",
   "execution_count": null,
   "id": "7b2bf6c1",
   "metadata": {},
   "outputs": [],
   "source": [
    "def test():\n",
    "    pass"
   ]
  },
  {
   "cell_type": "code",
   "execution_count": null,
   "id": "ed84833c",
   "metadata": {},
   "outputs": [],
   "source": [
    "if 10==10:\n",
    "    pass  #pass is a placeholder to write future code"
   ]
  },
  {
   "cell_type": "markdown",
   "id": "37657b0c",
   "metadata": {},
   "source": [
    "# recursion"
   ]
  },
  {
   "cell_type": "code",
   "execution_count": null,
   "id": "fcbc910a",
   "metadata": {},
   "outputs": [],
   "source": [
    "def test():\n",
    "    test()\n",
    "    "
   ]
  },
  {
   "cell_type": "code",
   "execution_count": null,
   "id": "e93e7ec7",
   "metadata": {},
   "outputs": [],
   "source": [
    "test()# crashes"
   ]
  },
  {
   "cell_type": "code",
   "execution_count": null,
   "id": "e765351b",
   "metadata": {},
   "outputs": [],
   "source": [
    "# function that calls itself"
   ]
  },
  {
   "cell_type": "markdown",
   "id": "4ece0d3e",
   "metadata": {},
   "source": [
    "# factorial\n",
    "    0! =1\n",
    "    1! =1\n",
    "    2! =2*1! =2\n",
    "    3! =3*2! =6\n",
    "    4! =4*3! =24"
   ]
  },
  {
   "cell_type": "code",
   "execution_count": null,
   "id": "caee4794",
   "metadata": {},
   "outputs": [],
   "source": [
    "def factorial(x):\n",
    "    if x<0:\n",
    "        return None\n",
    "    elif x==1 or x==0:\n",
    "        return 1\n",
    "    else:\n",
    "        return(x*factorial(x-1))"
   ]
  },
  {
   "cell_type": "code",
   "execution_count": null,
   "id": "4c3007f0",
   "metadata": {},
   "outputs": [],
   "source": [
    "factorial(6)"
   ]
  },
  {
   "cell_type": "markdown",
   "id": "de2c16f4",
   "metadata": {},
   "source": [
    "# fibonacci"
   ]
  },
  {
   "cell_type": "code",
   "execution_count": 18,
   "id": "4df4bb15",
   "metadata": {},
   "outputs": [],
   "source": [
    "def fibo(x):\n",
    "    if x < 0:\n",
    "        return None\n",
    "    elif x==1:\n",
    "        return 0\n",
    "    elif x==2 :\n",
    "        return [0,1]  \n",
    "    else:\n",
    "        seq = fibo(x - 1)\n",
    "        seq.append(seq[-1] + seq[-2])\n",
    "        return seq        \n",
    "            "
   ]
  },
  {
   "cell_type": "code",
   "execution_count": 20,
   "id": "7c3533a1",
   "metadata": {},
   "outputs": [
    {
     "data": {
      "text/plain": [
       "[0, 1, 1, 2, 3, 5, 8, 13, 21, 34]"
      ]
     },
     "execution_count": 20,
     "metadata": {},
     "output_type": "execute_result"
    }
   ],
   "source": [
    "fibo(10)"
   ]
  },
  {
   "cell_type": "markdown",
   "id": "5bc199c3",
   "metadata": {},
   "source": [
    "# write a python  program that accepts hyphen separated sequence of words as input and prints the words in a hyphen separeted sequence after sorting them alphabetically"
   ]
  },
  {
   "cell_type": "code",
   "execution_count": 1,
   "id": "0a938e0e",
   "metadata": {},
   "outputs": [],
   "source": [
    "p=\"green-red-yellow-black-white\"\n",
    "q= p.split(\"-\")"
   ]
  },
  {
   "cell_type": "code",
   "execution_count": 2,
   "id": "e0a2d2aa",
   "metadata": {},
   "outputs": [
    {
     "data": {
      "text/plain": [
       "['green', 'red', 'yellow', 'black', 'white']"
      ]
     },
     "execution_count": 2,
     "metadata": {},
     "output_type": "execute_result"
    }
   ],
   "source": [
    "q"
   ]
  },
  {
   "cell_type": "code",
   "execution_count": 3,
   "id": "ae7569c1",
   "metadata": {},
   "outputs": [],
   "source": [
    "q.sort()"
   ]
  },
  {
   "cell_type": "code",
   "execution_count": 4,
   "id": "7115d3a8",
   "metadata": {},
   "outputs": [
    {
     "data": {
      "text/plain": [
       "['black', 'green', 'red', 'white', 'yellow']"
      ]
     },
     "execution_count": 4,
     "metadata": {},
     "output_type": "execute_result"
    }
   ],
   "source": [
    "q"
   ]
  },
  {
   "cell_type": "code",
   "execution_count": 5,
   "id": "1daa9bd3",
   "metadata": {},
   "outputs": [
    {
     "data": {
      "text/plain": [
       "'black-green-red-white-yellow'"
      ]
     },
     "execution_count": 5,
     "metadata": {},
     "output_type": "execute_result"
    }
   ],
   "source": [
    "\"-\".join (q)"
   ]
  },
  {
   "cell_type": "code",
   "execution_count": 6,
   "id": "d87b0cbd",
   "metadata": {},
   "outputs": [
    {
     "name": "stdout",
     "output_type": "stream",
     "text": [
      "enter a hyphen separated string: green-red-yellow-black-white\n",
      "['black', 'green', 'red', 'white', 'yellow']\n"
     ]
    }
   ],
   "source": [
    "p=input('enter a hyphen separated string: ')\n",
    "q= p.split(\"-\")\n",
    "q.sort()\n",
    "\"-\".join (q)\n",
    "print(q)"
   ]
  },
  {
   "cell_type": "markdown",
   "id": "a8852917",
   "metadata": {},
   "source": [
    "# write a python program that accepts a string and calculates the number of upper and lower case letters"
   ]
  },
  {
   "cell_type": "code",
   "execution_count": 17,
   "id": "fc7767be",
   "metadata": {},
   "outputs": [
    {
     "name": "stdout",
     "output_type": "stream",
     "text": [
      "Uppercase count: 2\n",
      "Lowercase count: 8\n"
     ]
    }
   ],
   "source": [
    "\n",
    "def func(string):\n",
    "    upper=0\n",
    "    lower=0\n",
    "    for i in string:\n",
    "        if i.isupper():\n",
    "            upper = upper + 1 \n",
    "        elif i.islower():\n",
    "            lower = lower + 1\n",
    "    return upper,lower\n",
    "            \n",
    "input_string = \"Hello World\"\n",
    "upper, lower = func(input_string)\n",
    "\n",
    "print(\"Uppercase count:\", upper)\n",
    "print(\"Lowercase count:\", lower)"
   ]
  },
  {
   "cell_type": "code",
   "execution_count": 13,
   "id": "b4fef5ad",
   "metadata": {},
   "outputs": [
    {
     "data": {
      "text/plain": [
       "1"
      ]
     },
     "execution_count": 13,
     "metadata": {},
     "output_type": "execute_result"
    }
   ],
   "source": [
    "func(string=a)"
   ]
  },
  {
   "cell_type": "code",
   "execution_count": null,
   "id": "2aae0b8e",
   "metadata": {},
   "outputs": [],
   "source": []
  }
 ],
 "metadata": {
  "kernelspec": {
   "display_name": "Python 3 (ipykernel)",
   "language": "python",
   "name": "python3"
  },
  "language_info": {
   "codemirror_mode": {
    "name": "ipython",
    "version": 3
   },
   "file_extension": ".py",
   "mimetype": "text/x-python",
   "name": "python",
   "nbconvert_exporter": "python",
   "pygments_lexer": "ipython3",
   "version": "3.10.11"
  }
 },
 "nbformat": 4,
 "nbformat_minor": 5
}
