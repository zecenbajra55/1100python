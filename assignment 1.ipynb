{
 "cells": [
  {
   "cell_type": "markdown",
   "id": "7f500ad5",
   "metadata": {},
   "source": [
    "# Assignment algebra \n"
   ]
  },
  {
   "cell_type": "code",
   "execution_count": 2,
   "id": "b19ea150",
   "metadata": {},
   "outputs": [
    {
     "name": "stdout",
     "output_type": "stream",
     "text": [
      "10\n"
     ]
    }
   ],
   "source": [
    "a=2\n",
    "b=8\n",
    "c=a+b\n",
    "print(c)"
   ]
  },
  {
   "cell_type": "code",
   "execution_count": 3,
   "id": "5907ed92",
   "metadata": {},
   "outputs": [
    {
     "name": "stdout",
     "output_type": "stream",
     "text": [
      "-6\n"
     ]
    }
   ],
   "source": [
    "a=2\n",
    "b=8\n",
    "c=a-b\n",
    "print(c)"
   ]
  },
  {
   "cell_type": "code",
   "execution_count": 4,
   "id": "c1338241",
   "metadata": {},
   "outputs": [
    {
     "name": "stdout",
     "output_type": "stream",
     "text": [
      "0.25\n"
     ]
    }
   ],
   "source": [
    "a=2\n",
    "b=8\n",
    "c=a/b\n",
    "print(c)"
   ]
  },
  {
   "cell_type": "code",
   "execution_count": 5,
   "id": "677f352c",
   "metadata": {},
   "outputs": [
    {
     "name": "stdout",
     "output_type": "stream",
     "text": [
      "16\n"
     ]
    }
   ],
   "source": [
    "a=2\n",
    "b=8\n",
    "c=a*b\n",
    "print(c)"
   ]
  },
  {
   "cell_type": "code",
   "execution_count": 6,
   "id": "edf18f11",
   "metadata": {},
   "outputs": [
    {
     "name": "stdout",
     "output_type": "stream",
     "text": [
      "256\n"
     ]
    }
   ],
   "source": [
    "a=2\n",
    "b=8\n",
    "c=a**b\n",
    "print(c)"
   ]
  },
  {
   "cell_type": "code",
   "execution_count": 7,
   "id": "71318730",
   "metadata": {},
   "outputs": [
    {
     "name": "stdout",
     "output_type": "stream",
     "text": [
      "4\n"
     ]
    }
   ],
   "source": [
    "a=8\n",
    "b=2\n",
    "c=a//b\n",
    "print(c)"
   ]
  },
  {
   "cell_type": "markdown",
   "id": "e8717e7a",
   "metadata": {},
   "source": [
    "# WAP to swap values between two variables without using any extra variable"
   ]
  },
  {
   "cell_type": "code",
   "execution_count": 1,
   "id": "6ef81725",
   "metadata": {},
   "outputs": [
    {
     "name": "stdout",
     "output_type": "stream",
     "text": [
      "78\n",
      "60\n",
      "60\n",
      "78\n"
     ]
    }
   ],
   "source": [
    "num1 = 78\n",
    "num2 = 60\n",
    "print(num1)\n",
    "print(num2)\n",
    "num1, num2= num2,num1\n",
    "# swap\n",
    "print(num1)\n",
    "print(num2)"
   ]
  },
  {
   "cell_type": "markdown",
   "id": "26e20c4c",
   "metadata": {},
   "source": [
    "# the volume of a sphere with radius r is 4/3 pi r^3. What is the volume of sphere with radius 5"
   ]
  },
  {
   "cell_type": "code",
   "execution_count": 11,
   "id": "c17b48b1",
   "metadata": {},
   "outputs": [
    {
     "name": "stdout",
     "output_type": "stream",
     "text": [
      "enter the radius of the sphere: 5\n",
      "the volume of the sphere is  523.599 cm^3\n"
     ]
    }
   ],
   "source": [
    "import math\n",
    "pi = math.pi\n",
    "r = int(input(\"enter the radius of the sphere: \"))\n",
    "volume = (4/3)*pi*(r**3)\n",
    "print(\"the volume of the sphere is \",round(volume,3), 'cm^3') # round off to 3 numbers"
   ]
  },
  {
   "cell_type": "markdown",
   "id": "d8d77e5d",
   "metadata": {},
   "source": [
    "# how many seconds are there in 42 minutes 42 seconds?"
   ]
  },
  {
   "cell_type": "code",
   "execution_count": 7,
   "id": "3d1dba4a",
   "metadata": {},
   "outputs": [
    {
     "name": "stdout",
     "output_type": "stream",
     "text": [
      "enter the number of minutes:42\n",
      "enter the number of seconds:42\n",
      "the total number of seconds are:2562\n"
     ]
    }
   ],
   "source": [
    "Min = int(input(\"enter the number of minutes:\"))\n",
    "sec = int(input(\"enter the number of seconds:\"))\n",
    "total = Min* 60 + sec\n",
    "print(f\"the total number of seconds are:{total}\")"
   ]
  },
  {
   "cell_type": "markdown",
   "id": "49aff428",
   "metadata": {},
   "source": [
    "# how many miles are there in 10 kilometres"
   ]
  },
  {
   "cell_type": "code",
   "execution_count": 9,
   "id": "8b8e3420",
   "metadata": {},
   "outputs": [
    {
     "name": "stdout",
     "output_type": "stream",
     "text": [
      "enter the number of kilometres for conversion: 10\n",
      "there are 6.215040397762586 miles in 10km\n"
     ]
    }
   ],
   "source": [
    "km = int(input(\"enter the number of kilometres for conversion: \"))\n",
    "miles = km/1.609\n",
    "print(f\"there are {miles} miles in {km}km\")"
   ]
  },
  {
   "cell_type": "markdown",
   "id": "4bc662c0",
   "metadata": {},
   "source": [
    "# if you run a 10 km race in 42 minutes, what is your average pace (in miles for minutes and miles in second)"
   ]
  },
  {
   "cell_type": "code",
   "execution_count": 6,
   "id": "b0344669",
   "metadata": {},
   "outputs": [
    {
     "name": "stdout",
     "output_type": "stream",
     "text": [
      "enter the distance covered10\n",
      "enter the number of minutes it took:42\n",
      "enter the number of seconds it took:42\n",
      "you ran at a pace of 0.0024258549561914852 miles per second or 0.1455512973714891 miles per minute\n"
     ]
    }
   ],
   "source": [
    "km = int(input(\"enter the distance covered\"))\n",
    "miles = km/1.609\n",
    "Min = int(input(\"enter the number of minutes it took:\"))\n",
    "sec = int(input(\"enter the number of seconds it took:\"))\n",
    "total = Min* 60 + sec\n",
    "ms = miles/total\n",
    "mm = ms*60\n",
    "print(f\"you ran at a pace of {ms} miles per second or {mm} miles per minute\")\n"
   ]
  },
  {
   "cell_type": "markdown",
   "id": "a1bf5d57",
   "metadata": {},
   "source": [
    "$\\text{Volume(V) = \\frac{4}{3} \\pi r^3$"
   ]
  },
  {
   "cell_type": "code",
   "execution_count": null,
   "id": "37392ac7",
   "metadata": {},
   "outputs": [],
   "source": []
  }
 ],
 "metadata": {
  "kernelspec": {
   "display_name": "Python 3 (ipykernel)",
   "language": "python",
   "name": "python3"
  },
  "language_info": {
   "codemirror_mode": {
    "name": "ipython",
    "version": 3
   },
   "file_extension": ".py",
   "mimetype": "text/x-python",
   "name": "python",
   "nbconvert_exporter": "python",
   "pygments_lexer": "ipython3",
   "version": "3.10.11"
  }
 },
 "nbformat": 4,
 "nbformat_minor": 5
}
