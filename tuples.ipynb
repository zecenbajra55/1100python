{
 "cells": [
  {
   "cell_type": "markdown",
   "id": "fe5e2095",
   "metadata": {},
   "source": [
    "# Tuples\n",
    "* collection of item under one variable name\n",
    "* allows duplicate \n",
    "* supports multiple datatype\n",
    "* immutable\n",
    "* written in ()\n",
    "* ordered and indexed"
   ]
  },
  {
   "cell_type": "code",
   "execution_count": 1,
   "id": "fe559c61",
   "metadata": {},
   "outputs": [],
   "source": [
    "cars = ('mercedes', 'audi','porsche','lamborghini','jaguar','ferrari','tesla')"
   ]
  },
  {
   "cell_type": "code",
   "execution_count": 2,
   "id": "8602d60b",
   "metadata": {},
   "outputs": [
    {
     "data": {
      "text/plain": [
       "tuple"
      ]
     },
     "execution_count": 2,
     "metadata": {},
     "output_type": "execute_result"
    }
   ],
   "source": [
    "type(cars)"
   ]
  },
  {
   "cell_type": "code",
   "execution_count": 3,
   "id": "eba0aaff",
   "metadata": {},
   "outputs": [
    {
     "data": {
      "text/plain": [
       "'audi'"
      ]
     },
     "execution_count": 3,
     "metadata": {},
     "output_type": "execute_result"
    }
   ],
   "source": [
    "cars[1]"
   ]
  },
  {
   "cell_type": "code",
   "execution_count": 4,
   "id": "0e8db951",
   "metadata": {},
   "outputs": [
    {
     "data": {
      "text/plain": [
       "'mercedes'"
      ]
     },
     "execution_count": 4,
     "metadata": {},
     "output_type": "execute_result"
    }
   ],
   "source": [
    "cars[0]"
   ]
  },
  {
   "cell_type": "code",
   "execution_count": 5,
   "id": "f61b8c9d",
   "metadata": {},
   "outputs": [
    {
     "data": {
      "text/plain": [
       "'ferrari'"
      ]
     },
     "execution_count": 5,
     "metadata": {},
     "output_type": "execute_result"
    }
   ],
   "source": [
    "cars[-2]"
   ]
  },
  {
   "cell_type": "code",
   "execution_count": 6,
   "id": "fd345bc7",
   "metadata": {},
   "outputs": [
    {
     "data": {
      "text/plain": [
       "('audi', 'porsche')"
      ]
     },
     "execution_count": 6,
     "metadata": {},
     "output_type": "execute_result"
    }
   ],
   "source": [
    "cars[1:3]"
   ]
  },
  {
   "cell_type": "code",
   "execution_count": 7,
   "id": "f481bd61",
   "metadata": {},
   "outputs": [
    {
     "data": {
      "text/plain": [
       "('porsche', 'lamborghini', 'jaguar')"
      ]
     },
     "execution_count": 7,
     "metadata": {},
     "output_type": "execute_result"
    }
   ],
   "source": [
    "cars[2:5]"
   ]
  },
  {
   "cell_type": "markdown",
   "id": "b482af7c",
   "metadata": {},
   "source": [
    "# python tuples are immutable"
   ]
  },
  {
   "cell_type": "code",
   "execution_count": 8,
   "id": "78876105",
   "metadata": {},
   "outputs": [
    {
     "data": {
      "text/plain": [
       "('mercedes', 'audi', 'porsche', 'lamborghini', 'jaguar', 'ferrari', 'tesla')"
      ]
     },
     "execution_count": 8,
     "metadata": {},
     "output_type": "execute_result"
    }
   ],
   "source": [
    "cars\n"
   ]
  },
  {
   "cell_type": "code",
   "execution_count": 9,
   "id": "2978d6cc",
   "metadata": {},
   "outputs": [
    {
     "data": {
      "text/plain": [
       "'tesla'"
      ]
     },
     "execution_count": 9,
     "metadata": {},
     "output_type": "execute_result"
    }
   ],
   "source": [
    "cars[6]"
   ]
  },
  {
   "cell_type": "code",
   "execution_count": 10,
   "id": "4d005afc",
   "metadata": {},
   "outputs": [
    {
     "ename": "TypeError",
     "evalue": "'tuple' object does not support item assignment",
     "output_type": "error",
     "traceback": [
      "\u001b[1;31m---------------------------------------------------------------------------\u001b[0m",
      "\u001b[1;31mTypeError\u001b[0m                                 Traceback (most recent call last)",
      "Cell \u001b[1;32mIn[10], line 1\u001b[0m\n\u001b[1;32m----> 1\u001b[0m \u001b[43mcars\u001b[49m\u001b[43m[\u001b[49m\u001b[38;5;241;43m3\u001b[39;49m\u001b[43m]\u001b[49m\u001b[38;5;241m=\u001b[39m\u001b[38;5;124m'\u001b[39m\u001b[38;5;124mbentley\u001b[39m\u001b[38;5;124m'\u001b[39m\n",
      "\u001b[1;31mTypeError\u001b[0m: 'tuple' object does not support item assignment"
     ]
    }
   ],
   "source": [
    "cars[3]='bentley'"
   ]
  },
  {
   "cell_type": "code",
   "execution_count": 11,
   "id": "a788cd5e",
   "metadata": {},
   "outputs": [],
   "source": [
    "# it is the difference between list and tuples \n"
   ]
  },
  {
   "cell_type": "code",
   "execution_count": 13,
   "id": "4f7bfab0",
   "metadata": {},
   "outputs": [],
   "source": [
    "l1 = ['mercedes', 'audi','porsche','lamborghini','jaguar','ferrari','tesla']"
   ]
  },
  {
   "cell_type": "code",
   "execution_count": 14,
   "id": "2a549bf4",
   "metadata": {},
   "outputs": [
    {
     "data": {
      "text/plain": [
       "'tesla'"
      ]
     },
     "execution_count": 14,
     "metadata": {},
     "output_type": "execute_result"
    }
   ],
   "source": [
    "l1[6]"
   ]
  },
  {
   "cell_type": "code",
   "execution_count": 15,
   "id": "327e8897",
   "metadata": {},
   "outputs": [],
   "source": [
    "l1[6]='bentley'"
   ]
  },
  {
   "cell_type": "code",
   "execution_count": 16,
   "id": "1ab4e2c2",
   "metadata": {},
   "outputs": [
    {
     "data": {
      "text/plain": [
       "['mercedes', 'audi', 'porsche', 'lamborghini', 'jaguar', 'ferrari', 'bentley']"
      ]
     },
     "execution_count": 16,
     "metadata": {},
     "output_type": "execute_result"
    }
   ],
   "source": [
    "l1"
   ]
  },
  {
   "cell_type": "markdown",
   "id": "6c571861",
   "metadata": {},
   "source": [
    "# we cannot change , add or remove items after the tuple has been created but type conversion to list can make it happen"
   ]
  },
  {
   "cell_type": "code",
   "execution_count": 17,
   "id": "3f2964ee",
   "metadata": {},
   "outputs": [],
   "source": [
    "cars = ('mercedes', 'audi','porsche','lamborghini','jaguar','ferrari','tesla')"
   ]
  },
  {
   "cell_type": "code",
   "execution_count": 19,
   "id": "a568646f",
   "metadata": {},
   "outputs": [
    {
     "data": {
      "text/plain": [
       "['mercedes', 'audi', 'porsche', 'lamborghini', 'jaguar', 'ferrari', 'tesla']"
      ]
     },
     "execution_count": 19,
     "metadata": {},
     "output_type": "execute_result"
    }
   ],
   "source": [
    "car=list(cars)\n",
    "car\n"
   ]
  },
  {
   "cell_type": "code",
   "execution_count": 21,
   "id": "9f7d15bb",
   "metadata": {},
   "outputs": [],
   "source": [
    "car.append('rolls royce')"
   ]
  },
  {
   "cell_type": "markdown",
   "id": "d766ad34",
   "metadata": {},
   "source": []
  },
  {
   "cell_type": "code",
   "execution_count": 22,
   "id": "32a62b64",
   "metadata": {},
   "outputs": [],
   "source": [
    "car=tuple(car)"
   ]
  },
  {
   "cell_type": "code",
   "execution_count": 23,
   "id": "e01e3db1",
   "metadata": {},
   "outputs": [
    {
     "data": {
      "text/plain": [
       "('mercedes',\n",
       " 'audi',\n",
       " 'porsche',\n",
       " 'lamborghini',\n",
       " 'jaguar',\n",
       " 'ferrari',\n",
       " 'tesla',\n",
       " 'rolls royce')"
      ]
     },
     "execution_count": 23,
     "metadata": {},
     "output_type": "execute_result"
    }
   ],
   "source": [
    "car"
   ]
  },
  {
   "cell_type": "code",
   "execution_count": 28,
   "id": "e7b13e0f",
   "metadata": {},
   "outputs": [
    {
     "name": "stdout",
     "output_type": "stream",
     "text": [
      "28\n"
     ]
    },
    {
     "data": {
      "text/plain": [
       "4.0"
      ]
     },
     "execution_count": 28,
     "metadata": {},
     "output_type": "execute_result"
    }
   ],
   "source": [
    "nums = (3,2,1,7,6,9,0)\n",
    "su=0\n",
    "num=list(nums)\n",
    "for index in range (0,len(num)):\n",
    "    su=su+num[index]\n",
    "    \n",
    "print(su)\n",
    "mean=su/len(num)\n",
    "mean"
   ]
  },
  {
   "cell_type": "code",
   "execution_count": 29,
   "id": "4c38515b",
   "metadata": {},
   "outputs": [],
   "source": [
    "t1=('ram',5,True,6.3,[99,8])"
   ]
  },
  {
   "cell_type": "code",
   "execution_count": 30,
   "id": "402187a8",
   "metadata": {},
   "outputs": [
    {
     "data": {
      "text/plain": [
       "('ram', 5, True, 6.3, [99, 8])"
      ]
     },
     "execution_count": 30,
     "metadata": {},
     "output_type": "execute_result"
    }
   ],
   "source": [
    "t1"
   ]
  },
  {
   "cell_type": "code",
   "execution_count": 32,
   "id": "099b13b2",
   "metadata": {},
   "outputs": [
    {
     "data": {
      "text/plain": [
       "99"
      ]
     },
     "execution_count": 32,
     "metadata": {},
     "output_type": "execute_result"
    }
   ],
   "source": [
    "t1[4][0]"
   ]
  },
  {
   "cell_type": "code",
   "execution_count": 33,
   "id": "2fd60e41",
   "metadata": {},
   "outputs": [],
   "source": [
    "#tuples for readonly data"
   ]
  },
  {
   "cell_type": "code",
   "execution_count": null,
   "id": "bab66bea",
   "metadata": {},
   "outputs": [],
   "source": []
  }
 ],
 "metadata": {
  "kernelspec": {
   "display_name": "Python 3 (ipykernel)",
   "language": "python",
   "name": "python3"
  },
  "language_info": {
   "codemirror_mode": {
    "name": "ipython",
    "version": 3
   },
   "file_extension": ".py",
   "mimetype": "text/x-python",
   "name": "python",
   "nbconvert_exporter": "python",
   "pygments_lexer": "ipython3",
   "version": "3.10.11"
  }
 },
 "nbformat": 4,
 "nbformat_minor": 5
}
