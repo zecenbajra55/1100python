{
 "cells": [
  {
   "cell_type": "markdown",
   "id": "7e6c3db1",
   "metadata": {},
   "source": [
    "# function syntax\n",
    "```python\n",
    "\n",
    "def function_name(argument/parameters):\n",
    "    #function body\n",
    "    return Expression\n",
    "\n",
    "\n",
    "```"
   ]
  },
  {
   "cell_type": "code",
   "execution_count": null,
   "id": "6521fa4a",
   "metadata": {},
   "outputs": [],
   "source": [
    "a= 5\n",
    "b=2\n",
    "c=a+b\n",
    "print(c)"
   ]
  },
  {
   "cell_type": "code",
   "execution_count": null,
   "id": "f283debe",
   "metadata": {},
   "outputs": [],
   "source": [
    "def add():\n",
    "    a=5\n",
    "    b=2\n",
    "    c=a+b\n",
    "    print(c)"
   ]
  },
  {
   "cell_type": "code",
   "execution_count": null,
   "id": "801da01b",
   "metadata": {},
   "outputs": [],
   "source": [
    "add()"
   ]
  },
  {
   "cell_type": "code",
   "execution_count": 5,
   "id": "9fd42372",
   "metadata": {},
   "outputs": [],
   "source": [
    "def add(a,b):\n",
    "    c=a+b\n",
    "    print(c)"
   ]
  },
  {
   "cell_type": "code",
   "execution_count": 6,
   "id": "badce055",
   "metadata": {},
   "outputs": [
    {
     "name": "stdout",
     "output_type": "stream",
     "text": [
      "7\n"
     ]
    }
   ],
   "source": [
    "add(5,2)"
   ]
  },
  {
   "cell_type": "code",
   "execution_count": 7,
   "id": "fcb489c0",
   "metadata": {},
   "outputs": [
    {
     "name": "stdout",
     "output_type": "stream",
     "text": [
      "7\n"
     ]
    }
   ],
   "source": [
    "add(a=5,b=2) #preferred way"
   ]
  },
  {
   "cell_type": "code",
   "execution_count": 8,
   "id": "2ca4e2c4",
   "metadata": {},
   "outputs": [
    {
     "name": "stdout",
     "output_type": "stream",
     "text": [
      "-80\n"
     ]
    }
   ],
   "source": [
    "add(a=9,b=-89)"
   ]
  },
  {
   "cell_type": "code",
   "execution_count": 9,
   "id": "e2146be9",
   "metadata": {},
   "outputs": [
    {
     "name": "stdout",
     "output_type": "stream",
     "text": [
      "enter a number 2\n",
      "enter another number 2\n"
     ]
    }
   ],
   "source": [
    "def mul(a,b):\n",
    "    c=a*b\n",
    "    print(c)\n",
    "    \n",
    "x=int(input('enter a number '))\n",
    "y=int(input('enter another number '))\n"
   ]
  },
  {
   "cell_type": "code",
   "execution_count": 10,
   "id": "0da1ae0d",
   "metadata": {},
   "outputs": [
    {
     "name": "stdout",
     "output_type": "stream",
     "text": [
      "4\n"
     ]
    }
   ],
   "source": [
    "mul(a=x,b=y)\n"
   ]
  },
  {
   "cell_type": "code",
   "execution_count": 11,
   "id": "3253eef3",
   "metadata": {},
   "outputs": [
    {
     "ename": "NameError",
     "evalue": "name 'c' is not defined",
     "output_type": "error",
     "traceback": [
      "\u001b[1;31m---------------------------------------------------------------------------\u001b[0m",
      "\u001b[1;31mNameError\u001b[0m                                 Traceback (most recent call last)",
      "Cell \u001b[1;32mIn[11], line 1\u001b[0m\n\u001b[1;32m----> 1\u001b[0m \u001b[38;5;28mprint\u001b[39m(\u001b[43mc\u001b[49m)\n",
      "\u001b[1;31mNameError\u001b[0m: name 'c' is not defined"
     ]
    }
   ],
   "source": [
    "print(c)"
   ]
  },
  {
   "cell_type": "markdown",
   "id": "e0f94e9c",
   "metadata": {},
   "source": [
    "# returning values in function\n"
   ]
  },
  {
   "cell_type": "code",
   "execution_count": 12,
   "id": "53b6eef7",
   "metadata": {},
   "outputs": [],
   "source": [
    "def mul (num1,num2):\n",
    "    product = num1*num2\n",
    "    return product"
   ]
  },
  {
   "cell_type": "code",
   "execution_count": 13,
   "id": "4b18e220",
   "metadata": {},
   "outputs": [
    {
     "name": "stdout",
     "output_type": "stream",
     "text": [
      "enter a number 2\n",
      "enter another number 2\n"
     ]
    }
   ],
   "source": [
    "x=float(input('enter a number '))\n",
    "y=float(input('enter another number '))\n"
   ]
  },
  {
   "cell_type": "code",
   "execution_count": 14,
   "id": "579015f3",
   "metadata": {},
   "outputs": [
    {
     "name": "stdout",
     "output_type": "stream",
     "text": [
      "4.0\n"
     ]
    }
   ],
   "source": [
    "output= mul (num1=x,num2=y)\n",
    "print(output)"
   ]
  },
  {
   "cell_type": "code",
   "execution_count": 15,
   "id": "9f75c217",
   "metadata": {},
   "outputs": [],
   "source": [
    "def sq(num):\n",
    "    return num**2"
   ]
  },
  {
   "cell_type": "code",
   "execution_count": 16,
   "id": "c877a942",
   "metadata": {},
   "outputs": [],
   "source": [
    "square= sq(num=output)"
   ]
  },
  {
   "cell_type": "code",
   "execution_count": 17,
   "id": "0c1e275a",
   "metadata": {},
   "outputs": [
    {
     "name": "stdout",
     "output_type": "stream",
     "text": [
      "the square of output 4.0 is 16.0\n"
     ]
    }
   ],
   "source": [
    "print(f\"the square of output {output} is {square}\")"
   ]
  },
  {
   "cell_type": "markdown",
   "id": "998a0ee6",
   "metadata": {},
   "source": [
    "# default argument vs non default argument"
   ]
  },
  {
   "cell_type": "code",
   "execution_count": 18,
   "id": "8f61168f",
   "metadata": {},
   "outputs": [],
   "source": [
    "def greet(name, msg):\n",
    "    print(f\"hi {name},{msg}\")"
   ]
  },
  {
   "cell_type": "code",
   "execution_count": 21,
   "id": "a7872d6b",
   "metadata": {},
   "outputs": [
    {
     "name": "stdout",
     "output_type": "stream",
     "text": [
      "hi me,gm\n"
     ]
    }
   ],
   "source": [
    "greet(name='me',msg='gm')"
   ]
  },
  {
   "cell_type": "code",
   "execution_count": 22,
   "id": "3cdca01a",
   "metadata": {},
   "outputs": [
    {
     "name": "stdout",
     "output_type": "stream",
     "text": [
      "hi champ,gm\n"
     ]
    }
   ],
   "source": [
    "greet(name='champ',msg='gm')"
   ]
  },
  {
   "cell_type": "code",
   "execution_count": 23,
   "id": "7fb33bde",
   "metadata": {},
   "outputs": [],
   "source": [
    "# default argument"
   ]
  },
  {
   "cell_type": "code",
   "execution_count": 24,
   "id": "0c099fa4",
   "metadata": {},
   "outputs": [],
   "source": [
    "def greet (name,msg=\"gm\"): #msg is a default argument\n",
    "    print(f\"hi {name},{msg}\")"
   ]
  },
  {
   "cell_type": "code",
   "execution_count": 26,
   "id": "7a242b9f",
   "metadata": {},
   "outputs": [
    {
     "name": "stdout",
     "output_type": "stream",
     "text": [
      "hi me,gm\n"
     ]
    }
   ],
   "source": [
    "greet(name='me')"
   ]
  },
  {
   "cell_type": "code",
   "execution_count": 28,
   "id": "5cb4e583",
   "metadata": {},
   "outputs": [
    {
     "name": "stdout",
     "output_type": "stream",
     "text": [
      "hi champ,ga\n"
     ]
    }
   ],
   "source": [
    "greet(name='champ',msg='ga') # replaces/overwrites the value of default argument"
   ]
  },
  {
   "cell_type": "code",
   "execution_count": 29,
   "id": "39123a43",
   "metadata": {},
   "outputs": [],
   "source": [
    "# non default argument"
   ]
  },
  {
   "cell_type": "code",
   "execution_count": 30,
   "id": "b3e572b8",
   "metadata": {},
   "outputs": [
    {
     "ename": "SyntaxError",
     "evalue": "non-default argument follows default argument (2981152897.py, line 1)",
     "output_type": "error",
     "traceback": [
      "\u001b[1;36m  Cell \u001b[1;32mIn[30], line 1\u001b[1;36m\u001b[0m\n\u001b[1;33m    def greet (msg=\"gm\",name): #non default doesnt follow default argument\u001b[0m\n\u001b[1;37m                        ^\u001b[0m\n\u001b[1;31mSyntaxError\u001b[0m\u001b[1;31m:\u001b[0m non-default argument follows default argument\n"
     ]
    }
   ],
   "source": [
    "def greet (msg=\"gm\",name): #non default doesnt follow default argument\n",
    "    print(f\"hi {name},{msg}\")"
   ]
  },
  {
   "cell_type": "markdown",
   "id": "4407848a",
   "metadata": {},
   "source": [
    "# returning multiple value in function"
   ]
  },
  {
   "cell_type": "code",
   "execution_count": 31,
   "id": "6d54b182",
   "metadata": {},
   "outputs": [
    {
     "data": {
      "text/plain": [
       "3.141592653589793"
      ]
     },
     "execution_count": 31,
     "metadata": {},
     "output_type": "execute_result"
    }
   ],
   "source": [
    "import math\n",
    "math.pi"
   ]
  },
  {
   "cell_type": "code",
   "execution_count": 32,
   "id": "1004a76d",
   "metadata": {},
   "outputs": [
    {
     "data": {
      "text/plain": [
       "10"
      ]
     },
     "execution_count": 32,
     "metadata": {},
     "output_type": "execute_result"
    }
   ],
   "source": [
    "math.gcd(30,20,10)"
   ]
  },
  {
   "cell_type": "code",
   "execution_count": 33,
   "id": "8cad185c",
   "metadata": {},
   "outputs": [
    {
     "data": {
      "text/plain": [
       "120"
      ]
     },
     "execution_count": 33,
     "metadata": {},
     "output_type": "execute_result"
    }
   ],
   "source": [
    "math.lcm(40,30,20)"
   ]
  },
  {
   "cell_type": "code",
   "execution_count": 34,
   "id": "ab453185",
   "metadata": {},
   "outputs": [],
   "source": [
    "import math\n",
    "def hcfandlcm(a,b):\n",
    "    hcf= math.gcd(a,b)\n",
    "    lcm=math.lcm(a,b)\n",
    "    return hcf,lcm"
   ]
  },
  {
   "cell_type": "code",
   "execution_count": 39,
   "id": "788db5a1",
   "metadata": {},
   "outputs": [],
   "source": [
    "hcf, lcm =hcfandlcm(a=10,b=8)"
   ]
  },
  {
   "cell_type": "code",
   "execution_count": 40,
   "id": "d29bfac5",
   "metadata": {},
   "outputs": [
    {
     "data": {
      "text/plain": [
       "2"
      ]
     },
     "execution_count": 40,
     "metadata": {},
     "output_type": "execute_result"
    }
   ],
   "source": [
    "hcf\n"
   ]
  },
  {
   "cell_type": "code",
   "execution_count": 41,
   "id": "f76422b5",
   "metadata": {},
   "outputs": [
    {
     "data": {
      "text/plain": [
       "40"
      ]
     },
     "execution_count": 41,
     "metadata": {},
     "output_type": "execute_result"
    }
   ],
   "source": [
    "lcm"
   ]
  },
  {
   "cell_type": "markdown",
   "id": "cf5ad2ec",
   "metadata": {},
   "source": [
    "#  volume of sphere using function take radius using random variable with range (1,25)"
   ]
  },
  {
   "cell_type": "code",
   "execution_count": 55,
   "id": "862e9df5",
   "metadata": {},
   "outputs": [],
   "source": [
    "import random\n",
    "import math\n",
    "random.seed(0)\n",
    "pi= math.pi\n",
    "def volume(r):\n",
    "    vol=(4/3)*pi*r**3\n",
    "    return vol"
   ]
  },
  {
   "cell_type": "code",
   "execution_count": 56,
   "id": "9c1c9159",
   "metadata": {},
   "outputs": [],
   "source": [
    "v=volume(r=random.randint(1,25))"
   ]
  },
  {
   "cell_type": "code",
   "execution_count": 57,
   "id": "8610e7e0",
   "metadata": {},
   "outputs": [
    {
     "name": "stdout",
     "output_type": "stream",
     "text": [
      "volume is 9202.77\n"
     ]
    }
   ],
   "source": [
    "print(f\"volume is {round(v,2)}\")"
   ]
  },
  {
   "cell_type": "markdown",
   "id": "55e94b80",
   "metadata": {},
   "source": [
    "# local vs global"
   ]
  },
  {
   "cell_type": "code",
   "execution_count": 62,
   "id": "ed8468c3",
   "metadata": {},
   "outputs": [],
   "source": [
    "x= 'yogesh '\n",
    "def make_viral():\n",
    "    z='neta'\n",
    "    x=\"baiguni kto\"\n",
    "    print(x)"
   ]
  },
  {
   "cell_type": "code",
   "execution_count": 63,
   "id": "a113fcbc",
   "metadata": {},
   "outputs": [
    {
     "data": {
      "text/plain": [
       "'yogesh '"
      ]
     },
     "execution_count": 63,
     "metadata": {},
     "output_type": "execute_result"
    }
   ],
   "source": [
    "x"
   ]
  },
  {
   "cell_type": "code",
   "execution_count": 64,
   "id": "22de49c1",
   "metadata": {},
   "outputs": [
    {
     "name": "stdout",
     "output_type": "stream",
     "text": [
      "baiguni kto\n"
     ]
    }
   ],
   "source": [
    "make_viral()"
   ]
  },
  {
   "cell_type": "code",
   "execution_count": 65,
   "id": "2234c451",
   "metadata": {},
   "outputs": [
    {
     "data": {
      "text/plain": [
       "'yogesh '"
      ]
     },
     "execution_count": 65,
     "metadata": {},
     "output_type": "execute_result"
    }
   ],
   "source": [
    "x"
   ]
  },
  {
   "cell_type": "code",
   "execution_count": 66,
   "id": "f1d418b6",
   "metadata": {},
   "outputs": [
    {
     "ename": "NameError",
     "evalue": "name 'z' is not defined",
     "output_type": "error",
     "traceback": [
      "\u001b[1;31m---------------------------------------------------------------------------\u001b[0m",
      "\u001b[1;31mNameError\u001b[0m                                 Traceback (most recent call last)",
      "Cell \u001b[1;32mIn[66], line 1\u001b[0m\n\u001b[1;32m----> 1\u001b[0m \u001b[43mz\u001b[49m\n",
      "\u001b[1;31mNameError\u001b[0m: name 'z' is not defined"
     ]
    }
   ],
   "source": [
    "z"
   ]
  },
  {
   "cell_type": "code",
   "execution_count": 67,
   "id": "673d67ff",
   "metadata": {},
   "outputs": [],
   "source": [
    "x= 'yogesh '\n",
    "def make_viral():\n",
    "    global x\n",
    "    global z\n",
    "    z='neta'\n",
    "    x=\"baiguni kto\"\n",
    "    print(x)"
   ]
  },
  {
   "cell_type": "code",
   "execution_count": 68,
   "id": "1554e3d4",
   "metadata": {},
   "outputs": [
    {
     "data": {
      "text/plain": [
       "'yogesh '"
      ]
     },
     "execution_count": 68,
     "metadata": {},
     "output_type": "execute_result"
    }
   ],
   "source": [
    "x"
   ]
  },
  {
   "cell_type": "code",
   "execution_count": 69,
   "id": "2f72d5ac",
   "metadata": {},
   "outputs": [
    {
     "name": "stdout",
     "output_type": "stream",
     "text": [
      "baiguni kto\n"
     ]
    }
   ],
   "source": [
    "make_viral()"
   ]
  },
  {
   "cell_type": "code",
   "execution_count": 70,
   "id": "ca7e14b8",
   "metadata": {},
   "outputs": [
    {
     "data": {
      "text/plain": [
       "'baiguni kto'"
      ]
     },
     "execution_count": 70,
     "metadata": {},
     "output_type": "execute_result"
    }
   ],
   "source": [
    "x"
   ]
  },
  {
   "cell_type": "code",
   "execution_count": 71,
   "id": "f49c45de",
   "metadata": {},
   "outputs": [
    {
     "data": {
      "text/plain": [
       "'neta'"
      ]
     },
     "execution_count": 71,
     "metadata": {},
     "output_type": "execute_result"
    }
   ],
   "source": [
    "z"
   ]
  },
  {
   "cell_type": "code",
   "execution_count": null,
   "id": "ed98d6ae",
   "metadata": {},
   "outputs": [],
   "source": []
  }
 ],
 "metadata": {
  "kernelspec": {
   "display_name": "Python 3 (ipykernel)",
   "language": "python",
   "name": "python3"
  },
  "language_info": {
   "codemirror_mode": {
    "name": "ipython",
    "version": 3
   },
   "file_extension": ".py",
   "mimetype": "text/x-python",
   "name": "python",
   "nbconvert_exporter": "python",
   "pygments_lexer": "ipython3",
   "version": "3.10.11"
  }
 },
 "nbformat": 4,
 "nbformat_minor": 5
}
